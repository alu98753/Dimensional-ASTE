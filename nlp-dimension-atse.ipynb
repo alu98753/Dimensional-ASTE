{
 "cells": [
  {
   "cell_type": "markdown",
   "metadata": {},
   "source": [
    "## Import Packages"
   ]
  },
  {
   "cell_type": "code",
   "execution_count": 27,
   "metadata": {
    "execution": {
     "iopub.execute_input": "2024-11-15T12:47:29.695838Z",
     "iopub.status.busy": "2024-11-15T12:47:29.695006Z",
     "iopub.status.idle": "2024-11-15T12:47:31.609416Z",
     "shell.execute_reply": "2024-11-15T12:47:31.608360Z",
     "shell.execute_reply.started": "2024-11-15T12:47:29.695798Z"
    },
    "jupyter": {
     "source_hidden": true
    },
    "trusted": true
   },
   "outputs": [],
   "source": [
    "import pandas as pd\n",
    "\n",
    "from sklearn.model_selection import train_test_split\n",
    "\n",
    "import json\n",
    "\n",
    "from transformers import BertTokenizer, BertForTokenClassification\n",
    "\n",
    "from transformers import BertTokenizerFast\n",
    "\n",
    "\n",
    "\n",
    "import torch\n",
    "\n",
    "from torch.utils.data import TensorDataset, DataLoader, RandomSampler, SequentialSampler\n",
    "\n",
    "from transformers import AdamW, get_linear_schedule_with_warmup\n",
    "\n",
    "import numpy as np\n",
    "\n",
    "import random\n",
    "\n",
    "\n",
    "\n",
    "# 把預訓練好的modelload進來\n",
    "\n",
    "from tqdm.auto import tqdm\n",
    "\n",
    "\n",
    "\n",
    "# 设置设备（如果有GPU，则使用GPU）\n",
    "\n",
    "device = torch.device('cuda' if torch.cuda.is_available() else 'cpu')\n",
    "\n",
    "\n",
    "\n",
    "def same_seeds(seed):\n",
    "\n",
    "\n",
    "\n",
    "    torch.manual_seed(seed)\n",
    "\n",
    "\n",
    "\n",
    "    if torch.cuda.is_available():\n",
    "\n",
    "\n",
    "\n",
    "        torch.cuda.manual_seed(seed)\n",
    "\n",
    "\n",
    "\n",
    "        torch.cuda.manual_seed_all(seed)\n",
    "\n",
    "\n",
    "\n",
    "    np.random.seed(seed)\n",
    "\n",
    "\n",
    "\n",
    "    random.seed(seed)\n",
    "\n",
    "\n",
    "\n",
    "    torch.backends.cudnn.benchmark = False\n",
    "\n",
    "\n",
    "\n",
    "    torch.backends.cudnn.deterministic = True\n",
    "\n",
    "\n",
    "\n",
    "same_seeds(0)"
   ]
  },
  {
   "cell_type": "markdown",
   "metadata": {},
   "source": [
    "## Read Data\n",
    "\n",
    "\n",
    "\n",
    "- {train/test}set:\n",
    "\n",
    "\n",
    "\n",
    "  - List of dicts with the following keys:\n",
    "\n",
    "\n",
    "\n",
    "   - ID (string)\n",
    "\n",
    "\n",
    "\n",
    "   - Sentence (string)\n",
    "\n",
    "\n",
    "\n",
    "   - Aspect (string)\n",
    "\n",
    "\n",
    "\n",
    "   - AspectFromTo (string): start point#end point\n",
    "\n",
    "\n",
    "\n",
    "   - Category (string) : \"食物#品質\"\n",
    "\n",
    "\n",
    "\n",
    "   - Opinion (string)\n",
    "\n",
    "\n",
    "\n",
    "   - OpinionFromTo (string):  start point#end point\n",
    "\n",
    "\n",
    "\n",
    "\n",
    "\n",
    "   - Intensity (string) :  \"6.17#6.33\"\n",
    "\n",
    "\n",
    "\n",
    "\n",
    "\n",
    "\n",
    "\n",
    "- vaild set:\n",
    "\n",
    "\n",
    "\n",
    "  - List of[ID, Sentence] \n"
   ]
  },
  {
   "cell_type": "code",
   "execution_count": 28,
   "metadata": {
    "execution": {
     "iopub.execute_input": "2024-11-15T12:47:31.611660Z",
     "iopub.status.busy": "2024-11-15T12:47:31.611163Z",
     "iopub.status.idle": "2024-11-15T12:47:31.749015Z",
     "shell.execute_reply": "2024-11-15T12:47:31.747919Z",
     "shell.execute_reply.started": "2024-11-15T12:47:31.611625Z"
    },
    "jupyter": {
     "source_hidden": true
    },
    "trusted": true
   },
   "outputs": [],
   "source": [
    "import json\n",
    "import pandas as pd\n",
    "from sklearn.model_selection import train_test_split, KFold\n",
    "\n",
    "# 读取数据函数\n",
    "def read_data(file):\n",
    "    with open(file, 'r', encoding=\"utf-8\") as reader:\n",
    "        data = json.load(reader)\n",
    "    df = pd.json_normalize(data)\n",
    "    return df\n"
   ]
  },
  {
   "cell_type": "code",
   "execution_count": 29,
   "metadata": {},
   "outputs": [
    {
     "name": "stdout",
     "output_type": "stream",
     "text": [
      "Fold 1:\n",
      "Training Set Size: 4356\n",
      "Validation Set Size: 1089\n",
      "Fold 2:\n",
      "Training Set Size: 4356\n",
      "Validation Set Size: 1089\n",
      "Fold 3:\n",
      "Training Set Size: 4356\n",
      "Validation Set Size: 1089\n",
      "Fold 4:\n",
      "Training Set Size: 4356\n",
      "Validation Set Size: 1089\n",
      "Fold 5:\n",
      "Training Set Size: 4356\n",
      "Validation Set Size: 1089\n",
      "Test Set Size: 605\n"
     ]
    }
   ],
   "source": [
    "# 5 折交叉驗證\n",
    "kf = KFold(n_splits=5, shuffle=True, random_state=42)\n",
    "\n",
    "# 遍歷每一折\n",
    "for fold, (train_idx, val_idx) in enumerate(kf.split(train_df)):\n",
    "    print(f\"Fold {fold + 1}:\")\n",
    "    \n",
    "    # 獲取訓練集和驗證集\n",
    "    train_fold_df = train_df.iloc[train_idx]\n",
    "    val_fold_df = train_df.iloc[val_idx]\n",
    "    \n",
    "    # 顯示每折的數據大小\n",
    "    print(f\"Training Set Size: {len(train_fold_df)}\")\n",
    "    print(f\"Validation Set Size: {len(val_fold_df)}\")\n",
    "\n",
    "    # 在這裡進行訓練和驗證的邏輯（如模型訓練）\n",
    "    # 模型訓練的代碼應該寫在這裡\n",
    "    \n",
    "# 顯示測試集大小\n",
    "print(f\"Test Set Size: {len(test_df)}\")\n"
   ]
  },
  {
   "cell_type": "markdown",
   "metadata": {},
   "source": [
    "## Load Model and Tokenizer\n"
   ]
  },
  {
   "cell_type": "markdown",
   "metadata": {},
   "source": [
    "### 創建自定義的 Dataset 類別\n",
    "\n",
    "我們需要創建一個繼承自 torch.utils.data.Dataset 的類別，來處理資料並提供給 DataLoader。"
   ]
  },
  {
   "cell_type": "code",
   "execution_count": 30,
   "metadata": {
    "execution": {
     "iopub.execute_input": "2024-11-15T12:47:31.750520Z",
     "iopub.status.busy": "2024-11-15T12:47:31.750201Z",
     "iopub.status.idle": "2024-11-15T12:47:31.758246Z",
     "shell.execute_reply": "2024-11-15T12:47:31.757278Z",
     "shell.execute_reply.started": "2024-11-15T12:47:31.750478Z"
    },
    "trusted": true
   },
   "outputs": [],
   "source": [
    "from torch.utils.data import Dataset\n",
    "\n",
    "\n",
    "\n",
    "class TripletExtractionDataset(torch.utils.data.Dataset):\n",
    "    def __init__(self, inputs, labels, intensity_labels):\n",
    "        self.input_ids = inputs['input_ids']\n",
    "        self.attention_mask = inputs['attention_mask']\n",
    "        self.labels = labels\n",
    "        self.intensity_labels = intensity_labels\n",
    "\n",
    "    def __len__(self):\n",
    "        return len(self.input_ids)\n",
    "\n",
    "    def __getitem__(self, idx):\n",
    "        return {\n",
    "            'input_ids': torch.tensor(self.input_ids[idx], dtype=torch.long),\n",
    "            'attention_mask': torch.tensor(self.attention_mask[idx], dtype=torch.long),\n",
    "            'labels': torch.tensor(self.labels[idx], dtype=torch.long),\n",
    "            'intensity_labels': torch.tensor(self.intensity_labels[idx], dtype=torch.float)\n",
    "        }\n",
    "\n"
   ]
  },
  {
   "cell_type": "markdown",
   "metadata": {},
   "source": [
    "### Tokenize Data\n",
    "\n",
    "\n",
    "\n",
    "将数据准备为 BERT 输入格式\n",
    "\n",
    "您可以提取 Sentence 字段并将其分词。为了准备 BERT 的输入，可以根据需要将 Aspect 和 Opinion 部分组合到句子中。这里假设要为每个 Sentence 生成分词结果并对齐其 Aspect 和 Opinion 信息："
   ]
  },
  {
   "cell_type": "code",
   "execution_count": null,
   "metadata": {
    "execution": {
     "iopub.execute_input": "2024-11-15T12:47:31.761425Z",
     "iopub.status.busy": "2024-11-15T12:47:31.761047Z",
     "iopub.status.idle": "2024-11-15T12:47:33.224464Z",
     "shell.execute_reply": "2024-11-15T12:47:33.223536Z",
     "shell.execute_reply.started": "2024-11-15T12:47:31.761383Z"
    },
    "trusted": true
   },
   "outputs": [],
   "source": [
    "# 確認標籤數量\n",
    "unique_labels = set()\n",
    "\n",
    "for _, row in train_df.iterrows():\n",
    "    for category in row['Category']:\n",
    "        unique_labels.add(category)\n",
    "\n",
    "# for i in unique_labels:\n",
    "\n",
    "    # print(i)\n",
    "\n",
    "num_labels = len(unique_labels)\n",
    "#print(\"num_labels:\", num_labels)\n"
   ]
  },
  {
   "cell_type": "code",
   "execution_count": null,
   "metadata": {
    "execution": {
     "iopub.execute_input": "2024-11-15T12:47:33.225899Z",
     "iopub.status.busy": "2024-11-15T12:47:33.225605Z",
     "iopub.status.idle": "2024-11-15T12:47:35.889236Z",
     "shell.execute_reply": "2024-11-15T12:47:35.888501Z",
     "shell.execute_reply.started": "2024-11-15T12:47:33.225866Z"
    },
    "trusted": true
   },
   "outputs": [],
   "source": [
    "# 定义标签映射\n",
    "\n",
    "label_to_id = {'O': 0, 'B-Aspect': 1, 'I-Aspect': 2, 'B-Opinion': 3, 'I-Opinion': 4}\n",
    "\n",
    "\n",
    "\n",
    "def encode_labels(text, aspects, opinions, aspect_positions, opinion_positions, intensities):\n",
    "    # 使用相同的编码过程，确保 tokens 和 offset_mapping 对齐\n",
    "    encoding = tokenizer(text, return_offsets_mapping=True, truncation=True, max_length=32, add_special_tokens=True)\n",
    "    tokens = encoding.tokens()\n",
    "    offset_mapping = encoding['offset_mapping']\n",
    "    labels = ['O'] * len(tokens)\n",
    "    # 初始化 intensity_labels，每个 token 对应一个 [Valence, Arousal]，初始为 [5.0, 5.0]\n",
    "    intensity_labels = [[5.0, 5.0] for _ in range(len(tokens))]\n",
    "\n",
    "    # 创建一个 mapping，将每个字符位置映射到对应的 token 索引\n",
    "    char_to_token_map = {}\n",
    "    for idx, (start, end) in enumerate(offset_mapping):\n",
    "        if start == end:\n",
    "            continue  # 跳过特殊标记或填充部分\n",
    "        for char_pos in range(start, end):\n",
    "            char_to_token_map[char_pos] = idx\n",
    "\n",
    "    # 处理 Aspect 标签\n",
    "    for aspect, pos in zip(aspects, aspect_positions):\n",
    "        start_char, end_char = map(int, pos.split('#'))\n",
    "        start_char -= 1  # 调整为 0-based 索引\n",
    "        # 获取起始和结束 token 索引\n",
    "        try:\n",
    "            start_token_idx = char_to_token_map[start_char]\n",
    "            end_token_idx = char_to_token_map[end_char - 1]\n",
    "        except KeyError:\n",
    "            continue  # 如果字符位置不在映射中，跳过\n",
    "        labels[start_token_idx] = 'B-Aspect'\n",
    "        for idx in range(start_token_idx + 1, end_token_idx + 1):\n",
    "            labels[idx] = 'I-Aspect'\n",
    "\n",
    "    # 处理 Opinion 标签，并赋予对应的情感强度\n",
    "    for opinion, pos, intensity in zip(opinions, opinion_positions, intensities):\n",
    "        start_char, end_char = map(int, pos.split('#'))\n",
    "        start_char -= 1  # 调整为 0-based 索引\n",
    "        valence, arousal = map(float, intensity.split('#'))  # 解析情感强度值\n",
    "        try:\n",
    "            start_token_idx = char_to_token_map[start_char]\n",
    "            end_token_idx = char_to_token_map[end_char - 1]\n",
    "        except KeyError:\n",
    "            continue\n",
    "        labels[start_token_idx] = 'B-Opinion'\n",
    "        intensity_labels[start_token_idx] = [valence, arousal]\n",
    "        for idx in range(start_token_idx + 1, end_token_idx + 1):\n",
    "            labels[idx] = 'I-Opinion'\n",
    "            intensity_labels[idx] = [valence, arousal]\n",
    "\n",
    "    # 将标签转换为ID\n",
    "    label_ids = [label_to_id[label] for label in labels]\n",
    "    return label_ids, intensity_labels\n",
    "\n",
    "\n",
    "\n",
    "def data_generator(df):\n",
    "    # 处理整个数据集\n",
    "    inputs = {'input_ids': [], 'attention_mask': []}\n",
    "    label_ids_list = []\n",
    "    intensity_labels_list = []\n",
    "\n",
    "    for idx, row in df.iterrows():\n",
    "        text = row['Sentence']\n",
    "        aspects = row['Aspect']\n",
    "        opinions = row['Opinion']\n",
    "        aspect_positions = row['AspectFromTo']\n",
    "        opinion_positions = row['OpinionFromTo']\n",
    "        intensities = row['Intensity']  # 获取情感强度\n",
    "\n",
    "        # 分词并编码\n",
    "        encoding = tokenizer(text, truncation=True, padding='max_length', max_length=32, return_offsets_mapping=True)\n",
    "\n",
    "        # 标签编码，获取 label_ids 和 intensity_labels\n",
    "        label_ids, intensity_labels = encode_labels(text, aspects, opinions, aspect_positions, opinion_positions, intensities)\n",
    "\n",
    "        # 填充或截断标签\n",
    "        seq_length = len(encoding['input_ids'])\n",
    "        if len(label_ids) < seq_length:\n",
    "            label_ids += [label_to_id['O']] * (seq_length - len(label_ids))\n",
    "            intensity_labels += [[0.0, 0.0]] * (seq_length - len(intensity_labels))\n",
    "        else:\n",
    "            label_ids = label_ids[:seq_length]\n",
    "            intensity_labels = intensity_labels[:seq_length]\n",
    "\n",
    "        # 移除 offset_mapping，因后续不需要\n",
    "        encoding.pop('offset_mapping')\n",
    "\n",
    "        # 添加到列表\n",
    "        inputs['input_ids'].append(encoding['input_ids'])\n",
    "        inputs['attention_mask'].append(encoding['attention_mask'])\n",
    "        label_ids_list.append(label_ids)\n",
    "        intensity_labels_list.append(intensity_labels)\n",
    "\n",
    "    # 创建 Dataset\n",
    "    dataset = TripletExtractionDataset(inputs, label_ids_list, intensity_labels_list)\n",
    "    return dataset\n"
   ]
  },
  {
   "cell_type": "markdown",
   "metadata": {},
   "source": [
    "# Train"
   ]
  },
  {
   "cell_type": "markdown",
   "metadata": {},
   "source": [
    "### Define ASTE model"
   ]
  },
  {
   "cell_type": "code",
   "execution_count": 48,
   "metadata": {
    "execution": {
     "iopub.execute_input": "2024-11-15T12:51:02.143103Z",
     "iopub.status.busy": "2024-11-15T12:51:02.142692Z",
     "iopub.status.idle": "2024-11-15T12:51:02.156817Z",
     "shell.execute_reply": "2024-11-15T12:51:02.155900Z",
     "shell.execute_reply.started": "2024-11-15T12:51:02.143067Z"
    },
    "trusted": true
   },
   "outputs": [],
   "source": [
    "import torch\n",
    "import torch.nn as nn\n",
    "from transformers import BertModel, BertPreTrainedModel\n",
    "\n",
    "class ASTEModel(BertPreTrainedModel):\n",
    "    def __init__(self, config):\n",
    "        super(ASTEModel, self).__init__(config)\n",
    "        self.num_labels = config.num_labels  # 序列标注的标签数量\n",
    "        self.bert = BertModel(config)\n",
    "        self.dropout = nn.Dropout(config.hidden_dropout_prob)\n",
    "        # 序列标注层\n",
    "        self.classifier = nn.Linear(config.hidden_size, self.num_labels)\n",
    "        # 情感强度回归层\n",
    "        self.regressor = nn.Linear(config.hidden_size, 2)  # 输出 Valence 和 Arousal\n",
    "\n",
    "        self.init_weights()\n",
    "\n",
    "    def forward(self, input_ids, attention_mask=None, token_type_ids=None, labels=None, intensity_labels=None):\n",
    "        outputs = self.bert(\n",
    "            input_ids,\n",
    "            attention_mask=attention_mask,\n",
    "            token_type_ids=token_type_ids\n",
    "        )\n",
    "        sequence_output = self.dropout(outputs.last_hidden_state)  # [batch_size, seq_len, hidden_size]\n",
    "    \n",
    "        # 序列标注的 logits\n",
    "        logits = self.classifier(sequence_output)  # [batch_size, seq_len, num_labels]\n",
    "    \n",
    "        total_loss = None\n",
    "    \n",
    "        # 计算序列标注的损失\n",
    "        if labels is not None:\n",
    "            loss_fct = nn.CrossEntropyLoss()\n",
    "            active_loss = attention_mask.view(-1) == 1  # 只计算非填充部分的损失\n",
    "            active_logits = logits.view(-1, self.num_labels)[active_loss]\n",
    "            active_labels = labels.view(-1)[active_loss]\n",
    "            loss = loss_fct(active_logits, active_labels)\n",
    "\n",
    "            seq_loss  = loss\n",
    "    \n",
    "        # 计算情感强度的损失\n",
    "        if intensity_labels is not None:\n",
    "            # 获取观点词的位置\n",
    "            opinion_mask = ((labels == 3) | (labels == 4)) & attention_mask  # [batch_size, seq_len]\n",
    "            # 将张量重塑为 [batch_size * seq_len, ...]\n",
    "            batch_size, seq_len, hidden_size = sequence_output.size()\n",
    "            sequence_output_flat = sequence_output.view(-1, hidden_size)  # [batch_size * seq_len, hidden_size]\n",
    "            opinion_mask_flat = opinion_mask.view(-1)  # [batch_size * seq_len]\n",
    "            # 提取观点词的隐藏状态\n",
    "            opinion_outputs = sequence_output_flat[opinion_mask_flat]  # [num_opinions, hidden_size]\n",
    "            if opinion_outputs.size(0) > 0:\n",
    "                # 预测情感强度\n",
    "                intensity_preds = self.regressor(opinion_outputs)  # [num_opinions, 2]\n",
    "                # 取对应的情感强度标签\n",
    "                intensity_labels_flat = intensity_labels.view(-1, 2)  # [batch_size * seq_len, 2]\n",
    "                intensity_targets = intensity_labels_flat[opinion_mask_flat]  # [num_opinions, 2]\n",
    "                # 计算回归损失\n",
    "                loss_mse = nn.MSELoss()\n",
    "                regression_loss = loss_mse(intensity_preds, intensity_targets)\n",
    "                total_loss = seq_loss * 1.0 + regression_loss * 0.1 if total_loss is not None else regression_loss\n",
    "    \n",
    "        output = (logits,)\n",
    "        return ((total_loss,) + output) if total_loss is not None else output\n",
    "    \n"
   ]
  },
  {
   "cell_type": "markdown",
   "metadata": {},
   "source": [
    "### 辅助函数的定义\n",
    "1. 提取 BIO 标签对应的实体（方面和观点）:extract_spans\n",
    "2. 提取预测的三元组\n",
    "3. 提取真实的三元组\n",
    "4. 计算评估指标"
   ]
  },
  {
   "cell_type": "code",
   "execution_count": null,
   "metadata": {
    "execution": {
     "iopub.execute_input": "2024-11-15T12:56:12.749350Z",
     "iopub.status.busy": "2024-11-15T12:56:12.748916Z",
     "iopub.status.idle": "2024-11-15T12:56:12.769114Z",
     "shell.execute_reply": "2024-11-15T12:56:12.768081Z",
     "shell.execute_reply.started": "2024-11-15T12:56:12.749311Z"
    },
    "trusted": true
   },
   "outputs": [],
   "source": [
    "def extract_spans(tags, tokens, label_prefix):\n",
    "    spans = []\n",
    "    i = 0\n",
    "    while i < len(tags):\n",
    "        if tags[i] == f'B-{label_prefix}':\n",
    "            start = i\n",
    "            i += 1\n",
    "            while i < len(tags) and tags[i] == f'I-{label_prefix}':\n",
    "                i += 1\n",
    "            end = i  # 结束位置的下一个索引\n",
    "            span_tokens = tokens[start:end]\n",
    "            spans.append((start, end, span_tokens))\n",
    "        else:\n",
    "            i += 1\n",
    "    return spans\n",
    "\n",
    "def extract_triplets(tokens, tags, model, input_ids, attention_mask):\n",
    "    aspect_spans = extract_spans(tags, tokens, 'Aspect')\n",
    "    opinion_spans = extract_spans(tags, tokens, 'Opinion')\n",
    "\n",
    "    binary_aspect_opinion = []  # 1. Aspect-Opinion 二元组\n",
    "    v_triplets = []            # 2. 包含 Valence 的 triplets\n",
    "    a_triplets = []            # 3. 包含 Arousal 的 triplets\n",
    "    full_triplets = []         # 4. 原始的 Aspect-Opinion-Valence-Arousal 三元组\n",
    "\n",
    "    # 获取模型的序列输出\n",
    "    with torch.no_grad():\n",
    "        outputs = model.bert(input_ids=input_ids.unsqueeze(0), attention_mask=attention_mask.unsqueeze(0))\n",
    "        sequence_output = outputs.last_hidden_state.squeeze(0)  # [seq_len, hidden_size]\n",
    "\n",
    "    for opinion_span in opinion_spans:\n",
    "        start, end, opinion_tokens = opinion_span\n",
    "\n",
    "        # 获取观点词的隐藏状态\n",
    "        opinion_hidden_states = sequence_output[start:end]\n",
    "\n",
    "        # 计算平均表示\n",
    "        opinion_representation = opinion_hidden_states.mean(dim=0)  # [hidden_size]\n",
    "\n",
    "        # 预测情感强度\n",
    "        intensity_pred = model.regressor(opinion_representation.unsqueeze(0))  # [1, 2]\n",
    "        intensity_pred = intensity_pred.squeeze(0).detach().cpu().numpy()\n",
    "\n",
    "        # 原本只有round\n",
    "        valence = int(round(intensity_pred[0] * 10))\n",
    "        arousal = int(round(abs(intensity_pred[1] * 10)))\n",
    "\n",
    "        opinion_text = ''.join(opinion_tokens).replace('##', '')\n",
    "\n",
    "        if len(aspect_spans) == 0:\n",
    "            aspect_text = ''\n",
    "            binary_aspect_opinion.append((aspect_text, opinion_text))\n",
    "            v_triplets.append((aspect_text, opinion_text, valence))\n",
    "            a_triplets.append((aspect_text, opinion_text, arousal))\n",
    "            full_triplets.append((aspect_text, opinion_text, valence, arousal))\n",
    "        else:\n",
    "            for aspect_span in aspect_spans:\n",
    "                a_start, a_end, aspect_tokens = aspect_span\n",
    "                aspect_text = ''.join(aspect_tokens).replace('##', '')\n",
    "                binary_aspect_opinion.append((aspect_text, opinion_text))\n",
    "                v_triplets.append((aspect_text, opinion_text, valence))\n",
    "                a_triplets.append((aspect_text, opinion_text, arousal))\n",
    "                full_triplets.append((aspect_text, opinion_text, valence, arousal))\n",
    "\n",
    "    return binary_aspect_opinion, v_triplets, a_triplets, full_triplets\n",
    "\n",
    "\n",
    "def extract_gold_triplets(tokens, tags, intensity_labels):\n",
    "    aspect_spans = extract_spans(tags, tokens, 'Aspect')\n",
    "    opinion_spans = extract_spans(tags, tokens, 'Opinion')\n",
    "\n",
    "    binary_aspect_opinion = []  # 1. Aspect-Opinion 二元组\n",
    "    v_triplets = []            # 2. 包含 Valence 的 triplets\n",
    "    a_triplets = []            # 3. 包含 Arousal 的 triplets\n",
    "    full_triplets = []         # 4. 原始的 Aspect-Opinion-Valence-Arousal 三元组\n",
    "\n",
    "    for opinion_span in opinion_spans:\n",
    "        start, end, opinion_tokens = opinion_span\n",
    "\n",
    "        # 获取观点词的情感强度标签\n",
    "        intensity_values = intensity_labels[start:end]  # [span_len, 2]\n",
    "        intensity_values = intensity_values.mean(dim=0).detach().cpu().numpy()\n",
    "\n",
    "        valence = int(round(intensity_values[0]))\n",
    "        arousal = int(round(intensity_values[1]))\n",
    "\n",
    "        opinion_text = ''.join(opinion_tokens).replace('##', '')\n",
    "\n",
    "        if len(aspect_spans) == 0:\n",
    "            aspect_text = ''\n",
    "            binary_aspect_opinion.append((aspect_text, opinion_text))\n",
    "            v_triplets.append((aspect_text, opinion_text, valence))\n",
    "            a_triplets.append((aspect_text, opinion_text, arousal))\n",
    "            full_triplets.append((aspect_text, opinion_text, valence, arousal))\n",
    "        else:\n",
    "            for aspect_span in aspect_spans:\n",
    "                a_start, a_end, aspect_tokens = aspect_span\n",
    "                aspect_text = ''.join(aspect_tokens).replace('##', '')\n",
    "                binary_aspect_opinion.append((aspect_text, opinion_text))\n",
    "                v_triplets.append((aspect_text, opinion_text, valence))\n",
    "                a_triplets.append((aspect_text, opinion_text, arousal))\n",
    "                full_triplets.append((aspect_text, opinion_text, valence, arousal))\n",
    "\n",
    "    return binary_aspect_opinion, v_triplets, a_triplets, full_triplets\n",
    "\n",
    "\n",
    "def compute_metrics(pred_triplets, gold_triplets):\n",
    "\n",
    "    \n",
    "    pred_set = set(pred_triplets)\n",
    "    gold_set = set(gold_triplets)\n",
    "\n",
    "    true_positives = pred_set & gold_set\n",
    "    # if(true_positives):\n",
    "    #     print(pred_triplets[:3])\n",
    "    #     print(gold_triplets[:3])\n",
    "    # print(true_positives)\n",
    "        \n",
    "    precision = len(true_positives) / len(pred_set) if len(pred_set) > 0 else 0.0\n",
    "    recall = len(true_positives) / len(gold_set) if len(gold_set) > 0 else 0.0\n",
    "    f1 = 2 * precision * recall / (precision + recall) if (precision + recall) > 0 else 0.0\n",
    "\n",
    "    return precision, recall, f1\n"
   ]
  },
  {
   "cell_type": "markdown",
   "metadata": {},
   "source": [
    "### Training"
   ]
  },
  {
   "cell_type": "code",
   "execution_count": null,
   "metadata": {
    "execution": {
     "iopub.execute_input": "2024-11-15T13:45:20.314433Z",
     "iopub.status.busy": "2024-11-15T13:45:20.313560Z"
    },
    "trusted": true
   },
   "outputs": [
    {
     "name": "stdout",
     "output_type": "stream",
     "text": [
      "Test Set Size: 605\n",
      "Fold 1:\n",
      "Training Set Size: 4356\n",
      "Validation Set Size: 1089\n"
     ]
    },
    {
     "name": "stderr",
     "output_type": "stream",
     "text": [
      "Some weights of ASTEModel were not initialized from the model checkpoint at bert-base-chinese and are newly initialized: ['classifier.bias', 'classifier.weight', 'regressor.bias', 'regressor.weight']\n",
      "You should probably TRAIN this model on a down-stream task to be able to use it for predictions and inference.\n",
      "100%|██████████| 137/137 [00:20<00:00,  6.77it/s]\n"
     ]
    },
    {
     "name": "stdout",
     "output_type": "stream",
     "text": [
      "Epoch 1, Average Loss: 0.2327087053512461, Learning Rate: 1e-08\n"
     ]
    },
    {
     "name": "stderr",
     "output_type": "stream",
     "text": [
      "100%|██████████| 35/35 [00:18<00:00,  1.94it/s]\n"
     ]
    },
    {
     "name": "stdout",
     "output_type": "stream",
     "text": [
      "[('[CLS]', '港'), ('的', '港'), ('表', '港')]\n",
      "[('港點的表現', '蠻不錯'), ('湯汁', '微酸的'), ('魚肉', '微酸的')]\n",
      "{('肉', '嫩'), ('肉', '脆')}\n",
      "[('[CLS]', '港', -3), ('的', '港', -3), ('表', '港', -3)]\n",
      "[('港點的表現', '蠻不錯', 6), ('湯汁', '微酸的', 6), ('魚肉', '微酸的', 6)]\n",
      "{('肉', '嫩', 6), ('肉', '脆', 6)}\n",
      "Top 3 predicted triplets appended to ./log/pred_triplets_output.txt.\n",
      "Val Loss: 0.35875006530966075, binary_f1: 0.0002, v_f1: 0.0001, a_f1: 0.0000, F1-score: 0.0000\n"
     ]
    },
    {
     "name": "stderr",
     "output_type": "stream",
     "text": [
      "100%|██████████| 137/137 [00:21<00:00,  6.43it/s]\n"
     ]
    },
    {
     "name": "stdout",
     "output_type": "stream",
     "text": [
      "Epoch 2, Average Loss: 0.3902571510190457, Learning Rate: 2e-08\n"
     ]
    },
    {
     "name": "stderr",
     "output_type": "stream",
     "text": [
      "100%|██████████| 35/35 [00:20<00:00,  1.74it/s]\n"
     ]
    },
    {
     "name": "stdout",
     "output_type": "stream",
     "text": [
      "[('[CLS]', '港'), ('的', '港'), ('表', '港')]\n",
      "[('港點的表現', '蠻不錯'), ('湯汁', '微酸的'), ('魚肉', '微酸的')]\n",
      "{('肉', '嫩'), ('肉', '脆')}\n",
      "[('[CLS]', '港', -3), ('的', '港', -3), ('表', '港', -3)]\n",
      "[('港點的表現', '蠻不錯', 6), ('湯汁', '微酸的', 6), ('魚肉', '微酸的', 6)]\n",
      "{('肉', '嫩', 6), ('肉', '脆', 6)}\n",
      "Top 3 predicted triplets appended to ./log/pred_triplets_output.txt.\n",
      "Val Loss: 0.3575597326537328, binary_f1: 0.0002, v_f1: 0.0001, a_f1: 0.0000, F1-score: 0.0000\n"
     ]
    },
    {
     "name": "stderr",
     "output_type": "stream",
     "text": [
      "100%|██████████| 137/137 [00:21<00:00,  6.35it/s]\n"
     ]
    },
    {
     "name": "stdout",
     "output_type": "stream",
     "text": [
      "Epoch 3, Average Loss: 0.16071350903787318, Learning Rate: 3.0000000000000004e-08\n"
     ]
    },
    {
     "name": "stderr",
     "output_type": "stream",
     "text": [
      "100%|██████████| 35/35 [00:20<00:00,  1.71it/s]\n"
     ]
    },
    {
     "name": "stdout",
     "output_type": "stream",
     "text": [
      "[('[CLS]', '港'), ('的', '港'), ('表', '港')]\n",
      "[('港點的表現', '蠻不錯'), ('湯汁', '微酸的'), ('魚肉', '微酸的')]\n",
      "{('肉', '嫩'), ('肉', '脆')}\n",
      "[('[CLS]', '港', -3), ('的', '港', -3), ('表', '港', -3)]\n",
      "[('港點的表現', '蠻不錯', 6), ('湯汁', '微酸的', 6), ('魚肉', '微酸的', 6)]\n",
      "{('肉', '嫩', 6), ('肉', '脆', 6)}\n",
      "Top 3 predicted triplets appended to ./log/pred_triplets_output.txt.\n",
      "Val Loss: 0.35620539893529246, binary_f1: 0.0002, v_f1: 0.0001, a_f1: 0.0000, F1-score: 0.0000\n"
     ]
    },
    {
     "name": "stderr",
     "output_type": "stream",
     "text": [
      "100%|██████████| 137/137 [00:21<00:00,  6.34it/s]\n"
     ]
    },
    {
     "name": "stdout",
     "output_type": "stream",
     "text": [
      "Epoch 4, Average Loss: 0.2252588777184269, Learning Rate: 4e-08\n"
     ]
    },
    {
     "name": "stderr",
     "output_type": "stream",
     "text": [
      "100%|██████████| 35/35 [00:18<00:00,  1.89it/s]\n"
     ]
    },
    {
     "name": "stdout",
     "output_type": "stream",
     "text": [
      "[('[CLS]', '港'), ('的', '港'), ('表', '港')]\n",
      "[('港點的表現', '蠻不錯'), ('湯汁', '微酸的'), ('魚肉', '微酸的')]\n",
      "{('肉', '嫩'), ('肉', '脆')}\n",
      "[('[CLS]', '港', -3), ('的', '港', -3), ('表', '港', -3)]\n",
      "[('港點的表現', '蠻不錯', 6), ('湯汁', '微酸的', 6), ('魚肉', '微酸的', 6)]\n",
      "{('肉', '嫩', 6), ('肉', '脆', 6)}\n",
      "Top 3 predicted triplets appended to ./log/pred_triplets_output.txt.\n",
      "Val Loss: 0.3535099342465401, binary_f1: 0.0002, v_f1: 0.0001, a_f1: 0.0000, F1-score: 0.0000\n"
     ]
    },
    {
     "name": "stderr",
     "output_type": "stream",
     "text": [
      "100%|██████████| 137/137 [00:21<00:00,  6.38it/s]\n"
     ]
    },
    {
     "name": "stdout",
     "output_type": "stream",
     "text": [
      "Epoch 5, Average Loss: 0.3380184036281884, Learning Rate: 5.0000000000000004e-08\n"
     ]
    },
    {
     "name": "stderr",
     "output_type": "stream",
     "text": [
      "100%|██████████| 35/35 [00:19<00:00,  1.77it/s]\n"
     ]
    },
    {
     "name": "stdout",
     "output_type": "stream",
     "text": [
      "[('[CLS]', '港'), ('的', '港'), ('表', '港')]\n",
      "[('港點的表現', '蠻不錯'), ('湯汁', '微酸的'), ('魚肉', '微酸的')]\n",
      "{('肉', '嫩'), ('肉', '脆')}\n",
      "[('[CLS]', '港', -3), ('的', '港', -3), ('表', '港', -3)]\n",
      "[('港點的表現', '蠻不錯', 6), ('湯汁', '微酸的', 6), ('魚肉', '微酸的', 6)]\n",
      "{('肉', '嫩', 6), ('肉', '脆', 6)}\n",
      "[('[CLS]', '港', 5), ('的', '港', 5), ('表', '港', 5)]\n",
      "[('港點的表現', '蠻不錯', 6), ('湯汁', '微酸的', 6), ('魚肉', '微酸的', 6)]\n",
      "{('肉', '嫩', 6)}\n",
      "Top 3 predicted triplets appended to ./log/pred_triplets_output.txt.\n",
      "Val Loss: 0.35093245998557127, binary_f1: 0.0002, v_f1: 0.0001, a_f1: 0.0001, F1-score: 0.0000\n"
     ]
    },
    {
     "name": "stderr",
     "output_type": "stream",
     "text": [
      "100%|██████████| 137/137 [00:22<00:00,  6.20it/s]\n"
     ]
    },
    {
     "name": "stdout",
     "output_type": "stream",
     "text": [
      "Epoch 6, Average Loss: 0.2569314592320771, Learning Rate: 6.000000000000001e-08\n"
     ]
    },
    {
     "name": "stderr",
     "output_type": "stream",
     "text": [
      "100%|██████████| 35/35 [00:18<00:00,  1.86it/s]\n"
     ]
    },
    {
     "name": "stdout",
     "output_type": "stream",
     "text": [
      "[('[CLS]', '港'), ('的', '港'), ('表', '港')]\n",
      "[('港點的表現', '蠻不錯'), ('湯汁', '微酸的'), ('魚肉', '微酸的')]\n",
      "{('肉', '嫩'), ('肉', '脆')}\n",
      "[('[CLS]', '港', -3), ('的', '港', -3), ('表', '港', -3)]\n",
      "[('港點的表現', '蠻不錯', 6), ('湯汁', '微酸的', 6), ('魚肉', '微酸的', 6)]\n",
      "{('肉', '嫩', 6), ('肉', '脆', 6)}\n",
      "[('[CLS]', '港', 5), ('的', '港', 5), ('表', '港', 5)]\n",
      "[('港點的表現', '蠻不錯', 6), ('湯汁', '微酸的', 6), ('魚肉', '微酸的', 6)]\n",
      "{('肉', '嫩', 6)}\n",
      "Top 3 predicted triplets appended to ./log/pred_triplets_output.txt.\n",
      "Val Loss: 0.347506288079811, binary_f1: 0.0002, v_f1: 0.0001, a_f1: 0.0001, F1-score: 0.0000\n"
     ]
    },
    {
     "name": "stderr",
     "output_type": "stream",
     "text": [
      "100%|██████████| 137/137 [00:21<00:00,  6.32it/s]\n"
     ]
    },
    {
     "name": "stdout",
     "output_type": "stream",
     "text": [
      "Epoch 7, Average Loss: 0.27750003835471876, Learning Rate: 7e-08\n"
     ]
    },
    {
     "name": "stderr",
     "output_type": "stream",
     "text": [
      "100%|██████████| 35/35 [00:18<00:00,  1.85it/s]\n"
     ]
    },
    {
     "name": "stdout",
     "output_type": "stream",
     "text": [
      "[('[CLS]', '港'), ('的', '港'), ('表', '港')]\n",
      "[('港點的表現', '蠻不錯'), ('湯汁', '微酸的'), ('魚肉', '微酸的')]\n",
      "{('肉', '嫩'), ('肉', '脆')}\n",
      "[('[CLS]', '港', -3), ('的', '港', -3), ('表', '港', -3)]\n",
      "[('港點的表現', '蠻不錯', 6), ('湯汁', '微酸的', 6), ('魚肉', '微酸的', 6)]\n",
      "{('肉', '嫩', 6), ('肉', '脆', 6)}\n",
      "[('[CLS]', '港', 4), ('的', '港', 4), ('表', '港', 4)]\n",
      "[('港點的表現', '蠻不錯', 6), ('湯汁', '微酸的', 6), ('魚肉', '微酸的', 6)]\n",
      "{('肉', '嫩', 6)}\n",
      "Top 3 predicted triplets appended to ./log/pred_triplets_output.txt.\n",
      "Val Loss: 0.3430075909676296, binary_f1: 0.0002, v_f1: 0.0001, a_f1: 0.0001, F1-score: 0.0000\n"
     ]
    },
    {
     "name": "stderr",
     "output_type": "stream",
     "text": [
      "100%|██████████| 137/137 [00:21<00:00,  6.32it/s]\n"
     ]
    },
    {
     "name": "stdout",
     "output_type": "stream",
     "text": [
      "Epoch 8, Average Loss: 0.2972594424933501, Learning Rate: 8e-08\n"
     ]
    },
    {
     "name": "stderr",
     "output_type": "stream",
     "text": [
      "100%|██████████| 35/35 [00:18<00:00,  1.91it/s]\n"
     ]
    },
    {
     "name": "stdout",
     "output_type": "stream",
     "text": [
      "[('[CLS]', '港'), ('的', '港'), ('表', '港')]\n",
      "[('港點的表現', '蠻不錯'), ('湯汁', '微酸的'), ('魚肉', '微酸的')]\n",
      "{('肉', '嫩'), ('肉', '脆')}\n",
      "[('[CLS]', '港', -3), ('的', '港', -3), ('表', '港', -3)]\n",
      "[('港點的表現', '蠻不錯', 6), ('湯汁', '微酸的', 6), ('魚肉', '微酸的', 6)]\n",
      "{('肉', '嫩', 6), ('肉', '脆', 6)}\n",
      "[('[CLS]', '港', 4), ('的', '港', 4), ('表', '港', 4)]\n",
      "[('港點的表現', '蠻不錯', 6), ('湯汁', '微酸的', 6), ('魚肉', '微酸的', 6)]\n",
      "{('肉', '嫩', 6)}\n",
      "Top 3 predicted triplets appended to ./log/pred_triplets_output.txt.\n",
      "Val Loss: 0.3406122268709753, binary_f1: 0.0002, v_f1: 0.0001, a_f1: 0.0001, F1-score: 0.0000\n"
     ]
    },
    {
     "name": "stderr",
     "output_type": "stream",
     "text": [
      "100%|██████████| 137/137 [00:21<00:00,  6.36it/s]\n"
     ]
    },
    {
     "name": "stdout",
     "output_type": "stream",
     "text": [
      "Epoch 9, Average Loss: 0.33787174070471504, Learning Rate: 9e-08\n"
     ]
    },
    {
     "name": "stderr",
     "output_type": "stream",
     "text": [
      "100%|██████████| 35/35 [00:18<00:00,  1.86it/s]\n"
     ]
    },
    {
     "name": "stdout",
     "output_type": "stream",
     "text": [
      "[('[CLS]', '港'), ('的', '港'), ('表', '港')]\n",
      "[('港點的表現', '蠻不錯'), ('湯汁', '微酸的'), ('魚肉', '微酸的')]\n",
      "{('肉', '嫩'), ('肉', '脆')}\n",
      "[('[CLS]', '港', -2), ('的', '港', -2), ('表', '港', -2)]\n",
      "[('港點的表現', '蠻不錯', 6), ('湯汁', '微酸的', 6), ('魚肉', '微酸的', 6)]\n",
      "{('肉', '嫩', 6), ('肉', '脆', 6)}\n",
      "Top 3 predicted triplets appended to ./log/pred_triplets_output.txt.\n",
      "Val Loss: 0.33479000250143665, binary_f1: 0.0002, v_f1: 0.0001, a_f1: 0.0000, F1-score: 0.0000\n"
     ]
    },
    {
     "name": "stderr",
     "output_type": "stream",
     "text": [
      "100%|██████████| 137/137 [00:21<00:00,  6.33it/s]\n"
     ]
    },
    {
     "name": "stdout",
     "output_type": "stream",
     "text": [
      "Epoch 10, Average Loss: 0.20526238180098744, Learning Rate: 1.0000000000000001e-07\n"
     ]
    },
    {
     "name": "stderr",
     "output_type": "stream",
     "text": [
      "100%|██████████| 35/35 [00:18<00:00,  1.90it/s]\n"
     ]
    },
    {
     "name": "stdout",
     "output_type": "stream",
     "text": [
      "[('[CLS]', '港'), ('的', '港'), ('表', '港')]\n",
      "[('港點的表現', '蠻不錯'), ('湯汁', '微酸的'), ('魚肉', '微酸的')]\n",
      "{('肉', '嫩'), ('肉', '脆')}\n",
      "[('[CLS]', '港', -2), ('的', '港', -2), ('表', '港', -2)]\n",
      "[('港點的表現', '蠻不錯', 6), ('湯汁', '微酸的', 6), ('魚肉', '微酸的', 6)]\n",
      "{('肉', '嫩', 6), ('肉', '脆', 6)}\n",
      "Top 3 predicted triplets appended to ./log/pred_triplets_output.txt.\n",
      "Val Loss: 0.33139627018411244, binary_f1: 0.0002, v_f1: 0.0001, a_f1: 0.0000, F1-score: 0.0000\n"
     ]
    },
    {
     "name": "stderr",
     "output_type": "stream",
     "text": [
      "100%|██████████| 137/137 [00:21<00:00,  6.25it/s]\n"
     ]
    },
    {
     "name": "stdout",
     "output_type": "stream",
     "text": [
      "Epoch 11, Average Loss: 0.346117076294048, Learning Rate: 1.1e-07\n"
     ]
    },
    {
     "name": "stderr",
     "output_type": "stream",
     "text": [
      "100%|██████████| 35/35 [00:17<00:00,  1.95it/s]\n"
     ]
    },
    {
     "name": "stdout",
     "output_type": "stream",
     "text": [
      "[('[CLS]', '港'), ('的', '港'), ('表', '港')]\n",
      "[('港點的表現', '蠻不錯'), ('湯汁', '微酸的'), ('魚肉', '微酸的')]\n",
      "{('肉', '嫩'), ('肉', '脆')}\n",
      "[('[CLS]', '港', -2), ('的', '港', -2), ('表', '港', -2)]\n",
      "[('港點的表現', '蠻不錯', 6), ('湯汁', '微酸的', 6), ('魚肉', '微酸的', 6)]\n",
      "{('肉', '嫩', 6), ('肉', '脆', 6)}\n",
      "Top 3 predicted triplets appended to ./log/pred_triplets_output.txt.\n",
      "Val Loss: 0.32642553106748634, binary_f1: 0.0002, v_f1: 0.0001, a_f1: 0.0000, F1-score: 0.0000\n"
     ]
    },
    {
     "name": "stderr",
     "output_type": "stream",
     "text": [
      "100%|██████████| 137/137 [00:21<00:00,  6.27it/s]\n"
     ]
    },
    {
     "name": "stdout",
     "output_type": "stream",
     "text": [
      "Epoch 12, Average Loss: 0.2859178918726525, Learning Rate: 1.2000000000000002e-07\n"
     ]
    },
    {
     "name": "stderr",
     "output_type": "stream",
     "text": [
      "100%|██████████| 35/35 [00:18<00:00,  1.88it/s]\n"
     ]
    },
    {
     "name": "stdout",
     "output_type": "stream",
     "text": [
      "[('[CLS]', '港'), ('的', '港'), ('表', '港')]\n",
      "[('港點的表現', '蠻不錯'), ('湯汁', '微酸的'), ('魚肉', '微酸的')]\n",
      "{('肉', '嫩'), ('肉', '脆')}\n",
      "[('[CLS]', '港', -1), ('的', '港', -1), ('表', '港', -1)]\n",
      "[('港點的表現', '蠻不錯', 6), ('湯汁', '微酸的', 6), ('魚肉', '微酸的', 6)]\n",
      "{('肉', '嫩', 6), ('肉', '脆', 6)}\n",
      "[('[CLS]', '港', 1), ('的', '港', 1), ('表', '港', 1)]\n",
      "[('港點的表現', '蠻不錯', 6), ('湯汁', '微酸的', 6), ('魚肉', '微酸的', 6)]\n",
      "{('肉', '嫩', 6)}\n",
      "Top 3 predicted triplets appended to ./log/pred_triplets_output.txt.\n",
      "Val Loss: 0.32309028206925305, binary_f1: 0.0002, v_f1: 0.0001, a_f1: 0.0001, F1-score: 0.0000\n"
     ]
    },
    {
     "name": "stderr",
     "output_type": "stream",
     "text": [
      "100%|██████████| 137/137 [00:21<00:00,  6.28it/s]\n"
     ]
    },
    {
     "name": "stdout",
     "output_type": "stream",
     "text": [
      "Epoch 13, Average Loss: 0.3414788012372425, Learning Rate: 1.3e-07\n"
     ]
    },
    {
     "name": "stderr",
     "output_type": "stream",
     "text": [
      "100%|██████████| 35/35 [00:18<00:00,  1.86it/s]\n"
     ]
    },
    {
     "name": "stdout",
     "output_type": "stream",
     "text": [
      "[('[CLS]', '港'), ('的', '港'), ('表', '港')]\n",
      "[('港點的表現', '蠻不錯'), ('湯汁', '微酸的'), ('魚肉', '微酸的')]\n",
      "{('肉', '嫩'), ('肉', '脆')}\n",
      "[('[CLS]', '港', -1), ('的', '港', -1), ('表', '港', -1)]\n",
      "[('港點的表現', '蠻不錯', 6), ('湯汁', '微酸的', 6), ('魚肉', '微酸的', 6)]\n",
      "{('肉', '嫩', 6)}\n",
      "[('[CLS]', '港', 2), ('的', '港', 2), ('表', '港', 2)]\n",
      "[('港點的表現', '蠻不錯', 6), ('湯汁', '微酸的', 6), ('魚肉', '微酸的', 6)]\n",
      "{('肉', '嫩', 6)}\n",
      "Top 3 predicted triplets appended to ./log/pred_triplets_output.txt.\n",
      "Val Loss: 0.3209602122161804, binary_f1: 0.0002, v_f1: 0.0001, a_f1: 0.0001, F1-score: 0.0000\n"
     ]
    },
    {
     "name": "stderr",
     "output_type": "stream",
     "text": [
      "100%|██████████| 137/137 [00:21<00:00,  6.27it/s]\n"
     ]
    },
    {
     "name": "stdout",
     "output_type": "stream",
     "text": [
      "Epoch 14, Average Loss: 0.12207592675720688, Learning Rate: 1.4e-07\n"
     ]
    },
    {
     "name": "stderr",
     "output_type": "stream",
     "text": [
      "100%|██████████| 35/35 [00:18<00:00,  1.86it/s]\n"
     ]
    },
    {
     "name": "stdout",
     "output_type": "stream",
     "text": [
      "[('[CLS]', '港'), ('的', '港'), ('表', '港')]\n",
      "[('港點的表現', '蠻不錯'), ('湯汁', '微酸的'), ('魚肉', '微酸的')]\n",
      "{('肉', '嫩'), ('肉', '脆')}\n",
      "[('[CLS]', '港', 1), ('的', '港', 1), ('表', '港', 1)]\n",
      "[('港點的表現', '蠻不錯', 6), ('湯汁', '微酸的', 6), ('魚肉', '微酸的', 6)]\n",
      "{('肉', '嫩', 6)}\n",
      "Top 3 predicted triplets appended to ./log/pred_triplets_output.txt.\n",
      "Val Loss: 0.32342468473528113, binary_f1: 0.0002, v_f1: 0.0000, a_f1: 0.0001, F1-score: 0.0000\n",
      "验证损失未改善，耐心值计数：1\n"
     ]
    },
    {
     "name": "stderr",
     "output_type": "stream",
     "text": [
      "100%|██████████| 137/137 [00:22<00:00,  6.13it/s]\n"
     ]
    },
    {
     "name": "stdout",
     "output_type": "stream",
     "text": [
      "Epoch 15, Average Loss: 0.16358595876359672, Learning Rate: 1.5000000000000002e-07\n"
     ]
    },
    {
     "name": "stderr",
     "output_type": "stream",
     "text": [
      "100%|██████████| 35/35 [00:17<00:00,  1.95it/s]\n"
     ]
    },
    {
     "name": "stdout",
     "output_type": "stream",
     "text": [
      "[('[CLS]', '港'), ('的', '港'), ('表', '港')]\n",
      "[('港點的表現', '蠻不錯'), ('湯汁', '微酸的'), ('魚肉', '微酸的')]\n",
      "{('肉', '嫩'), ('肉', '脆')}\n",
      "[('[CLS]', '港', 1), ('的', '港', 1), ('表', '港', 1)]\n",
      "[('港點的表現', '蠻不錯', 6), ('湯汁', '微酸的', 6), ('魚肉', '微酸的', 6)]\n",
      "{('肉', '嫩', 6)}\n",
      "Top 3 predicted triplets appended to ./log/pred_triplets_output.txt.\n",
      "Val Loss: 0.3207177746907941, binary_f1: 0.0002, v_f1: 0.0000, a_f1: 0.0001, F1-score: 0.0000\n",
      "验证损失未改善，耐心值计数：2\n"
     ]
    },
    {
     "name": "stderr",
     "output_type": "stream",
     "text": [
      "100%|██████████| 137/137 [00:22<00:00,  6.07it/s]\n"
     ]
    },
    {
     "name": "stdout",
     "output_type": "stream",
     "text": [
      "Epoch 16, Average Loss: 0.1723861267813991, Learning Rate: 1.6e-07\n"
     ]
    },
    {
     "name": "stderr",
     "output_type": "stream",
     "text": [
      "100%|██████████| 35/35 [00:19<00:00,  1.84it/s]\n"
     ]
    },
    {
     "name": "stdout",
     "output_type": "stream",
     "text": [
      "[('[CLS]', '港'), ('的', '港'), ('表', '港')]\n",
      "[('港點的表現', '蠻不錯'), ('湯汁', '微酸的'), ('魚肉', '微酸的')]\n",
      "{('肉', '嫩'), ('肉', '脆')}\n",
      "[('[CLS]', '港', 1), ('的', '港', 1), ('表', '港', 1)]\n",
      "[('港點的表現', '蠻不錯', 6), ('湯汁', '微酸的', 6), ('魚肉', '微酸的', 6)]\n",
      "{('肉', '嫩', 6)}\n",
      "Top 3 predicted triplets appended to ./log/pred_triplets_output.txt.\n",
      "Val Loss: 0.3200602378563157, binary_f1: 0.0002, v_f1: 0.0000, a_f1: 0.0001, F1-score: 0.0000\n",
      "验证损失未改善，耐心值计数：3\n"
     ]
    },
    {
     "name": "stderr",
     "output_type": "stream",
     "text": [
      "100%|██████████| 137/137 [00:22<00:00,  6.20it/s]\n"
     ]
    },
    {
     "name": "stdout",
     "output_type": "stream",
     "text": [
      "Epoch 17, Average Loss: 0.0744304202061935, Learning Rate: 1.7000000000000001e-07\n"
     ]
    },
    {
     "name": "stderr",
     "output_type": "stream",
     "text": [
      "100%|██████████| 35/35 [00:19<00:00,  1.80it/s]\n"
     ]
    },
    {
     "name": "stdout",
     "output_type": "stream",
     "text": [
      "[('[CLS]', '港'), ('的', '港'), ('表', '港')]\n",
      "[('港點的表現', '蠻不錯'), ('湯汁', '微酸的'), ('魚肉', '微酸的')]\n",
      "{('肉', '嫩'), ('肉', '脆')}\n",
      "[('[CLS]', '港', 1), ('的', '港', 1), ('表', '港', 1)]\n",
      "[('港點的表現', '蠻不錯', 6), ('湯汁', '微酸的', 6), ('魚肉', '微酸的', 6)]\n",
      "{('肉', '嫩', 6)}\n",
      "Top 3 predicted triplets appended to ./log/pred_triplets_output.txt.\n",
      "Val Loss: 0.3202714218225862, binary_f1: 0.0002, v_f1: 0.0000, a_f1: 0.0001, F1-score: 0.0000\n",
      "验证损失未改善，耐心值计数：4\n"
     ]
    },
    {
     "name": "stderr",
     "output_type": "stream",
     "text": [
      "100%|██████████| 137/137 [00:22<00:00,  6.07it/s]\n"
     ]
    },
    {
     "name": "stdout",
     "output_type": "stream",
     "text": [
      "Epoch 18, Average Loss: 0.15271225463799507, Learning Rate: 1.8e-07\n"
     ]
    },
    {
     "name": "stderr",
     "output_type": "stream",
     "text": [
      "100%|██████████| 35/35 [00:18<00:00,  1.91it/s]\n"
     ]
    },
    {
     "name": "stdout",
     "output_type": "stream",
     "text": [
      "[('[CLS]', '港'), ('的', '港'), ('表', '港')]\n",
      "[('港點的表現', '蠻不錯'), ('湯汁', '微酸的'), ('魚肉', '微酸的')]\n",
      "{('肉', '嫩'), ('肉', '脆'), ('皮', '脆')}\n",
      "[('[CLS]', '港', 1), ('的', '港', 1), ('表', '港', 1)]\n",
      "[('港點的表現', '蠻不錯', 6), ('湯汁', '微酸的', 6), ('魚肉', '微酸的', 6)]\n",
      "{('肉', '嫩', 6), ('皮', '脆', 6)}\n",
      "Top 3 predicted triplets appended to ./log/pred_triplets_output.txt.\n",
      "Val Loss: 0.31968616151383944, binary_f1: 0.0003, v_f1: 0.0000, a_f1: 0.0002, F1-score: 0.0000\n"
     ]
    },
    {
     "name": "stderr",
     "output_type": "stream",
     "text": [
      "100%|██████████| 137/137 [00:22<00:00,  6.15it/s]\n"
     ]
    },
    {
     "name": "stdout",
     "output_type": "stream",
     "text": [
      "Epoch 19, Average Loss: 0.18325345037015575, Learning Rate: 1.9e-07\n"
     ]
    },
    {
     "name": "stderr",
     "output_type": "stream",
     "text": [
      "100%|██████████| 35/35 [00:19<00:00,  1.83it/s]\n"
     ]
    },
    {
     "name": "stdout",
     "output_type": "stream",
     "text": [
      "[('[CLS]', '港'), ('的', '港'), ('表', '港')]\n",
      "[('港點的表現', '蠻不錯'), ('湯汁', '微酸的'), ('魚肉', '微酸的')]\n",
      "{('肉', '嫩'), ('肉', '脆'), ('皮', '脆')}\n",
      "[('[CLS]', '港', 1), ('的', '港', 1), ('表', '港', 1)]\n",
      "[('港點的表現', '蠻不錯', 6), ('湯汁', '微酸的', 6), ('魚肉', '微酸的', 6)]\n",
      "{('肉', '嫩', 6), ('皮', '脆', 6)}\n",
      "Top 3 predicted triplets appended to ./log/pred_triplets_output.txt.\n",
      "Val Loss: 0.3196128489748974, binary_f1: 0.0003, v_f1: 0.0000, a_f1: 0.0002, F1-score: 0.0000\n",
      "验证损失未改善，耐心值计数：1\n"
     ]
    },
    {
     "name": "stderr",
     "output_type": "stream",
     "text": [
      "100%|██████████| 137/137 [00:22<00:00,  6.17it/s]\n"
     ]
    },
    {
     "name": "stdout",
     "output_type": "stream",
     "text": [
      "Epoch 20, Average Loss: 0.13314120230446808, Learning Rate: 2.0000000000000002e-07\n"
     ]
    },
    {
     "name": "stderr",
     "output_type": "stream",
     "text": [
      "100%|██████████| 35/35 [00:18<00:00,  1.93it/s]\n"
     ]
    },
    {
     "name": "stdout",
     "output_type": "stream",
     "text": [
      "[('[CLS]', '港'), ('的', '港'), ('表', '港')]\n",
      "[('港點的表現', '蠻不錯'), ('湯汁', '微酸的'), ('魚肉', '微酸的')]\n",
      "{('肉', '嫩'), ('肉', '脆'), ('皮', '脆')}\n",
      "[('[CLS]', '港', 1), ('的', '港', 1), ('表', '港', 1)]\n",
      "[('港點的表現', '蠻不錯', 6), ('湯汁', '微酸的', 6), ('魚肉', '微酸的', 6)]\n",
      "{('肉', '嫩', 6), ('皮', '脆', 6)}\n",
      "Top 3 predicted triplets appended to ./log/pred_triplets_output.txt.\n",
      "Val Loss: 0.32250564365448164, binary_f1: 0.0003, v_f1: 0.0000, a_f1: 0.0002, F1-score: 0.0000\n",
      "验证损失未改善，耐心值计数：2\n"
     ]
    },
    {
     "name": "stderr",
     "output_type": "stream",
     "text": [
      "100%|██████████| 137/137 [00:22<00:00,  6.13it/s]\n"
     ]
    },
    {
     "name": "stdout",
     "output_type": "stream",
     "text": [
      "Epoch 21, Average Loss: 0.14179584936300008, Learning Rate: 2.1000000000000003e-07\n"
     ]
    },
    {
     "name": "stderr",
     "output_type": "stream",
     "text": [
      "100%|██████████| 35/35 [00:18<00:00,  1.94it/s]\n"
     ]
    },
    {
     "name": "stdout",
     "output_type": "stream",
     "text": [
      "[('[CLS]港', '點'), ('的', '點'), ('表', '點')]\n",
      "[('港點的表現', '蠻不錯'), ('湯汁', '微酸的'), ('魚肉', '微酸的')]\n",
      "{('肉', '嫩'), ('肉', '脆'), ('皮', '脆')}\n",
      "[('[CLS]港', '點', 2), ('的', '點', 2), ('表', '點', 2)]\n",
      "[('港點的表現', '蠻不錯', 6), ('湯汁', '微酸的', 6), ('魚肉', '微酸的', 6)]\n",
      "{('肉', '嫩', 6)}\n",
      "Top 3 predicted triplets appended to ./log/pred_triplets_output.txt.\n",
      "Val Loss: 0.3208222035385136, binary_f1: 0.0003, v_f1: 0.0000, a_f1: 0.0001, F1-score: 0.0000\n",
      "验证损失未改善，耐心值计数：3\n"
     ]
    },
    {
     "name": "stderr",
     "output_type": "stream",
     "text": [
      "100%|██████████| 137/137 [00:21<00:00,  6.26it/s]\n"
     ]
    },
    {
     "name": "stdout",
     "output_type": "stream",
     "text": [
      "Epoch 22, Average Loss: 0.18852464069891042, Learning Rate: 2.2e-07\n"
     ]
    },
    {
     "name": "stderr",
     "output_type": "stream",
     "text": [
      "100%|██████████| 35/35 [00:16<00:00,  2.10it/s]\n"
     ]
    },
    {
     "name": "stdout",
     "output_type": "stream",
     "text": [
      "[('[CLS]港', '點'), ('的', '點'), ('表', '點')]\n",
      "[('港點的表現', '蠻不錯'), ('湯汁', '微酸的'), ('魚肉', '微酸的')]\n",
      "{('肉', '嫩'), ('肉', '脆'), ('皮', '脆')}\n",
      "[('[CLS]港', '點', 2), ('的', '點', 2), ('表', '點', 2)]\n",
      "[('港點的表現', '蠻不錯', 6), ('湯汁', '微酸的', 6), ('魚肉', '微酸的', 6)]\n",
      "{('肉', '嫩', 6), ('皮', '脆', 6)}\n",
      "Top 3 predicted triplets appended to ./log/pred_triplets_output.txt.\n",
      "Val Loss: 0.31974052767535405, binary_f1: 0.0003, v_f1: 0.0000, a_f1: 0.0002, F1-score: 0.0000\n",
      "验证损失未改善，耐心值计数：4\n"
     ]
    },
    {
     "name": "stderr",
     "output_type": "stream",
     "text": [
      "100%|██████████| 137/137 [00:22<00:00,  6.16it/s]\n"
     ]
    },
    {
     "name": "stdout",
     "output_type": "stream",
     "text": [
      "Epoch 23, Average Loss: 0.33473036791636424, Learning Rate: 2.3000000000000002e-07\n"
     ]
    },
    {
     "name": "stderr",
     "output_type": "stream",
     "text": [
      "100%|██████████| 35/35 [00:16<00:00,  2.12it/s]\n"
     ]
    },
    {
     "name": "stdout",
     "output_type": "stream",
     "text": [
      "[('[CLS]港', '[PAD]'), ('點', '[PAD]'), ('的', '[PAD]')]\n",
      "[('港點的表現', '蠻不錯'), ('湯汁', '微酸的'), ('魚肉', '微酸的')]\n",
      "{('肉', '嫩'), ('肉', '脆'), ('皮', '脆')}\n",
      "[('[CLS]港', '[PAD]', 6), ('點', '[PAD]', 6), ('的', '[PAD]', 6)]\n",
      "[('港點的表現', '蠻不錯', 6), ('湯汁', '微酸的', 6), ('魚肉', '微酸的', 6)]\n",
      "{('肉', '嫩', 6), ('皮', '脆', 6)}\n",
      "Top 3 predicted triplets appended to ./log/pred_triplets_output.txt.\n",
      "Val Loss: 0.31971282907096404, binary_f1: 0.0003, v_f1: 0.0000, a_f1: 0.0002, F1-score: 0.0000\n",
      "验证损失未改善，耐心值计数：5\n"
     ]
    },
    {
     "name": "stderr",
     "output_type": "stream",
     "text": [
      "100%|██████████| 137/137 [00:22<00:00,  6.04it/s]\n"
     ]
    },
    {
     "name": "stdout",
     "output_type": "stream",
     "text": [
      "Epoch 24, Average Loss: 0.1861157243337183, Learning Rate: 2.4000000000000003e-07\n"
     ]
    },
    {
     "name": "stderr",
     "output_type": "stream",
     "text": [
      "100%|██████████| 35/35 [00:16<00:00,  2.09it/s]\n"
     ]
    },
    {
     "name": "stdout",
     "output_type": "stream",
     "text": [
      "[('[CLS]港', '[PAD]'), ('點', '[PAD]'), ('的', '[PAD]')]\n",
      "[('港點的表現', '蠻不錯'), ('湯汁', '微酸的'), ('魚肉', '微酸的')]\n",
      "{('肉', '嫩'), ('肉', '脆'), ('皮', '脆'), ('魚', '柴')}\n",
      "[('[CLS]港', '[PAD]', -5), ('點', '[PAD]', -5), ('的', '[PAD]', -5)]\n",
      "[('港點的表現', '蠻不錯', 6), ('湯汁', '微酸的', 6), ('魚肉', '微酸的', 6)]\n",
      "{('魚', '柴', 4)}\n",
      "[('[CLS]港', '[PAD]', 6), ('點', '[PAD]', 6), ('的', '[PAD]', 6)]\n",
      "[('港點的表現', '蠻不錯', 6), ('湯汁', '微酸的', 6), ('魚肉', '微酸的', 6)]\n",
      "{('肉', '嫩', 6), ('皮', '脆', 6)}\n",
      "Top 3 predicted triplets appended to ./log/pred_triplets_output.txt.\n",
      "Val Loss: 0.3184195453542218, binary_f1: 0.0004, v_f1: 0.0001, a_f1: 0.0002, F1-score: 0.0000\n"
     ]
    },
    {
     "name": "stderr",
     "output_type": "stream",
     "text": [
      "100%|██████████| 137/137 [00:22<00:00,  6.13it/s]\n"
     ]
    },
    {
     "name": "stdout",
     "output_type": "stream",
     "text": [
      "Epoch 25, Average Loss: 0.12583531157358338, Learning Rate: 2.5000000000000004e-07\n"
     ]
    },
    {
     "name": "stderr",
     "output_type": "stream",
     "text": [
      "100%|██████████| 35/35 [00:16<00:00,  2.12it/s]\n"
     ]
    },
    {
     "name": "stdout",
     "output_type": "stream",
     "text": [
      "[('[CLS]港', '[PAD]'), ('點', '[PAD]'), ('的', '[PAD]')]\n",
      "[('港點的表現', '蠻不錯'), ('湯汁', '微酸的'), ('魚肉', '微酸的')]\n",
      "{('肉', '嫩'), ('肉', '脆'), ('皮', '脆')}\n",
      "[('[CLS]港', '[PAD]', 6), ('點', '[PAD]', 6), ('的', '[PAD]', 6)]\n",
      "[('港點的表現', '蠻不錯', 6), ('湯汁', '微酸的', 6), ('魚肉', '微酸的', 6)]\n",
      "{('肉', '嫩', 6), ('皮', '脆', 6)}\n",
      "Top 3 predicted triplets appended to ./log/pred_triplets_output.txt.\n",
      "Val Loss: 0.3200938067814734, binary_f1: 0.0003, v_f1: 0.0000, a_f1: 0.0002, F1-score: 0.0000\n",
      "验证损失未改善，耐心值计数：1\n"
     ]
    },
    {
     "name": "stderr",
     "output_type": "stream",
     "text": [
      "100%|██████████| 137/137 [00:22<00:00,  6.15it/s]\n"
     ]
    },
    {
     "name": "stdout",
     "output_type": "stream",
     "text": [
      "Epoch 26, Average Loss: 0.10583349679814258, Learning Rate: 2.6e-07\n"
     ]
    },
    {
     "name": "stderr",
     "output_type": "stream",
     "text": [
      "100%|██████████| 35/35 [00:16<00:00,  2.09it/s]\n"
     ]
    },
    {
     "name": "stdout",
     "output_type": "stream",
     "text": [
      "[('[CLS]港', '[PAD]'), ('點', '[PAD]'), ('的', '[PAD]')]\n",
      "[('港點的表現', '蠻不錯'), ('湯汁', '微酸的'), ('魚肉', '微酸的')]\n",
      "{('肉', '嫩'), ('肉', '脆'), ('皮', '脆')}\n",
      "[('[CLS]港', '[PAD]', 6), ('點', '[PAD]', 6), ('的', '[PAD]', 6)]\n",
      "[('港點的表現', '蠻不錯', 6), ('湯汁', '微酸的', 6), ('魚肉', '微酸的', 6)]\n",
      "{('肉', '嫩', 6), ('皮', '脆', 6)}\n",
      "Top 3 predicted triplets appended to ./log/pred_triplets_output.txt.\n",
      "Val Loss: 0.32071643739057304, binary_f1: 0.0003, v_f1: 0.0000, a_f1: 0.0002, F1-score: 0.0000\n",
      "验证损失未改善，耐心值计数：2\n"
     ]
    },
    {
     "name": "stderr",
     "output_type": "stream",
     "text": [
      "100%|██████████| 137/137 [00:22<00:00,  6.08it/s]\n"
     ]
    },
    {
     "name": "stdout",
     "output_type": "stream",
     "text": [
      "Epoch 27, Average Loss: 0.1873336606098162, Learning Rate: 2.7e-07\n"
     ]
    },
    {
     "name": "stderr",
     "output_type": "stream",
     "text": [
      "100%|██████████| 35/35 [00:16<00:00,  2.09it/s]\n"
     ]
    },
    {
     "name": "stdout",
     "output_type": "stream",
     "text": [
      "[('[CLS]港', '[PAD]'), ('點', '[PAD]'), ('的', '[PAD]')]\n",
      "[('港點的表現', '蠻不錯'), ('湯汁', '微酸的'), ('魚肉', '微酸的')]\n",
      "{('肉', '嫩'), ('肉', '脆'), ('皮', '脆')}\n",
      "[('[CLS]港', '[PAD]', 6), ('點', '[PAD]', 6), ('的', '[PAD]', 6)]\n",
      "[('港點的表現', '蠻不錯', 6), ('湯汁', '微酸的', 6), ('魚肉', '微酸的', 6)]\n",
      "{('肉', '嫩', 6), ('皮', '脆', 6)}\n",
      "Top 3 predicted triplets appended to ./log/pred_triplets_output.txt.\n",
      "Val Loss: 0.3197433768405712, binary_f1: 0.0003, v_f1: 0.0000, a_f1: 0.0002, F1-score: 0.0000\n",
      "验证损失未改善，耐心值计数：3\n"
     ]
    },
    {
     "name": "stderr",
     "output_type": "stream",
     "text": [
      "100%|██████████| 137/137 [00:22<00:00,  6.05it/s]\n"
     ]
    },
    {
     "name": "stdout",
     "output_type": "stream",
     "text": [
      "Epoch 28, Average Loss: 0.2809486647109318, Learning Rate: 2.8e-07\n"
     ]
    },
    {
     "name": "stderr",
     "output_type": "stream",
     "text": [
      "100%|██████████| 35/35 [00:18<00:00,  1.86it/s]\n"
     ]
    },
    {
     "name": "stdout",
     "output_type": "stream",
     "text": [
      "[('[CLS]港', '[PAD]'), ('點', '[PAD]'), ('的', '[PAD]')]\n",
      "[('港點的表現', '蠻不錯'), ('湯汁', '微酸的'), ('魚肉', '微酸的')]\n",
      "{('肉', '嫩'), ('肉', '脆'), ('皮', '脆')}\n",
      "[('[CLS]港', '[PAD]', 6), ('點', '[PAD]', 6), ('的', '[PAD]', 6)]\n",
      "[('港點的表現', '蠻不錯', 6), ('湯汁', '微酸的', 6), ('魚肉', '微酸的', 6)]\n",
      "{('肉', '嫩', 6), ('肉', '脆', 5), ('皮', '脆', 6)}\n",
      "Top 3 predicted triplets appended to ./log/pred_triplets_output.txt.\n",
      "Val Loss: 0.32181812286767775, binary_f1: 0.0003, v_f1: 0.0000, a_f1: 0.0003, F1-score: 0.0000\n",
      "验证损失未改善，耐心值计数：4\n"
     ]
    },
    {
     "name": "stderr",
     "output_type": "stream",
     "text": [
      "100%|██████████| 137/137 [00:23<00:00,  5.94it/s]\n"
     ]
    },
    {
     "name": "stdout",
     "output_type": "stream",
     "text": [
      "Epoch 29, Average Loss: 0.28717720833518645, Learning Rate: 2.9000000000000003e-07\n"
     ]
    },
    {
     "name": "stderr",
     "output_type": "stream",
     "text": [
      "100%|██████████| 35/35 [00:17<00:00,  2.01it/s]\n"
     ]
    },
    {
     "name": "stdout",
     "output_type": "stream",
     "text": [
      "[('[CLS]港', '[PAD]'), ('點', '[PAD]'), ('的', '[PAD]')]\n",
      "[('港點的表現', '蠻不錯'), ('湯汁', '微酸的'), ('魚肉', '微酸的')]\n",
      "{('肉', '嫩'), ('肉', '脆'), ('皮', '脆')}\n",
      "[('[CLS]港', '[PAD]', 6), ('點', '[PAD]', 6), ('的', '[PAD]', 6)]\n",
      "[('港點的表現', '蠻不錯', 6), ('湯汁', '微酸的', 6), ('魚肉', '微酸的', 6)]\n",
      "{('肉', '嫩', 6), ('皮', '脆', 6)}\n",
      "Top 3 predicted triplets appended to ./log/pred_triplets_output.txt.\n",
      "Val Loss: 0.3183901748495243, binary_f1: 0.0003, v_f1: 0.0000, a_f1: 0.0002, F1-score: 0.0000\n",
      "验证损失未改善，耐心值计数：5\n"
     ]
    },
    {
     "name": "stderr",
     "output_type": "stream",
     "text": [
      "100%|██████████| 137/137 [00:22<00:00,  6.06it/s]\n"
     ]
    },
    {
     "name": "stdout",
     "output_type": "stream",
     "text": [
      "Epoch 30, Average Loss: 0.2859950814817617, Learning Rate: 3.0000000000000004e-07\n"
     ]
    },
    {
     "name": "stderr",
     "output_type": "stream",
     "text": [
      "100%|██████████| 35/35 [00:16<00:00,  2.13it/s]\n"
     ]
    },
    {
     "name": "stdout",
     "output_type": "stream",
     "text": [
      "[('[CLS]港', '[PAD]'), ('點', '[PAD]'), ('的', '[PAD]')]\n",
      "[('港點的表現', '蠻不錯'), ('湯汁', '微酸的'), ('魚肉', '微酸的')]\n",
      "{('肉', '嫩'), ('肉', '脆'), ('皮', '脆')}\n",
      "[('[CLS]港', '[PAD]', -4), ('點', '[PAD]', -4), ('的', '[PAD]', -4)]\n",
      "[('港點的表現', '蠻不錯', 6), ('湯汁', '微酸的', 6), ('魚肉', '微酸的', 6)]\n",
      "{('肉', '嫩', 6)}\n",
      "[('[CLS]港', '[PAD]', 6), ('點', '[PAD]', 6), ('的', '[PAD]', 6)]\n",
      "[('港點的表現', '蠻不錯', 6), ('湯汁', '微酸的', 6), ('魚肉', '微酸的', 6)]\n",
      "{('肉', '嫩', 6), ('皮', '脆', 6)}\n",
      "Top 3 predicted triplets appended to ./log/pred_triplets_output.txt.\n",
      "Val Loss: 0.3179061154186327, binary_f1: 0.0003, v_f1: 0.0001, a_f1: 0.0002, F1-score: 0.0000\n",
      "验证损失未改善，耐心值计数：6\n"
     ]
    },
    {
     "name": "stderr",
     "output_type": "stream",
     "text": [
      "100%|██████████| 137/137 [00:22<00:00,  6.02it/s]\n"
     ]
    },
    {
     "name": "stdout",
     "output_type": "stream",
     "text": [
      "Epoch 31, Average Loss: 0.27115581760923957, Learning Rate: 3.1000000000000005e-07\n"
     ]
    },
    {
     "name": "stderr",
     "output_type": "stream",
     "text": [
      "100%|██████████| 35/35 [00:16<00:00,  2.16it/s]\n"
     ]
    },
    {
     "name": "stdout",
     "output_type": "stream",
     "text": [
      "[('[CLS]港', '[PAD]'), ('點', '[PAD]'), ('的', '[PAD]')]\n",
      "[('港點的表現', '蠻不錯'), ('湯汁', '微酸的'), ('魚肉', '微酸的')]\n",
      "{('肉', '嫩'), ('肉', '脆'), ('皮', '脆')}\n",
      "[('[CLS]港', '[PAD]', -5), ('點', '[PAD]', -5), ('的', '[PAD]', -5)]\n",
      "[('港點的表現', '蠻不錯', 6), ('湯汁', '微酸的', 6), ('魚肉', '微酸的', 6)]\n",
      "{('肉', '脆', 6)}\n",
      "[('[CLS]港', '[PAD]', 6), ('點', '[PAD]', 6), ('的', '[PAD]', 6)]\n",
      "[('港點的表現', '蠻不錯', 6), ('湯汁', '微酸的', 6), ('魚肉', '微酸的', 6)]\n",
      "{('肉', '嫩', 6), ('皮', '脆', 6)}\n",
      "Top 3 predicted triplets appended to ./log/pred_triplets_output.txt.\n",
      "Val Loss: 0.31616272090468556, binary_f1: 0.0003, v_f1: 0.0001, a_f1: 0.0002, F1-score: 0.0000\n"
     ]
    },
    {
     "name": "stderr",
     "output_type": "stream",
     "text": [
      "100%|██████████| 137/137 [00:22<00:00,  6.01it/s]\n"
     ]
    },
    {
     "name": "stdout",
     "output_type": "stream",
     "text": [
      "Epoch 32, Average Loss: 0.21179173249805713, Learning Rate: 3.2e-07\n"
     ]
    },
    {
     "name": "stderr",
     "output_type": "stream",
     "text": [
      "100%|██████████| 35/35 [00:16<00:00,  2.09it/s]\n"
     ]
    },
    {
     "name": "stdout",
     "output_type": "stream",
     "text": [
      "[('[CLS]港', '[PAD]'), ('點', '[PAD]'), ('的', '[PAD]')]\n",
      "[('港點的表現', '蠻不錯'), ('湯汁', '微酸的'), ('魚肉', '微酸的')]\n",
      "{('肉', '嫩'), ('肉', '脆'), ('皮', '脆')}\n",
      "[('[CLS]港', '[PAD]', 5), ('點', '[PAD]', 5), ('的', '[PAD]', 5)]\n",
      "[('港點的表現', '蠻不錯', 6), ('湯汁', '微酸的', 6), ('魚肉', '微酸的', 6)]\n",
      "{('肉', '嫩', 6), ('肉', '脆', 5), ('皮', '脆', 6)}\n",
      "Top 3 predicted triplets appended to ./log/pred_triplets_output.txt.\n",
      "Val Loss: 0.31566213781853936, binary_f1: 0.0003, v_f1: 0.0000, a_f1: 0.0003, F1-score: 0.0000\n",
      "验证损失未改善，耐心值计数：1\n"
     ]
    },
    {
     "name": "stderr",
     "output_type": "stream",
     "text": [
      "100%|██████████| 137/137 [00:22<00:00,  5.96it/s]\n"
     ]
    },
    {
     "name": "stdout",
     "output_type": "stream",
     "text": [
      "Epoch 33, Average Loss: 0.1844983944332866, Learning Rate: 3.3e-07\n"
     ]
    },
    {
     "name": "stderr",
     "output_type": "stream",
     "text": [
      "100%|██████████| 35/35 [00:16<00:00,  2.12it/s]\n"
     ]
    },
    {
     "name": "stdout",
     "output_type": "stream",
     "text": [
      "[('[CLS]港', '[PAD]'), ('點', '[PAD]'), ('的', '[PAD]')]\n",
      "[('港點的表現', '蠻不錯'), ('湯汁', '微酸的'), ('魚肉', '微酸的')]\n",
      "{('肉', '嫩'), ('肉', '脆'), ('皮', '脆')}\n",
      "[('[CLS]港', '[PAD]', -5), ('點', '[PAD]', -5), ('的', '[PAD]', -5)]\n",
      "[('港點的表現', '蠻不錯', 6), ('湯汁', '微酸的', 6), ('魚肉', '微酸的', 6)]\n",
      "{('肉', '脆', 6)}\n",
      "[('[CLS]港', '[PAD]', 5), ('點', '[PAD]', 5), ('的', '[PAD]', 5)]\n",
      "[('港點的表現', '蠻不錯', 6), ('湯汁', '微酸的', 6), ('魚肉', '微酸的', 6)]\n",
      "{('肉', '嫩', 6), ('肉', '脆', 5)}\n",
      "Top 3 predicted triplets appended to ./log/pred_triplets_output.txt.\n",
      "Val Loss: 0.3190280943061225, binary_f1: 0.0004, v_f1: 0.0001, a_f1: 0.0002, F1-score: 0.0000\n",
      "验证损失未改善，耐心值计数：2\n"
     ]
    },
    {
     "name": "stderr",
     "output_type": "stream",
     "text": [
      "100%|██████████| 137/137 [00:22<00:00,  6.07it/s]\n"
     ]
    },
    {
     "name": "stdout",
     "output_type": "stream",
     "text": [
      "Epoch 34, Average Loss: 0.2479676123586123, Learning Rate: 3.4000000000000003e-07\n"
     ]
    },
    {
     "name": "stderr",
     "output_type": "stream",
     "text": [
      "100%|██████████| 35/35 [00:16<00:00,  2.12it/s]\n"
     ]
    },
    {
     "name": "stdout",
     "output_type": "stream",
     "text": [
      "[('[CLS]港', '[PAD]'), ('點', '[PAD]'), ('的', '[PAD]')]\n",
      "[('港點的表現', '蠻不錯'), ('湯汁', '微酸的'), ('魚肉', '微酸的')]\n",
      "{('肉', '嫩'), ('肉', '脆'), ('皮', '脆')}\n",
      "[('[CLS]港', '[PAD]', -5), ('點', '[PAD]', -5), ('的', '[PAD]', -5)]\n",
      "[('港點的表現', '蠻不錯', 6), ('湯汁', '微酸的', 6), ('魚肉', '微酸的', 6)]\n",
      "{('肉', '脆', 6)}\n",
      "[('[CLS]港', '[PAD]', 6), ('點', '[PAD]', 6), ('的', '[PAD]', 6)]\n",
      "[('港點的表現', '蠻不錯', 6), ('湯汁', '微酸的', 6), ('魚肉', '微酸的', 6)]\n",
      "{('肉', '嫩', 6), ('肉', '脆', 5), ('皮', '脆', 6)}\n",
      "Top 3 predicted triplets appended to ./log/pred_triplets_output.txt.\n",
      "Val Loss: 0.31947464392952885, binary_f1: 0.0004, v_f1: 0.0001, a_f1: 0.0003, F1-score: 0.0000\n",
      "验证损失未改善，耐心值计数：3\n"
     ]
    },
    {
     "name": "stderr",
     "output_type": "stream",
     "text": [
      "100%|██████████| 137/137 [00:22<00:00,  6.11it/s]\n"
     ]
    },
    {
     "name": "stdout",
     "output_type": "stream",
     "text": [
      "Epoch 35, Average Loss: 0.2825362342800673, Learning Rate: 3.5000000000000004e-07\n"
     ]
    },
    {
     "name": "stderr",
     "output_type": "stream",
     "text": [
      "100%|██████████| 35/35 [00:16<00:00,  2.12it/s]\n"
     ]
    },
    {
     "name": "stdout",
     "output_type": "stream",
     "text": [
      "[('[CLS]', '嫩的'), ('微', '嫩的'), ('酸', '嫩的')]\n",
      "[('港點的表現', '蠻不錯'), ('湯汁', '微酸的'), ('魚肉', '微酸的')]\n",
      "{('肉', '嫩'), ('肉', '脆'), ('皮', '脆')}\n",
      "[('[CLS]', '嫩的', 1), ('微', '嫩的', 1), ('酸', '嫩的', 1)]\n",
      "[('港點的表現', '蠻不錯', 6), ('湯汁', '微酸的', 6), ('魚肉', '微酸的', 6)]\n",
      "{('肉', '脆', 6)}\n",
      "[('[CLS]', '嫩的', 4), ('微', '嫩的', 4), ('酸', '嫩的', 4)]\n",
      "[('港點的表現', '蠻不錯', 6), ('湯汁', '微酸的', 6), ('魚肉', '微酸的', 6)]\n",
      "{('肉', '嫩', 6), ('肉', '脆', 5), ('皮', '脆', 6)}\n",
      "Top 3 predicted triplets appended to ./log/pred_triplets_output.txt.\n",
      "Val Loss: 0.31595690904983453, binary_f1: 0.0004, v_f1: 0.0001, a_f1: 0.0003, F1-score: 0.0000\n",
      "验证损失未改善，耐心值计数：4\n"
     ]
    },
    {
     "name": "stderr",
     "output_type": "stream",
     "text": [
      "100%|██████████| 137/137 [00:22<00:00,  6.08it/s]\n"
     ]
    },
    {
     "name": "stdout",
     "output_type": "stream",
     "text": [
      "Epoch 36, Average Loss: 0.22280156944562293, Learning Rate: 3.6e-07\n"
     ]
    },
    {
     "name": "stderr",
     "output_type": "stream",
     "text": [
      "100%|██████████| 35/35 [00:16<00:00,  2.10it/s]\n"
     ]
    },
    {
     "name": "stdout",
     "output_type": "stream",
     "text": [
      "[('[CLS]', '嫩'), ('微', '嫩'), ('酸', '嫩')]\n",
      "[('港點的表現', '蠻不錯'), ('湯汁', '微酸的'), ('魚肉', '微酸的')]\n",
      "{('肉', '嫩'), ('肉', '脆'), ('皮', '脆')}\n",
      "[('[CLS]', '嫩', 4), ('微', '嫩', 4), ('酸', '嫩', 4)]\n",
      "[('港點的表現', '蠻不錯', 6), ('湯汁', '微酸的', 6), ('魚肉', '微酸的', 6)]\n",
      "{('肉', '脆', 6)}\n",
      "[('[CLS]', '嫩', 4), ('微', '嫩', 4), ('酸', '嫩', 4)]\n",
      "[('港點的表現', '蠻不錯', 6), ('湯汁', '微酸的', 6), ('魚肉', '微酸的', 6)]\n",
      "{('肉', '嫩', 6), ('肉', '脆', 5), ('皮', '脆', 6)}\n",
      "Top 3 predicted triplets appended to ./log/pred_triplets_output.txt.\n",
      "Val Loss: 0.3143540202209676, binary_f1: 0.0004, v_f1: 0.0001, a_f1: 0.0003, F1-score: 0.0000\n"
     ]
    },
    {
     "name": "stderr",
     "output_type": "stream",
     "text": [
      "100%|██████████| 137/137 [00:22<00:00,  6.11it/s]\n"
     ]
    },
    {
     "name": "stdout",
     "output_type": "stream",
     "text": [
      "Epoch 37, Average Loss: 0.17442058474692196, Learning Rate: 3.7e-07\n"
     ]
    },
    {
     "name": "stderr",
     "output_type": "stream",
     "text": [
      "100%|██████████| 35/35 [00:18<00:00,  1.91it/s]\n"
     ]
    },
    {
     "name": "stdout",
     "output_type": "stream",
     "text": [
      "[('[CLS]', '嫩'), ('微', '嫩'), ('酸', '嫩')]\n",
      "[('港點的表現', '蠻不錯'), ('湯汁', '微酸的'), ('魚肉', '微酸的')]\n",
      "{('肉', '嫩'), ('肉', '脆'), ('皮', '脆')}\n",
      "[('[CLS]', '嫩', 4), ('微', '嫩', 4), ('酸', '嫩', 4)]\n",
      "[('港點的表現', '蠻不錯', 6), ('湯汁', '微酸的', 6), ('魚肉', '微酸的', 6)]\n",
      "{('肉', '脆', 6)}\n",
      "[('[CLS]', '嫩', 4), ('微', '嫩', 4), ('酸', '嫩', 4)]\n",
      "[('港點的表現', '蠻不錯', 6), ('湯汁', '微酸的', 6), ('魚肉', '微酸的', 6)]\n",
      "{('肉', '嫩', 6)}\n",
      "Top 3 predicted triplets appended to ./log/pred_triplets_output.txt.\n",
      "Val Loss: 0.3151408606832514, binary_f1: 0.0004, v_f1: 0.0001, a_f1: 0.0001, F1-score: 0.0000\n",
      "验证损失未改善，耐心值计数：1\n"
     ]
    },
    {
     "name": "stderr",
     "output_type": "stream",
     "text": [
      "100%|██████████| 137/137 [00:22<00:00,  6.02it/s]\n"
     ]
    },
    {
     "name": "stdout",
     "output_type": "stream",
     "text": [
      "Epoch 38, Average Loss: 0.18066455843776846, Learning Rate: 3.8e-07\n"
     ]
    },
    {
     "name": "stderr",
     "output_type": "stream",
     "text": [
      "100%|██████████| 35/35 [00:19<00:00,  1.83it/s]\n"
     ]
    },
    {
     "name": "stdout",
     "output_type": "stream",
     "text": [
      "[('[CLS]', '嫩'), ('微', '嫩'), ('酸', '嫩')]\n",
      "[('港點的表現', '蠻不錯'), ('湯汁', '微酸的'), ('魚肉', '微酸的')]\n",
      "{('肉', '嫩'), ('肉', '脆'), ('皮', '脆')}\n",
      "[('[CLS]', '嫩', 4), ('微', '嫩', 4), ('酸', '嫩', 4)]\n",
      "[('港點的表現', '蠻不錯', 6), ('湯汁', '微酸的', 6), ('魚肉', '微酸的', 6)]\n",
      "{('肉', '嫩', 6)}\n",
      "[('[CLS]', '嫩', 4), ('微', '嫩', 4), ('酸', '嫩', 4)]\n",
      "[('港點的表現', '蠻不錯', 6), ('湯汁', '微酸的', 6), ('魚肉', '微酸的', 6)]\n",
      "{('肉', '嫩', 6), ('肉', '脆', 5), ('皮', '脆', 6)}\n",
      "[('[CLS]', '嫩', 4, 4), ('微', '嫩', 4, 4), ('酸', '嫩', 4, 4)]\n",
      "[('港點的表現', '蠻不錯', 6, 6), ('湯汁', '微酸的', 6, 6), ('魚肉', '微酸的', 6, 6)]\n",
      "{('肉', '嫩', 6, 6)}\n",
      "Top 3 predicted triplets appended to ./log/pred_triplets_output.txt.\n",
      "Val Loss: 0.3186757506786047, binary_f1: 0.0004, v_f1: 0.0001, a_f1: 0.0003, F1-score: 0.0001\n",
      "验证损失未改善，耐心值计数：2\n"
     ]
    },
    {
     "name": "stderr",
     "output_type": "stream",
     "text": [
      "100%|██████████| 137/137 [00:22<00:00,  6.02it/s]\n"
     ]
    },
    {
     "name": "stdout",
     "output_type": "stream",
     "text": [
      "Epoch 39, Average Loss: 0.160545734388679, Learning Rate: 3.9e-07\n"
     ]
    },
    {
     "name": "stderr",
     "output_type": "stream",
     "text": [
      "100%|██████████| 35/35 [00:16<00:00,  2.11it/s]\n"
     ]
    },
    {
     "name": "stdout",
     "output_type": "stream",
     "text": [
      "[('[CLS]', '嫩'), ('微', '嫩'), ('酸', '嫩')]\n",
      "[('港點的表現', '蠻不錯'), ('湯汁', '微酸的'), ('魚肉', '微酸的')]\n",
      "{('肉', '嫩'), ('肉', '脆'), ('皮', '脆')}\n",
      "[('[CLS]', '嫩', 5), ('微', '嫩', 5), ('酸', '嫩', 5)]\n",
      "[('港點的表現', '蠻不錯', 6), ('湯汁', '微酸的', 6), ('魚肉', '微酸的', 6)]\n",
      "{('肉', '嫩', 6)}\n",
      "[('[CLS]', '嫩', 3), ('微', '嫩', 3), ('酸', '嫩', 3)]\n",
      "[('港點的表現', '蠻不錯', 6), ('湯汁', '微酸的', 6), ('魚肉', '微酸的', 6)]\n",
      "{('肉', '嫩', 6)}\n",
      "[('[CLS]', '嫩', 5, 3), ('微', '嫩', 5, 3), ('酸', '嫩', 5, 3)]\n",
      "[('港點的表現', '蠻不錯', 6, 6), ('湯汁', '微酸的', 6, 6), ('魚肉', '微酸的', 6, 6)]\n",
      "{('肉', '嫩', 6, 6)}\n",
      "Top 3 predicted triplets appended to ./log/pred_triplets_output.txt.\n",
      "Val Loss: 0.31986911727913786, binary_f1: 0.0004, v_f1: 0.0001, a_f1: 0.0001, F1-score: 0.0001\n",
      "验证损失未改善，耐心值计数：3\n"
     ]
    },
    {
     "name": "stderr",
     "output_type": "stream",
     "text": [
      "100%|██████████| 137/137 [00:22<00:00,  6.16it/s]\n"
     ]
    },
    {
     "name": "stdout",
     "output_type": "stream",
     "text": [
      "Epoch 40, Average Loss: 0.25657275333375174, Learning Rate: 4.0000000000000003e-07\n"
     ]
    },
    {
     "name": "stderr",
     "output_type": "stream",
     "text": [
      "100%|██████████| 35/35 [00:16<00:00,  2.14it/s]\n"
     ]
    },
    {
     "name": "stdout",
     "output_type": "stream",
     "text": [
      "[('[CLS]', '嫩'), ('微', '嫩'), ('酸', '嫩')]\n",
      "[('港點的表現', '蠻不錯'), ('湯汁', '微酸的'), ('魚肉', '微酸的')]\n",
      "{('肉', '嫩'), ('肉', '脆'), ('皮', '脆')}\n",
      "[('[CLS]', '嫩', 5), ('微', '嫩', 5), ('酸', '嫩', 5)]\n",
      "[('港點的表現', '蠻不錯', 6), ('湯汁', '微酸的', 6), ('魚肉', '微酸的', 6)]\n",
      "{('肉', '嫩', 6), ('肉', '脆', 6)}\n",
      "[('[CLS]', '嫩', 3), ('微', '嫩', 3), ('酸', '嫩', 3)]\n",
      "[('港點的表現', '蠻不錯', 6), ('湯汁', '微酸的', 6), ('魚肉', '微酸的', 6)]\n",
      "{('肉', '嫩', 6)}\n",
      "[('[CLS]', '嫩', 5, 3), ('微', '嫩', 5, 3), ('酸', '嫩', 5, 3)]\n",
      "[('港點的表現', '蠻不錯', 6, 6), ('湯汁', '微酸的', 6, 6), ('魚肉', '微酸的', 6, 6)]\n",
      "{('肉', '嫩', 6, 6)}\n",
      "Top 3 predicted triplets appended to ./log/pred_triplets_output.txt.\n",
      "Val Loss: 0.31271147769751095, binary_f1: 0.0004, v_f1: 0.0002, a_f1: 0.0001, F1-score: 0.0001\n"
     ]
    },
    {
     "name": "stderr",
     "output_type": "stream",
     "text": [
      "100%|██████████| 137/137 [00:22<00:00,  6.13it/s]\n"
     ]
    },
    {
     "name": "stdout",
     "output_type": "stream",
     "text": [
      "Epoch 41, Average Loss: 0.20232887413135192, Learning Rate: 4.1000000000000004e-07\n"
     ]
    },
    {
     "name": "stderr",
     "output_type": "stream",
     "text": [
      "100%|██████████| 35/35 [00:16<00:00,  2.14it/s]\n"
     ]
    },
    {
     "name": "stdout",
     "output_type": "stream",
     "text": [
      "[('[CLS]', '肉'), ('微', '肉'), ('酸', '肉')]\n",
      "[('港點的表現', '蠻不錯'), ('湯汁', '微酸的'), ('魚肉', '微酸的')]\n",
      "{('肉', '嫩'), ('肉', '脆'), ('皮', '脆')}\n",
      "[('[CLS]', '肉', 2), ('微', '肉', 2), ('酸', '肉', 2)]\n",
      "[('港點的表現', '蠻不錯', 6), ('湯汁', '微酸的', 6), ('魚肉', '微酸的', 6)]\n",
      "{('肉', '脆', 6)}\n",
      "[('[CLS]', '肉', 3), ('微', '肉', 3), ('酸', '肉', 3)]\n",
      "[('港點的表現', '蠻不錯', 6), ('湯汁', '微酸的', 6), ('魚肉', '微酸的', 6)]\n",
      "{('肉', '嫩', 6)}\n",
      "Top 3 predicted triplets appended to ./log/pred_triplets_output.txt.\n",
      "Val Loss: 0.31342058576826404, binary_f1: 0.0004, v_f1: 0.0001, a_f1: 0.0001, F1-score: 0.0000\n",
      "验证损失未改善，耐心值计数：1\n"
     ]
    },
    {
     "name": "stderr",
     "output_type": "stream",
     "text": [
      "100%|██████████| 137/137 [00:21<00:00,  6.23it/s]\n"
     ]
    },
    {
     "name": "stdout",
     "output_type": "stream",
     "text": [
      "Epoch 42, Average Loss: 0.23084505375331935, Learning Rate: 4.2000000000000006e-07\n"
     ]
    },
    {
     "name": "stderr",
     "output_type": "stream",
     "text": [
      "100%|██████████| 35/35 [00:16<00:00,  2.15it/s]\n"
     ]
    },
    {
     "name": "stdout",
     "output_type": "stream",
     "text": [
      "[('[CLS]', '肉'), ('微', '肉'), ('酸', '肉')]\n",
      "[('港點的表現', '蠻不錯'), ('湯汁', '微酸的'), ('魚肉', '微酸的')]\n",
      "{('肉', '嫩'), ('肉', '脆'), ('皮', '脆')}\n",
      "[('[CLS]', '肉', 3), ('微', '肉', 3), ('酸', '肉', 3)]\n",
      "[('港點的表現', '蠻不錯', 6), ('湯汁', '微酸的', 6), ('魚肉', '微酸的', 6)]\n",
      "{('肉', '嫩', 6)}\n",
      "[('[CLS]', '肉', 3), ('微', '肉', 3), ('酸', '肉', 3)]\n",
      "[('港點的表現', '蠻不錯', 6), ('湯汁', '微酸的', 6), ('魚肉', '微酸的', 6)]\n",
      "{('肉', '嫩', 6)}\n",
      "[('[CLS]', '肉', 3, 3), ('微', '肉', 3, 3), ('酸', '肉', 3, 3)]\n",
      "[('港點的表現', '蠻不錯', 6, 6), ('湯汁', '微酸的', 6, 6), ('魚肉', '微酸的', 6, 6)]\n",
      "{('肉', '嫩', 6, 6)}\n",
      "Top 3 predicted triplets appended to ./log/pred_triplets_output.txt.\n",
      "Val Loss: 0.3135441285691091, binary_f1: 0.0005, v_f1: 0.0001, a_f1: 0.0001, F1-score: 0.0001\n",
      "验证损失未改善，耐心值计数：2\n"
     ]
    },
    {
     "name": "stderr",
     "output_type": "stream",
     "text": [
      "100%|██████████| 137/137 [00:22<00:00,  6.14it/s]\n"
     ]
    },
    {
     "name": "stdout",
     "output_type": "stream",
     "text": [
      "Epoch 43, Average Loss: 0.27174021914111873, Learning Rate: 4.3e-07\n"
     ]
    },
    {
     "name": "stderr",
     "output_type": "stream",
     "text": [
      "100%|██████████| 35/35 [00:16<00:00,  2.17it/s]\n"
     ]
    },
    {
     "name": "stdout",
     "output_type": "stream",
     "text": [
      "[('[CLS]', '肉'), ('微', '肉'), ('酸', '肉')]\n",
      "[('港點的表現', '蠻不錯'), ('湯汁', '微酸的'), ('魚肉', '微酸的')]\n",
      "{('肉', '嫩'), ('肉', '脆'), ('皮', '脆')}\n",
      "[('[CLS]', '肉', 3), ('微', '肉', 3), ('酸', '肉', 3)]\n",
      "[('港點的表現', '蠻不錯', 6), ('湯汁', '微酸的', 6), ('魚肉', '微酸的', 6)]\n",
      "{('肉', '嫩', 6), ('肉', '脆', 6)}\n",
      "[('[CLS]', '肉', 3), ('微', '肉', 3), ('酸', '肉', 3)]\n",
      "[('港點的表現', '蠻不錯', 6), ('湯汁', '微酸的', 6), ('魚肉', '微酸的', 6)]\n",
      "{('肉', '嫩', 6), ('肉', '脆', 5)}\n",
      "Top 3 predicted triplets appended to ./log/pred_triplets_output.txt.\n",
      "Val Loss: 0.3115498337898836, binary_f1: 0.0005, v_f1: 0.0003, a_f1: 0.0003, F1-score: 0.0000\n"
     ]
    },
    {
     "name": "stderr",
     "output_type": "stream",
     "text": [
      "100%|██████████| 137/137 [00:22<00:00,  6.17it/s]\n"
     ]
    },
    {
     "name": "stdout",
     "output_type": "stream",
     "text": [
      "Epoch 44, Average Loss: 0.1374358012609483, Learning Rate: 4.4e-07\n"
     ]
    },
    {
     "name": "stderr",
     "output_type": "stream",
     "text": [
      "100%|██████████| 35/35 [00:16<00:00,  2.19it/s]\n"
     ]
    },
    {
     "name": "stdout",
     "output_type": "stream",
     "text": [
      "[('[CLS]', '肉'), ('微', '肉'), ('酸', '肉')]\n",
      "[('港點的表現', '蠻不錯'), ('湯汁', '微酸的'), ('魚肉', '微酸的')]\n",
      "{('肉', '嫩'), ('肉', '脆'), ('皮', '脆')}\n",
      "[('[CLS]', '肉', 3), ('微', '肉', 3), ('酸', '肉', 3)]\n",
      "[('港點的表現', '蠻不錯', 6), ('湯汁', '微酸的', 6), ('魚肉', '微酸的', 6)]\n",
      "{('肉', '嫩', 6), ('肉', '脆', 6)}\n",
      "[('[CLS]', '肉', 3), ('微', '肉', 3), ('酸', '肉', 3)]\n",
      "[('港點的表現', '蠻不錯', 6), ('湯汁', '微酸的', 6), ('魚肉', '微酸的', 6)]\n",
      "{('肉', '脆', 5)}\n",
      "Top 3 predicted triplets appended to ./log/pred_triplets_output.txt.\n",
      "Val Loss: 0.31288281216319386, binary_f1: 0.0005, v_f1: 0.0003, a_f1: 0.0001, F1-score: 0.0000\n",
      "验证损失未改善，耐心值计数：1\n"
     ]
    },
    {
     "name": "stderr",
     "output_type": "stream",
     "text": [
      "100%|██████████| 137/137 [00:22<00:00,  6.12it/s]\n"
     ]
    },
    {
     "name": "stdout",
     "output_type": "stream",
     "text": [
      "Epoch 45, Average Loss: 0.1823245551841619, Learning Rate: 4.5000000000000003e-07\n"
     ]
    },
    {
     "name": "stderr",
     "output_type": "stream",
     "text": [
      "100%|██████████| 35/35 [00:16<00:00,  2.18it/s]\n"
     ]
    },
    {
     "name": "stdout",
     "output_type": "stream",
     "text": [
      "[('[CLS]', '肉'), ('微', '肉'), ('酸', '肉')]\n",
      "[('港點的表現', '蠻不錯'), ('湯汁', '微酸的'), ('魚肉', '微酸的')]\n",
      "{('肉', '嫩'), ('肉', '脆'), ('皮', '脆')}\n",
      "[('[CLS]', '肉', 2), ('微', '肉', 2), ('酸', '肉', 2)]\n",
      "[('港點的表現', '蠻不錯', 6), ('湯汁', '微酸的', 6), ('魚肉', '微酸的', 6)]\n",
      "{('肉', '嫩', 6), ('肉', '脆', 6)}\n",
      "[('[CLS]', '肉', 4), ('微', '肉', 4), ('酸', '肉', 4)]\n",
      "[('港點的表現', '蠻不錯', 6), ('湯汁', '微酸的', 6), ('魚肉', '微酸的', 6)]\n",
      "{('肉', '脆', 5)}\n",
      "Top 3 predicted triplets appended to ./log/pred_triplets_output.txt.\n",
      "Val Loss: 0.31507998746404026, binary_f1: 0.0005, v_f1: 0.0003, a_f1: 0.0002, F1-score: 0.0000\n",
      "验证损失未改善，耐心值计数：2\n"
     ]
    },
    {
     "name": "stderr",
     "output_type": "stream",
     "text": [
      "100%|██████████| 137/137 [00:22<00:00,  6.12it/s]\n"
     ]
    },
    {
     "name": "stdout",
     "output_type": "stream",
     "text": [
      "Epoch 46, Average Loss: 0.23919953930575782, Learning Rate: 4.6000000000000004e-07\n"
     ]
    },
    {
     "name": "stderr",
     "output_type": "stream",
     "text": [
      "100%|██████████| 35/35 [00:15<00:00,  2.20it/s]\n"
     ]
    },
    {
     "name": "stdout",
     "output_type": "stream",
     "text": [
      "[('[CLS]', '肉'), ('微', '肉'), ('酸', '肉')]\n",
      "[('港點的表現', '蠻不錯'), ('湯汁', '微酸的'), ('魚肉', '微酸的')]\n",
      "{('肉', '嫩'), ('肉', '脆'), ('皮', '脆')}\n",
      "[('[CLS]', '肉', 2), ('微', '肉', 2), ('酸', '肉', 2)]\n",
      "[('港點的表現', '蠻不錯', 6), ('湯汁', '微酸的', 6), ('魚肉', '微酸的', 6)]\n",
      "{('肉', '嫩', 6), ('肉', '脆', 6)}\n",
      "[('[CLS]', '肉', 4), ('微', '肉', 4), ('酸', '肉', 4)]\n",
      "[('港點的表現', '蠻不錯', 6), ('湯汁', '微酸的', 6), ('魚肉', '微酸的', 6)]\n",
      "{('肉', '脆', 5)}\n",
      "Top 3 predicted triplets appended to ./log/pred_triplets_output.txt.\n",
      "Val Loss: 0.31603106568633976, binary_f1: 0.0005, v_f1: 0.0003, a_f1: 0.0002, F1-score: 0.0000\n",
      "验证损失未改善，耐心值计数：3\n"
     ]
    },
    {
     "name": "stderr",
     "output_type": "stream",
     "text": [
      "100%|██████████| 137/137 [00:21<00:00,  6.28it/s]\n"
     ]
    },
    {
     "name": "stdout",
     "output_type": "stream",
     "text": [
      "Epoch 47, Average Loss: 0.16482998189315826, Learning Rate: 4.7000000000000005e-07\n"
     ]
    },
    {
     "name": "stderr",
     "output_type": "stream",
     "text": [
      "100%|██████████| 35/35 [00:16<00:00,  2.16it/s]\n"
     ]
    },
    {
     "name": "stdout",
     "output_type": "stream",
     "text": [
      "[('[CLS]', '肉'), ('微', '肉'), ('酸', '肉')]\n",
      "[('港點的表現', '蠻不錯'), ('湯汁', '微酸的'), ('魚肉', '微酸的')]\n",
      "{('肉', '嫩'), ('肉', '脆'), ('皮', '脆')}\n",
      "[('[CLS]', '肉', 2), ('微', '肉', 2), ('酸', '肉', 2)]\n",
      "[('港點的表現', '蠻不錯', 6), ('湯汁', '微酸的', 6), ('魚肉', '微酸的', 6)]\n",
      "{('肉', '嫩', 6)}\n",
      "Top 3 predicted triplets appended to ./log/pred_triplets_output.txt.\n",
      "Val Loss: 0.3153653865996083, binary_f1: 0.0005, v_f1: 0.0002, a_f1: 0.0000, F1-score: 0.0000\n",
      "验证损失未改善，耐心值计数：4\n"
     ]
    },
    {
     "name": "stderr",
     "output_type": "stream",
     "text": [
      "100%|██████████| 137/137 [00:22<00:00,  6.15it/s]\n"
     ]
    },
    {
     "name": "stdout",
     "output_type": "stream",
     "text": [
      "Epoch 48, Average Loss: 0.28953636255978615, Learning Rate: 4.800000000000001e-07\n"
     ]
    },
    {
     "name": "stderr",
     "output_type": "stream",
     "text": [
      "100%|██████████| 35/35 [00:16<00:00,  2.18it/s]\n"
     ]
    },
    {
     "name": "stdout",
     "output_type": "stream",
     "text": [
      "[('[CLS]', '肉'), ('微', '肉'), ('酸', '肉')]\n",
      "[('港點的表現', '蠻不錯'), ('湯汁', '微酸的'), ('魚肉', '微酸的')]\n",
      "{('肉', '嫩'), ('肉', '脆'), ('皮', '脆')}\n",
      "[('[CLS]', '肉', 2), ('微', '肉', 2), ('酸', '肉', 2)]\n",
      "[('港點的表現', '蠻不錯', 6), ('湯汁', '微酸的', 6), ('魚肉', '微酸的', 6)]\n",
      "{('肉', '嫩', 6), ('肉', '脆', 6)}\n",
      "Top 3 predicted triplets appended to ./log/pred_triplets_output.txt.\n",
      "Val Loss: 0.3109111232317186, binary_f1: 0.0005, v_f1: 0.0003, a_f1: 0.0000, F1-score: 0.0000\n",
      "验证损失未改善，耐心值计数：5\n"
     ]
    },
    {
     "name": "stderr",
     "output_type": "stream",
     "text": [
      "100%|██████████| 137/137 [00:22<00:00,  6.18it/s]\n"
     ]
    },
    {
     "name": "stdout",
     "output_type": "stream",
     "text": [
      "Epoch 49, Average Loss: 0.18710928494416612, Learning Rate: 4.900000000000001e-07\n"
     ]
    },
    {
     "name": "stderr",
     "output_type": "stream",
     "text": [
      "100%|██████████| 35/35 [00:16<00:00,  2.15it/s]\n"
     ]
    },
    {
     "name": "stdout",
     "output_type": "stream",
     "text": [
      "[('[CLS]', '肉'), ('微', '肉'), ('酸', '肉')]\n",
      "[('港點的表現', '蠻不錯'), ('湯汁', '微酸的'), ('魚肉', '微酸的')]\n",
      "{('肉', '嫩'), ('肉', '脆'), ('皮', '脆')}\n",
      "[('[CLS]', '肉', 3), ('微', '肉', 3), ('酸', '肉', 3)]\n",
      "[('港點的表現', '蠻不錯', 6), ('湯汁', '微酸的', 6), ('魚肉', '微酸的', 6)]\n",
      "{('肉', '嫩', 6), ('肉', '脆', 6)}\n",
      "Top 3 predicted triplets appended to ./log/pred_triplets_output.txt.\n",
      "Val Loss: 0.30700011089543944, binary_f1: 0.0005, v_f1: 0.0003, a_f1: 0.0000, F1-score: 0.0000\n"
     ]
    },
    {
     "name": "stderr",
     "output_type": "stream",
     "text": [
      "100%|██████████| 137/137 [00:21<00:00,  6.23it/s]\n"
     ]
    },
    {
     "name": "stdout",
     "output_type": "stream",
     "text": [
      "Epoch 50, Average Loss: 0.20249891328586292, Learning Rate: 5.000000000000001e-07\n"
     ]
    },
    {
     "name": "stderr",
     "output_type": "stream",
     "text": [
      "100%|██████████| 35/35 [00:15<00:00,  2.19it/s]\n"
     ]
    },
    {
     "name": "stdout",
     "output_type": "stream",
     "text": [
      "[('[CLS]', '肉'), ('微', '肉'), ('酸', '肉')]\n",
      "[('港點的表現', '蠻不錯'), ('湯汁', '微酸的'), ('魚肉', '微酸的')]\n",
      "{('肉', '嫩'), ('肉', '脆'), ('皮', '脆')}\n",
      "[('[CLS]', '肉', 3), ('微', '肉', 3), ('酸', '肉', 3)]\n",
      "[('港點的表現', '蠻不錯', 6), ('湯汁', '微酸的', 6), ('魚肉', '微酸的', 6)]\n",
      "{('肉', '嫩', 6), ('肉', '脆', 6)}\n",
      "Top 3 predicted triplets appended to ./log/pred_triplets_output.txt.\n",
      "Val Loss: 0.3048899377590195, binary_f1: 0.0005, v_f1: 0.0003, a_f1: 0.0000, F1-score: 0.0000\n"
     ]
    },
    {
     "name": "stderr",
     "output_type": "stream",
     "text": [
      "100%|██████████| 137/137 [00:21<00:00,  6.30it/s]\n"
     ]
    },
    {
     "name": "stdout",
     "output_type": "stream",
     "text": [
      "Epoch 51, Average Loss: 0.174804573509006, Learning Rate: 5.1e-07\n"
     ]
    },
    {
     "name": "stderr",
     "output_type": "stream",
     "text": [
      "100%|██████████| 35/35 [00:16<00:00,  2.16it/s]\n"
     ]
    },
    {
     "name": "stdout",
     "output_type": "stream",
     "text": [
      "[('[CLS]', '肉'), ('微', '肉'), ('酸', '肉')]\n",
      "[('港點的表現', '蠻不錯'), ('湯汁', '微酸的'), ('魚肉', '微酸的')]\n",
      "{('肉', '嫩'), ('肉', '脆'), ('皮', '脆')}\n",
      "[('[CLS]', '肉', 3), ('微', '肉', 3), ('酸', '肉', 3)]\n",
      "[('港點的表現', '蠻不錯', 6), ('湯汁', '微酸的', 6), ('魚肉', '微酸的', 6)]\n",
      "{('肉', '嫩', 6), ('肉', '脆', 6)}\n",
      "Top 3 predicted triplets appended to ./log/pred_triplets_output.txt.\n",
      "Val Loss: 0.3059117372954331, binary_f1: 0.0005, v_f1: 0.0003, a_f1: 0.0000, F1-score: 0.0000\n",
      "验证损失未改善，耐心值计数：1\n"
     ]
    },
    {
     "name": "stderr",
     "output_type": "stream",
     "text": [
      "100%|██████████| 137/137 [00:21<00:00,  6.26it/s]\n"
     ]
    },
    {
     "name": "stdout",
     "output_type": "stream",
     "text": [
      "Epoch 52, Average Loss: 0.17663215134925053, Learning Rate: 5.2e-07\n"
     ]
    },
    {
     "name": "stderr",
     "output_type": "stream",
     "text": [
      "100%|██████████| 35/35 [00:16<00:00,  2.15it/s]\n"
     ]
    },
    {
     "name": "stdout",
     "output_type": "stream",
     "text": [
      "[('[CLS]', '肉'), ('微', '肉'), ('酸', '肉')]\n",
      "[('港點的表現', '蠻不錯'), ('湯汁', '微酸的'), ('魚肉', '微酸的')]\n",
      "{('肉', '嫩'), ('肉', '脆'), ('皮', '脆')}\n",
      "[('[CLS]', '肉', 3), ('微', '肉', 3), ('酸', '肉', 3)]\n",
      "[('港點的表現', '蠻不錯', 6), ('湯汁', '微酸的', 6), ('魚肉', '微酸的', 6)]\n",
      "{('肉', '嫩', 6), ('肉', '脆', 6)}\n",
      "Top 3 predicted triplets appended to ./log/pred_triplets_output.txt.\n",
      "Val Loss: 0.3057547702487292, binary_f1: 0.0005, v_f1: 0.0003, a_f1: 0.0000, F1-score: 0.0000\n",
      "验证损失未改善，耐心值计数：2\n"
     ]
    },
    {
     "name": "stderr",
     "output_type": "stream",
     "text": [
      "100%|██████████| 137/137 [00:21<00:00,  6.23it/s]\n"
     ]
    },
    {
     "name": "stdout",
     "output_type": "stream",
     "text": [
      "Epoch 53, Average Loss: 0.22232135893423519, Learning Rate: 5.3e-07\n"
     ]
    },
    {
     "name": "stderr",
     "output_type": "stream",
     "text": [
      "100%|██████████| 35/35 [00:15<00:00,  2.20it/s]\n"
     ]
    },
    {
     "name": "stdout",
     "output_type": "stream",
     "text": [
      "[('[CLS]', '肉'), ('微', '肉'), ('酸', '肉')]\n",
      "[('港點的表現', '蠻不錯'), ('湯汁', '微酸的'), ('魚肉', '微酸的')]\n",
      "{('肉', '嫩'), ('肉', '脆'), ('皮', '脆')}\n",
      "[('[CLS]', '肉', 3), ('微', '肉', 3), ('酸', '肉', 3)]\n",
      "[('港點的表現', '蠻不錯', 6), ('湯汁', '微酸的', 6), ('魚肉', '微酸的', 6)]\n",
      "{('肉', '嫩', 6), ('肉', '脆', 6)}\n",
      "Top 3 predicted triplets appended to ./log/pred_triplets_output.txt.\n",
      "Val Loss: 0.30491940553277214, binary_f1: 0.0005, v_f1: 0.0003, a_f1: 0.0000, F1-score: 0.0000\n",
      "验证损失未改善，耐心值计数：3\n"
     ]
    },
    {
     "name": "stderr",
     "output_type": "stream",
     "text": [
      "100%|██████████| 137/137 [00:22<00:00,  6.22it/s]\n"
     ]
    },
    {
     "name": "stdout",
     "output_type": "stream",
     "text": [
      "Epoch 54, Average Loss: 0.194138670103101, Learning Rate: 5.4e-07\n"
     ]
    },
    {
     "name": "stderr",
     "output_type": "stream",
     "text": [
      "100%|██████████| 35/35 [00:16<00:00,  2.17it/s]\n"
     ]
    },
    {
     "name": "stdout",
     "output_type": "stream",
     "text": [
      "[('[CLS]', '肉'), ('微', '肉'), ('酸', '肉')]\n",
      "[('港點的表現', '蠻不錯'), ('湯汁', '微酸的'), ('魚肉', '微酸的')]\n",
      "{('肉', '嫩'), ('肉', '脆'), ('皮', '脆')}\n",
      "[('[CLS]', '肉', 3), ('微', '肉', 3), ('酸', '肉', 3)]\n",
      "[('港點的表現', '蠻不錯', 6), ('湯汁', '微酸的', 6), ('魚肉', '微酸的', 6)]\n",
      "{('肉', '嫩', 6), ('肉', '脆', 6)}\n",
      "Top 3 predicted triplets appended to ./log/pred_triplets_output.txt.\n",
      "Val Loss: 0.3040235701133497, binary_f1: 0.0006, v_f1: 0.0003, a_f1: 0.0000, F1-score: 0.0000\n",
      "验证损失未改善，耐心值计数：4\n"
     ]
    },
    {
     "name": "stderr",
     "output_type": "stream",
     "text": [
      "100%|██████████| 137/137 [00:22<00:00,  6.20it/s]\n"
     ]
    },
    {
     "name": "stdout",
     "output_type": "stream",
     "text": [
      "Epoch 55, Average Loss: 0.07376377494924151, Learning Rate: 5.5e-07\n"
     ]
    },
    {
     "name": "stderr",
     "output_type": "stream",
     "text": [
      "100%|██████████| 35/35 [00:16<00:00,  2.17it/s]\n"
     ]
    },
    {
     "name": "stdout",
     "output_type": "stream",
     "text": [
      "[('[CLS]', '肉'), ('微', '肉'), ('酸', '肉')]\n",
      "[('港點的表現', '蠻不錯'), ('湯汁', '微酸的'), ('魚肉', '微酸的')]\n",
      "{('肉', '嫩'), ('肉', '脆'), ('皮', '脆')}\n",
      "[('[CLS]', '肉', 2), ('微', '肉', 2), ('酸', '肉', 2)]\n",
      "[('港點的表現', '蠻不錯', 6), ('湯汁', '微酸的', 6), ('魚肉', '微酸的', 6)]\n",
      "{('肉', '嫩', 6)}\n",
      "Top 3 predicted triplets appended to ./log/pred_triplets_output.txt.\n",
      "Val Loss: 0.30823350912084735, binary_f1: 0.0006, v_f1: 0.0002, a_f1: 0.0000, F1-score: 0.0000\n",
      "验证损失未改善，耐心值计数：5\n"
     ]
    },
    {
     "name": "stderr",
     "output_type": "stream",
     "text": [
      "100%|██████████| 137/137 [00:21<00:00,  6.24it/s]\n"
     ]
    },
    {
     "name": "stdout",
     "output_type": "stream",
     "text": [
      "Epoch 56, Average Loss: 0.16954933568991612, Learning Rate: 5.6e-07\n"
     ]
    },
    {
     "name": "stderr",
     "output_type": "stream",
     "text": [
      "100%|██████████| 35/35 [00:16<00:00,  2.14it/s]\n"
     ]
    },
    {
     "name": "stdout",
     "output_type": "stream",
     "text": [
      "[('[CLS]', '肉'), ('微', '肉'), ('酸', '肉')]\n",
      "[('港點的表現', '蠻不錯'), ('湯汁', '微酸的'), ('魚肉', '微酸的')]\n",
      "{('肉', '嫩'), ('肉', '脆'), ('皮', '脆')}\n",
      "[('[CLS]', '肉', 2), ('微', '肉', 2), ('酸', '肉', 2)]\n",
      "[('港點的表現', '蠻不錯', 6), ('湯汁', '微酸的', 6), ('魚肉', '微酸的', 6)]\n",
      "{('肉', '嫩', 6)}\n",
      "Top 3 predicted triplets appended to ./log/pred_triplets_output.txt.\n",
      "Val Loss: 0.30993357945699246, binary_f1: 0.0006, v_f1: 0.0002, a_f1: 0.0000, F1-score: 0.0000\n",
      "验证损失未改善，耐心值计数：6\n"
     ]
    },
    {
     "name": "stderr",
     "output_type": "stream",
     "text": [
      "100%|██████████| 137/137 [00:21<00:00,  6.28it/s]\n"
     ]
    },
    {
     "name": "stdout",
     "output_type": "stream",
     "text": [
      "Epoch 57, Average Loss: 0.24682878570063516, Learning Rate: 5.7e-07\n"
     ]
    },
    {
     "name": "stderr",
     "output_type": "stream",
     "text": [
      "100%|██████████| 35/35 [00:16<00:00,  2.18it/s]\n"
     ]
    },
    {
     "name": "stdout",
     "output_type": "stream",
     "text": [
      "[('[CLS]', '肉'), ('微', '肉'), ('酸', '肉')]\n",
      "[('港點的表現', '蠻不錯'), ('湯汁', '微酸的'), ('魚肉', '微酸的')]\n",
      "{('肉', '嫩'), ('肉', '脆'), ('皮', '脆')}\n",
      "[('[CLS]', '肉', 2), ('微', '肉', 2), ('酸', '肉', 2)]\n",
      "[('港點的表現', '蠻不錯', 6), ('湯汁', '微酸的', 6), ('魚肉', '微酸的', 6)]\n",
      "{('肉', '嫩', 6)}\n",
      "Top 3 predicted triplets appended to ./log/pred_triplets_output.txt.\n",
      "Val Loss: 0.3070817395645593, binary_f1: 0.0006, v_f1: 0.0002, a_f1: 0.0000, F1-score: 0.0000\n",
      "验证损失未改善，耐心值计数：7\n"
     ]
    },
    {
     "name": "stderr",
     "output_type": "stream",
     "text": [
      "100%|██████████| 137/137 [00:21<00:00,  6.23it/s]\n"
     ]
    },
    {
     "name": "stdout",
     "output_type": "stream",
     "text": [
      "Epoch 58, Average Loss: 0.2883675771605658, Learning Rate: 5.800000000000001e-07\n"
     ]
    },
    {
     "name": "stderr",
     "output_type": "stream",
     "text": [
      "100%|██████████| 35/35 [00:15<00:00,  2.19it/s]\n"
     ]
    },
    {
     "name": "stdout",
     "output_type": "stream",
     "text": [
      "[('[CLS]', '肉'), ('微', '肉'), ('酸', '肉')]\n",
      "[('港點的表現', '蠻不錯'), ('湯汁', '微酸的'), ('魚肉', '微酸的')]\n",
      "{('肉', '嫩'), ('肉', '脆'), ('皮', '脆')}\n",
      "[('[CLS]', '肉', 3), ('微', '肉', 3), ('酸', '肉', 3)]\n",
      "[('港點的表現', '蠻不錯', 6), ('湯汁', '微酸的', 6), ('魚肉', '微酸的', 6)]\n",
      "{('肉', '嫩', 6)}\n",
      "Top 3 predicted triplets appended to ./log/pred_triplets_output.txt.\n",
      "Val Loss: 0.30246196000121667, binary_f1: 0.0006, v_f1: 0.0002, a_f1: 0.0000, F1-score: 0.0000\n"
     ]
    },
    {
     "name": "stderr",
     "output_type": "stream",
     "text": [
      "100%|██████████| 137/137 [00:22<00:00,  6.21it/s]\n"
     ]
    },
    {
     "name": "stdout",
     "output_type": "stream",
     "text": [
      "Epoch 59, Average Loss: 0.30639757436868414, Learning Rate: 5.900000000000001e-07\n"
     ]
    },
    {
     "name": "stderr",
     "output_type": "stream",
     "text": [
      "100%|██████████| 35/35 [00:16<00:00,  2.17it/s]\n"
     ]
    },
    {
     "name": "stdout",
     "output_type": "stream",
     "text": [
      "[('[CLS]', '肉'), ('微', '肉'), ('酸', '肉')]\n",
      "[('港點的表現', '蠻不錯'), ('湯汁', '微酸的'), ('魚肉', '微酸的')]\n",
      "{('肉', '嫩'), ('肉', '脆'), ('皮', '脆')}\n",
      "[('[CLS]', '肉', 2), ('微', '肉', 2), ('酸', '肉', 2)]\n",
      "[('港點的表現', '蠻不錯', 6), ('湯汁', '微酸的', 6), ('魚肉', '微酸的', 6)]\n",
      "{('肉', '嫩', 6)}\n",
      "Top 3 predicted triplets appended to ./log/pred_triplets_output.txt.\n",
      "Val Loss: 0.301230829094337, binary_f1: 0.0006, v_f1: 0.0002, a_f1: 0.0000, F1-score: 0.0000\n"
     ]
    },
    {
     "name": "stderr",
     "output_type": "stream",
     "text": [
      "100%|██████████| 137/137 [00:21<00:00,  6.28it/s]\n"
     ]
    },
    {
     "name": "stdout",
     "output_type": "stream",
     "text": [
      "Epoch 60, Average Loss: 0.18105116993763287, Learning Rate: 6.000000000000001e-07\n"
     ]
    },
    {
     "name": "stderr",
     "output_type": "stream",
     "text": [
      "100%|██████████| 35/35 [00:16<00:00,  2.16it/s]\n"
     ]
    },
    {
     "name": "stdout",
     "output_type": "stream",
     "text": [
      "[('[CLS]', '肉'), ('微', '肉'), ('酸', '肉')]\n",
      "[('港點的表現', '蠻不錯'), ('湯汁', '微酸的'), ('魚肉', '微酸的')]\n",
      "{('肉', '嫩'), ('肉', '脆'), ('皮', '脆')}\n",
      "[('[CLS]', '肉', 2), ('微', '肉', 2), ('酸', '肉', 2)]\n",
      "[('港點的表現', '蠻不錯', 6), ('湯汁', '微酸的', 6), ('魚肉', '微酸的', 6)]\n",
      "{('肉', '嫩', 6)}\n",
      "Top 3 predicted triplets appended to ./log/pred_triplets_output.txt.\n",
      "Val Loss: 0.3047600344388879, binary_f1: 0.0006, v_f1: 0.0002, a_f1: 0.0000, F1-score: 0.0000\n",
      "验证损失未改善，耐心值计数：1\n"
     ]
    },
    {
     "name": "stderr",
     "output_type": "stream",
     "text": [
      "100%|██████████| 137/137 [00:22<00:00,  6.22it/s]\n"
     ]
    },
    {
     "name": "stdout",
     "output_type": "stream",
     "text": [
      "Epoch 61, Average Loss: 0.2068378757379514, Learning Rate: 6.100000000000001e-07\n"
     ]
    },
    {
     "name": "stderr",
     "output_type": "stream",
     "text": [
      "100%|██████████| 35/35 [00:16<00:00,  2.14it/s]\n"
     ]
    },
    {
     "name": "stdout",
     "output_type": "stream",
     "text": [
      "[('[CLS]', '肉'), ('微', '肉'), ('酸', '肉')]\n",
      "[('港點的表現', '蠻不錯'), ('湯汁', '微酸的'), ('魚肉', '微酸的')]\n",
      "{('肉', '嫩'), ('肉', '脆'), ('皮', '脆')}\n",
      "[('[CLS]', '肉', 2), ('微', '肉', 2), ('酸', '肉', 2)]\n",
      "[('港點的表現', '蠻不錯', 6), ('湯汁', '微酸的', 6), ('魚肉', '微酸的', 6)]\n",
      "{('肉', '嫩', 6)}\n",
      "Top 3 predicted triplets appended to ./log/pred_triplets_output.txt.\n",
      "Val Loss: 0.30223693793647854, binary_f1: 0.0007, v_f1: 0.0002, a_f1: 0.0000, F1-score: 0.0000\n",
      "验证损失未改善，耐心值计数：2\n"
     ]
    },
    {
     "name": "stderr",
     "output_type": "stream",
     "text": [
      "100%|██████████| 137/137 [00:22<00:00,  6.14it/s]\n"
     ]
    },
    {
     "name": "stdout",
     "output_type": "stream",
     "text": [
      "Epoch 62, Average Loss: 0.192302273288981, Learning Rate: 6.200000000000001e-07\n"
     ]
    },
    {
     "name": "stderr",
     "output_type": "stream",
     "text": [
      "100%|██████████| 35/35 [00:16<00:00,  2.15it/s]\n"
     ]
    },
    {
     "name": "stdout",
     "output_type": "stream",
     "text": [
      "[('[CLS]', '肉'), ('微', '肉'), ('酸', '肉')]\n",
      "[('港點的表現', '蠻不錯'), ('湯汁', '微酸的'), ('魚肉', '微酸的')]\n",
      "{('肉', '嫩'), ('肉', '脆'), ('皮', '脆')}\n",
      "[('[CLS]', '肉', 3), ('微', '肉', 3), ('酸', '肉', 3)]\n",
      "[('港點的表現', '蠻不錯', 6), ('湯汁', '微酸的', 6), ('魚肉', '微酸的', 6)]\n",
      "{('肉', '嫩', 6)}\n",
      "Top 3 predicted triplets appended to ./log/pred_triplets_output.txt.\n",
      "Val Loss: 0.3010003366973251, binary_f1: 0.0007, v_f1: 0.0002, a_f1: 0.0000, F1-score: 0.0000\n",
      "验证损失未改善，耐心值计数：3\n"
     ]
    },
    {
     "name": "stderr",
     "output_type": "stream",
     "text": [
      "100%|██████████| 137/137 [00:22<00:00,  6.13it/s]\n"
     ]
    },
    {
     "name": "stdout",
     "output_type": "stream",
     "text": [
      "Epoch 63, Average Loss: 0.21607222874652268, Learning Rate: 6.3e-07\n"
     ]
    },
    {
     "name": "stderr",
     "output_type": "stream",
     "text": [
      "100%|██████████| 35/35 [00:16<00:00,  2.18it/s]\n"
     ]
    },
    {
     "name": "stdout",
     "output_type": "stream",
     "text": [
      "[('[CLS]', '肉'), ('微', '肉'), ('酸', '肉')]\n",
      "[('港點的表現', '蠻不錯'), ('湯汁', '微酸的'), ('魚肉', '微酸的')]\n",
      "{('肉', '嫩'), ('肉', '脆'), ('皮', '脆')}\n",
      "Top 3 predicted triplets appended to ./log/pred_triplets_output.txt.\n",
      "Val Loss: 0.2988922615469034, binary_f1: 0.0007, v_f1: 0.0000, a_f1: 0.0000, F1-score: 0.0000\n"
     ]
    },
    {
     "name": "stderr",
     "output_type": "stream",
     "text": [
      "100%|██████████| 137/137 [00:22<00:00,  6.10it/s]\n"
     ]
    },
    {
     "name": "stdout",
     "output_type": "stream",
     "text": [
      "Epoch 64, Average Loss: 0.14678096472554208, Learning Rate: 6.4e-07\n"
     ]
    },
    {
     "name": "stderr",
     "output_type": "stream",
     "text": [
      "100%|██████████| 35/35 [00:15<00:00,  2.19it/s]\n"
     ]
    },
    {
     "name": "stdout",
     "output_type": "stream",
     "text": [
      "[('[CLS]', '仁'), ('蝦', '仁'), ('仁煎醬', '仁')]\n",
      "[('港點的表現', '蠻不錯'), ('湯汁', '微酸的'), ('魚肉', '微酸的')]\n",
      "{('肉', '嫩'), ('肉', '脆'), ('皮', '脆')}\n",
      "[('[CLS]', '仁', 0), ('蝦', '仁', 0), ('仁煎醬', '仁', 0)]\n",
      "[('港點的表現', '蠻不錯', 6), ('湯汁', '微酸的', 6), ('魚肉', '微酸的', 6)]\n",
      "{('肉', '嫩', 6)}\n",
      "Top 3 predicted triplets appended to ./log/pred_triplets_output.txt.\n",
      "Val Loss: 0.3037352688344462, binary_f1: 0.0008, v_f1: 0.0002, a_f1: 0.0000, F1-score: 0.0000\n",
      "验证损失未改善，耐心值计数：1\n"
     ]
    },
    {
     "name": "stderr",
     "output_type": "stream",
     "text": [
      "100%|██████████| 137/137 [00:21<00:00,  6.28it/s]\n"
     ]
    },
    {
     "name": "stdout",
     "output_type": "stream",
     "text": [
      "Epoch 65, Average Loss: 0.16332275236414637, Learning Rate: 6.5e-07\n"
     ]
    },
    {
     "name": "stderr",
     "output_type": "stream",
     "text": [
      "100%|██████████| 35/35 [00:16<00:00,  2.16it/s]\n"
     ]
    },
    {
     "name": "stdout",
     "output_type": "stream",
     "text": [
      "[('[CLS]', '仁'), ('蝦', '仁'), ('仁', '仁')]\n",
      "[('港點的表現', '蠻不錯'), ('湯汁', '微酸的'), ('魚肉', '微酸的')]\n",
      "{('肉', '嫩'), ('肉', '脆'), ('皮', '脆')}\n",
      "[('[CLS]', '仁', 0), ('蝦', '仁', 0), ('仁', '仁', 0)]\n",
      "[('港點的表現', '蠻不錯', 6), ('湯汁', '微酸的', 6), ('魚肉', '微酸的', 6)]\n",
      "{('肉', '嫩', 6)}\n",
      "Top 3 predicted triplets appended to ./log/pred_triplets_output.txt.\n",
      "Val Loss: 0.30096475847198495, binary_f1: 0.0008, v_f1: 0.0002, a_f1: 0.0000, F1-score: 0.0000\n",
      "验证损失未改善，耐心值计数：2\n"
     ]
    },
    {
     "name": "stderr",
     "output_type": "stream",
     "text": [
      "100%|██████████| 137/137 [00:22<00:00,  6.16it/s]\n"
     ]
    },
    {
     "name": "stdout",
     "output_type": "stream",
     "text": [
      "Epoch 66, Average Loss: 0.061888943124650875, Learning Rate: 6.6e-07\n"
     ]
    },
    {
     "name": "stderr",
     "output_type": "stream",
     "text": [
      "100%|██████████| 35/35 [00:16<00:00,  2.12it/s]\n"
     ]
    },
    {
     "name": "stdout",
     "output_type": "stream",
     "text": [
      "[('[CLS]', '仁'), ('蝦', '仁'), ('仁', '仁')]\n",
      "[('港點的表現', '蠻不錯'), ('湯汁', '微酸的'), ('魚肉', '微酸的')]\n",
      "{('肉', '嫩'), ('肉', '脆'), ('皮', '脆')}\n",
      "[('[CLS]', '仁', 0), ('蝦', '仁', 0), ('仁', '仁', 0)]\n",
      "[('港點的表現', '蠻不錯', 6), ('湯汁', '微酸的', 6), ('魚肉', '微酸的', 6)]\n",
      "{('肉', '嫩', 6)}\n",
      "Top 3 predicted triplets appended to ./log/pred_triplets_output.txt.\n",
      "Val Loss: 0.3034503203895708, binary_f1: 0.0007, v_f1: 0.0002, a_f1: 0.0000, F1-score: 0.0000\n",
      "验证损失未改善，耐心值计数：3\n"
     ]
    },
    {
     "name": "stderr",
     "output_type": "stream",
     "text": [
      "100%|██████████| 137/137 [00:22<00:00,  6.06it/s]\n"
     ]
    },
    {
     "name": "stdout",
     "output_type": "stream",
     "text": [
      "Epoch 67, Average Loss: 0.06035328033060706, Learning Rate: 6.7e-07\n"
     ]
    },
    {
     "name": "stderr",
     "output_type": "stream",
     "text": [
      "100%|██████████| 35/35 [00:17<00:00,  2.00it/s]\n"
     ]
    },
    {
     "name": "stdout",
     "output_type": "stream",
     "text": [
      "[('[CLS]', '仁'), ('蝦', '仁'), ('仁', '仁')]\n",
      "[('港點的表現', '蠻不錯'), ('湯汁', '微酸的'), ('魚肉', '微酸的')]\n",
      "{('肉', '嫩'), ('肉', '脆'), ('皮', '脆')}\n",
      "[('[CLS]', '仁', 0), ('蝦', '仁', 0), ('仁', '仁', 0)]\n",
      "[('港點的表現', '蠻不錯', 6), ('湯汁', '微酸的', 6), ('魚肉', '微酸的', 6)]\n",
      "{('肉', '嫩', 6)}\n",
      "Top 3 predicted triplets appended to ./log/pred_triplets_output.txt.\n",
      "Val Loss: 0.3027759633313898, binary_f1: 0.0007, v_f1: 0.0002, a_f1: 0.0000, F1-score: 0.0000\n",
      "验证损失未改善，耐心值计数：4\n"
     ]
    },
    {
     "name": "stderr",
     "output_type": "stream",
     "text": [
      "100%|██████████| 137/137 [00:22<00:00,  6.20it/s]\n"
     ]
    },
    {
     "name": "stdout",
     "output_type": "stream",
     "text": [
      "Epoch 68, Average Loss: 0.27176169982140913, Learning Rate: 6.800000000000001e-07\n"
     ]
    },
    {
     "name": "stderr",
     "output_type": "stream",
     "text": [
      "100%|██████████| 35/35 [00:15<00:00,  2.23it/s]\n"
     ]
    },
    {
     "name": "stdout",
     "output_type": "stream",
     "text": [
      "[('[CLS]', '仁'), ('蝦', '仁'), ('煎醬', '仁')]\n",
      "[('港點的表現', '蠻不錯'), ('湯汁', '微酸的'), ('魚肉', '微酸的')]\n",
      "{('肉', '嫩'), ('肉', '脆'), ('皮', '脆')}\n",
      "[('[CLS]', '仁', 0), ('蝦', '仁', 0), ('煎醬', '仁', 0)]\n",
      "[('港點的表現', '蠻不錯', 6), ('湯汁', '微酸的', 6), ('魚肉', '微酸的', 6)]\n",
      "{('肉', '嫩', 6)}\n",
      "Top 3 predicted triplets appended to ./log/pred_triplets_output.txt.\n",
      "Val Loss: 0.2995275171165953, binary_f1: 0.0007, v_f1: 0.0002, a_f1: 0.0000, F1-score: 0.0000\n",
      "验证损失未改善，耐心值计数：5\n"
     ]
    },
    {
     "name": "stderr",
     "output_type": "stream",
     "text": [
      "100%|██████████| 137/137 [00:22<00:00,  6.22it/s]\n"
     ]
    },
    {
     "name": "stdout",
     "output_type": "stream",
     "text": [
      "Epoch 69, Average Loss: 0.16490300231949717, Learning Rate: 6.900000000000001e-07\n"
     ]
    },
    {
     "name": "stderr",
     "output_type": "stream",
     "text": [
      "100%|██████████| 35/35 [00:15<00:00,  2.22it/s]\n"
     ]
    },
    {
     "name": "stdout",
     "output_type": "stream",
     "text": [
      "[('[CLS]', '仁'), ('蝦', '仁'), ('煎醬', '仁')]\n",
      "[('港點的表現', '蠻不錯'), ('湯汁', '微酸的'), ('魚肉', '微酸的')]\n",
      "{('肉', '嫩'), ('肉', '脆'), ('皮', '脆')}\n",
      "[('[CLS]', '仁', 0), ('蝦', '仁', 0), ('煎醬', '仁', 0)]\n",
      "[('港點的表現', '蠻不錯', 6), ('湯汁', '微酸的', 6), ('魚肉', '微酸的', 6)]\n",
      "{('肉', '嫩', 6)}\n",
      "Top 3 predicted triplets appended to ./log/pred_triplets_output.txt.\n",
      "Val Loss: 0.30069812251188394, binary_f1: 0.0007, v_f1: 0.0002, a_f1: 0.0000, F1-score: 0.0000\n",
      "验证损失未改善，耐心值计数：6\n"
     ]
    },
    {
     "name": "stderr",
     "output_type": "stream",
     "text": [
      "100%|██████████| 137/137 [00:22<00:00,  6.19it/s]\n"
     ]
    },
    {
     "name": "stdout",
     "output_type": "stream",
     "text": [
      "Epoch 70, Average Loss: 0.12600098803969115, Learning Rate: 7.000000000000001e-07\n"
     ]
    },
    {
     "name": "stderr",
     "output_type": "stream",
     "text": [
      "100%|██████████| 35/35 [00:15<00:00,  2.21it/s]\n"
     ]
    },
    {
     "name": "stdout",
     "output_type": "stream",
     "text": [
      "[('[CLS]', '仁'), ('蝦', '仁'), ('煎醬', '仁')]\n",
      "[('港點的表現', '蠻不錯'), ('湯汁', '微酸的'), ('魚肉', '微酸的')]\n",
      "{('肉', '嫩'), ('肉', '脆'), ('皮', '脆')}\n",
      "[('[CLS]', '仁', -1), ('蝦', '仁', -1), ('煎醬', '仁', -1)]\n",
      "[('港點的表現', '蠻不錯', 6), ('湯汁', '微酸的', 6), ('魚肉', '微酸的', 6)]\n",
      "{('肉', '嫩', 6)}\n",
      "Top 3 predicted triplets appended to ./log/pred_triplets_output.txt.\n",
      "Val Loss: 0.30101937532973744, binary_f1: 0.0008, v_f1: 0.0002, a_f1: 0.0000, F1-score: 0.0000\n",
      "验证损失未改善，耐心值计数：7\n"
     ]
    },
    {
     "name": "stderr",
     "output_type": "stream",
     "text": [
      "100%|██████████| 137/137 [00:22<00:00,  6.20it/s]\n"
     ]
    },
    {
     "name": "stdout",
     "output_type": "stream",
     "text": [
      "Epoch 71, Average Loss: 0.2174592999274924, Learning Rate: 7.1e-07\n"
     ]
    },
    {
     "name": "stderr",
     "output_type": "stream",
     "text": [
      "100%|██████████| 35/35 [00:16<00:00,  2.18it/s]\n"
     ]
    },
    {
     "name": "stdout",
     "output_type": "stream",
     "text": [
      "[('[CLS]', '仁'), ('蝦', '仁'), ('煎醬', '仁')]\n",
      "[('港點的表現', '蠻不錯'), ('湯汁', '微酸的'), ('魚肉', '微酸的')]\n",
      "{('肉', '嫩'), ('肉', '脆'), ('皮', '脆')}\n",
      "[('[CLS]', '仁', -1), ('蝦', '仁', -1), ('煎醬', '仁', -1)]\n",
      "[('港點的表現', '蠻不錯', 6), ('湯汁', '微酸的', 6), ('魚肉', '微酸的', 6)]\n",
      "{('肉', '嫩', 6), ('皮', '脆', 7)}\n",
      "Top 3 predicted triplets appended to ./log/pred_triplets_output.txt.\n",
      "Val Loss: 0.3006146573648688, binary_f1: 0.0008, v_f1: 0.0004, a_f1: 0.0000, F1-score: 0.0000\n",
      "验证损失未改善，耐心值计数：8\n"
     ]
    },
    {
     "name": "stderr",
     "output_type": "stream",
     "text": [
      "100%|██████████| 137/137 [00:22<00:00,  6.06it/s]\n"
     ]
    },
    {
     "name": "stdout",
     "output_type": "stream",
     "text": [
      "Epoch 72, Average Loss: 0.2256558027533121, Learning Rate: 7.2e-07\n"
     ]
    },
    {
     "name": "stderr",
     "output_type": "stream",
     "text": [
      "100%|██████████| 35/35 [00:16<00:00,  2.17it/s]\n"
     ]
    },
    {
     "name": "stdout",
     "output_type": "stream",
     "text": [
      "[('[CLS]', '仁'), ('蝦', '仁'), ('煎醬', '仁')]\n",
      "[('港點的表現', '蠻不錯'), ('湯汁', '微酸的'), ('魚肉', '微酸的')]\n",
      "{('肉', '嫩'), ('肉', '脆'), ('皮', '脆')}\n",
      "Top 3 predicted triplets appended to ./log/pred_triplets_output.txt.\n",
      "Val Loss: 0.2953227781482773, binary_f1: 0.0008, v_f1: 0.0000, a_f1: 0.0000, F1-score: 0.0000\n"
     ]
    },
    {
     "name": "stderr",
     "output_type": "stream",
     "text": [
      "100%|██████████| 137/137 [00:22<00:00,  6.09it/s]\n"
     ]
    },
    {
     "name": "stdout",
     "output_type": "stream",
     "text": [
      "Epoch 73, Average Loss: 0.17465564567276215, Learning Rate: 7.3e-07\n"
     ]
    },
    {
     "name": "stderr",
     "output_type": "stream",
     "text": [
      "100%|██████████| 35/35 [00:15<00:00,  2.20it/s]\n"
     ]
    },
    {
     "name": "stdout",
     "output_type": "stream",
     "text": [
      "[('[CLS]', '仁'), ('蝦', '仁'), ('煎醬', '仁')]\n",
      "[('港點的表現', '蠻不錯'), ('湯汁', '微酸的'), ('魚肉', '微酸的')]\n",
      "{('肉', '嫩'), ('肉', '脆'), ('皮', '脆')}\n",
      "[('[CLS]', '仁', 0), ('蝦', '仁', 0), ('煎醬', '仁', 0)]\n",
      "[('港點的表現', '蠻不錯', 6), ('湯汁', '微酸的', 6), ('魚肉', '微酸的', 6)]\n",
      "{('肉', '嫩', 6)}\n",
      "Top 3 predicted triplets appended to ./log/pred_triplets_output.txt.\n",
      "Val Loss: 0.29681207908766477, binary_f1: 0.0008, v_f1: 0.0002, a_f1: 0.0000, F1-score: 0.0000\n",
      "验证损失未改善，耐心值计数：1\n"
     ]
    },
    {
     "name": "stderr",
     "output_type": "stream",
     "text": [
      "100%|██████████| 137/137 [00:22<00:00,  6.04it/s]\n"
     ]
    },
    {
     "name": "stdout",
     "output_type": "stream",
     "text": [
      "Epoch 74, Average Loss: 0.18933473538478196, Learning Rate: 7.4e-07\n"
     ]
    },
    {
     "name": "stderr",
     "output_type": "stream",
     "text": [
      "100%|██████████| 35/35 [00:16<00:00,  2.16it/s]\n"
     ]
    },
    {
     "name": "stdout",
     "output_type": "stream",
     "text": [
      "[('[CLS]', '仁'), ('蝦', '仁'), ('煎醬', '仁')]\n",
      "[('港點的表現', '蠻不錯'), ('湯汁', '微酸的'), ('魚肉', '微酸的')]\n",
      "{('肉', '嫩'), ('肉', '脆'), ('皮', '脆')}\n",
      "[('[CLS]', '仁', 0), ('蝦', '仁', 0), ('煎醬', '仁', 0)]\n",
      "[('港點的表現', '蠻不錯', 6), ('湯汁', '微酸的', 6), ('魚肉', '微酸的', 6)]\n",
      "{('肉', '嫩', 6)}\n",
      "Top 3 predicted triplets appended to ./log/pred_triplets_output.txt.\n",
      "Val Loss: 0.29337389460914504, binary_f1: 0.0008, v_f1: 0.0002, a_f1: 0.0000, F1-score: 0.0000\n"
     ]
    },
    {
     "name": "stderr",
     "output_type": "stream",
     "text": [
      "100%|██████████| 137/137 [00:22<00:00,  6.09it/s]\n"
     ]
    },
    {
     "name": "stdout",
     "output_type": "stream",
     "text": [
      "Epoch 75, Average Loss: 0.17237303272759827, Learning Rate: 7.5e-07\n"
     ]
    },
    {
     "name": "stderr",
     "output_type": "stream",
     "text": [
      "100%|██████████| 35/35 [00:16<00:00,  2.13it/s]\n"
     ]
    },
    {
     "name": "stdout",
     "output_type": "stream",
     "text": [
      "[('[CLS]', '仁'), ('蝦', '仁'), ('仁', '仁')]\n",
      "[('港點的表現', '蠻不錯'), ('湯汁', '微酸的'), ('魚肉', '微酸的')]\n",
      "{('肉', '嫩'), ('肉', '脆'), ('皮', '脆')}\n",
      "[('[CLS]', '仁', 1), ('蝦', '仁', 1), ('仁', '仁', 1)]\n",
      "[('港點的表現', '蠻不錯', 6), ('湯汁', '微酸的', 6), ('魚肉', '微酸的', 6)]\n",
      "{('肉', '嫩', 6)}\n",
      "Top 3 predicted triplets appended to ./log/pred_triplets_output.txt.\n",
      "Val Loss: 0.2919556602299313, binary_f1: 0.0009, v_f1: 0.0003, a_f1: 0.0000, F1-score: 0.0000\n"
     ]
    },
    {
     "name": "stderr",
     "output_type": "stream",
     "text": [
      "100%|██████████| 137/137 [00:22<00:00,  6.16it/s]\n"
     ]
    },
    {
     "name": "stdout",
     "output_type": "stream",
     "text": [
      "Epoch 76, Average Loss: 0.14897825784070323, Learning Rate: 7.6e-07\n"
     ]
    },
    {
     "name": "stderr",
     "output_type": "stream",
     "text": [
      "100%|██████████| 35/35 [00:16<00:00,  2.06it/s]\n"
     ]
    },
    {
     "name": "stdout",
     "output_type": "stream",
     "text": [
      "[('[CLS]', '仁'), ('蝦', '仁'), ('仁', '仁')]\n",
      "[('港點的表現', '蠻不錯'), ('湯汁', '微酸的'), ('魚肉', '微酸的')]\n",
      "{('肉', '脆'), ('皮', '脆')}\n",
      "[('[CLS]', '仁', 0), ('蝦', '仁', 0), ('仁', '仁', 0)]\n",
      "[('港點的表現', '蠻不錯', 6), ('湯汁', '微酸的', 6), ('魚肉', '微酸的', 6)]\n",
      "{('皮', '脆', 7)}\n",
      "Top 3 predicted triplets appended to ./log/pred_triplets_output.txt.\n",
      "Val Loss: 0.2947738090311759, binary_f1: 0.0006, v_f1: 0.0003, a_f1: 0.0000, F1-score: 0.0000\n",
      "验证损失未改善，耐心值计数：1\n"
     ]
    },
    {
     "name": "stderr",
     "output_type": "stream",
     "text": [
      "100%|██████████| 137/137 [00:22<00:00,  6.05it/s]\n"
     ]
    },
    {
     "name": "stdout",
     "output_type": "stream",
     "text": [
      "Epoch 77, Average Loss: 0.3247419588215119, Learning Rate: 7.7e-07\n"
     ]
    },
    {
     "name": "stderr",
     "output_type": "stream",
     "text": [
      "100%|██████████| 35/35 [00:16<00:00,  2.18it/s]\n"
     ]
    },
    {
     "name": "stdout",
     "output_type": "stream",
     "text": [
      "[('[CLS]', '仁'), ('蝦', '仁'), ('仁', '仁')]\n",
      "[('港點的表現', '蠻不錯'), ('湯汁', '微酸的'), ('魚肉', '微酸的')]\n",
      "{('肉', '嫩'), ('肉', '脆'), ('皮', '脆')}\n",
      "[('[CLS]', '仁', 0), ('蝦', '仁', 0), ('仁', '仁', 0)]\n",
      "[('港點的表現', '蠻不錯', 6), ('湯汁', '微酸的', 6), ('魚肉', '微酸的', 6)]\n",
      "{('皮', '脆', 7)}\n",
      "Top 3 predicted triplets appended to ./log/pred_triplets_output.txt.\n",
      "Val Loss: 0.2902562785112033, binary_f1: 0.0009, v_f1: 0.0003, a_f1: 0.0000, F1-score: 0.0000\n"
     ]
    },
    {
     "name": "stderr",
     "output_type": "stream",
     "text": [
      "100%|██████████| 137/137 [00:22<00:00,  6.18it/s]\n"
     ]
    },
    {
     "name": "stdout",
     "output_type": "stream",
     "text": [
      "Epoch 78, Average Loss: 0.17856230027378828, Learning Rate: 7.8e-07\n"
     ]
    },
    {
     "name": "stderr",
     "output_type": "stream",
     "text": [
      "100%|██████████| 35/35 [00:16<00:00,  2.16it/s]\n"
     ]
    },
    {
     "name": "stdout",
     "output_type": "stream",
     "text": [
      "[('[CLS]', '仁'), ('蝦', '仁'), ('仁', '仁')]\n",
      "[('港點的表現', '蠻不錯'), ('湯汁', '微酸的'), ('魚肉', '微酸的')]\n",
      "{('肉', '脆'), ('皮', '脆')}\n",
      "Top 3 predicted triplets appended to ./log/pred_triplets_output.txt.\n",
      "Val Loss: 0.2882683544353183, binary_f1: 0.0006, v_f1: 0.0000, a_f1: 0.0000, F1-score: 0.0000\n"
     ]
    },
    {
     "name": "stderr",
     "output_type": "stream",
     "text": [
      "100%|██████████| 137/137 [00:22<00:00,  6.09it/s]\n"
     ]
    },
    {
     "name": "stdout",
     "output_type": "stream",
     "text": [
      "Epoch 79, Average Loss: 0.14443443822640464, Learning Rate: 7.900000000000001e-07\n"
     ]
    },
    {
     "name": "stderr",
     "output_type": "stream",
     "text": [
      "100%|██████████| 35/35 [00:16<00:00,  2.17it/s]\n"
     ]
    },
    {
     "name": "stdout",
     "output_type": "stream",
     "text": [
      "[('[CLS]', '仁'), ('蝦', '仁'), ('仁', '仁')]\n",
      "[('港點的表現', '蠻不錯'), ('湯汁', '微酸的'), ('魚肉', '微酸的')]\n",
      "{('肉', '脆'), ('皮', '脆')}\n",
      "Top 3 predicted triplets appended to ./log/pred_triplets_output.txt.\n",
      "Val Loss: 0.2872534085177384, binary_f1: 0.0006, v_f1: 0.0000, a_f1: 0.0000, F1-score: 0.0000\n"
     ]
    },
    {
     "name": "stderr",
     "output_type": "stream",
     "text": [
      "100%|██████████| 137/137 [00:22<00:00,  6.13it/s]\n"
     ]
    },
    {
     "name": "stdout",
     "output_type": "stream",
     "text": [
      "Epoch 80, Average Loss: 0.10208148868112098, Learning Rate: 8.000000000000001e-07\n"
     ]
    },
    {
     "name": "stderr",
     "output_type": "stream",
     "text": [
      "100%|██████████| 35/35 [00:15<00:00,  2.20it/s]\n"
     ]
    },
    {
     "name": "stdout",
     "output_type": "stream",
     "text": [
      "[('[CLS]', '仁'), ('蝦', '仁'), ('仁', '仁')]\n",
      "[('港點的表現', '蠻不錯'), ('湯汁', '微酸的'), ('魚肉', '微酸的')]\n",
      "{('肉', '脆'), ('皮', '脆')}\n",
      "Top 3 predicted triplets appended to ./log/pred_triplets_output.txt.\n",
      "Val Loss: 0.2889410464629431, binary_f1: 0.0007, v_f1: 0.0000, a_f1: 0.0000, F1-score: 0.0000\n",
      "验证损失未改善，耐心值计数：1\n"
     ]
    },
    {
     "name": "stderr",
     "output_type": "stream",
     "text": [
      "100%|██████████| 137/137 [00:22<00:00,  6.04it/s]\n"
     ]
    },
    {
     "name": "stdout",
     "output_type": "stream",
     "text": [
      "Epoch 81, Average Loss: 0.10193306411171237, Learning Rate: 8.100000000000001e-07\n"
     ]
    },
    {
     "name": "stderr",
     "output_type": "stream",
     "text": [
      "100%|██████████| 35/35 [00:16<00:00,  2.17it/s]\n"
     ]
    },
    {
     "name": "stdout",
     "output_type": "stream",
     "text": [
      "[('[CLS]', '仁'), ('蝦', '仁'), ('仁', '仁')]\n",
      "[('港點的表現', '蠻不錯'), ('湯汁', '微酸的'), ('魚肉', '微酸的')]\n",
      "{('肉', '脆'), ('皮', '脆')}\n",
      "[('[CLS]', '仁', 0), ('蝦', '仁', 0), ('仁', '仁', 0)]\n",
      "[('港點的表現', '蠻不錯', 6), ('湯汁', '微酸的', 6), ('魚肉', '微酸的', 6)]\n",
      "{('皮', '脆', 7)}\n",
      "Top 3 predicted triplets appended to ./log/pred_triplets_output.txt.\n",
      "Val Loss: 0.29105479456889694, binary_f1: 0.0007, v_f1: 0.0003, a_f1: 0.0000, F1-score: 0.0000\n",
      "验证损失未改善，耐心值计数：2\n"
     ]
    },
    {
     "name": "stderr",
     "output_type": "stream",
     "text": [
      "100%|██████████| 137/137 [00:22<00:00,  6.04it/s]\n"
     ]
    },
    {
     "name": "stdout",
     "output_type": "stream",
     "text": [
      "Epoch 82, Average Loss: 0.14754179451550037, Learning Rate: 8.200000000000001e-07\n"
     ]
    },
    {
     "name": "stderr",
     "output_type": "stream",
     "text": [
      "100%|██████████| 35/35 [00:16<00:00,  2.18it/s]\n"
     ]
    },
    {
     "name": "stdout",
     "output_type": "stream",
     "text": [
      "[('[CLS]', '仁'), ('蝦', '仁'), ('仁', '仁')]\n",
      "[('港點的表現', '蠻不錯'), ('湯汁', '微酸的'), ('魚肉', '微酸的')]\n",
      "{('肉', '脆'), ('皮', '脆')}\n",
      "Top 3 predicted triplets appended to ./log/pred_triplets_output.txt.\n",
      "Val Loss: 0.2915263005964724, binary_f1: 0.0007, v_f1: 0.0000, a_f1: 0.0000, F1-score: 0.0000\n",
      "验证损失未改善，耐心值计数：3\n"
     ]
    },
    {
     "name": "stderr",
     "output_type": "stream",
     "text": [
      "100%|██████████| 137/137 [00:22<00:00,  6.08it/s]\n"
     ]
    },
    {
     "name": "stdout",
     "output_type": "stream",
     "text": [
      "Epoch 83, Average Loss: 0.18695078229439874, Learning Rate: 8.300000000000001e-07\n"
     ]
    },
    {
     "name": "stderr",
     "output_type": "stream",
     "text": [
      "100%|██████████| 35/35 [00:16<00:00,  2.15it/s]\n"
     ]
    },
    {
     "name": "stdout",
     "output_type": "stream",
     "text": [
      "[('[CLS]', '仁'), ('蝦', '仁'), ('仁', '仁')]\n",
      "[('港點的表現', '蠻不錯'), ('湯汁', '微酸的'), ('魚肉', '微酸的')]\n",
      "{('肉', '脆'), ('皮', '脆')}\n",
      "Top 3 predicted triplets appended to ./log/pred_triplets_output.txt.\n",
      "Val Loss: 0.29049268586137, binary_f1: 0.0007, v_f1: 0.0000, a_f1: 0.0000, F1-score: 0.0000\n",
      "验证损失未改善，耐心值计数：4\n"
     ]
    },
    {
     "name": "stderr",
     "output_type": "stream",
     "text": [
      "100%|██████████| 137/137 [00:22<00:00,  6.06it/s]\n"
     ]
    },
    {
     "name": "stdout",
     "output_type": "stream",
     "text": [
      "Epoch 84, Average Loss: 0.1588985622324301, Learning Rate: 8.400000000000001e-07\n"
     ]
    },
    {
     "name": "stderr",
     "output_type": "stream",
     "text": [
      "100%|██████████| 35/35 [00:17<00:00,  1.99it/s]\n"
     ]
    },
    {
     "name": "stdout",
     "output_type": "stream",
     "text": [
      "[('[CLS]', '仁'), ('蝦', '仁'), ('仁', '仁')]\n",
      "[('港點的表現', '蠻不錯'), ('湯汁', '微酸的'), ('魚肉', '微酸的')]\n",
      "{('肉', '脆'), ('皮', '脆')}\n",
      "[('[CLS]', '仁', 0), ('蝦', '仁', 0), ('仁', '仁', 0)]\n",
      "[('港點的表現', '蠻不錯', 6), ('湯汁', '微酸的', 6), ('魚肉', '微酸的', 6)]\n",
      "{('皮', '脆', 7)}\n",
      "Top 3 predicted triplets appended to ./log/pred_triplets_output.txt.\n",
      "Val Loss: 0.2903227571597589, binary_f1: 0.0007, v_f1: 0.0003, a_f1: 0.0000, F1-score: 0.0000\n",
      "验证损失未改善，耐心值计数：5\n"
     ]
    },
    {
     "name": "stderr",
     "output_type": "stream",
     "text": [
      "100%|██████████| 137/137 [00:22<00:00,  6.13it/s]\n"
     ]
    },
    {
     "name": "stdout",
     "output_type": "stream",
     "text": [
      "Epoch 85, Average Loss: 0.3969141104331675, Learning Rate: 8.500000000000001e-07\n"
     ]
    },
    {
     "name": "stderr",
     "output_type": "stream",
     "text": [
      "100%|██████████| 35/35 [00:18<00:00,  1.90it/s]\n"
     ]
    },
    {
     "name": "stdout",
     "output_type": "stream",
     "text": [
      "[('[CLS]', '仁'), ('蝦', '仁'), ('仁', '仁')]\n",
      "[('港點的表現', '蠻不錯'), ('湯汁', '微酸的'), ('魚肉', '微酸的')]\n",
      "{('肉', '脆'), ('皮', '脆')}\n",
      "Top 3 predicted triplets appended to ./log/pred_triplets_output.txt.\n",
      "Val Loss: 0.2858714569093926, binary_f1: 0.0006, v_f1: 0.0000, a_f1: 0.0000, F1-score: 0.0000\n"
     ]
    },
    {
     "name": "stderr",
     "output_type": "stream",
     "text": [
      "100%|██████████| 137/137 [00:23<00:00,  5.92it/s]\n"
     ]
    },
    {
     "name": "stdout",
     "output_type": "stream",
     "text": [
      "Epoch 86, Average Loss: 0.28124868769044004, Learning Rate: 8.6e-07\n"
     ]
    },
    {
     "name": "stderr",
     "output_type": "stream",
     "text": [
      "100%|██████████| 35/35 [00:17<00:00,  2.05it/s]\n"
     ]
    },
    {
     "name": "stdout",
     "output_type": "stream",
     "text": [
      "[('[CLS]', '仁'), ('蝦', '仁'), ('仁', '仁')]\n",
      "[('港點的表現', '蠻不錯'), ('湯汁', '微酸的'), ('魚肉', '微酸的')]\n",
      "{('肉', '脆'), ('皮', '脆')}\n",
      "[('[CLS]', '仁', 0), ('蝦', '仁', 0), ('仁', '仁', 0)]\n",
      "[('港點的表現', '蠻不錯', 6), ('湯汁', '微酸的', 6), ('魚肉', '微酸的', 6)]\n",
      "{('皮', '脆', 7)}\n",
      "Top 3 predicted triplets appended to ./log/pred_triplets_output.txt.\n",
      "Val Loss: 0.283105200321214, binary_f1: 0.0007, v_f1: 0.0003, a_f1: 0.0000, F1-score: 0.0000\n"
     ]
    },
    {
     "name": "stderr",
     "output_type": "stream",
     "text": [
      "100%|██████████| 137/137 [00:22<00:00,  5.99it/s]\n"
     ]
    },
    {
     "name": "stdout",
     "output_type": "stream",
     "text": [
      "Epoch 87, Average Loss: 0.1918542924363431, Learning Rate: 8.7e-07\n"
     ]
    },
    {
     "name": "stderr",
     "output_type": "stream",
     "text": [
      "100%|██████████| 35/35 [00:18<00:00,  1.88it/s]\n"
     ]
    },
    {
     "name": "stdout",
     "output_type": "stream",
     "text": [
      "[('[CLS]', '仁'), ('蝦', '仁'), ('仁', '仁')]\n",
      "[('港點的表現', '蠻不錯'), ('湯汁', '微酸的'), ('魚肉', '微酸的')]\n",
      "{('肉', '脆'), ('皮', '脆')}\n",
      "Top 3 predicted triplets appended to ./log/pred_triplets_output.txt.\n",
      "Val Loss: 0.2794499429541507, binary_f1: 0.0007, v_f1: 0.0000, a_f1: 0.0000, F1-score: 0.0000\n"
     ]
    },
    {
     "name": "stderr",
     "output_type": "stream",
     "text": [
      "100%|██████████| 137/137 [00:22<00:00,  6.14it/s]\n"
     ]
    },
    {
     "name": "stdout",
     "output_type": "stream",
     "text": [
      "Epoch 88, Average Loss: 0.13635017579747705, Learning Rate: 8.8e-07\n"
     ]
    },
    {
     "name": "stderr",
     "output_type": "stream",
     "text": [
      "100%|██████████| 35/35 [00:17<00:00,  2.02it/s]\n"
     ]
    },
    {
     "name": "stdout",
     "output_type": "stream",
     "text": [
      "Top 3 predicted triplets appended to ./log/pred_triplets_output.txt.\n",
      "Val Loss: 0.27848492919001727, binary_f1: 0.0000, v_f1: 0.0000, a_f1: 0.0000, F1-score: 0.0000\n",
      "验证损失未改善，耐心值计数：1\n"
     ]
    },
    {
     "name": "stderr",
     "output_type": "stream",
     "text": [
      "100%|██████████| 137/137 [00:22<00:00,  6.19it/s]\n"
     ]
    },
    {
     "name": "stdout",
     "output_type": "stream",
     "text": [
      "Epoch 89, Average Loss: 0.21415256876048094, Learning Rate: 8.900000000000001e-07\n"
     ]
    },
    {
     "name": "stderr",
     "output_type": "stream",
     "text": [
      "100%|██████████| 35/35 [00:17<00:00,  1.95it/s]\n"
     ]
    },
    {
     "name": "stdout",
     "output_type": "stream",
     "text": [
      "Top 3 predicted triplets appended to ./log/pred_triplets_output.txt.\n",
      "Val Loss: 0.27999756950386134, binary_f1: 0.0000, v_f1: 0.0000, a_f1: 0.0000, F1-score: 0.0000\n",
      "验证损失未改善，耐心值计数：2\n"
     ]
    },
    {
     "name": "stderr",
     "output_type": "stream",
     "text": [
      "100%|██████████| 137/137 [00:22<00:00,  6.18it/s]\n"
     ]
    },
    {
     "name": "stdout",
     "output_type": "stream",
     "text": [
      "Epoch 90, Average Loss: 0.15185690991899992, Learning Rate: 9.000000000000001e-07\n"
     ]
    },
    {
     "name": "stderr",
     "output_type": "stream",
     "text": [
      "100%|██████████| 35/35 [00:17<00:00,  1.99it/s]\n"
     ]
    },
    {
     "name": "stdout",
     "output_type": "stream",
     "text": [
      "Top 3 predicted triplets appended to ./log/pred_triplets_output.txt.\n",
      "Val Loss: 0.2802326610511435, binary_f1: 0.0000, v_f1: 0.0000, a_f1: 0.0000, F1-score: 0.0000\n",
      "验证损失未改善，耐心值计数：3\n"
     ]
    },
    {
     "name": "stderr",
     "output_type": "stream",
     "text": [
      "100%|██████████| 137/137 [00:22<00:00,  6.15it/s]\n"
     ]
    },
    {
     "name": "stdout",
     "output_type": "stream",
     "text": [
      "Epoch 91, Average Loss: 0.20981067297835732, Learning Rate: 9.100000000000001e-07\n"
     ]
    },
    {
     "name": "stderr",
     "output_type": "stream",
     "text": [
      "100%|██████████| 35/35 [00:18<00:00,  1.94it/s]\n"
     ]
    },
    {
     "name": "stdout",
     "output_type": "stream",
     "text": [
      "Top 3 predicted triplets appended to ./log/pred_triplets_output.txt.\n",
      "Val Loss: 0.27714507732557, binary_f1: 0.0000, v_f1: 0.0000, a_f1: 0.0000, F1-score: 0.0000\n"
     ]
    },
    {
     "name": "stderr",
     "output_type": "stream",
     "text": [
      "100%|██████████| 137/137 [00:22<00:00,  6.16it/s]\n"
     ]
    },
    {
     "name": "stdout",
     "output_type": "stream",
     "text": [
      "Epoch 92, Average Loss: 0.09390796568345816, Learning Rate: 9.200000000000001e-07\n"
     ]
    },
    {
     "name": "stderr",
     "output_type": "stream",
     "text": [
      "100%|██████████| 35/35 [00:18<00:00,  1.91it/s]\n"
     ]
    },
    {
     "name": "stdout",
     "output_type": "stream",
     "text": [
      "Top 3 predicted triplets appended to ./log/pred_triplets_output.txt.\n",
      "Val Loss: 0.27937263013783586, binary_f1: 0.0000, v_f1: 0.0000, a_f1: 0.0000, F1-score: 0.0000\n",
      "验证损失未改善，耐心值计数：1\n"
     ]
    },
    {
     "name": "stderr",
     "output_type": "stream",
     "text": [
      "100%|██████████| 137/137 [00:22<00:00,  6.11it/s]\n"
     ]
    },
    {
     "name": "stdout",
     "output_type": "stream",
     "text": [
      "Epoch 93, Average Loss: 0.14458732784854889, Learning Rate: 9.300000000000001e-07\n"
     ]
    },
    {
     "name": "stderr",
     "output_type": "stream",
     "text": [
      "100%|██████████| 35/35 [00:17<00:00,  1.96it/s]\n"
     ]
    },
    {
     "name": "stdout",
     "output_type": "stream",
     "text": [
      "Top 3 predicted triplets appended to ./log/pred_triplets_output.txt.\n",
      "Val Loss: 0.27779596248541827, binary_f1: 0.0000, v_f1: 0.0000, a_f1: 0.0000, F1-score: 0.0000\n",
      "验证损失未改善，耐心值计数：2\n"
     ]
    },
    {
     "name": "stderr",
     "output_type": "stream",
     "text": [
      "100%|██████████| 137/137 [00:22<00:00,  6.10it/s]\n"
     ]
    },
    {
     "name": "stdout",
     "output_type": "stream",
     "text": [
      "Epoch 94, Average Loss: 0.16022363021828737, Learning Rate: 9.400000000000001e-07\n"
     ]
    },
    {
     "name": "stderr",
     "output_type": "stream",
     "text": [
      "100%|██████████| 35/35 [00:17<00:00,  1.98it/s]\n"
     ]
    },
    {
     "name": "stdout",
     "output_type": "stream",
     "text": [
      "[('[CLS]', '仁'), ('蝦', '仁'), ('仁', '仁')]\n",
      "[('港點的表現', '蠻不錯'), ('湯汁', '微酸的'), ('魚肉', '微酸的')]\n",
      "{('皮', '脆')}\n",
      "[('[CLS]', '仁', 0), ('蝦', '仁', 0), ('仁', '仁', 0)]\n",
      "[('港點的表現', '蠻不錯', 6), ('湯汁', '微酸的', 6), ('魚肉', '微酸的', 6)]\n",
      "{('皮', '脆', 7)}\n",
      "Top 3 predicted triplets appended to ./log/pred_triplets_output.txt.\n",
      "Val Loss: 0.27844316042735173, binary_f1: 0.0004, v_f1: 0.0004, a_f1: 0.0000, F1-score: 0.0000\n",
      "验证损失未改善，耐心值计数：3\n"
     ]
    },
    {
     "name": "stderr",
     "output_type": "stream",
     "text": [
      "100%|██████████| 137/137 [00:21<00:00,  6.27it/s]\n"
     ]
    },
    {
     "name": "stdout",
     "output_type": "stream",
     "text": [
      "Epoch 95, Average Loss: 0.3796150380249278, Learning Rate: 9.500000000000001e-07\n"
     ]
    },
    {
     "name": "stderr",
     "output_type": "stream",
     "text": [
      "100%|██████████| 35/35 [00:17<00:00,  1.96it/s]\n"
     ]
    },
    {
     "name": "stdout",
     "output_type": "stream",
     "text": [
      "[('[CLS]', '仁'), ('蝦', '仁'), ('仁', '仁')]\n",
      "[('港點的表現', '蠻不錯'), ('湯汁', '微酸的'), ('魚肉', '微酸的')]\n",
      "{('皮', '脆')}\n",
      "[('[CLS]', '仁', 1), ('蝦', '仁', 1), ('仁', '仁', 1)]\n",
      "[('港點的表現', '蠻不錯', 6), ('湯汁', '微酸的', 6), ('魚肉', '微酸的', 6)]\n",
      "{('皮', '脆', 7)}\n",
      "Top 3 predicted triplets appended to ./log/pred_triplets_output.txt.\n",
      "Val Loss: 0.26925046937893576, binary_f1: 0.0004, v_f1: 0.0004, a_f1: 0.0000, F1-score: 0.0000\n"
     ]
    },
    {
     "name": "stderr",
     "output_type": "stream",
     "text": [
      "100%|██████████| 137/137 [00:22<00:00,  6.20it/s]\n"
     ]
    },
    {
     "name": "stdout",
     "output_type": "stream",
     "text": [
      "Epoch 96, Average Loss: 0.29124357134641665, Learning Rate: 9.600000000000001e-07\n"
     ]
    },
    {
     "name": "stderr",
     "output_type": "stream",
     "text": [
      "100%|██████████| 35/35 [00:17<00:00,  1.96it/s]\n"
     ]
    },
    {
     "name": "stdout",
     "output_type": "stream",
     "text": [
      "Top 3 predicted triplets appended to ./log/pred_triplets_output.txt.\n",
      "Val Loss: 0.26934998855660003, binary_f1: 0.0000, v_f1: 0.0000, a_f1: 0.0000, F1-score: 0.0000\n",
      "验证损失未改善，耐心值计数：1\n"
     ]
    },
    {
     "name": "stderr",
     "output_type": "stream",
     "text": [
      "100%|██████████| 137/137 [00:22<00:00,  6.22it/s]\n"
     ]
    },
    {
     "name": "stdout",
     "output_type": "stream",
     "text": [
      "Epoch 97, Average Loss: 0.10054040438262746, Learning Rate: 9.7e-07\n"
     ]
    },
    {
     "name": "stderr",
     "output_type": "stream",
     "text": [
      "100%|██████████| 35/35 [00:17<00:00,  1.97it/s]\n"
     ]
    },
    {
     "name": "stdout",
     "output_type": "stream",
     "text": [
      "Top 3 predicted triplets appended to ./log/pred_triplets_output.txt.\n",
      "Val Loss: 0.27359819871240426, binary_f1: 0.0000, v_f1: 0.0000, a_f1: 0.0000, F1-score: 0.0000\n",
      "验证损失未改善，耐心值计数：2\n"
     ]
    },
    {
     "name": "stderr",
     "output_type": "stream",
     "text": [
      "100%|██████████| 137/137 [00:21<00:00,  6.24it/s]\n"
     ]
    },
    {
     "name": "stdout",
     "output_type": "stream",
     "text": [
      "Epoch 98, Average Loss: 0.2930100872827164, Learning Rate: 9.800000000000001e-07\n"
     ]
    },
    {
     "name": "stderr",
     "output_type": "stream",
     "text": [
      "100%|██████████| 35/35 [00:17<00:00,  1.97it/s]\n"
     ]
    },
    {
     "name": "stdout",
     "output_type": "stream",
     "text": [
      "Top 3 predicted triplets appended to ./log/pred_triplets_output.txt.\n",
      "Val Loss: 0.2729737537114748, binary_f1: 0.0000, v_f1: 0.0000, a_f1: 0.0000, F1-score: 0.0000\n",
      "验证损失未改善，耐心值计数：3\n"
     ]
    },
    {
     "name": "stderr",
     "output_type": "stream",
     "text": [
      "100%|██████████| 137/137 [00:22<00:00,  6.20it/s]\n"
     ]
    },
    {
     "name": "stdout",
     "output_type": "stream",
     "text": [
      "Epoch 99, Average Loss: 0.20599078454343214, Learning Rate: 9.9e-07\n"
     ]
    },
    {
     "name": "stderr",
     "output_type": "stream",
     "text": [
      "100%|██████████| 35/35 [00:17<00:00,  2.03it/s]\n"
     ]
    },
    {
     "name": "stdout",
     "output_type": "stream",
     "text": [
      "Top 3 predicted triplets appended to ./log/pred_triplets_output.txt.\n",
      "Val Loss: 0.26903767065585793, binary_f1: 0.0000, v_f1: 0.0000, a_f1: 0.0000, F1-score: 0.0000\n",
      "验证损失未改善，耐心值计数：4\n"
     ]
    },
    {
     "name": "stderr",
     "output_type": "stream",
     "text": [
      "100%|██████████| 137/137 [00:22<00:00,  6.23it/s]\n"
     ]
    },
    {
     "name": "stdout",
     "output_type": "stream",
     "text": [
      "Epoch 100, Average Loss: 0.15124704536810232, Learning Rate: 1.0000000000000002e-06\n"
     ]
    },
    {
     "name": "stderr",
     "output_type": "stream",
     "text": [
      "100%|██████████| 35/35 [00:14<00:00,  2.36it/s]\n"
     ]
    },
    {
     "name": "stdout",
     "output_type": "stream",
     "text": [
      "Top 3 predicted triplets appended to ./log/pred_triplets_output.txt.\n",
      "Val Loss: 0.26685104416683314, binary_f1: 0.0000, v_f1: 0.0000, a_f1: 0.0000, F1-score: 0.0000\n"
     ]
    },
    {
     "name": "stderr",
     "output_type": "stream",
     "text": [
      "100%|██████████| 137/137 [00:21<00:00,  6.23it/s]\n"
     ]
    },
    {
     "name": "stdout",
     "output_type": "stream",
     "text": [
      "Epoch 101, Average Loss: 0.1018518922711556, Learning Rate: 1.01e-06\n"
     ]
    },
    {
     "name": "stderr",
     "output_type": "stream",
     "text": [
      "100%|██████████| 35/35 [00:17<00:00,  1.96it/s]\n"
     ]
    },
    {
     "name": "stdout",
     "output_type": "stream",
     "text": [
      "Top 3 predicted triplets appended to ./log/pred_triplets_output.txt.\n",
      "Val Loss: 0.2673992684144261, binary_f1: 0.0000, v_f1: 0.0000, a_f1: 0.0000, F1-score: 0.0000\n",
      "验证损失未改善，耐心值计数：1\n"
     ]
    },
    {
     "name": "stderr",
     "output_type": "stream",
     "text": [
      "100%|██████████| 137/137 [00:21<00:00,  6.29it/s]\n"
     ]
    },
    {
     "name": "stdout",
     "output_type": "stream",
     "text": [
      "Epoch 102, Average Loss: 0.3069642295820441, Learning Rate: 1.02e-06\n"
     ]
    },
    {
     "name": "stderr",
     "output_type": "stream",
     "text": [
      "100%|██████████| 35/35 [00:17<00:00,  2.02it/s]\n"
     ]
    },
    {
     "name": "stdout",
     "output_type": "stream",
     "text": [
      "Top 3 predicted triplets appended to ./log/pred_triplets_output.txt.\n",
      "Val Loss: 0.2566469040782457, binary_f1: 0.0000, v_f1: 0.0000, a_f1: 0.0000, F1-score: 0.0000\n"
     ]
    },
    {
     "name": "stderr",
     "output_type": "stream",
     "text": [
      "100%|██████████| 137/137 [00:21<00:00,  6.27it/s]\n"
     ]
    },
    {
     "name": "stdout",
     "output_type": "stream",
     "text": [
      "Epoch 103, Average Loss: 0.2418019642005462, Learning Rate: 1.03e-06\n"
     ]
    },
    {
     "name": "stderr",
     "output_type": "stream",
     "text": [
      "100%|██████████| 35/35 [00:17<00:00,  1.99it/s]\n"
     ]
    },
    {
     "name": "stdout",
     "output_type": "stream",
     "text": [
      "Top 3 predicted triplets appended to ./log/pred_triplets_output.txt.\n",
      "Val Loss: 0.2585865036983575, binary_f1: 0.0000, v_f1: 0.0000, a_f1: 0.0000, F1-score: 0.0000\n",
      "验证损失未改善，耐心值计数：1\n"
     ]
    },
    {
     "name": "stderr",
     "output_type": "stream",
     "text": [
      "100%|██████████| 137/137 [00:21<00:00,  6.30it/s]\n"
     ]
    },
    {
     "name": "stdout",
     "output_type": "stream",
     "text": [
      "Epoch 104, Average Loss: 0.11182983301241753, Learning Rate: 1.04e-06\n"
     ]
    },
    {
     "name": "stderr",
     "output_type": "stream",
     "text": [
      "100%|██████████| 35/35 [00:16<00:00,  2.13it/s]\n"
     ]
    },
    {
     "name": "stdout",
     "output_type": "stream",
     "text": [
      "Top 3 predicted triplets appended to ./log/pred_triplets_output.txt.\n",
      "Val Loss: 0.25650470005098863, binary_f1: 0.0000, v_f1: 0.0000, a_f1: 0.0000, F1-score: 0.0000\n",
      "验证损失未改善，耐心值计数：2\n"
     ]
    },
    {
     "name": "stderr",
     "output_type": "stream",
     "text": [
      "100%|██████████| 137/137 [00:21<00:00,  6.31it/s]\n"
     ]
    },
    {
     "name": "stdout",
     "output_type": "stream",
     "text": [
      "Epoch 105, Average Loss: 0.12539220921462402, Learning Rate: 1.0500000000000001e-06\n"
     ]
    },
    {
     "name": "stderr",
     "output_type": "stream",
     "text": [
      "100%|██████████| 35/35 [00:17<00:00,  1.95it/s]\n"
     ]
    },
    {
     "name": "stdout",
     "output_type": "stream",
     "text": [
      "Top 3 predicted triplets appended to ./log/pred_triplets_output.txt.\n",
      "Val Loss: 0.26420806769747285, binary_f1: 0.0000, v_f1: 0.0000, a_f1: 0.0000, F1-score: 0.0000\n",
      "验证损失未改善，耐心值计数：3\n"
     ]
    },
    {
     "name": "stderr",
     "output_type": "stream",
     "text": [
      "100%|██████████| 137/137 [00:21<00:00,  6.28it/s]\n"
     ]
    },
    {
     "name": "stdout",
     "output_type": "stream",
     "text": [
      "Epoch 106, Average Loss: 0.13240928777105201, Learning Rate: 1.06e-06\n"
     ]
    },
    {
     "name": "stderr",
     "output_type": "stream",
     "text": [
      "100%|██████████| 35/35 [00:16<00:00,  2.19it/s]\n"
     ]
    },
    {
     "name": "stdout",
     "output_type": "stream",
     "text": [
      "Top 3 predicted triplets appended to ./log/pred_triplets_output.txt.\n",
      "Val Loss: 0.2634513632211435, binary_f1: 0.0000, v_f1: 0.0000, a_f1: 0.0000, F1-score: 0.0000\n",
      "验证损失未改善，耐心值计数：4\n"
     ]
    },
    {
     "name": "stderr",
     "output_type": "stream",
     "text": [
      "100%|██████████| 137/137 [00:21<00:00,  6.33it/s]\n"
     ]
    },
    {
     "name": "stdout",
     "output_type": "stream",
     "text": [
      "Epoch 107, Average Loss: 0.0730270282968702, Learning Rate: 1.0700000000000001e-06\n"
     ]
    },
    {
     "name": "stderr",
     "output_type": "stream",
     "text": [
      "100%|██████████| 35/35 [00:17<00:00,  1.96it/s]\n"
     ]
    },
    {
     "name": "stdout",
     "output_type": "stream",
     "text": [
      "Top 3 predicted triplets appended to ./log/pred_triplets_output.txt.\n",
      "Val Loss: 0.266660658978591, binary_f1: 0.0000, v_f1: 0.0000, a_f1: 0.0000, F1-score: 0.0000\n",
      "验证损失未改善，耐心值计数：5\n"
     ]
    },
    {
     "name": "stderr",
     "output_type": "stream",
     "text": [
      "100%|██████████| 137/137 [00:21<00:00,  6.35it/s]\n"
     ]
    },
    {
     "name": "stdout",
     "output_type": "stream",
     "text": [
      "Epoch 108, Average Loss: 0.24466799190233932, Learning Rate: 1.08e-06\n"
     ]
    },
    {
     "name": "stderr",
     "output_type": "stream",
     "text": [
      "100%|██████████| 35/35 [00:17<00:00,  2.03it/s]\n"
     ]
    },
    {
     "name": "stdout",
     "output_type": "stream",
     "text": [
      "Top 3 predicted triplets appended to ./log/pred_triplets_output.txt.\n",
      "Val Loss: 0.2570248287553633, binary_f1: 0.0000, v_f1: 0.0000, a_f1: 0.0000, F1-score: 0.0000\n",
      "验证损失未改善，耐心值计数：6\n"
     ]
    },
    {
     "name": "stderr",
     "output_type": "stream",
     "text": [
      "100%|██████████| 137/137 [00:21<00:00,  6.32it/s]\n"
     ]
    },
    {
     "name": "stdout",
     "output_type": "stream",
     "text": [
      "Epoch 109, Average Loss: 0.17798627095945335, Learning Rate: 1.0900000000000002e-06\n"
     ]
    },
    {
     "name": "stderr",
     "output_type": "stream",
     "text": [
      "100%|██████████| 35/35 [00:17<00:00,  2.01it/s]\n"
     ]
    },
    {
     "name": "stdout",
     "output_type": "stream",
     "text": [
      "Top 3 predicted triplets appended to ./log/pred_triplets_output.txt.\n",
      "Val Loss: 0.2551494439697957, binary_f1: 0.0000, v_f1: 0.0000, a_f1: 0.0000, F1-score: 0.0000\n"
     ]
    },
    {
     "name": "stderr",
     "output_type": "stream",
     "text": [
      "100%|██████████| 137/137 [00:21<00:00,  6.31it/s]\n"
     ]
    },
    {
     "name": "stdout",
     "output_type": "stream",
     "text": [
      "Epoch 110, Average Loss: 0.23767669901955382, Learning Rate: 1.1e-06\n"
     ]
    },
    {
     "name": "stderr",
     "output_type": "stream",
     "text": [
      "100%|██████████| 35/35 [00:17<00:00,  1.99it/s]\n"
     ]
    },
    {
     "name": "stdout",
     "output_type": "stream",
     "text": [
      "Top 3 predicted triplets appended to ./log/pred_triplets_output.txt.\n",
      "Val Loss: 0.2536031220673716, binary_f1: 0.0000, v_f1: 0.0000, a_f1: 0.0000, F1-score: 0.0000\n"
     ]
    },
    {
     "name": "stderr",
     "output_type": "stream",
     "text": [
      "100%|██████████| 137/137 [00:21<00:00,  6.30it/s]\n"
     ]
    },
    {
     "name": "stdout",
     "output_type": "stream",
     "text": [
      "Epoch 111, Average Loss: 0.10992042842352114, Learning Rate: 1.1100000000000002e-06\n"
     ]
    },
    {
     "name": "stderr",
     "output_type": "stream",
     "text": [
      "100%|██████████| 35/35 [00:17<00:00,  1.98it/s]\n"
     ]
    },
    {
     "name": "stdout",
     "output_type": "stream",
     "text": [
      "Top 3 predicted triplets appended to ./log/pred_triplets_output.txt.\n",
      "Val Loss: 0.2547296211921743, binary_f1: 0.0000, v_f1: 0.0000, a_f1: 0.0000, F1-score: 0.0000\n",
      "验证损失未改善，耐心值计数：1\n"
     ]
    },
    {
     "name": "stderr",
     "output_type": "stream",
     "text": [
      "100%|██████████| 137/137 [00:21<00:00,  6.33it/s]\n"
     ]
    },
    {
     "name": "stdout",
     "output_type": "stream",
     "text": [
      "Epoch 112, Average Loss: 0.12045074836435953, Learning Rate: 1.12e-06\n"
     ]
    },
    {
     "name": "stderr",
     "output_type": "stream",
     "text": [
      "100%|██████████| 35/35 [00:17<00:00,  1.97it/s]\n"
     ]
    },
    {
     "name": "stdout",
     "output_type": "stream",
     "text": [
      "Top 3 predicted triplets appended to ./log/pred_triplets_output.txt.\n",
      "Val Loss: 0.2568727883743122, binary_f1: 0.0000, v_f1: 0.0000, a_f1: 0.0000, F1-score: 0.0000\n",
      "验证损失未改善，耐心值计数：2\n"
     ]
    },
    {
     "name": "stderr",
     "output_type": "stream",
     "text": [
      "100%|██████████| 137/137 [00:21<00:00,  6.33it/s]\n"
     ]
    },
    {
     "name": "stdout",
     "output_type": "stream",
     "text": [
      "Epoch 113, Average Loss: 0.12065678103750463, Learning Rate: 1.1300000000000002e-06\n"
     ]
    },
    {
     "name": "stderr",
     "output_type": "stream",
     "text": [
      "100%|██████████| 35/35 [00:17<00:00,  2.03it/s]\n"
     ]
    },
    {
     "name": "stdout",
     "output_type": "stream",
     "text": [
      "Top 3 predicted triplets appended to ./log/pred_triplets_output.txt.\n",
      "Val Loss: 0.2670514287925991, binary_f1: 0.0000, v_f1: 0.0000, a_f1: 0.0000, F1-score: 0.0000\n",
      "验证损失未改善，耐心值计数：3\n"
     ]
    },
    {
     "name": "stderr",
     "output_type": "stream",
     "text": [
      "100%|██████████| 137/137 [00:21<00:00,  6.32it/s]\n"
     ]
    },
    {
     "name": "stdout",
     "output_type": "stream",
     "text": [
      "Epoch 114, Average Loss: 0.14454791811592266, Learning Rate: 1.14e-06\n"
     ]
    },
    {
     "name": "stderr",
     "output_type": "stream",
     "text": [
      "100%|██████████| 35/35 [00:17<00:00,  1.98it/s]\n"
     ]
    },
    {
     "name": "stdout",
     "output_type": "stream",
     "text": [
      "Top 3 predicted triplets appended to ./log/pred_triplets_output.txt.\n",
      "Val Loss: 0.2725484074409386, binary_f1: 0.0000, v_f1: 0.0000, a_f1: 0.0000, F1-score: 0.0000\n",
      "验证损失未改善，耐心值计数：4\n"
     ]
    },
    {
     "name": "stderr",
     "output_type": "stream",
     "text": [
      "100%|██████████| 137/137 [00:21<00:00,  6.32it/s]\n"
     ]
    },
    {
     "name": "stdout",
     "output_type": "stream",
     "text": [
      "Epoch 115, Average Loss: 0.10508797182229919, Learning Rate: 1.1500000000000002e-06\n"
     ]
    },
    {
     "name": "stderr",
     "output_type": "stream",
     "text": [
      "100%|██████████| 35/35 [00:17<00:00,  2.00it/s]\n"
     ]
    },
    {
     "name": "stdout",
     "output_type": "stream",
     "text": [
      "Top 3 predicted triplets appended to ./log/pred_triplets_output.txt.\n",
      "Val Loss: 0.27109212584993136, binary_f1: 0.0000, v_f1: 0.0000, a_f1: 0.0000, F1-score: 0.0000\n",
      "验证损失未改善，耐心值计数：5\n"
     ]
    },
    {
     "name": "stderr",
     "output_type": "stream",
     "text": [
      "100%|██████████| 137/137 [00:21<00:00,  6.25it/s]\n"
     ]
    },
    {
     "name": "stdout",
     "output_type": "stream",
     "text": [
      "Epoch 116, Average Loss: 0.06128995575734761, Learning Rate: 1.1600000000000001e-06\n"
     ]
    },
    {
     "name": "stderr",
     "output_type": "stream",
     "text": [
      "100%|██████████| 35/35 [00:16<00:00,  2.17it/s]\n"
     ]
    },
    {
     "name": "stdout",
     "output_type": "stream",
     "text": [
      "Top 3 predicted triplets appended to ./log/pred_triplets_output.txt.\n",
      "Val Loss: 0.27032692306383976, binary_f1: 0.0000, v_f1: 0.0000, a_f1: 0.0000, F1-score: 0.0000\n",
      "验证损失未改善，耐心值计数：6\n"
     ]
    },
    {
     "name": "stderr",
     "output_type": "stream",
     "text": [
      "100%|██████████| 137/137 [00:22<00:00,  6.18it/s]\n"
     ]
    },
    {
     "name": "stdout",
     "output_type": "stream",
     "text": [
      "Epoch 117, Average Loss: 0.0962243762395615, Learning Rate: 1.1700000000000002e-06\n"
     ]
    },
    {
     "name": "stderr",
     "output_type": "stream",
     "text": [
      "100%|██████████| 35/35 [00:17<00:00,  1.95it/s]\n"
     ]
    },
    {
     "name": "stdout",
     "output_type": "stream",
     "text": [
      "Top 3 predicted triplets appended to ./log/pred_triplets_output.txt.\n",
      "Val Loss: 0.2695360060348841, binary_f1: 0.0000, v_f1: 0.0000, a_f1: 0.0000, F1-score: 0.0000\n",
      "验证损失未改善，耐心值计数：7\n"
     ]
    },
    {
     "name": "stderr",
     "output_type": "stream",
     "text": [
      "100%|██████████| 137/137 [00:21<00:00,  6.23it/s]\n"
     ]
    },
    {
     "name": "stdout",
     "output_type": "stream",
     "text": [
      "Epoch 118, Average Loss: 0.1942105161174401, Learning Rate: 1.1800000000000001e-06\n"
     ]
    },
    {
     "name": "stderr",
     "output_type": "stream",
     "text": [
      "100%|██████████| 35/35 [00:17<00:00,  1.98it/s]\n"
     ]
    },
    {
     "name": "stdout",
     "output_type": "stream",
     "text": [
      "Top 3 predicted triplets appended to ./log/pred_triplets_output.txt.\n",
      "Val Loss: 0.2629004229567467, binary_f1: 0.0000, v_f1: 0.0000, a_f1: 0.0000, F1-score: 0.0000\n",
      "验证损失未改善，耐心值计数：8\n"
     ]
    },
    {
     "name": "stderr",
     "output_type": "stream",
     "text": [
      "100%|██████████| 137/137 [00:21<00:00,  6.23it/s]\n"
     ]
    },
    {
     "name": "stdout",
     "output_type": "stream",
     "text": [
      "Epoch 119, Average Loss: 0.19128958338720342, Learning Rate: 1.19e-06\n"
     ]
    },
    {
     "name": "stderr",
     "output_type": "stream",
     "text": [
      "100%|██████████| 35/35 [00:17<00:00,  2.00it/s]\n"
     ]
    },
    {
     "name": "stdout",
     "output_type": "stream",
     "text": [
      "Top 3 predicted triplets appended to ./log/pred_triplets_output.txt.\n",
      "Val Loss: 0.25675314595823046, binary_f1: 0.0000, v_f1: 0.0000, a_f1: 0.0000, F1-score: 0.0000\n",
      "验证损失未改善，耐心值计数：9\n"
     ]
    },
    {
     "name": "stderr",
     "output_type": "stream",
     "text": [
      "100%|██████████| 137/137 [00:21<00:00,  6.24it/s]\n"
     ]
    },
    {
     "name": "stdout",
     "output_type": "stream",
     "text": [
      "Epoch 120, Average Loss: 0.21587774441849414, Learning Rate: 1.2000000000000002e-06\n"
     ]
    },
    {
     "name": "stderr",
     "output_type": "stream",
     "text": [
      "100%|██████████| 35/35 [00:17<00:00,  1.96it/s]\n"
     ]
    },
    {
     "name": "stdout",
     "output_type": "stream",
     "text": [
      "Top 3 predicted triplets appended to ./log/pred_triplets_output.txt.\n",
      "Val Loss: 0.23587051277946947, binary_f1: 0.0000, v_f1: 0.0000, a_f1: 0.0000, F1-score: 0.0000\n"
     ]
    },
    {
     "name": "stderr",
     "output_type": "stream",
     "text": [
      "100%|██████████| 137/137 [00:22<00:00,  6.18it/s]\n"
     ]
    },
    {
     "name": "stdout",
     "output_type": "stream",
     "text": [
      "Epoch 121, Average Loss: 0.04453549157294027, Learning Rate: 1.21e-06\n"
     ]
    },
    {
     "name": "stderr",
     "output_type": "stream",
     "text": [
      "100%|██████████| 35/35 [00:17<00:00,  1.98it/s]\n"
     ]
    },
    {
     "name": "stdout",
     "output_type": "stream",
     "text": [
      "Top 3 predicted triplets appended to ./log/pred_triplets_output.txt.\n",
      "Val Loss: 0.24644002616488642, binary_f1: 0.0000, v_f1: 0.0000, a_f1: 0.0000, F1-score: 0.0000\n",
      "验证损失未改善，耐心值计数：1\n"
     ]
    },
    {
     "name": "stderr",
     "output_type": "stream",
     "text": [
      "100%|██████████| 137/137 [00:21<00:00,  6.30it/s]\n"
     ]
    },
    {
     "name": "stdout",
     "output_type": "stream",
     "text": [
      "Epoch 122, Average Loss: 0.15440100527697337, Learning Rate: 1.2200000000000002e-06\n"
     ]
    },
    {
     "name": "stderr",
     "output_type": "stream",
     "text": [
      "100%|██████████| 35/35 [00:16<00:00,  2.13it/s]\n"
     ]
    },
    {
     "name": "stdout",
     "output_type": "stream",
     "text": [
      "Top 3 predicted triplets appended to ./log/pred_triplets_output.txt.\n",
      "Val Loss: 0.23861221509287134, binary_f1: 0.0000, v_f1: 0.0000, a_f1: 0.0000, F1-score: 0.0000\n",
      "验证损失未改善，耐心值计数：2\n"
     ]
    },
    {
     "name": "stderr",
     "output_type": "stream",
     "text": [
      "100%|██████████| 137/137 [00:22<00:00,  6.21it/s]\n"
     ]
    },
    {
     "name": "stdout",
     "output_type": "stream",
     "text": [
      "Epoch 123, Average Loss: 0.16506357681402176, Learning Rate: 1.23e-06\n"
     ]
    },
    {
     "name": "stderr",
     "output_type": "stream",
     "text": [
      "100%|██████████| 35/35 [00:15<00:00,  2.27it/s]\n"
     ]
    },
    {
     "name": "stdout",
     "output_type": "stream",
     "text": [
      "Top 3 predicted triplets appended to ./log/pred_triplets_output.txt.\n",
      "Val Loss: 0.23382825407565438, binary_f1: 0.0000, v_f1: 0.0000, a_f1: 0.0000, F1-score: 0.0000\n"
     ]
    },
    {
     "name": "stderr",
     "output_type": "stream",
     "text": [
      "100%|██████████| 137/137 [00:21<00:00,  6.27it/s]\n"
     ]
    },
    {
     "name": "stdout",
     "output_type": "stream",
     "text": [
      "Epoch 124, Average Loss: 0.14543736167528232, Learning Rate: 1.2400000000000002e-06\n"
     ]
    },
    {
     "name": "stderr",
     "output_type": "stream",
     "text": [
      "100%|██████████| 35/35 [00:16<00:00,  2.18it/s]\n"
     ]
    },
    {
     "name": "stdout",
     "output_type": "stream",
     "text": [
      "Top 3 predicted triplets appended to ./log/pred_triplets_output.txt.\n",
      "Val Loss: 0.21912372861656226, binary_f1: 0.0000, v_f1: 0.0000, a_f1: 0.0000, F1-score: 0.0000\n"
     ]
    },
    {
     "name": "stderr",
     "output_type": "stream",
     "text": [
      "100%|██████████| 137/137 [00:22<00:00,  6.19it/s]\n"
     ]
    },
    {
     "name": "stdout",
     "output_type": "stream",
     "text": [
      "Epoch 125, Average Loss: 0.14201427722115234, Learning Rate: 1.25e-06\n"
     ]
    },
    {
     "name": "stderr",
     "output_type": "stream",
     "text": [
      "100%|██████████| 35/35 [00:17<00:00,  1.99it/s]\n"
     ]
    },
    {
     "name": "stdout",
     "output_type": "stream",
     "text": [
      "Top 3 predicted triplets appended to ./log/pred_triplets_output.txt.\n",
      "Val Loss: 0.22086358344947388, binary_f1: 0.0000, v_f1: 0.0000, a_f1: 0.0000, F1-score: 0.0000\n",
      "验证损失未改善，耐心值计数：1\n"
     ]
    },
    {
     "name": "stderr",
     "output_type": "stream",
     "text": [
      "100%|██████████| 137/137 [00:21<00:00,  6.26it/s]\n"
     ]
    },
    {
     "name": "stdout",
     "output_type": "stream",
     "text": [
      "Epoch 126, Average Loss: 0.12642587982878653, Learning Rate: 1.26e-06\n"
     ]
    },
    {
     "name": "stderr",
     "output_type": "stream",
     "text": [
      "100%|██████████| 35/35 [00:17<00:00,  1.99it/s]\n"
     ]
    },
    {
     "name": "stdout",
     "output_type": "stream",
     "text": [
      "Top 3 predicted triplets appended to ./log/pred_triplets_output.txt.\n",
      "Val Loss: 0.218351996058066, binary_f1: 0.0000, v_f1: 0.0000, a_f1: 0.0000, F1-score: 0.0000\n",
      "验证损失未改善，耐心值计数：2\n"
     ]
    },
    {
     "name": "stderr",
     "output_type": "stream",
     "text": [
      "100%|██████████| 137/137 [00:21<00:00,  6.25it/s]\n"
     ]
    },
    {
     "name": "stdout",
     "output_type": "stream",
     "text": [
      "Epoch 127, Average Loss: 0.04115211779109787, Learning Rate: 1.2700000000000001e-06\n"
     ]
    },
    {
     "name": "stderr",
     "output_type": "stream",
     "text": [
      "100%|██████████| 35/35 [00:17<00:00,  2.04it/s]\n"
     ]
    },
    {
     "name": "stdout",
     "output_type": "stream",
     "text": [
      "Top 3 predicted triplets appended to ./log/pred_triplets_output.txt.\n",
      "Val Loss: 0.23175405418566827, binary_f1: 0.0000, v_f1: 0.0000, a_f1: 0.0000, F1-score: 0.0000\n",
      "验证损失未改善，耐心值计数：3\n"
     ]
    },
    {
     "name": "stderr",
     "output_type": "stream",
     "text": [
      "100%|██████████| 137/137 [00:22<00:00,  6.18it/s]\n"
     ]
    },
    {
     "name": "stdout",
     "output_type": "stream",
     "text": [
      "Epoch 128, Average Loss: 0.24900070336064406, Learning Rate: 1.28e-06\n"
     ]
    },
    {
     "name": "stderr",
     "output_type": "stream",
     "text": [
      "100%|██████████| 35/35 [00:17<00:00,  1.99it/s]\n"
     ]
    },
    {
     "name": "stdout",
     "output_type": "stream",
     "text": [
      "Top 3 predicted triplets appended to ./log/pred_triplets_output.txt.\n",
      "Val Loss: 0.22227143540845384, binary_f1: 0.0000, v_f1: 0.0000, a_f1: 0.0000, F1-score: 0.0000\n",
      "验证损失未改善，耐心值计数：4\n"
     ]
    },
    {
     "name": "stderr",
     "output_type": "stream",
     "text": [
      "100%|██████████| 137/137 [00:21<00:00,  6.29it/s]\n"
     ]
    },
    {
     "name": "stdout",
     "output_type": "stream",
     "text": [
      "Epoch 129, Average Loss: 0.19251125469658503, Learning Rate: 1.2900000000000001e-06\n"
     ]
    },
    {
     "name": "stderr",
     "output_type": "stream",
     "text": [
      "100%|██████████| 35/35 [00:17<00:00,  2.02it/s]\n"
     ]
    },
    {
     "name": "stdout",
     "output_type": "stream",
     "text": [
      "Top 3 predicted triplets appended to ./log/pred_triplets_output.txt.\n",
      "Val Loss: 0.21347326703170047, binary_f1: 0.0000, v_f1: 0.0000, a_f1: 0.0000, F1-score: 0.0000\n"
     ]
    },
    {
     "name": "stderr",
     "output_type": "stream",
     "text": [
      "100%|██████████| 137/137 [00:21<00:00,  6.23it/s]\n"
     ]
    },
    {
     "name": "stdout",
     "output_type": "stream",
     "text": [
      "Epoch 130, Average Loss: 0.04553838738358841, Learning Rate: 1.3e-06\n"
     ]
    },
    {
     "name": "stderr",
     "output_type": "stream",
     "text": [
      "100%|██████████| 35/35 [00:15<00:00,  2.22it/s]\n"
     ]
    },
    {
     "name": "stdout",
     "output_type": "stream",
     "text": [
      "Top 3 predicted triplets appended to ./log/pred_triplets_output.txt.\n",
      "Val Loss: 0.2191835809665333, binary_f1: 0.0000, v_f1: 0.0000, a_f1: 0.0000, F1-score: 0.0000\n",
      "验证损失未改善，耐心值计数：1\n"
     ]
    },
    {
     "name": "stderr",
     "output_type": "stream",
     "text": [
      "100%|██████████| 137/137 [00:21<00:00,  6.25it/s]\n"
     ]
    },
    {
     "name": "stdout",
     "output_type": "stream",
     "text": [
      "Epoch 131, Average Loss: 0.10158877158569904, Learning Rate: 1.3100000000000002e-06\n"
     ]
    },
    {
     "name": "stderr",
     "output_type": "stream",
     "text": [
      "100%|██████████| 35/35 [00:17<00:00,  2.04it/s]\n"
     ]
    },
    {
     "name": "stdout",
     "output_type": "stream",
     "text": [
      "Top 3 predicted triplets appended to ./log/pred_triplets_output.txt.\n",
      "Val Loss: 0.2182537622810092, binary_f1: 0.0000, v_f1: 0.0000, a_f1: 0.0000, F1-score: 0.0000\n",
      "验证损失未改善，耐心值计数：2\n"
     ]
    },
    {
     "name": "stderr",
     "output_type": "stream",
     "text": [
      "100%|██████████| 137/137 [00:21<00:00,  6.26it/s]\n"
     ]
    },
    {
     "name": "stdout",
     "output_type": "stream",
     "text": [
      "Epoch 132, Average Loss: 0.23961211212003183, Learning Rate: 1.32e-06\n"
     ]
    },
    {
     "name": "stderr",
     "output_type": "stream",
     "text": [
      "100%|██████████| 35/35 [00:15<00:00,  2.19it/s]\n"
     ]
    },
    {
     "name": "stdout",
     "output_type": "stream",
     "text": [
      "Top 3 predicted triplets appended to ./log/pred_triplets_output.txt.\n",
      "Val Loss: 0.21855142408250167, binary_f1: 0.0000, v_f1: 0.0000, a_f1: 0.0000, F1-score: 0.0000\n",
      "验证损失未改善，耐心值计数：3\n"
     ]
    },
    {
     "name": "stderr",
     "output_type": "stream",
     "text": [
      "100%|██████████| 137/137 [00:22<00:00,  6.18it/s]\n"
     ]
    },
    {
     "name": "stdout",
     "output_type": "stream",
     "text": [
      "Epoch 133, Average Loss: 0.11390203919529789, Learning Rate: 1.3300000000000002e-06\n"
     ]
    },
    {
     "name": "stderr",
     "output_type": "stream",
     "text": [
      "100%|██████████| 35/35 [00:17<00:00,  2.05it/s]\n"
     ]
    },
    {
     "name": "stdout",
     "output_type": "stream",
     "text": [
      "Top 3 predicted triplets appended to ./log/pred_triplets_output.txt.\n",
      "Val Loss: 0.21133663952683232, binary_f1: 0.0000, v_f1: 0.0000, a_f1: 0.0000, F1-score: 0.0000\n"
     ]
    },
    {
     "name": "stderr",
     "output_type": "stream",
     "text": [
      "100%|██████████| 137/137 [00:21<00:00,  6.24it/s]\n"
     ]
    },
    {
     "name": "stdout",
     "output_type": "stream",
     "text": [
      "Epoch 134, Average Loss: 0.09278477429298439, Learning Rate: 1.34e-06\n"
     ]
    },
    {
     "name": "stderr",
     "output_type": "stream",
     "text": [
      "100%|██████████| 35/35 [00:17<00:00,  2.02it/s]\n"
     ]
    },
    {
     "name": "stdout",
     "output_type": "stream",
     "text": [
      "Top 3 predicted triplets appended to ./log/pred_triplets_output.txt.\n",
      "Val Loss: 0.2054971837962512, binary_f1: 0.0000, v_f1: 0.0000, a_f1: 0.0000, F1-score: 0.0000\n"
     ]
    },
    {
     "name": "stderr",
     "output_type": "stream",
     "text": [
      "100%|██████████| 137/137 [00:21<00:00,  6.25it/s]\n"
     ]
    },
    {
     "name": "stdout",
     "output_type": "stream",
     "text": [
      "Epoch 135, Average Loss: 0.18183585512218148, Learning Rate: 1.3500000000000002e-06\n"
     ]
    },
    {
     "name": "stderr",
     "output_type": "stream",
     "text": [
      "100%|██████████| 35/35 [00:17<00:00,  1.97it/s]\n"
     ]
    },
    {
     "name": "stdout",
     "output_type": "stream",
     "text": [
      "Top 3 predicted triplets appended to ./log/pred_triplets_output.txt.\n",
      "Val Loss: 0.19581887951187257, binary_f1: 0.0000, v_f1: 0.0000, a_f1: 0.0000, F1-score: 0.0000\n"
     ]
    },
    {
     "name": "stderr",
     "output_type": "stream",
     "text": [
      "100%|██████████| 137/137 [00:21<00:00,  6.23it/s]\n"
     ]
    },
    {
     "name": "stdout",
     "output_type": "stream",
     "text": [
      "Epoch 136, Average Loss: 0.16296580704553632, Learning Rate: 1.3600000000000001e-06\n"
     ]
    },
    {
     "name": "stderr",
     "output_type": "stream",
     "text": [
      "100%|██████████| 35/35 [00:17<00:00,  1.99it/s]\n"
     ]
    },
    {
     "name": "stdout",
     "output_type": "stream",
     "text": [
      "Top 3 predicted triplets appended to ./log/pred_triplets_output.txt.\n",
      "Val Loss: 0.1627750627646622, binary_f1: 0.0000, v_f1: 0.0000, a_f1: 0.0000, F1-score: 0.0000\n"
     ]
    },
    {
     "name": "stderr",
     "output_type": "stream",
     "text": [
      "100%|██████████| 137/137 [00:21<00:00,  6.25it/s]\n"
     ]
    },
    {
     "name": "stdout",
     "output_type": "stream",
     "text": [
      "Epoch 137, Average Loss: 0.12579311598512943, Learning Rate: 1.3700000000000002e-06\n"
     ]
    },
    {
     "name": "stderr",
     "output_type": "stream",
     "text": [
      "100%|██████████| 35/35 [00:17<00:00,  1.96it/s]\n"
     ]
    },
    {
     "name": "stdout",
     "output_type": "stream",
     "text": [
      "Top 3 predicted triplets appended to ./log/pred_triplets_output.txt.\n",
      "Val Loss: 0.15098261310985045, binary_f1: 0.0000, v_f1: 0.0000, a_f1: 0.0000, F1-score: 0.0000\n"
     ]
    },
    {
     "name": "stderr",
     "output_type": "stream",
     "text": [
      "100%|██████████| 137/137 [00:21<00:00,  6.28it/s]\n"
     ]
    },
    {
     "name": "stdout",
     "output_type": "stream",
     "text": [
      "Epoch 138, Average Loss: 0.12424884007497602, Learning Rate: 1.3800000000000001e-06\n"
     ]
    },
    {
     "name": "stderr",
     "output_type": "stream",
     "text": [
      "100%|██████████| 35/35 [00:17<00:00,  1.99it/s]\n"
     ]
    },
    {
     "name": "stdout",
     "output_type": "stream",
     "text": [
      "Top 3 predicted triplets appended to ./log/pred_triplets_output.txt.\n",
      "Val Loss: 0.14353050673089457, binary_f1: 0.0000, v_f1: 0.0000, a_f1: 0.0000, F1-score: 0.0000\n"
     ]
    },
    {
     "name": "stderr",
     "output_type": "stream",
     "text": [
      "100%|██████████| 137/137 [00:21<00:00,  6.24it/s]\n"
     ]
    },
    {
     "name": "stdout",
     "output_type": "stream",
     "text": [
      "Epoch 139, Average Loss: 0.01850119928819175, Learning Rate: 1.3900000000000002e-06\n"
     ]
    },
    {
     "name": "stderr",
     "output_type": "stream",
     "text": [
      "100%|██████████| 35/35 [00:17<00:00,  1.99it/s]\n"
     ]
    },
    {
     "name": "stdout",
     "output_type": "stream",
     "text": [
      "Top 3 predicted triplets appended to ./log/pred_triplets_output.txt.\n",
      "Val Loss: 0.14672458832584587, binary_f1: 0.0000, v_f1: 0.0000, a_f1: 0.0000, F1-score: 0.0000\n",
      "验证损失未改善，耐心值计数：1\n"
     ]
    },
    {
     "name": "stderr",
     "output_type": "stream",
     "text": [
      "100%|██████████| 137/137 [00:21<00:00,  6.28it/s]\n"
     ]
    },
    {
     "name": "stdout",
     "output_type": "stream",
     "text": [
      "Epoch 140, Average Loss: 0.07301304609092873, Learning Rate: 1.4000000000000001e-06\n"
     ]
    },
    {
     "name": "stderr",
     "output_type": "stream",
     "text": [
      "100%|██████████| 35/35 [00:17<00:00,  1.99it/s]\n"
     ]
    },
    {
     "name": "stdout",
     "output_type": "stream",
     "text": [
      "Top 3 predicted triplets appended to ./log/pred_triplets_output.txt.\n",
      "Val Loss: 0.14505077245994472, binary_f1: 0.0000, v_f1: 0.0000, a_f1: 0.0000, F1-score: 0.0000\n",
      "验证损失未改善，耐心值计数：2\n"
     ]
    },
    {
     "name": "stderr",
     "output_type": "stream",
     "text": [
      "100%|██████████| 137/137 [00:22<00:00,  6.22it/s]\n"
     ]
    },
    {
     "name": "stdout",
     "output_type": "stream",
     "text": [
      "Epoch 141, Average Loss: 0.0472994409527045, Learning Rate: 1.41e-06\n"
     ]
    },
    {
     "name": "stderr",
     "output_type": "stream",
     "text": [
      "100%|██████████| 35/35 [00:17<00:00,  1.96it/s]\n"
     ]
    },
    {
     "name": "stdout",
     "output_type": "stream",
     "text": [
      "Top 3 predicted triplets appended to ./log/pred_triplets_output.txt.\n",
      "Val Loss: 0.14804214444177757, binary_f1: 0.0000, v_f1: 0.0000, a_f1: 0.0000, F1-score: 0.0000\n",
      "验证损失未改善，耐心值计数：3\n"
     ]
    },
    {
     "name": "stderr",
     "output_type": "stream",
     "text": [
      "100%|██████████| 137/137 [00:22<00:00,  6.21it/s]\n"
     ]
    },
    {
     "name": "stdout",
     "output_type": "stream",
     "text": [
      "Epoch 142, Average Loss: 0.04651962612025027, Learning Rate: 1.42e-06\n"
     ]
    },
    {
     "name": "stderr",
     "output_type": "stream",
     "text": [
      "100%|██████████| 35/35 [00:17<00:00,  1.99it/s]\n"
     ]
    },
    {
     "name": "stdout",
     "output_type": "stream",
     "text": [
      "Top 3 predicted triplets appended to ./log/pred_triplets_output.txt.\n",
      "Val Loss: 0.1513542897442156, binary_f1: 0.0000, v_f1: 0.0000, a_f1: 0.0000, F1-score: 0.0000\n",
      "验证损失未改善，耐心值计数：4\n"
     ]
    },
    {
     "name": "stderr",
     "output_type": "stream",
     "text": [
      "100%|██████████| 137/137 [00:21<00:00,  6.25it/s]\n"
     ]
    },
    {
     "name": "stdout",
     "output_type": "stream",
     "text": [
      "Epoch 143, Average Loss: 0.13937069776769215, Learning Rate: 1.43e-06\n"
     ]
    },
    {
     "name": "stderr",
     "output_type": "stream",
     "text": [
      "100%|██████████| 35/35 [00:18<00:00,  1.93it/s]\n"
     ]
    },
    {
     "name": "stdout",
     "output_type": "stream",
     "text": [
      "Top 3 predicted triplets appended to ./log/pred_triplets_output.txt.\n",
      "Val Loss: 0.13198483866040728, binary_f1: 0.0000, v_f1: 0.0000, a_f1: 0.0000, F1-score: 0.0000\n"
     ]
    },
    {
     "name": "stderr",
     "output_type": "stream",
     "text": [
      "100%|██████████| 137/137 [00:21<00:00,  6.30it/s]\n"
     ]
    },
    {
     "name": "stdout",
     "output_type": "stream",
     "text": [
      "Epoch 144, Average Loss: 0.08033233840145124, Learning Rate: 1.44e-06\n"
     ]
    },
    {
     "name": "stderr",
     "output_type": "stream",
     "text": [
      "100%|██████████| 35/35 [00:16<00:00,  2.10it/s]\n"
     ]
    },
    {
     "name": "stdout",
     "output_type": "stream",
     "text": [
      "Top 3 predicted triplets appended to ./log/pred_triplets_output.txt.\n",
      "Val Loss: 0.1381670448330364, binary_f1: 0.0000, v_f1: 0.0000, a_f1: 0.0000, F1-score: 0.0000\n",
      "验证损失未改善，耐心值计数：1\n"
     ]
    },
    {
     "name": "stderr",
     "output_type": "stream",
     "text": [
      "100%|██████████| 137/137 [00:22<00:00,  6.21it/s]\n"
     ]
    },
    {
     "name": "stdout",
     "output_type": "stream",
     "text": [
      "Epoch 145, Average Loss: 0.036979299965749, Learning Rate: 1.45e-06\n"
     ]
    },
    {
     "name": "stderr",
     "output_type": "stream",
     "text": [
      "100%|██████████| 35/35 [00:17<00:00,  1.98it/s]\n"
     ]
    },
    {
     "name": "stdout",
     "output_type": "stream",
     "text": [
      "Top 3 predicted triplets appended to ./log/pred_triplets_output.txt.\n",
      "Val Loss: 0.13294781357731802, binary_f1: 0.0000, v_f1: 0.0000, a_f1: 0.0000, F1-score: 0.0000\n",
      "验证损失未改善，耐心值计数：2\n"
     ]
    },
    {
     "name": "stderr",
     "output_type": "stream",
     "text": [
      "100%|██████████| 137/137 [00:22<00:00,  6.22it/s]\n"
     ]
    },
    {
     "name": "stdout",
     "output_type": "stream",
     "text": [
      "Epoch 146, Average Loss: 0.013924725497325026, Learning Rate: 1.46e-06\n"
     ]
    },
    {
     "name": "stderr",
     "output_type": "stream",
     "text": [
      "100%|██████████| 35/35 [00:17<00:00,  1.98it/s]\n"
     ]
    },
    {
     "name": "stdout",
     "output_type": "stream",
     "text": [
      "Top 3 predicted triplets appended to ./log/pred_triplets_output.txt.\n",
      "Val Loss: 0.1331961263170732, binary_f1: 0.0000, v_f1: 0.0000, a_f1: 0.0000, F1-score: 0.0000\n",
      "验证损失未改善，耐心值计数：3\n"
     ]
    },
    {
     "name": "stderr",
     "output_type": "stream",
     "text": [
      "100%|██████████| 137/137 [00:21<00:00,  6.26it/s]\n"
     ]
    },
    {
     "name": "stdout",
     "output_type": "stream",
     "text": [
      "Epoch 147, Average Loss: 0.04452603181211633, Learning Rate: 1.4700000000000001e-06\n"
     ]
    },
    {
     "name": "stderr",
     "output_type": "stream",
     "text": [
      "100%|██████████| 35/35 [00:18<00:00,  1.91it/s]\n"
     ]
    },
    {
     "name": "stdout",
     "output_type": "stream",
     "text": [
      "Top 3 predicted triplets appended to ./log/pred_triplets_output.txt.\n",
      "Val Loss: 0.1297497162046576, binary_f1: 0.0000, v_f1: 0.0000, a_f1: 0.0000, F1-score: 0.0000\n"
     ]
    },
    {
     "name": "stderr",
     "output_type": "stream",
     "text": [
      "100%|██████████| 137/137 [00:21<00:00,  6.32it/s]\n"
     ]
    },
    {
     "name": "stdout",
     "output_type": "stream",
     "text": [
      "Epoch 148, Average Loss: 0.10698363847646482, Learning Rate: 1.48e-06\n"
     ]
    },
    {
     "name": "stderr",
     "output_type": "stream",
     "text": [
      "100%|██████████| 35/35 [00:16<00:00,  2.18it/s]\n"
     ]
    },
    {
     "name": "stdout",
     "output_type": "stream",
     "text": [
      "Top 3 predicted triplets appended to ./log/pred_triplets_output.txt.\n",
      "Val Loss: 0.12510799710705345, binary_f1: 0.0000, v_f1: 0.0000, a_f1: 0.0000, F1-score: 0.0000\n"
     ]
    },
    {
     "name": "stderr",
     "output_type": "stream",
     "text": [
      "100%|██████████| 137/137 [00:21<00:00,  6.31it/s]\n"
     ]
    },
    {
     "name": "stdout",
     "output_type": "stream",
     "text": [
      "Epoch 149, Average Loss: 0.09637031517527214, Learning Rate: 1.4900000000000001e-06\n"
     ]
    },
    {
     "name": "stderr",
     "output_type": "stream",
     "text": [
      "100%|██████████| 35/35 [00:17<00:00,  1.98it/s]\n"
     ]
    },
    {
     "name": "stdout",
     "output_type": "stream",
     "text": [
      "Top 3 predicted triplets appended to ./log/pred_triplets_output.txt.\n",
      "Val Loss: 0.12003397961546268, binary_f1: 0.0000, v_f1: 0.0000, a_f1: 0.0000, F1-score: 0.0000\n"
     ]
    },
    {
     "name": "stderr",
     "output_type": "stream",
     "text": [
      "100%|██████████| 137/137 [00:21<00:00,  6.29it/s]\n"
     ]
    },
    {
     "name": "stdout",
     "output_type": "stream",
     "text": [
      "Epoch 150, Average Loss: 0.06230046373592727, Learning Rate: 1.5e-06\n"
     ]
    },
    {
     "name": "stderr",
     "output_type": "stream",
     "text": [
      "100%|██████████| 35/35 [00:17<00:00,  1.98it/s]\n"
     ]
    },
    {
     "name": "stdout",
     "output_type": "stream",
     "text": [
      "Top 3 predicted triplets appended to ./log/pred_triplets_output.txt.\n",
      "Val Loss: 0.1182352147065103, binary_f1: 0.0000, v_f1: 0.0000, a_f1: 0.0000, F1-score: 0.0000\n"
     ]
    },
    {
     "name": "stderr",
     "output_type": "stream",
     "text": [
      "100%|██████████| 137/137 [00:21<00:00,  6.27it/s]\n"
     ]
    },
    {
     "name": "stdout",
     "output_type": "stream",
     "text": [
      "Epoch 151, Average Loss: 0.09129033704493518, Learning Rate: 1.5100000000000002e-06\n"
     ]
    },
    {
     "name": "stderr",
     "output_type": "stream",
     "text": [
      "100%|██████████| 35/35 [00:17<00:00,  2.03it/s]\n"
     ]
    },
    {
     "name": "stdout",
     "output_type": "stream",
     "text": [
      "Top 3 predicted triplets appended to ./log/pred_triplets_output.txt.\n",
      "Val Loss: 0.11252750432384866, binary_f1: 0.0000, v_f1: 0.0000, a_f1: 0.0000, F1-score: 0.0000\n"
     ]
    },
    {
     "name": "stderr",
     "output_type": "stream",
     "text": [
      "100%|██████████| 137/137 [00:21<00:00,  6.34it/s]\n"
     ]
    },
    {
     "name": "stdout",
     "output_type": "stream",
     "text": [
      "Epoch 152, Average Loss: 0.03836331452178449, Learning Rate: 1.52e-06\n"
     ]
    },
    {
     "name": "stderr",
     "output_type": "stream",
     "text": [
      "100%|██████████| 35/35 [00:17<00:00,  1.98it/s]\n"
     ]
    },
    {
     "name": "stdout",
     "output_type": "stream",
     "text": [
      "Top 3 predicted triplets appended to ./log/pred_triplets_output.txt.\n",
      "Val Loss: 0.11197508228942751, binary_f1: 0.0000, v_f1: 0.0000, a_f1: 0.0000, F1-score: 0.0000\n",
      "验证损失未改善，耐心值计数：1\n"
     ]
    },
    {
     "name": "stderr",
     "output_type": "stream",
     "text": [
      "100%|██████████| 137/137 [00:21<00:00,  6.25it/s]\n"
     ]
    },
    {
     "name": "stdout",
     "output_type": "stream",
     "text": [
      "Epoch 153, Average Loss: 0.07083110259647755, Learning Rate: 1.5300000000000002e-06\n"
     ]
    },
    {
     "name": "stderr",
     "output_type": "stream",
     "text": [
      "100%|██████████| 35/35 [00:17<00:00,  2.04it/s]\n"
     ]
    },
    {
     "name": "stdout",
     "output_type": "stream",
     "text": [
      "Top 3 predicted triplets appended to ./log/pred_triplets_output.txt.\n",
      "Val Loss: 0.10639968305206692, binary_f1: 0.0000, v_f1: 0.0000, a_f1: 0.0000, F1-score: 0.0000\n"
     ]
    },
    {
     "name": "stderr",
     "output_type": "stream",
     "text": [
      "100%|██████████| 137/137 [00:22<00:00,  6.18it/s]\n"
     ]
    },
    {
     "name": "stdout",
     "output_type": "stream",
     "text": [
      "Epoch 154, Average Loss: 0.08312453970691847, Learning Rate: 1.54e-06\n"
     ]
    },
    {
     "name": "stderr",
     "output_type": "stream",
     "text": [
      "100%|██████████| 35/35 [00:17<00:00,  1.98it/s]\n"
     ]
    },
    {
     "name": "stdout",
     "output_type": "stream",
     "text": [
      "Top 3 predicted triplets appended to ./log/pred_triplets_output.txt.\n",
      "Val Loss: 0.10861689983149907, binary_f1: 0.0000, v_f1: 0.0000, a_f1: 0.0000, F1-score: 0.0000\n",
      "验证损失未改善，耐心值计数：1\n"
     ]
    },
    {
     "name": "stderr",
     "output_type": "stream",
     "text": [
      "100%|██████████| 137/137 [00:22<00:00,  6.16it/s]\n"
     ]
    },
    {
     "name": "stdout",
     "output_type": "stream",
     "text": [
      "Epoch 155, Average Loss: 0.058149366754801424, Learning Rate: 1.5500000000000002e-06\n"
     ]
    },
    {
     "name": "stderr",
     "output_type": "stream",
     "text": [
      "100%|██████████| 35/35 [00:18<00:00,  1.94it/s]\n"
     ]
    },
    {
     "name": "stdout",
     "output_type": "stream",
     "text": [
      "Top 3 predicted triplets appended to ./log/pred_triplets_output.txt.\n",
      "Val Loss: 0.1029833867457845, binary_f1: 0.0000, v_f1: 0.0000, a_f1: 0.0000, F1-score: 0.0000\n"
     ]
    },
    {
     "name": "stderr",
     "output_type": "stream",
     "text": [
      "100%|██████████| 137/137 [00:22<00:00,  6.18it/s]\n"
     ]
    },
    {
     "name": "stdout",
     "output_type": "stream",
     "text": [
      "Epoch 156, Average Loss: 0.0526607277099745, Learning Rate: 1.56e-06\n"
     ]
    },
    {
     "name": "stderr",
     "output_type": "stream",
     "text": [
      "100%|██████████| 35/35 [00:17<00:00,  1.98it/s]\n"
     ]
    },
    {
     "name": "stdout",
     "output_type": "stream",
     "text": [
      "Top 3 predicted triplets appended to ./log/pred_triplets_output.txt.\n",
      "Val Loss: 0.10238246731085902, binary_f1: 0.0000, v_f1: 0.0000, a_f1: 0.0000, F1-score: 0.0000\n",
      "验证损失未改善，耐心值计数：1\n"
     ]
    },
    {
     "name": "stderr",
     "output_type": "stream",
     "text": [
      "100%|██████████| 137/137 [00:21<00:00,  6.29it/s]\n"
     ]
    },
    {
     "name": "stdout",
     "output_type": "stream",
     "text": [
      "Epoch 157, Average Loss: 0.03943252251959358, Learning Rate: 1.5700000000000002e-06\n"
     ]
    },
    {
     "name": "stderr",
     "output_type": "stream",
     "text": [
      "100%|██████████| 35/35 [00:17<00:00,  2.00it/s]\n"
     ]
    },
    {
     "name": "stdout",
     "output_type": "stream",
     "text": [
      "Top 3 predicted triplets appended to ./log/pred_triplets_output.txt.\n",
      "Val Loss: 0.09995114889027588, binary_f1: 0.0000, v_f1: 0.0000, a_f1: 0.0000, F1-score: 0.0000\n"
     ]
    },
    {
     "name": "stderr",
     "output_type": "stream",
     "text": [
      "100%|██████████| 137/137 [00:21<00:00,  6.32it/s]\n"
     ]
    },
    {
     "name": "stdout",
     "output_type": "stream",
     "text": [
      "Epoch 158, Average Loss: 0.06760128049015698, Learning Rate: 1.5800000000000001e-06\n"
     ]
    },
    {
     "name": "stderr",
     "output_type": "stream",
     "text": [
      "100%|██████████| 35/35 [00:17<00:00,  1.98it/s]\n"
     ]
    },
    {
     "name": "stdout",
     "output_type": "stream",
     "text": [
      "Top 3 predicted triplets appended to ./log/pred_triplets_output.txt.\n",
      "Val Loss: 0.09962067778033087, binary_f1: 0.0000, v_f1: 0.0000, a_f1: 0.0000, F1-score: 0.0000\n",
      "验证损失未改善，耐心值计数：1\n"
     ]
    },
    {
     "name": "stderr",
     "output_type": "stream",
     "text": [
      "100%|██████████| 137/137 [00:22<00:00,  6.12it/s]\n"
     ]
    },
    {
     "name": "stdout",
     "output_type": "stream",
     "text": [
      "Epoch 159, Average Loss: 0.04347114671499895, Learning Rate: 1.5900000000000002e-06\n"
     ]
    },
    {
     "name": "stderr",
     "output_type": "stream",
     "text": [
      "100%|██████████| 35/35 [00:15<00:00,  2.27it/s]\n"
     ]
    },
    {
     "name": "stdout",
     "output_type": "stream",
     "text": [
      "Top 3 predicted triplets appended to ./log/pred_triplets_output.txt.\n",
      "Val Loss: 0.09859953308644305, binary_f1: 0.0000, v_f1: 0.0000, a_f1: 0.0000, F1-score: 0.0000\n"
     ]
    },
    {
     "name": "stderr",
     "output_type": "stream",
     "text": [
      "100%|██████████| 137/137 [00:21<00:00,  6.23it/s]\n"
     ]
    },
    {
     "name": "stdout",
     "output_type": "stream",
     "text": [
      "Epoch 160, Average Loss: 0.04872603459393327, Learning Rate: 1.6000000000000001e-06\n"
     ]
    },
    {
     "name": "stderr",
     "output_type": "stream",
     "text": [
      "100%|██████████| 35/35 [00:17<00:00,  1.96it/s]\n"
     ]
    },
    {
     "name": "stdout",
     "output_type": "stream",
     "text": [
      "Top 3 predicted triplets appended to ./log/pred_triplets_output.txt.\n",
      "Val Loss: 0.10139689555009161, binary_f1: 0.0000, v_f1: 0.0000, a_f1: 0.0000, F1-score: 0.0000\n",
      "验证损失未改善，耐心值计数：1\n"
     ]
    },
    {
     "name": "stderr",
     "output_type": "stream",
     "text": [
      "100%|██████████| 137/137 [00:22<00:00,  6.13it/s]\n"
     ]
    },
    {
     "name": "stdout",
     "output_type": "stream",
     "text": [
      "Epoch 161, Average Loss: 0.034968078008769624, Learning Rate: 1.6100000000000003e-06\n"
     ]
    },
    {
     "name": "stderr",
     "output_type": "stream",
     "text": [
      "100%|██████████| 35/35 [00:17<00:00,  1.97it/s]\n"
     ]
    },
    {
     "name": "stdout",
     "output_type": "stream",
     "text": [
      "Top 3 predicted triplets appended to ./log/pred_triplets_output.txt.\n",
      "Val Loss: 0.10004444523817385, binary_f1: 0.0000, v_f1: 0.0000, a_f1: 0.0000, F1-score: 0.0000\n",
      "验证损失未改善，耐心值计数：2\n"
     ]
    },
    {
     "name": "stderr",
     "output_type": "stream",
     "text": [
      "100%|██████████| 137/137 [00:22<00:00,  6.20it/s]\n"
     ]
    },
    {
     "name": "stdout",
     "output_type": "stream",
     "text": [
      "Epoch 162, Average Loss: 0.11077562572152429, Learning Rate: 1.6200000000000002e-06\n"
     ]
    },
    {
     "name": "stderr",
     "output_type": "stream",
     "text": [
      "100%|██████████| 35/35 [00:17<00:00,  2.02it/s]\n"
     ]
    },
    {
     "name": "stdout",
     "output_type": "stream",
     "text": [
      "Top 3 predicted triplets appended to ./log/pred_triplets_output.txt.\n",
      "Val Loss: 0.09950669908929351, binary_f1: 0.0000, v_f1: 0.0000, a_f1: 0.0000, F1-score: 0.0000\n",
      "验证损失未改善，耐心值计数：3\n"
     ]
    },
    {
     "name": "stderr",
     "output_type": "stream",
     "text": [
      "100%|██████████| 137/137 [00:22<00:00,  6.15it/s]\n"
     ]
    },
    {
     "name": "stdout",
     "output_type": "stream",
     "text": [
      "Epoch 163, Average Loss: 0.040748331698184974, Learning Rate: 1.6300000000000003e-06\n"
     ]
    },
    {
     "name": "stderr",
     "output_type": "stream",
     "text": [
      "100%|██████████| 35/35 [00:16<00:00,  2.09it/s]\n"
     ]
    },
    {
     "name": "stdout",
     "output_type": "stream",
     "text": [
      "Top 3 predicted triplets appended to ./log/pred_triplets_output.txt.\n",
      "Val Loss: 0.10001723228438746, binary_f1: 0.0000, v_f1: 0.0000, a_f1: 0.0000, F1-score: 0.0000\n",
      "验证损失未改善，耐心值计数：4\n"
     ]
    },
    {
     "name": "stderr",
     "output_type": "stream",
     "text": [
      "100%|██████████| 137/137 [00:21<00:00,  6.26it/s]\n"
     ]
    },
    {
     "name": "stdout",
     "output_type": "stream",
     "text": [
      "Epoch 164, Average Loss: 0.03144942000122736, Learning Rate: 1.6400000000000002e-06\n"
     ]
    },
    {
     "name": "stderr",
     "output_type": "stream",
     "text": [
      "100%|██████████| 35/35 [00:17<00:00,  1.98it/s]\n"
     ]
    },
    {
     "name": "stdout",
     "output_type": "stream",
     "text": [
      "Top 3 predicted triplets appended to ./log/pred_triplets_output.txt.\n",
      "Val Loss: 0.10001395588873753, binary_f1: 0.0000, v_f1: 0.0000, a_f1: 0.0000, F1-score: 0.0000\n",
      "验证损失未改善，耐心值计数：5\n"
     ]
    },
    {
     "name": "stderr",
     "output_type": "stream",
     "text": [
      "100%|██████████| 137/137 [00:21<00:00,  6.25it/s]\n"
     ]
    },
    {
     "name": "stdout",
     "output_type": "stream",
     "text": [
      "Epoch 165, Average Loss: 0.10267879338656725, Learning Rate: 1.6500000000000003e-06\n"
     ]
    },
    {
     "name": "stderr",
     "output_type": "stream",
     "text": [
      "100%|██████████| 35/35 [00:17<00:00,  2.04it/s]\n"
     ]
    },
    {
     "name": "stdout",
     "output_type": "stream",
     "text": [
      "Top 3 predicted triplets appended to ./log/pred_triplets_output.txt.\n",
      "Val Loss: 0.10254146259311321, binary_f1: 0.0000, v_f1: 0.0000, a_f1: 0.0000, F1-score: 0.0000\n",
      "验证损失未改善，耐心值计数：6\n"
     ]
    },
    {
     "name": "stderr",
     "output_type": "stream",
     "text": [
      "100%|██████████| 137/137 [00:22<00:00,  6.19it/s]\n"
     ]
    },
    {
     "name": "stdout",
     "output_type": "stream",
     "text": [
      "Epoch 166, Average Loss: 0.017222461558885432, Learning Rate: 1.6600000000000002e-06\n"
     ]
    },
    {
     "name": "stderr",
     "output_type": "stream",
     "text": [
      "100%|██████████| 35/35 [00:17<00:00,  1.97it/s]\n"
     ]
    },
    {
     "name": "stdout",
     "output_type": "stream",
     "text": [
      "Top 3 predicted triplets appended to ./log/pred_triplets_output.txt.\n",
      "Val Loss: 0.10225903339368025, binary_f1: 0.0000, v_f1: 0.0000, a_f1: 0.0000, F1-score: 0.0000\n",
      "验证损失未改善，耐心值计数：7\n"
     ]
    },
    {
     "name": "stderr",
     "output_type": "stream",
     "text": [
      "100%|██████████| 137/137 [00:22<00:00,  6.21it/s]\n"
     ]
    },
    {
     "name": "stdout",
     "output_type": "stream",
     "text": [
      "Epoch 167, Average Loss: 0.07107871535351418, Learning Rate: 1.6700000000000003e-06\n"
     ]
    },
    {
     "name": "stderr",
     "output_type": "stream",
     "text": [
      "100%|██████████| 35/35 [00:18<00:00,  1.92it/s]\n"
     ]
    },
    {
     "name": "stdout",
     "output_type": "stream",
     "text": [
      "[('[CLS]', '嫩'), ('微', '嫩'), ('酸', '嫩')]\n",
      "[('港點的表現', '蠻不錯'), ('湯汁', '微酸的'), ('魚肉', '微酸的')]\n",
      "{('肉', '嫩')}\n",
      "Top 3 predicted triplets appended to ./log/pred_triplets_output.txt.\n",
      "Val Loss: 0.10185061851919142, binary_f1: 0.0006, v_f1: 0.0000, a_f1: 0.0000, F1-score: 0.0000\n",
      "验证损失未改善，耐心值计数：8\n"
     ]
    },
    {
     "name": "stderr",
     "output_type": "stream",
     "text": [
      "100%|██████████| 137/137 [00:22<00:00,  6.22it/s]\n"
     ]
    },
    {
     "name": "stdout",
     "output_type": "stream",
     "text": [
      "Epoch 168, Average Loss: 0.001930767613553177, Learning Rate: 1.6800000000000002e-06\n"
     ]
    },
    {
     "name": "stderr",
     "output_type": "stream",
     "text": [
      "100%|██████████| 35/35 [00:18<00:00,  1.94it/s]\n"
     ]
    },
    {
     "name": "stdout",
     "output_type": "stream",
     "text": [
      "Top 3 predicted triplets appended to ./log/pred_triplets_output.txt.\n",
      "Val Loss: 0.10300801668366018, binary_f1: 0.0000, v_f1: 0.0000, a_f1: 0.0000, F1-score: 0.0000\n",
      "验证损失未改善，耐心值计数：9\n"
     ]
    },
    {
     "name": "stderr",
     "output_type": "stream",
     "text": [
      "100%|██████████| 137/137 [00:22<00:00,  6.11it/s]\n"
     ]
    },
    {
     "name": "stdout",
     "output_type": "stream",
     "text": [
      "Epoch 169, Average Loss: 0.04508498663042462, Learning Rate: 1.6900000000000003e-06\n"
     ]
    },
    {
     "name": "stderr",
     "output_type": "stream",
     "text": [
      "100%|██████████| 35/35 [00:16<00:00,  2.07it/s]\n"
     ]
    },
    {
     "name": "stdout",
     "output_type": "stream",
     "text": [
      "Top 3 predicted triplets appended to ./log/pred_triplets_output.txt.\n",
      "Val Loss: 0.10352752413933299, binary_f1: 0.0000, v_f1: 0.0000, a_f1: 0.0000, F1-score: 0.0000\n",
      "验证损失未改善，耐心值计数：10\n"
     ]
    },
    {
     "name": "stderr",
     "output_type": "stream",
     "text": [
      "100%|██████████| 137/137 [00:21<00:00,  6.24it/s]\n"
     ]
    },
    {
     "name": "stdout",
     "output_type": "stream",
     "text": [
      "Epoch 170, Average Loss: 0.11797214674874486, Learning Rate: 1.7000000000000002e-06\n"
     ]
    },
    {
     "name": "stderr",
     "output_type": "stream",
     "text": [
      "100%|██████████| 35/35 [00:18<00:00,  1.92it/s]\n"
     ]
    },
    {
     "name": "stdout",
     "output_type": "stream",
     "text": [
      "Top 3 predicted triplets appended to ./log/pred_triplets_output.txt.\n",
      "Val Loss: 0.10466818646112058, binary_f1: 0.0000, v_f1: 0.0000, a_f1: 0.0000, F1-score: 0.0000\n",
      "验证损失未改善，耐心值计数：11\n"
     ]
    },
    {
     "name": "stderr",
     "output_type": "stream",
     "text": [
      "100%|██████████| 137/137 [00:21<00:00,  6.27it/s]\n"
     ]
    },
    {
     "name": "stdout",
     "output_type": "stream",
     "text": [
      "Epoch 171, Average Loss: 0.04611678536691156, Learning Rate: 1.7100000000000004e-06\n"
     ]
    },
    {
     "name": "stderr",
     "output_type": "stream",
     "text": [
      "100%|██████████| 35/35 [00:17<00:00,  2.03it/s]\n"
     ]
    },
    {
     "name": "stdout",
     "output_type": "stream",
     "text": [
      "Top 3 predicted triplets appended to ./log/pred_triplets_output.txt.\n",
      "Val Loss: 0.10480484238900577, binary_f1: 0.0000, v_f1: 0.0000, a_f1: 0.0000, F1-score: 0.0000\n",
      "验证损失未改善，耐心值计数：12\n"
     ]
    },
    {
     "name": "stderr",
     "output_type": "stream",
     "text": [
      "100%|██████████| 137/137 [00:22<00:00,  6.15it/s]\n"
     ]
    },
    {
     "name": "stdout",
     "output_type": "stream",
     "text": [
      "Epoch 172, Average Loss: 0.02259356868605216, Learning Rate: 1.72e-06\n"
     ]
    },
    {
     "name": "stderr",
     "output_type": "stream",
     "text": [
      "100%|██████████| 35/35 [00:17<00:00,  2.03it/s]\n"
     ]
    },
    {
     "name": "stdout",
     "output_type": "stream",
     "text": [
      "Top 3 predicted triplets appended to ./log/pred_triplets_output.txt.\n",
      "Val Loss: 0.10446589623045709, binary_f1: 0.0000, v_f1: 0.0000, a_f1: 0.0000, F1-score: 0.0000\n",
      "验证损失未改善，耐心值计数：13\n"
     ]
    },
    {
     "name": "stderr",
     "output_type": "stream",
     "text": [
      "100%|██████████| 137/137 [00:22<00:00,  6.14it/s]\n"
     ]
    },
    {
     "name": "stdout",
     "output_type": "stream",
     "text": [
      "Epoch 173, Average Loss: 0.03969309322044626, Learning Rate: 1.73e-06\n"
     ]
    },
    {
     "name": "stderr",
     "output_type": "stream",
     "text": [
      "100%|██████████| 35/35 [00:17<00:00,  1.96it/s]\n"
     ]
    },
    {
     "name": "stdout",
     "output_type": "stream",
     "text": [
      "[('[CLS]', '[SEP]'), ('港', '[SEP]'), ('點', '[SEP]')]\n",
      "[('港點的表現', '蠻不錯'), ('湯汁', '微酸的'), ('魚肉', '微酸的')]\n",
      "{('肉', '嫩')}\n",
      "Top 3 predicted triplets appended to ./log/pred_triplets_output.txt.\n",
      "Val Loss: 0.1011286789983777, binary_f1: 0.0005, v_f1: 0.0000, a_f1: 0.0000, F1-score: 0.0000\n",
      "验证损失未改善，耐心值计数：14\n"
     ]
    },
    {
     "name": "stderr",
     "output_type": "stream",
     "text": [
      "100%|██████████| 137/137 [00:22<00:00,  6.09it/s]\n"
     ]
    },
    {
     "name": "stdout",
     "output_type": "stream",
     "text": [
      "Epoch 174, Average Loss: 0.062380836664786755, Learning Rate: 1.74e-06\n"
     ]
    },
    {
     "name": "stderr",
     "output_type": "stream",
     "text": [
      "100%|██████████| 35/35 [00:18<00:00,  1.94it/s]\n"
     ]
    },
    {
     "name": "stdout",
     "output_type": "stream",
     "text": [
      "Top 3 predicted triplets appended to ./log/pred_triplets_output.txt.\n",
      "Val Loss: 0.10274286121628913, binary_f1: 0.0000, v_f1: 0.0000, a_f1: 0.0000, F1-score: 0.0000\n",
      "验证损失未改善，耐心值计数：15\n",
      "验证损失在连续多个 epoch 中未改善，停止训练。\n",
      "Fold 1 训练完成。\n",
      "Fold 2:\n",
      "Training Set Size: 4356\n",
      "Validation Set Size: 1089\n"
     ]
    },
    {
     "name": "stderr",
     "output_type": "stream",
     "text": [
      "Some weights of ASTEModel were not initialized from the model checkpoint at bert-base-chinese and are newly initialized: ['classifier.bias', 'classifier.weight', 'regressor.bias', 'regressor.weight']\n",
      "You should probably TRAIN this model on a down-stream task to be able to use it for predictions and inference.\n",
      "100%|██████████| 137/137 [00:22<00:00,  6.08it/s]\n"
     ]
    },
    {
     "name": "stdout",
     "output_type": "stream",
     "text": [
      "Epoch 1, Average Loss: 0.617405535802789, Learning Rate: 1e-08\n"
     ]
    },
    {
     "name": "stderr",
     "output_type": "stream",
     "text": [
      "100%|██████████| 35/35 [00:23<00:00,  1.52it/s]\n"
     ]
    },
    {
     "name": "stdout",
     "output_type": "stream",
     "text": [
      "[('', '克'), ('', '道'), ('', '讓')]\n",
      "[('口感', '蠻豐富的'), ('白飯', '大碗'), ('出餐', '不快')]\n",
      "{('肉', '嫩'), ('肉', '脆'), ('', '推薦')}\n",
      "Top 3 predicted triplets appended to ./log/pred_triplets_output.txt.\n",
      "Val Loss: 0.5936765196067947, binary_f1: 0.0011, v_f1: 0.0000, a_f1: 0.0000, F1-score: 0.0000\n",
      "验证损失未改善，耐心值计数：1\n"
     ]
    },
    {
     "name": "stderr",
     "output_type": "stream",
     "text": [
      "100%|██████████| 137/137 [00:23<00:00,  5.82it/s]\n"
     ]
    },
    {
     "name": "stdout",
     "output_type": "stream",
     "text": [
      "Epoch 2, Average Loss: 0.5970276858127357, Learning Rate: 2e-08\n"
     ]
    },
    {
     "name": "stderr",
     "output_type": "stream",
     "text": [
      "100%|██████████| 35/35 [00:20<00:00,  1.67it/s]\n"
     ]
    },
    {
     "name": "stdout",
     "output_type": "stream",
     "text": [
      "[('', '克'), ('', '道'), ('', '讓')]\n",
      "[('口感', '蠻豐富的'), ('白飯', '大碗'), ('出餐', '不快')]\n",
      "{('肉', '嫩'), ('肉', '脆'), ('', '推薦')}\n",
      "Top 3 predicted triplets appended to ./log/pred_triplets_output.txt.\n",
      "Val Loss: 0.5445255443453789, binary_f1: 0.0011, v_f1: 0.0000, a_f1: 0.0000, F1-score: 0.0000\n",
      "验证损失未改善，耐心值计数：2\n"
     ]
    },
    {
     "name": "stderr",
     "output_type": "stream",
     "text": [
      "100%|██████████| 137/137 [00:23<00:00,  5.79it/s]\n"
     ]
    },
    {
     "name": "stdout",
     "output_type": "stream",
     "text": [
      "Epoch 3, Average Loss: 0.4392421407366756, Learning Rate: 3.0000000000000004e-08\n"
     ]
    },
    {
     "name": "stderr",
     "output_type": "stream",
     "text": [
      "100%|██████████| 35/35 [00:22<00:00,  1.58it/s]\n"
     ]
    },
    {
     "name": "stdout",
     "output_type": "stream",
     "text": [
      "[('', '克'), ('', '道'), ('', '讓')]\n",
      "[('口感', '蠻豐富的'), ('白飯', '大碗'), ('出餐', '不快')]\n",
      "{('肉', '嫩'), ('肉', '脆')}\n",
      "[('', '克', 7), ('', '道', 1), ('', '讓', -4)]\n",
      "[('口感', '蠻豐富的', 7), ('白飯', '大碗', 6), ('出餐', '不快', 5)]\n",
      "{('肉', '脆', 6)}\n",
      "Top 3 predicted triplets appended to ./log/pred_triplets_output.txt.\n",
      "Val Loss: 0.46693111817751615, binary_f1: 0.0007, v_f1: 0.0002, a_f1: 0.0000, F1-score: 0.0000\n",
      "验证损失未改善，耐心值计数：3\n"
     ]
    },
    {
     "name": "stderr",
     "output_type": "stream",
     "text": [
      "100%|██████████| 137/137 [00:24<00:00,  5.58it/s]\n"
     ]
    },
    {
     "name": "stdout",
     "output_type": "stream",
     "text": [
      "Epoch 4, Average Loss: 0.244579197152307, Learning Rate: 4e-08\n"
     ]
    },
    {
     "name": "stderr",
     "output_type": "stream",
     "text": [
      "100%|██████████| 35/35 [00:20<00:00,  1.73it/s]\n"
     ]
    },
    {
     "name": "stdout",
     "output_type": "stream",
     "text": [
      "[('', '克'), ('', '道'), ('', '讓')]\n",
      "[('口感', '蠻豐富的'), ('白飯', '大碗'), ('出餐', '不快')]\n",
      "{('肉', '嫩'), ('肉', '脆')}\n",
      "Top 3 predicted triplets appended to ./log/pred_triplets_output.txt.\n",
      "Val Loss: 0.385894634734307, binary_f1: 0.0007, v_f1: 0.0000, a_f1: 0.0000, F1-score: 0.0000\n",
      "验证损失未改善，耐心值计数：4\n"
     ]
    },
    {
     "name": "stderr",
     "output_type": "stream",
     "text": [
      "100%|██████████| 137/137 [00:23<00:00,  5.88it/s]\n"
     ]
    },
    {
     "name": "stdout",
     "output_type": "stream",
     "text": [
      "Epoch 5, Average Loss: 0.27405344910518586, Learning Rate: 5.0000000000000004e-08\n"
     ]
    },
    {
     "name": "stderr",
     "output_type": "stream",
     "text": [
      "100%|██████████| 35/35 [00:19<00:00,  1.78it/s]\n"
     ]
    },
    {
     "name": "stdout",
     "output_type": "stream",
     "text": [
      "[('', '克'), ('', '道'), ('', '讓')]\n",
      "[('口感', '蠻豐富的'), ('白飯', '大碗'), ('出餐', '不快')]\n",
      "{('肉', '嫩'), ('肉', '脆')}\n",
      "Top 3 predicted triplets appended to ./log/pred_triplets_output.txt.\n",
      "Val Loss: 0.3289939481765032, binary_f1: 0.0007, v_f1: 0.0000, a_f1: 0.0000, F1-score: 0.0000\n",
      "验证损失未改善，耐心值计数：5\n"
     ]
    },
    {
     "name": "stderr",
     "output_type": "stream",
     "text": [
      "100%|██████████| 137/137 [00:22<00:00,  6.01it/s]\n"
     ]
    },
    {
     "name": "stdout",
     "output_type": "stream",
     "text": [
      "Epoch 6, Average Loss: 0.16937016360427723, Learning Rate: 6.000000000000001e-08\n"
     ]
    },
    {
     "name": "stderr",
     "output_type": "stream",
     "text": [
      "100%|██████████| 35/35 [00:19<00:00,  1.75it/s]\n"
     ]
    },
    {
     "name": "stdout",
     "output_type": "stream",
     "text": [
      "[('', '克'), ('', '道'), ('', '讓')]\n",
      "[('口感', '蠻豐富的'), ('白飯', '大碗'), ('出餐', '不快')]\n",
      "{('肉', '嫩'), ('肉', '脆')}\n",
      "Top 3 predicted triplets appended to ./log/pred_triplets_output.txt.\n",
      "Val Loss: 0.31165474396714543, binary_f1: 0.0007, v_f1: 0.0000, a_f1: 0.0000, F1-score: 0.0000\n",
      "验证损失未改善，耐心值计数：6\n"
     ]
    },
    {
     "name": "stderr",
     "output_type": "stream",
     "text": [
      "100%|██████████| 137/137 [00:22<00:00,  6.11it/s]\n"
     ]
    },
    {
     "name": "stdout",
     "output_type": "stream",
     "text": [
      "Epoch 7, Average Loss: 0.14331753480581255, Learning Rate: 7e-08\n"
     ]
    },
    {
     "name": "stderr",
     "output_type": "stream",
     "text": [
      "100%|██████████| 35/35 [00:20<00:00,  1.73it/s]\n"
     ]
    },
    {
     "name": "stdout",
     "output_type": "stream",
     "text": [
      "[('', '克'), ('', '道'), ('', '讓')]\n",
      "[('口感', '蠻豐富的'), ('白飯', '大碗'), ('出餐', '不快')]\n",
      "{('肉', '嫩'), ('肉', '脆')}\n",
      "Top 3 predicted triplets appended to ./log/pred_triplets_output.txt.\n",
      "Val Loss: 0.3093932639541371, binary_f1: 0.0007, v_f1: 0.0000, a_f1: 0.0000, F1-score: 0.0000\n",
      "验证损失未改善，耐心值计数：7\n"
     ]
    },
    {
     "name": "stderr",
     "output_type": "stream",
     "text": [
      "100%|██████████| 137/137 [00:22<00:00,  6.08it/s]\n"
     ]
    },
    {
     "name": "stdout",
     "output_type": "stream",
     "text": [
      "Epoch 8, Average Loss: 0.21570959819113686, Learning Rate: 8e-08\n"
     ]
    },
    {
     "name": "stderr",
     "output_type": "stream",
     "text": [
      "100%|██████████| 35/35 [00:19<00:00,  1.76it/s]\n"
     ]
    },
    {
     "name": "stdout",
     "output_type": "stream",
     "text": [
      "[('', '克'), ('', '道'), ('', '讓')]\n",
      "[('口感', '蠻豐富的'), ('白飯', '大碗'), ('出餐', '不快')]\n",
      "{('肉', '嫩'), ('肉', '脆')}\n",
      "Top 3 predicted triplets appended to ./log/pred_triplets_output.txt.\n",
      "Val Loss: 0.3059149249456823, binary_f1: 0.0007, v_f1: 0.0000, a_f1: 0.0000, F1-score: 0.0000\n",
      "验证损失未改善，耐心值计数：8\n"
     ]
    },
    {
     "name": "stderr",
     "output_type": "stream",
     "text": [
      "100%|██████████| 137/137 [00:22<00:00,  6.12it/s]\n"
     ]
    },
    {
     "name": "stdout",
     "output_type": "stream",
     "text": [
      "Epoch 9, Average Loss: 0.1252941010557251, Learning Rate: 9e-08\n"
     ]
    },
    {
     "name": "stderr",
     "output_type": "stream",
     "text": [
      "100%|██████████| 35/35 [00:20<00:00,  1.70it/s]\n"
     ]
    },
    {
     "name": "stdout",
     "output_type": "stream",
     "text": [
      "[('', '克'), ('', '道'), ('', '讓')]\n",
      "[('口感', '蠻豐富的'), ('白飯', '大碗'), ('出餐', '不快')]\n",
      "{('肉', '嫩'), ('肉', '脆')}\n",
      "Top 3 predicted triplets appended to ./log/pred_triplets_output.txt.\n",
      "Val Loss: 0.30153359495036836, binary_f1: 0.0007, v_f1: 0.0000, a_f1: 0.0000, F1-score: 0.0000\n",
      "验证损失未改善，耐心值计数：9\n"
     ]
    },
    {
     "name": "stderr",
     "output_type": "stream",
     "text": [
      "100%|██████████| 137/137 [00:23<00:00,  5.92it/s]\n"
     ]
    },
    {
     "name": "stdout",
     "output_type": "stream",
     "text": [
      "Epoch 10, Average Loss: 0.3775805482389337, Learning Rate: 1.0000000000000001e-07\n"
     ]
    },
    {
     "name": "stderr",
     "output_type": "stream",
     "text": [
      "100%|██████████| 35/35 [00:20<00:00,  1.71it/s]\n"
     ]
    },
    {
     "name": "stdout",
     "output_type": "stream",
     "text": [
      "[('', '克'), ('', '道'), ('', '讓')]\n",
      "[('口感', '蠻豐富的'), ('白飯', '大碗'), ('出餐', '不快')]\n",
      "{('肉', '嫩'), ('肉', '脆')}\n",
      "Top 3 predicted triplets appended to ./log/pred_triplets_output.txt.\n",
      "Val Loss: 0.2990856171685404, binary_f1: 0.0007, v_f1: 0.0000, a_f1: 0.0000, F1-score: 0.0000\n",
      "验证损失未改善，耐心值计数：10\n"
     ]
    },
    {
     "name": "stderr",
     "output_type": "stream",
     "text": [
      "100%|██████████| 137/137 [00:22<00:00,  6.06it/s]\n"
     ]
    },
    {
     "name": "stdout",
     "output_type": "stream",
     "text": [
      "Epoch 11, Average Loss: 0.31728613038418174, Learning Rate: 1.1e-07\n"
     ]
    },
    {
     "name": "stderr",
     "output_type": "stream",
     "text": [
      "100%|██████████| 35/35 [00:19<00:00,  1.76it/s]\n"
     ]
    },
    {
     "name": "stdout",
     "output_type": "stream",
     "text": [
      "[('', '克'), ('', '道'), ('', '讓')]\n",
      "[('口感', '蠻豐富的'), ('白飯', '大碗'), ('出餐', '不快')]\n",
      "{('肉', '嫩'), ('肉', '脆')}\n",
      "Top 3 predicted triplets appended to ./log/pred_triplets_output.txt.\n",
      "Val Loss: 0.2971649965337877, binary_f1: 0.0007, v_f1: 0.0000, a_f1: 0.0000, F1-score: 0.0000\n",
      "验证损失未改善，耐心值计数：11\n"
     ]
    },
    {
     "name": "stderr",
     "output_type": "stream",
     "text": [
      "100%|██████████| 137/137 [00:22<00:00,  6.04it/s]\n"
     ]
    },
    {
     "name": "stdout",
     "output_type": "stream",
     "text": [
      "Epoch 12, Average Loss: 0.2578413193318041, Learning Rate: 1.2000000000000002e-07\n"
     ]
    },
    {
     "name": "stderr",
     "output_type": "stream",
     "text": [
      "100%|██████████| 35/35 [00:19<00:00,  1.79it/s]\n"
     ]
    },
    {
     "name": "stdout",
     "output_type": "stream",
     "text": [
      "[('', '克'), ('', '道'), ('', '讓')]\n",
      "[('口感', '蠻豐富的'), ('白飯', '大碗'), ('出餐', '不快')]\n",
      "{('肉', '嫩'), ('肉', '脆')}\n",
      "Top 3 predicted triplets appended to ./log/pred_triplets_output.txt.\n",
      "Val Loss: 0.29437235412187873, binary_f1: 0.0007, v_f1: 0.0000, a_f1: 0.0000, F1-score: 0.0000\n",
      "验证损失未改善，耐心值计数：12\n"
     ]
    },
    {
     "name": "stderr",
     "output_type": "stream",
     "text": [
      "100%|██████████| 137/137 [00:23<00:00,  5.88it/s]\n"
     ]
    },
    {
     "name": "stdout",
     "output_type": "stream",
     "text": [
      "Epoch 13, Average Loss: 0.36384949864425364, Learning Rate: 1.3e-07\n"
     ]
    },
    {
     "name": "stderr",
     "output_type": "stream",
     "text": [
      "100%|██████████| 35/35 [00:20<00:00,  1.71it/s]\n"
     ]
    },
    {
     "name": "stdout",
     "output_type": "stream",
     "text": [
      "[('', '克'), ('', '道'), ('', '讓')]\n",
      "[('口感', '蠻豐富的'), ('白飯', '大碗'), ('出餐', '不快')]\n",
      "{('肉', '嫩'), ('肉', '脆')}\n",
      "Top 3 predicted triplets appended to ./log/pred_triplets_output.txt.\n",
      "Val Loss: 0.29190601667921456, binary_f1: 0.0007, v_f1: 0.0000, a_f1: 0.0000, F1-score: 0.0000\n",
      "验证损失未改善，耐心值计数：13\n"
     ]
    },
    {
     "name": "stderr",
     "output_type": "stream",
     "text": [
      "100%|██████████| 137/137 [00:23<00:00,  5.92it/s]\n"
     ]
    },
    {
     "name": "stdout",
     "output_type": "stream",
     "text": [
      "Epoch 14, Average Loss: 0.13072068556415828, Learning Rate: 1.4e-07\n"
     ]
    },
    {
     "name": "stderr",
     "output_type": "stream",
     "text": [
      "100%|██████████| 35/35 [00:21<00:00,  1.66it/s]\n"
     ]
    },
    {
     "name": "stdout",
     "output_type": "stream",
     "text": [
      "[('', '克'), ('', '道'), ('', '讓')]\n",
      "[('口感', '蠻豐富的'), ('白飯', '大碗'), ('出餐', '不快')]\n",
      "{('肉', '嫩'), ('肉', '脆')}\n",
      "Top 3 predicted triplets appended to ./log/pred_triplets_output.txt.\n",
      "Val Loss: 0.2896069672041839, binary_f1: 0.0007, v_f1: 0.0000, a_f1: 0.0000, F1-score: 0.0000\n",
      "验证损失未改善，耐心值计数：14\n"
     ]
    },
    {
     "name": "stderr",
     "output_type": "stream",
     "text": [
      "100%|██████████| 137/137 [00:22<00:00,  5.96it/s]\n"
     ]
    },
    {
     "name": "stdout",
     "output_type": "stream",
     "text": [
      "Epoch 15, Average Loss: 0.23068976556256848, Learning Rate: 1.5000000000000002e-07\n"
     ]
    },
    {
     "name": "stderr",
     "output_type": "stream",
     "text": [
      "100%|██████████| 35/35 [00:20<00:00,  1.67it/s]\n"
     ]
    },
    {
     "name": "stdout",
     "output_type": "stream",
     "text": [
      "[('', '克'), ('', '道'), ('', '讓')]\n",
      "[('口感', '蠻豐富的'), ('白飯', '大碗'), ('出餐', '不快')]\n",
      "{('肉', '嫩'), ('肉', '脆')}\n",
      "Top 3 predicted triplets appended to ./log/pred_triplets_output.txt.\n",
      "Val Loss: 0.2883001347920591, binary_f1: 0.0007, v_f1: 0.0000, a_f1: 0.0000, F1-score: 0.0000\n",
      "验证损失未改善，耐心值计数：15\n",
      "验证损失在连续多个 epoch 中未改善，停止训练。\n",
      "Fold 2 训练完成。\n",
      "Fold 3:\n",
      "Training Set Size: 4356\n",
      "Validation Set Size: 1089\n"
     ]
    },
    {
     "name": "stderr",
     "output_type": "stream",
     "text": [
      "Some weights of ASTEModel were not initialized from the model checkpoint at bert-base-chinese and are newly initialized: ['classifier.bias', 'classifier.weight', 'regressor.bias', 'regressor.weight']\n",
      "You should probably TRAIN this model on a down-stream task to be able to use it for predictions and inference.\n",
      "100%|██████████| 137/137 [00:22<00:00,  6.14it/s]\n"
     ]
    },
    {
     "name": "stdout",
     "output_type": "stream",
     "text": [
      "Epoch 1, Average Loss: 0.45940987915344483, Learning Rate: 1e-08\n"
     ]
    },
    {
     "name": "stderr",
     "output_type": "stream",
     "text": [
      "100%|██████████| 35/35 [00:17<00:00,  1.96it/s]\n"
     ]
    },
    {
     "name": "stdout",
     "output_type": "stream",
     "text": [
      "Top 3 predicted triplets appended to ./log/pred_triplets_output.txt.\n",
      "Val Loss: 0.38063395395874977, binary_f1: 0.0000, v_f1: 0.0000, a_f1: 0.0000, F1-score: 0.0000\n",
      "验证损失未改善，耐心值计数：1\n"
     ]
    },
    {
     "name": "stderr",
     "output_type": "stream",
     "text": [
      "100%|██████████| 137/137 [00:22<00:00,  5.99it/s]\n"
     ]
    },
    {
     "name": "stdout",
     "output_type": "stream",
     "text": [
      "Epoch 2, Average Loss: 0.2717765195934224, Learning Rate: 2e-08\n"
     ]
    },
    {
     "name": "stderr",
     "output_type": "stream",
     "text": [
      "100%|██████████| 35/35 [00:17<00:00,  1.95it/s]\n"
     ]
    },
    {
     "name": "stdout",
     "output_type": "stream",
     "text": [
      "Top 3 predicted triplets appended to ./log/pred_triplets_output.txt.\n",
      "Val Loss: 0.3556890470641, binary_f1: 0.0000, v_f1: 0.0000, a_f1: 0.0000, F1-score: 0.0000\n",
      "验证损失未改善，耐心值计数：2\n"
     ]
    },
    {
     "name": "stderr",
     "output_type": "stream",
     "text": [
      "100%|██████████| 137/137 [00:22<00:00,  6.05it/s]\n"
     ]
    },
    {
     "name": "stdout",
     "output_type": "stream",
     "text": [
      "Epoch 3, Average Loss: 0.306466355234942, Learning Rate: 3.0000000000000004e-08\n"
     ]
    },
    {
     "name": "stderr",
     "output_type": "stream",
     "text": [
      "100%|██████████| 35/35 [00:18<00:00,  1.90it/s]\n"
     ]
    },
    {
     "name": "stdout",
     "output_type": "stream",
     "text": [
      "Top 3 predicted triplets appended to ./log/pred_triplets_output.txt.\n",
      "Val Loss: 0.32079031044351203, binary_f1: 0.0000, v_f1: 0.0000, a_f1: 0.0000, F1-score: 0.0000\n",
      "验证损失未改善，耐心值计数：3\n"
     ]
    },
    {
     "name": "stderr",
     "output_type": "stream",
     "text": [
      "100%|██████████| 137/137 [00:23<00:00,  5.92it/s]\n"
     ]
    },
    {
     "name": "stdout",
     "output_type": "stream",
     "text": [
      "Epoch 4, Average Loss: 0.2896032817270879, Learning Rate: 4e-08\n"
     ]
    },
    {
     "name": "stderr",
     "output_type": "stream",
     "text": [
      "100%|██████████| 35/35 [00:18<00:00,  1.90it/s]\n"
     ]
    },
    {
     "name": "stdout",
     "output_type": "stream",
     "text": [
      "Top 3 predicted triplets appended to ./log/pred_triplets_output.txt.\n",
      "Val Loss: 0.28540610362376484, binary_f1: 0.0000, v_f1: 0.0000, a_f1: 0.0000, F1-score: 0.0000\n",
      "验证损失未改善，耐心值计数：4\n"
     ]
    },
    {
     "name": "stderr",
     "output_type": "stream",
     "text": [
      "100%|██████████| 137/137 [00:23<00:00,  5.94it/s]\n"
     ]
    },
    {
     "name": "stdout",
     "output_type": "stream",
     "text": [
      "Epoch 5, Average Loss: 0.4414181837907238, Learning Rate: 5.0000000000000004e-08\n"
     ]
    },
    {
     "name": "stderr",
     "output_type": "stream",
     "text": [
      "100%|██████████| 35/35 [00:17<00:00,  1.94it/s]\n"
     ]
    },
    {
     "name": "stdout",
     "output_type": "stream",
     "text": [
      "Top 3 predicted triplets appended to ./log/pred_triplets_output.txt.\n",
      "Val Loss: 0.26797693680439677, binary_f1: 0.0000, v_f1: 0.0000, a_f1: 0.0000, F1-score: 0.0000\n",
      "验证损失未改善，耐心值计数：5\n"
     ]
    },
    {
     "name": "stderr",
     "output_type": "stream",
     "text": [
      "100%|██████████| 137/137 [00:22<00:00,  5.98it/s]\n"
     ]
    },
    {
     "name": "stdout",
     "output_type": "stream",
     "text": [
      "Epoch 6, Average Loss: 0.21053293810980597, Learning Rate: 6.000000000000001e-08\n"
     ]
    },
    {
     "name": "stderr",
     "output_type": "stream",
     "text": [
      "100%|██████████| 35/35 [00:17<00:00,  2.02it/s]\n"
     ]
    },
    {
     "name": "stdout",
     "output_type": "stream",
     "text": [
      "Top 3 predicted triplets appended to ./log/pred_triplets_output.txt.\n",
      "Val Loss: 0.2565374006650278, binary_f1: 0.0000, v_f1: 0.0000, a_f1: 0.0000, F1-score: 0.0000\n",
      "验证损失未改善，耐心值计数：6\n"
     ]
    },
    {
     "name": "stderr",
     "output_type": "stream",
     "text": [
      "100%|██████████| 137/137 [00:22<00:00,  5.96it/s]\n"
     ]
    },
    {
     "name": "stdout",
     "output_type": "stream",
     "text": [
      "Epoch 7, Average Loss: 0.26717557893372584, Learning Rate: 7e-08\n"
     ]
    },
    {
     "name": "stderr",
     "output_type": "stream",
     "text": [
      "100%|██████████| 35/35 [00:18<00:00,  1.92it/s]\n"
     ]
    },
    {
     "name": "stdout",
     "output_type": "stream",
     "text": [
      "Top 3 predicted triplets appended to ./log/pred_triplets_output.txt.\n",
      "Val Loss: 0.2553460271230766, binary_f1: 0.0000, v_f1: 0.0000, a_f1: 0.0000, F1-score: 0.0000\n",
      "验证损失未改善，耐心值计数：7\n"
     ]
    },
    {
     "name": "stderr",
     "output_type": "stream",
     "text": [
      "100%|██████████| 137/137 [00:23<00:00,  5.94it/s]\n"
     ]
    },
    {
     "name": "stdout",
     "output_type": "stream",
     "text": [
      "Epoch 8, Average Loss: 0.16197316836647307, Learning Rate: 8e-08\n"
     ]
    },
    {
     "name": "stderr",
     "output_type": "stream",
     "text": [
      "100%|██████████| 35/35 [00:18<00:00,  1.93it/s]\n"
     ]
    },
    {
     "name": "stdout",
     "output_type": "stream",
     "text": [
      "Top 3 predicted triplets appended to ./log/pred_triplets_output.txt.\n",
      "Val Loss: 0.2467513708397746, binary_f1: 0.0000, v_f1: 0.0000, a_f1: 0.0000, F1-score: 0.0000\n",
      "验证损失未改善，耐心值计数：8\n"
     ]
    },
    {
     "name": "stderr",
     "output_type": "stream",
     "text": [
      "100%|██████████| 137/137 [00:22<00:00,  6.05it/s]\n"
     ]
    },
    {
     "name": "stdout",
     "output_type": "stream",
     "text": [
      "Epoch 9, Average Loss: 0.31704510566200655, Learning Rate: 9e-08\n"
     ]
    },
    {
     "name": "stderr",
     "output_type": "stream",
     "text": [
      "100%|██████████| 35/35 [00:17<00:00,  1.99it/s]\n"
     ]
    },
    {
     "name": "stdout",
     "output_type": "stream",
     "text": [
      "Top 3 predicted triplets appended to ./log/pred_triplets_output.txt.\n",
      "Val Loss: 0.24429235397172824, binary_f1: 0.0000, v_f1: 0.0000, a_f1: 0.0000, F1-score: 0.0000\n",
      "验证损失未改善，耐心值计数：9\n"
     ]
    },
    {
     "name": "stderr",
     "output_type": "stream",
     "text": [
      "100%|██████████| 137/137 [00:23<00:00,  5.95it/s]\n"
     ]
    },
    {
     "name": "stdout",
     "output_type": "stream",
     "text": [
      "Epoch 10, Average Loss: 0.15993423912891724, Learning Rate: 1.0000000000000001e-07\n"
     ]
    },
    {
     "name": "stderr",
     "output_type": "stream",
     "text": [
      "100%|██████████| 35/35 [00:18<00:00,  1.92it/s]\n"
     ]
    },
    {
     "name": "stdout",
     "output_type": "stream",
     "text": [
      "Top 3 predicted triplets appended to ./log/pred_triplets_output.txt.\n",
      "Val Loss: 0.23760697499715855, binary_f1: 0.0000, v_f1: 0.0000, a_f1: 0.0000, F1-score: 0.0000\n",
      "验证损失未改善，耐心值计数：10\n"
     ]
    },
    {
     "name": "stderr",
     "output_type": "stream",
     "text": [
      "100%|██████████| 137/137 [00:23<00:00,  5.81it/s]\n"
     ]
    },
    {
     "name": "stdout",
     "output_type": "stream",
     "text": [
      "Epoch 11, Average Loss: 0.26121681118485973, Learning Rate: 1.1e-07\n"
     ]
    },
    {
     "name": "stderr",
     "output_type": "stream",
     "text": [
      "100%|██████████| 35/35 [00:17<00:00,  2.06it/s]\n"
     ]
    },
    {
     "name": "stdout",
     "output_type": "stream",
     "text": [
      "Top 3 predicted triplets appended to ./log/pred_triplets_output.txt.\n",
      "Val Loss: 0.23410650648708856, binary_f1: 0.0000, v_f1: 0.0000, a_f1: 0.0000, F1-score: 0.0000\n",
      "验证损失未改善，耐心值计数：11\n"
     ]
    },
    {
     "name": "stderr",
     "output_type": "stream",
     "text": [
      "100%|██████████| 137/137 [00:23<00:00,  5.91it/s]\n"
     ]
    },
    {
     "name": "stdout",
     "output_type": "stream",
     "text": [
      "Epoch 12, Average Loss: 0.2669403146388159, Learning Rate: 1.2000000000000002e-07\n"
     ]
    },
    {
     "name": "stderr",
     "output_type": "stream",
     "text": [
      "100%|██████████| 35/35 [00:18<00:00,  1.84it/s]\n"
     ]
    },
    {
     "name": "stdout",
     "output_type": "stream",
     "text": [
      "Top 3 predicted triplets appended to ./log/pred_triplets_output.txt.\n",
      "Val Loss: 0.23519980614738806, binary_f1: 0.0000, v_f1: 0.0000, a_f1: 0.0000, F1-score: 0.0000\n",
      "验证损失未改善，耐心值计数：12\n"
     ]
    },
    {
     "name": "stderr",
     "output_type": "stream",
     "text": [
      "100%|██████████| 137/137 [00:22<00:00,  5.98it/s]\n"
     ]
    },
    {
     "name": "stdout",
     "output_type": "stream",
     "text": [
      "Epoch 13, Average Loss: 0.251584135900068, Learning Rate: 1.3e-07\n"
     ]
    },
    {
     "name": "stderr",
     "output_type": "stream",
     "text": [
      "100%|██████████| 35/35 [00:18<00:00,  1.94it/s]\n"
     ]
    },
    {
     "name": "stdout",
     "output_type": "stream",
     "text": [
      "Top 3 predicted triplets appended to ./log/pred_triplets_output.txt.\n",
      "Val Loss: 0.23178011035280568, binary_f1: 0.0000, v_f1: 0.0000, a_f1: 0.0000, F1-score: 0.0000\n",
      "验证损失未改善，耐心值计数：13\n"
     ]
    },
    {
     "name": "stderr",
     "output_type": "stream",
     "text": [
      "100%|██████████| 137/137 [00:23<00:00,  5.81it/s]\n"
     ]
    },
    {
     "name": "stdout",
     "output_type": "stream",
     "text": [
      "Epoch 14, Average Loss: 0.3433615074792102, Learning Rate: 1.4e-07\n"
     ]
    },
    {
     "name": "stderr",
     "output_type": "stream",
     "text": [
      "100%|██████████| 35/35 [00:18<00:00,  1.93it/s]\n"
     ]
    },
    {
     "name": "stdout",
     "output_type": "stream",
     "text": [
      "Top 3 predicted triplets appended to ./log/pred_triplets_output.txt.\n",
      "Val Loss: 0.22075920110967542, binary_f1: 0.0000, v_f1: 0.0000, a_f1: 0.0000, F1-score: 0.0000\n",
      "验证损失未改善，耐心值计数：14\n"
     ]
    },
    {
     "name": "stderr",
     "output_type": "stream",
     "text": [
      "100%|██████████| 137/137 [00:22<00:00,  6.12it/s]\n"
     ]
    },
    {
     "name": "stdout",
     "output_type": "stream",
     "text": [
      "Epoch 15, Average Loss: 0.08438716107218043, Learning Rate: 1.5000000000000002e-07\n"
     ]
    },
    {
     "name": "stderr",
     "output_type": "stream",
     "text": [
      "100%|██████████| 35/35 [00:18<00:00,  1.91it/s]\n"
     ]
    },
    {
     "name": "stdout",
     "output_type": "stream",
     "text": [
      "Top 3 predicted triplets appended to ./log/pred_triplets_output.txt.\n",
      "Val Loss: 0.2201018089295498, binary_f1: 0.0000, v_f1: 0.0000, a_f1: 0.0000, F1-score: 0.0000\n",
      "验证损失未改善，耐心值计数：15\n",
      "验证损失在连续多个 epoch 中未改善，停止训练。\n",
      "Fold 3 训练完成。\n",
      "Fold 4:\n",
      "Training Set Size: 4356\n",
      "Validation Set Size: 1089\n"
     ]
    },
    {
     "name": "stderr",
     "output_type": "stream",
     "text": [
      "Some weights of ASTEModel were not initialized from the model checkpoint at bert-base-chinese and are newly initialized: ['classifier.bias', 'classifier.weight', 'regressor.bias', 'regressor.weight']\n",
      "You should probably TRAIN this model on a down-stream task to be able to use it for predictions and inference.\n",
      "100%|██████████| 137/137 [00:22<00:00,  6.13it/s]\n"
     ]
    },
    {
     "name": "stdout",
     "output_type": "stream",
     "text": [
      "Epoch 1, Average Loss: 0.4224278810603993, Learning Rate: 1e-08\n"
     ]
    },
    {
     "name": "stderr",
     "output_type": "stream",
     "text": [
      "100%|██████████| 35/35 [00:21<00:00,  1.64it/s]\n"
     ]
    },
    {
     "name": "stdout",
     "output_type": "stream",
     "text": [
      "Top 3 predicted triplets appended to ./log/pred_triplets_output.txt.\n",
      "Val Loss: 0.26607966827494756, binary_f1: 0.0000, v_f1: 0.0000, a_f1: 0.0000, F1-score: 0.0000\n",
      "验证损失未改善，耐心值计数：1\n"
     ]
    },
    {
     "name": "stderr",
     "output_type": "stream",
     "text": [
      "100%|██████████| 137/137 [00:23<00:00,  5.91it/s]\n"
     ]
    },
    {
     "name": "stdout",
     "output_type": "stream",
     "text": [
      "Epoch 2, Average Loss: 0.4146239150070796, Learning Rate: 2e-08\n"
     ]
    },
    {
     "name": "stderr",
     "output_type": "stream",
     "text": [
      "100%|██████████| 35/35 [00:20<00:00,  1.73it/s]\n"
     ]
    },
    {
     "name": "stdout",
     "output_type": "stream",
     "text": [
      "Top 3 predicted triplets appended to ./log/pred_triplets_output.txt.\n",
      "Val Loss: 0.22616963024650302, binary_f1: 0.0000, v_f1: 0.0000, a_f1: 0.0000, F1-score: 0.0000\n",
      "验证损失未改善，耐心值计数：2\n"
     ]
    },
    {
     "name": "stderr",
     "output_type": "stream",
     "text": [
      "100%|██████████| 137/137 [00:23<00:00,  5.91it/s]\n"
     ]
    },
    {
     "name": "stdout",
     "output_type": "stream",
     "text": [
      "Epoch 3, Average Loss: 0.32388199876694784, Learning Rate: 3.0000000000000004e-08\n"
     ]
    },
    {
     "name": "stderr",
     "output_type": "stream",
     "text": [
      "100%|██████████| 35/35 [00:20<00:00,  1.75it/s]\n"
     ]
    },
    {
     "name": "stdout",
     "output_type": "stream",
     "text": [
      "Top 3 predicted triplets appended to ./log/pred_triplets_output.txt.\n",
      "Val Loss: 0.16425530335732869, binary_f1: 0.0000, v_f1: 0.0000, a_f1: 0.0000, F1-score: 0.0000\n",
      "验证损失未改善，耐心值计数：3\n"
     ]
    },
    {
     "name": "stderr",
     "output_type": "stream",
     "text": [
      "100%|██████████| 137/137 [00:23<00:00,  5.82it/s]\n"
     ]
    },
    {
     "name": "stdout",
     "output_type": "stream",
     "text": [
      "Epoch 4, Average Loss: 0.17778739407930497, Learning Rate: 4e-08\n"
     ]
    },
    {
     "name": "stderr",
     "output_type": "stream",
     "text": [
      "100%|██████████| 35/35 [00:20<00:00,  1.71it/s]\n"
     ]
    },
    {
     "name": "stdout",
     "output_type": "stream",
     "text": [
      "Top 3 predicted triplets appended to ./log/pred_triplets_output.txt.\n",
      "Val Loss: 0.11060756609908172, binary_f1: 0.0000, v_f1: 0.0000, a_f1: 0.0000, F1-score: 0.0000\n",
      "验证损失未改善，耐心值计数：4\n"
     ]
    },
    {
     "name": "stderr",
     "output_type": "stream",
     "text": [
      "100%|██████████| 137/137 [00:23<00:00,  5.87it/s]\n"
     ]
    },
    {
     "name": "stdout",
     "output_type": "stream",
     "text": [
      "Epoch 5, Average Loss: 0.22425101464274375, Learning Rate: 5.0000000000000004e-08\n"
     ]
    },
    {
     "name": "stderr",
     "output_type": "stream",
     "text": [
      "100%|██████████| 35/35 [00:20<00:00,  1.69it/s]\n"
     ]
    },
    {
     "name": "stdout",
     "output_type": "stream",
     "text": [
      "Top 3 predicted triplets appended to ./log/pred_triplets_output.txt.\n",
      "Val Loss: 0.07851041624588626, binary_f1: 0.0000, v_f1: 0.0000, a_f1: 0.0000, F1-score: 0.0000\n"
     ]
    },
    {
     "name": "stderr",
     "output_type": "stream",
     "text": [
      "100%|██████████| 137/137 [00:23<00:00,  5.87it/s]\n"
     ]
    },
    {
     "name": "stdout",
     "output_type": "stream",
     "text": [
      "Epoch 6, Average Loss: 0.2973283092579702, Learning Rate: 6.000000000000001e-08\n"
     ]
    },
    {
     "name": "stderr",
     "output_type": "stream",
     "text": [
      "100%|██████████| 35/35 [00:20<00:00,  1.68it/s]\n"
     ]
    },
    {
     "name": "stdout",
     "output_type": "stream",
     "text": [
      "Top 3 predicted triplets appended to ./log/pred_triplets_output.txt.\n",
      "Val Loss: 0.06818946453609637, binary_f1: 0.0000, v_f1: 0.0000, a_f1: 0.0000, F1-score: 0.0000\n"
     ]
    },
    {
     "name": "stderr",
     "output_type": "stream",
     "text": [
      "100%|██████████| 137/137 [00:23<00:00,  5.89it/s]\n"
     ]
    },
    {
     "name": "stdout",
     "output_type": "stream",
     "text": [
      "Epoch 7, Average Loss: 0.2232282063175999, Learning Rate: 7e-08\n"
     ]
    },
    {
     "name": "stderr",
     "output_type": "stream",
     "text": [
      "100%|██████████| 35/35 [00:20<00:00,  1.74it/s]\n"
     ]
    },
    {
     "name": "stdout",
     "output_type": "stream",
     "text": [
      "Top 3 predicted triplets appended to ./log/pred_triplets_output.txt.\n",
      "Val Loss: 0.06298532163990396, binary_f1: 0.0000, v_f1: 0.0000, a_f1: 0.0000, F1-score: 0.0000\n"
     ]
    },
    {
     "name": "stderr",
     "output_type": "stream",
     "text": [
      "100%|██████████| 137/137 [00:22<00:00,  6.03it/s]\n"
     ]
    },
    {
     "name": "stdout",
     "output_type": "stream",
     "text": [
      "Epoch 8, Average Loss: 0.2369063604473524, Learning Rate: 8e-08\n"
     ]
    },
    {
     "name": "stderr",
     "output_type": "stream",
     "text": [
      "100%|██████████| 35/35 [00:20<00:00,  1.70it/s]\n"
     ]
    },
    {
     "name": "stdout",
     "output_type": "stream",
     "text": [
      "Top 3 predicted triplets appended to ./log/pred_triplets_output.txt.\n",
      "Val Loss: 0.05967438642733863, binary_f1: 0.0000, v_f1: 0.0000, a_f1: 0.0000, F1-score: 0.0000\n"
     ]
    },
    {
     "name": "stderr",
     "output_type": "stream",
     "text": [
      "100%|██████████| 137/137 [00:23<00:00,  5.80it/s]\n"
     ]
    },
    {
     "name": "stdout",
     "output_type": "stream",
     "text": [
      "Epoch 9, Average Loss: 0.3075214016767912, Learning Rate: 9e-08\n"
     ]
    },
    {
     "name": "stderr",
     "output_type": "stream",
     "text": [
      "100%|██████████| 35/35 [00:20<00:00,  1.75it/s]\n"
     ]
    },
    {
     "name": "stdout",
     "output_type": "stream",
     "text": [
      "Top 3 predicted triplets appended to ./log/pred_triplets_output.txt.\n",
      "Val Loss: 0.05502706676987665, binary_f1: 0.0000, v_f1: 0.0000, a_f1: 0.0000, F1-score: 0.0000\n"
     ]
    },
    {
     "name": "stderr",
     "output_type": "stream",
     "text": [
      "100%|██████████| 137/137 [00:23<00:00,  5.89it/s]\n"
     ]
    },
    {
     "name": "stdout",
     "output_type": "stream",
     "text": [
      "Epoch 10, Average Loss: 0.13603459060001766, Learning Rate: 1.0000000000000001e-07\n"
     ]
    },
    {
     "name": "stderr",
     "output_type": "stream",
     "text": [
      "100%|██████████| 35/35 [00:20<00:00,  1.72it/s]\n"
     ]
    },
    {
     "name": "stdout",
     "output_type": "stream",
     "text": [
      "Top 3 predicted triplets appended to ./log/pred_triplets_output.txt.\n",
      "Val Loss: 0.05045529376449329, binary_f1: 0.0000, v_f1: 0.0000, a_f1: 0.0000, F1-score: 0.0000\n"
     ]
    },
    {
     "name": "stderr",
     "output_type": "stream",
     "text": [
      "100%|██████████| 137/137 [00:23<00:00,  5.92it/s]\n"
     ]
    },
    {
     "name": "stdout",
     "output_type": "stream",
     "text": [
      "Epoch 11, Average Loss: 0.2251889170317428, Learning Rate: 1.1e-07\n"
     ]
    },
    {
     "name": "stderr",
     "output_type": "stream",
     "text": [
      "100%|██████████| 35/35 [00:21<00:00,  1.65it/s]\n"
     ]
    },
    {
     "name": "stdout",
     "output_type": "stream",
     "text": [
      "Top 3 predicted triplets appended to ./log/pred_triplets_output.txt.\n",
      "Val Loss: 0.04530639440220382, binary_f1: 0.0000, v_f1: 0.0000, a_f1: 0.0000, F1-score: 0.0000\n"
     ]
    },
    {
     "name": "stderr",
     "output_type": "stream",
     "text": [
      "100%|██████████| 137/137 [00:23<00:00,  5.94it/s]\n"
     ]
    },
    {
     "name": "stdout",
     "output_type": "stream",
     "text": [
      "Epoch 12, Average Loss: 0.1132759173693013, Learning Rate: 1.2000000000000002e-07\n"
     ]
    },
    {
     "name": "stderr",
     "output_type": "stream",
     "text": [
      "100%|██████████| 35/35 [00:20<00:00,  1.68it/s]\n"
     ]
    },
    {
     "name": "stdout",
     "output_type": "stream",
     "text": [
      "Top 3 predicted triplets appended to ./log/pred_triplets_output.txt.\n",
      "Val Loss: 0.041512911953032014, binary_f1: 0.0000, v_f1: 0.0000, a_f1: 0.0000, F1-score: 0.0000\n"
     ]
    },
    {
     "name": "stderr",
     "output_type": "stream",
     "text": [
      "100%|██████████| 137/137 [00:23<00:00,  5.78it/s]\n"
     ]
    },
    {
     "name": "stdout",
     "output_type": "stream",
     "text": [
      "Epoch 13, Average Loss: 0.14856116782642736, Learning Rate: 1.3e-07\n"
     ]
    },
    {
     "name": "stderr",
     "output_type": "stream",
     "text": [
      "100%|██████████| 35/35 [00:21<00:00,  1.66it/s]\n"
     ]
    },
    {
     "name": "stdout",
     "output_type": "stream",
     "text": [
      "Top 3 predicted triplets appended to ./log/pred_triplets_output.txt.\n",
      "Val Loss: 0.03974620888142714, binary_f1: 0.0000, v_f1: 0.0000, a_f1: 0.0000, F1-score: 0.0000\n"
     ]
    },
    {
     "name": "stderr",
     "output_type": "stream",
     "text": [
      "100%|██████████| 137/137 [00:23<00:00,  5.88it/s]\n"
     ]
    },
    {
     "name": "stdout",
     "output_type": "stream",
     "text": [
      "Epoch 14, Average Loss: 0.31769517803374325, Learning Rate: 1.4e-07\n"
     ]
    },
    {
     "name": "stderr",
     "output_type": "stream",
     "text": [
      "100%|██████████| 35/35 [00:20<00:00,  1.68it/s]\n"
     ]
    },
    {
     "name": "stdout",
     "output_type": "stream",
     "text": [
      "Top 3 predicted triplets appended to ./log/pred_triplets_output.txt.\n",
      "Val Loss: 0.03818190481646785, binary_f1: 0.0000, v_f1: 0.0000, a_f1: 0.0000, F1-score: 0.0000\n"
     ]
    },
    {
     "name": "stderr",
     "output_type": "stream",
     "text": [
      "100%|██████████| 137/137 [00:23<00:00,  5.81it/s]\n"
     ]
    },
    {
     "name": "stdout",
     "output_type": "stream",
     "text": [
      "Epoch 15, Average Loss: 0.17148022253633932, Learning Rate: 1.5000000000000002e-07\n"
     ]
    },
    {
     "name": "stderr",
     "output_type": "stream",
     "text": [
      "100%|██████████| 35/35 [00:19<00:00,  1.78it/s]\n"
     ]
    },
    {
     "name": "stdout",
     "output_type": "stream",
     "text": [
      "Top 3 predicted triplets appended to ./log/pred_triplets_output.txt.\n",
      "Val Loss: 0.03465809689036437, binary_f1: 0.0000, v_f1: 0.0000, a_f1: 0.0000, F1-score: 0.0000\n"
     ]
    },
    {
     "name": "stderr",
     "output_type": "stream",
     "text": [
      "100%|██████████| 137/137 [00:23<00:00,  5.86it/s]\n"
     ]
    },
    {
     "name": "stdout",
     "output_type": "stream",
     "text": [
      "Epoch 16, Average Loss: 0.4043607826847719, Learning Rate: 1.6e-07\n"
     ]
    },
    {
     "name": "stderr",
     "output_type": "stream",
     "text": [
      "100%|██████████| 35/35 [00:20<00:00,  1.73it/s]\n"
     ]
    },
    {
     "name": "stdout",
     "output_type": "stream",
     "text": [
      "Top 3 predicted triplets appended to ./log/pred_triplets_output.txt.\n",
      "Val Loss: 0.03206187612377107, binary_f1: 0.0000, v_f1: 0.0000, a_f1: 0.0000, F1-score: 0.0000\n"
     ]
    },
    {
     "name": "stderr",
     "output_type": "stream",
     "text": [
      "100%|██████████| 137/137 [00:23<00:00,  5.94it/s]\n"
     ]
    },
    {
     "name": "stdout",
     "output_type": "stream",
     "text": [
      "Epoch 17, Average Loss: 0.336744251700091, Learning Rate: 1.7000000000000001e-07\n"
     ]
    },
    {
     "name": "stderr",
     "output_type": "stream",
     "text": [
      "100%|██████████| 35/35 [00:20<00:00,  1.70it/s]\n"
     ]
    },
    {
     "name": "stdout",
     "output_type": "stream",
     "text": [
      "Top 3 predicted triplets appended to ./log/pred_triplets_output.txt.\n",
      "Val Loss: 0.030777232821232507, binary_f1: 0.0000, v_f1: 0.0000, a_f1: 0.0000, F1-score: 0.0000\n"
     ]
    },
    {
     "name": "stderr",
     "output_type": "stream",
     "text": [
      "100%|██████████| 137/137 [00:22<00:00,  6.02it/s]\n"
     ]
    },
    {
     "name": "stdout",
     "output_type": "stream",
     "text": [
      "Epoch 18, Average Loss: 0.4011516325434085, Learning Rate: 1.8e-07\n"
     ]
    },
    {
     "name": "stderr",
     "output_type": "stream",
     "text": [
      "100%|██████████| 35/35 [00:20<00:00,  1.71it/s]\n"
     ]
    },
    {
     "name": "stdout",
     "output_type": "stream",
     "text": [
      "Top 3 predicted triplets appended to ./log/pred_triplets_output.txt.\n",
      "Val Loss: 0.02750826488648142, binary_f1: 0.0000, v_f1: 0.0000, a_f1: 0.0000, F1-score: 0.0000\n"
     ]
    },
    {
     "name": "stderr",
     "output_type": "stream",
     "text": [
      "100%|██████████| 137/137 [00:23<00:00,  5.94it/s]\n"
     ]
    },
    {
     "name": "stdout",
     "output_type": "stream",
     "text": [
      "Epoch 19, Average Loss: 0.1304782515087498, Learning Rate: 1.9e-07\n"
     ]
    },
    {
     "name": "stderr",
     "output_type": "stream",
     "text": [
      "100%|██████████| 35/35 [00:20<00:00,  1.72it/s]\n"
     ]
    },
    {
     "name": "stdout",
     "output_type": "stream",
     "text": [
      "Top 3 predicted triplets appended to ./log/pred_triplets_output.txt.\n",
      "Val Loss: 0.025931148596906237, binary_f1: 0.0000, v_f1: 0.0000, a_f1: 0.0000, F1-score: 0.0000\n"
     ]
    },
    {
     "name": "stderr",
     "output_type": "stream",
     "text": [
      "100%|██████████| 137/137 [00:22<00:00,  6.08it/s]\n"
     ]
    },
    {
     "name": "stdout",
     "output_type": "stream",
     "text": [
      "Epoch 20, Average Loss: 0.13132457395702818, Learning Rate: 2.0000000000000002e-07\n"
     ]
    },
    {
     "name": "stderr",
     "output_type": "stream",
     "text": [
      "100%|██████████| 35/35 [00:20<00:00,  1.72it/s]\n"
     ]
    },
    {
     "name": "stdout",
     "output_type": "stream",
     "text": [
      "Top 3 predicted triplets appended to ./log/pred_triplets_output.txt.\n",
      "Val Loss: 0.020724765617134315, binary_f1: 0.0000, v_f1: 0.0000, a_f1: 0.0000, F1-score: 0.0000\n"
     ]
    },
    {
     "name": "stderr",
     "output_type": "stream",
     "text": [
      "100%|██████████| 137/137 [00:22<00:00,  6.07it/s]\n"
     ]
    },
    {
     "name": "stdout",
     "output_type": "stream",
     "text": [
      "Epoch 21, Average Loss: 0.128734575399286, Learning Rate: 2.1000000000000003e-07\n"
     ]
    },
    {
     "name": "stderr",
     "output_type": "stream",
     "text": [
      "100%|██████████| 35/35 [00:20<00:00,  1.72it/s]\n"
     ]
    },
    {
     "name": "stdout",
     "output_type": "stream",
     "text": [
      "Top 3 predicted triplets appended to ./log/pred_triplets_output.txt.\n",
      "Val Loss: 0.018507614124765887, binary_f1: 0.0000, v_f1: 0.0000, a_f1: 0.0000, F1-score: 0.0000\n"
     ]
    },
    {
     "name": "stderr",
     "output_type": "stream",
     "text": [
      "100%|██████████| 137/137 [00:22<00:00,  6.12it/s]\n"
     ]
    },
    {
     "name": "stdout",
     "output_type": "stream",
     "text": [
      "Epoch 22, Average Loss: 0.25332782797627557, Learning Rate: 2.2e-07\n"
     ]
    },
    {
     "name": "stderr",
     "output_type": "stream",
     "text": [
      "100%|██████████| 35/35 [00:18<00:00,  1.89it/s]\n"
     ]
    },
    {
     "name": "stdout",
     "output_type": "stream",
     "text": [
      "Top 3 predicted triplets appended to ./log/pred_triplets_output.txt.\n",
      "Val Loss: 0.01707848542635994, binary_f1: 0.0000, v_f1: 0.0000, a_f1: 0.0000, F1-score: 0.0000\n"
     ]
    },
    {
     "name": "stderr",
     "output_type": "stream",
     "text": [
      "100%|██████████| 137/137 [00:22<00:00,  6.11it/s]\n"
     ]
    },
    {
     "name": "stdout",
     "output_type": "stream",
     "text": [
      "Epoch 23, Average Loss: 0.26313389913199375, Learning Rate: 2.3000000000000002e-07\n"
     ]
    },
    {
     "name": "stderr",
     "output_type": "stream",
     "text": [
      "100%|██████████| 35/35 [00:20<00:00,  1.71it/s]\n"
     ]
    },
    {
     "name": "stdout",
     "output_type": "stream",
     "text": [
      "Top 3 predicted triplets appended to ./log/pred_triplets_output.txt.\n",
      "Val Loss: 0.01540072573614972, binary_f1: 0.0000, v_f1: 0.0000, a_f1: 0.0000, F1-score: 0.0000\n"
     ]
    },
    {
     "name": "stderr",
     "output_type": "stream",
     "text": [
      "100%|██████████| 137/137 [00:22<00:00,  6.09it/s]\n"
     ]
    },
    {
     "name": "stdout",
     "output_type": "stream",
     "text": [
      "Epoch 24, Average Loss: 0.1781413071605302, Learning Rate: 2.4000000000000003e-07\n"
     ]
    },
    {
     "name": "stderr",
     "output_type": "stream",
     "text": [
      "100%|██████████| 35/35 [00:20<00:00,  1.72it/s]\n"
     ]
    },
    {
     "name": "stdout",
     "output_type": "stream",
     "text": [
      "Top 3 predicted triplets appended to ./log/pred_triplets_output.txt.\n",
      "Val Loss: 0.015422011173463293, binary_f1: 0.0000, v_f1: 0.0000, a_f1: 0.0000, F1-score: 0.0000\n",
      "验证损失未改善，耐心值计数：1\n"
     ]
    },
    {
     "name": "stderr",
     "output_type": "stream",
     "text": [
      "100%|██████████| 137/137 [00:22<00:00,  6.05it/s]\n"
     ]
    },
    {
     "name": "stdout",
     "output_type": "stream",
     "text": [
      "Epoch 25, Average Loss: 0.3559882368316303, Learning Rate: 2.5000000000000004e-07\n"
     ]
    },
    {
     "name": "stderr",
     "output_type": "stream",
     "text": [
      "100%|██████████| 35/35 [00:20<00:00,  1.74it/s]\n"
     ]
    },
    {
     "name": "stdout",
     "output_type": "stream",
     "text": [
      "Top 3 predicted triplets appended to ./log/pred_triplets_output.txt.\n",
      "Val Loss: 0.011588615418544838, binary_f1: 0.0000, v_f1: 0.0000, a_f1: 0.0000, F1-score: 0.0000\n"
     ]
    },
    {
     "name": "stderr",
     "output_type": "stream",
     "text": [
      "100%|██████████| 137/137 [00:22<00:00,  6.12it/s]\n"
     ]
    },
    {
     "name": "stdout",
     "output_type": "stream",
     "text": [
      "Epoch 26, Average Loss: 0.2494777470782916, Learning Rate: 2.6e-07\n"
     ]
    },
    {
     "name": "stderr",
     "output_type": "stream",
     "text": [
      "100%|██████████| 35/35 [00:19<00:00,  1.75it/s]\n"
     ]
    },
    {
     "name": "stdout",
     "output_type": "stream",
     "text": [
      "Top 3 predicted triplets appended to ./log/pred_triplets_output.txt.\n",
      "Val Loss: 0.01089741559200255, binary_f1: 0.0000, v_f1: 0.0000, a_f1: 0.0000, F1-score: 0.0000\n",
      "验证损失未改善，耐心值计数：1\n"
     ]
    },
    {
     "name": "stderr",
     "output_type": "stream",
     "text": [
      "100%|██████████| 137/137 [00:22<00:00,  6.01it/s]\n"
     ]
    },
    {
     "name": "stdout",
     "output_type": "stream",
     "text": [
      "Epoch 27, Average Loss: 0.17911183299075295, Learning Rate: 2.7e-07\n"
     ]
    },
    {
     "name": "stderr",
     "output_type": "stream",
     "text": [
      "100%|██████████| 35/35 [00:20<00:00,  1.72it/s]\n"
     ]
    },
    {
     "name": "stdout",
     "output_type": "stream",
     "text": [
      "Top 3 predicted triplets appended to ./log/pred_triplets_output.txt.\n",
      "Val Loss: 0.010405690635421447, binary_f1: 0.0000, v_f1: 0.0000, a_f1: 0.0000, F1-score: 0.0000\n"
     ]
    },
    {
     "name": "stderr",
     "output_type": "stream",
     "text": [
      "100%|██████████| 137/137 [00:22<00:00,  6.05it/s]\n"
     ]
    },
    {
     "name": "stdout",
     "output_type": "stream",
     "text": [
      "Epoch 28, Average Loss: 0.30108181524845046, Learning Rate: 2.8e-07\n"
     ]
    },
    {
     "name": "stderr",
     "output_type": "stream",
     "text": [
      "100%|██████████| 35/35 [00:19<00:00,  1.81it/s]\n"
     ]
    },
    {
     "name": "stdout",
     "output_type": "stream",
     "text": [
      "Top 3 predicted triplets appended to ./log/pred_triplets_output.txt.\n",
      "Val Loss: 0.010704666223110898, binary_f1: 0.0000, v_f1: 0.0000, a_f1: 0.0000, F1-score: 0.0000\n",
      "验证损失未改善，耐心值计数：1\n"
     ]
    },
    {
     "name": "stderr",
     "output_type": "stream",
     "text": [
      "100%|██████████| 137/137 [00:22<00:00,  5.98it/s]\n"
     ]
    },
    {
     "name": "stdout",
     "output_type": "stream",
     "text": [
      "Epoch 29, Average Loss: 0.1304303601921203, Learning Rate: 2.9000000000000003e-07\n"
     ]
    },
    {
     "name": "stderr",
     "output_type": "stream",
     "text": [
      "100%|██████████| 35/35 [00:20<00:00,  1.74it/s]\n"
     ]
    },
    {
     "name": "stdout",
     "output_type": "stream",
     "text": [
      "Top 3 predicted triplets appended to ./log/pred_triplets_output.txt.\n",
      "Val Loss: 0.012013527591313635, binary_f1: 0.0000, v_f1: 0.0000, a_f1: 0.0000, F1-score: 0.0000\n",
      "验证损失未改善，耐心值计数：2\n"
     ]
    },
    {
     "name": "stderr",
     "output_type": "stream",
     "text": [
      "100%|██████████| 137/137 [00:22<00:00,  6.06it/s]\n"
     ]
    },
    {
     "name": "stdout",
     "output_type": "stream",
     "text": [
      "Epoch 30, Average Loss: 0.14723032352643728, Learning Rate: 3.0000000000000004e-07\n"
     ]
    },
    {
     "name": "stderr",
     "output_type": "stream",
     "text": [
      "100%|██████████| 35/35 [00:20<00:00,  1.72it/s]\n"
     ]
    },
    {
     "name": "stdout",
     "output_type": "stream",
     "text": [
      "Top 3 predicted triplets appended to ./log/pred_triplets_output.txt.\n",
      "Val Loss: 0.007909196121285536, binary_f1: 0.0000, v_f1: 0.0000, a_f1: 0.0000, F1-score: 0.0000\n"
     ]
    },
    {
     "name": "stderr",
     "output_type": "stream",
     "text": [
      "100%|██████████| 137/137 [00:22<00:00,  6.17it/s]\n"
     ]
    },
    {
     "name": "stdout",
     "output_type": "stream",
     "text": [
      "Epoch 31, Average Loss: 0.224372787297411, Learning Rate: 3.1000000000000005e-07\n"
     ]
    },
    {
     "name": "stderr",
     "output_type": "stream",
     "text": [
      "100%|██████████| 35/35 [00:20<00:00,  1.74it/s]\n"
     ]
    },
    {
     "name": "stdout",
     "output_type": "stream",
     "text": [
      "Top 3 predicted triplets appended to ./log/pred_triplets_output.txt.\n",
      "Val Loss: 0.007559440358142768, binary_f1: 0.0000, v_f1: 0.0000, a_f1: 0.0000, F1-score: 0.0000\n",
      "验证损失未改善，耐心值计数：1\n"
     ]
    },
    {
     "name": "stderr",
     "output_type": "stream",
     "text": [
      "100%|██████████| 137/137 [00:22<00:00,  6.14it/s]\n"
     ]
    },
    {
     "name": "stdout",
     "output_type": "stream",
     "text": [
      "Epoch 32, Average Loss: 0.09081483298545553, Learning Rate: 3.2e-07\n"
     ]
    },
    {
     "name": "stderr",
     "output_type": "stream",
     "text": [
      "100%|██████████| 35/35 [00:19<00:00,  1.76it/s]\n"
     ]
    },
    {
     "name": "stdout",
     "output_type": "stream",
     "text": [
      "Top 3 predicted triplets appended to ./log/pred_triplets_output.txt.\n",
      "Val Loss: 0.008171924795689327, binary_f1: 0.0000, v_f1: 0.0000, a_f1: 0.0000, F1-score: 0.0000\n",
      "验证损失未改善，耐心值计数：2\n"
     ]
    },
    {
     "name": "stderr",
     "output_type": "stream",
     "text": [
      "100%|██████████| 137/137 [00:22<00:00,  6.09it/s]\n"
     ]
    },
    {
     "name": "stdout",
     "output_type": "stream",
     "text": [
      "Epoch 33, Average Loss: 0.26432908787205134, Learning Rate: 3.3e-07\n"
     ]
    },
    {
     "name": "stderr",
     "output_type": "stream",
     "text": [
      "100%|██████████| 35/35 [00:19<00:00,  1.75it/s]\n"
     ]
    },
    {
     "name": "stdout",
     "output_type": "stream",
     "text": [
      "Top 3 predicted triplets appended to ./log/pred_triplets_output.txt.\n",
      "Val Loss: 0.007342211752464729, binary_f1: 0.0000, v_f1: 0.0000, a_f1: 0.0000, F1-score: 0.0000\n",
      "验证损失未改善，耐心值计数：3\n"
     ]
    },
    {
     "name": "stderr",
     "output_type": "stream",
     "text": [
      "100%|██████████| 137/137 [00:22<00:00,  6.09it/s]\n"
     ]
    },
    {
     "name": "stdout",
     "output_type": "stream",
     "text": [
      "Epoch 34, Average Loss: 0.3614414204897726, Learning Rate: 3.4000000000000003e-07\n"
     ]
    },
    {
     "name": "stderr",
     "output_type": "stream",
     "text": [
      "100%|██████████| 35/35 [00:18<00:00,  1.86it/s]\n"
     ]
    },
    {
     "name": "stdout",
     "output_type": "stream",
     "text": [
      "Top 3 predicted triplets appended to ./log/pred_triplets_output.txt.\n",
      "Val Loss: 0.006928749059859131, binary_f1: 0.0000, v_f1: 0.0000, a_f1: 0.0000, F1-score: 0.0000\n",
      "验证损失未改善，耐心值计数：4\n"
     ]
    },
    {
     "name": "stderr",
     "output_type": "stream",
     "text": [
      "100%|██████████| 137/137 [00:22<00:00,  6.12it/s]\n"
     ]
    },
    {
     "name": "stdout",
     "output_type": "stream",
     "text": [
      "Epoch 35, Average Loss: 0.3184258477306877, Learning Rate: 3.5000000000000004e-07\n"
     ]
    },
    {
     "name": "stderr",
     "output_type": "stream",
     "text": [
      "100%|██████████| 35/35 [00:20<00:00,  1.71it/s]\n"
     ]
    },
    {
     "name": "stdout",
     "output_type": "stream",
     "text": [
      "Top 3 predicted triplets appended to ./log/pred_triplets_output.txt.\n",
      "Val Loss: 0.006378917022708005, binary_f1: 0.0000, v_f1: 0.0000, a_f1: 0.0000, F1-score: 0.0000\n"
     ]
    },
    {
     "name": "stderr",
     "output_type": "stream",
     "text": [
      "100%|██████████| 137/137 [00:22<00:00,  6.06it/s]\n"
     ]
    },
    {
     "name": "stdout",
     "output_type": "stream",
     "text": [
      "Epoch 36, Average Loss: 0.1216349247148359, Learning Rate: 3.6e-07\n"
     ]
    },
    {
     "name": "stderr",
     "output_type": "stream",
     "text": [
      "100%|██████████| 35/35 [00:20<00:00,  1.74it/s]\n"
     ]
    },
    {
     "name": "stdout",
     "output_type": "stream",
     "text": [
      "Top 3 predicted triplets appended to ./log/pred_triplets_output.txt.\n",
      "Val Loss: 0.006463982765230217, binary_f1: 0.0000, v_f1: 0.0000, a_f1: 0.0000, F1-score: 0.0000\n",
      "验证损失未改善，耐心值计数：1\n"
     ]
    },
    {
     "name": "stderr",
     "output_type": "stream",
     "text": [
      "100%|██████████| 137/137 [00:22<00:00,  6.15it/s]\n"
     ]
    },
    {
     "name": "stdout",
     "output_type": "stream",
     "text": [
      "Epoch 37, Average Loss: 0.14553051946657528, Learning Rate: 3.7e-07\n"
     ]
    },
    {
     "name": "stderr",
     "output_type": "stream",
     "text": [
      "100%|██████████| 35/35 [00:20<00:00,  1.73it/s]\n"
     ]
    },
    {
     "name": "stdout",
     "output_type": "stream",
     "text": [
      "Top 3 predicted triplets appended to ./log/pred_triplets_output.txt.\n",
      "Val Loss: 0.006572923575627751, binary_f1: 0.0000, v_f1: 0.0000, a_f1: 0.0000, F1-score: 0.0000\n",
      "验证损失未改善，耐心值计数：2\n"
     ]
    },
    {
     "name": "stderr",
     "output_type": "stream",
     "text": [
      "100%|██████████| 137/137 [00:22<00:00,  6.04it/s]\n"
     ]
    },
    {
     "name": "stdout",
     "output_type": "stream",
     "text": [
      "Epoch 38, Average Loss: 0.18534878262464827, Learning Rate: 3.8e-07\n"
     ]
    },
    {
     "name": "stderr",
     "output_type": "stream",
     "text": [
      "100%|██████████| 35/35 [00:20<00:00,  1.74it/s]\n"
     ]
    },
    {
     "name": "stdout",
     "output_type": "stream",
     "text": [
      "Top 3 predicted triplets appended to ./log/pred_triplets_output.txt.\n",
      "Val Loss: 0.005505159981216171, binary_f1: 0.0000, v_f1: 0.0000, a_f1: 0.0000, F1-score: 0.0000\n",
      "验证损失未改善，耐心值计数：3\n"
     ]
    },
    {
     "name": "stderr",
     "output_type": "stream",
     "text": [
      "100%|██████████| 137/137 [00:22<00:00,  6.04it/s]\n"
     ]
    },
    {
     "name": "stdout",
     "output_type": "stream",
     "text": [
      "Epoch 39, Average Loss: 0.17614720480339804, Learning Rate: 3.9e-07\n"
     ]
    },
    {
     "name": "stderr",
     "output_type": "stream",
     "text": [
      "100%|██████████| 35/35 [00:20<00:00,  1.73it/s]\n"
     ]
    },
    {
     "name": "stdout",
     "output_type": "stream",
     "text": [
      "Top 3 predicted triplets appended to ./log/pred_triplets_output.txt.\n",
      "Val Loss: 0.005293664316247617, binary_f1: 0.0000, v_f1: 0.0000, a_f1: 0.0000, F1-score: 0.0000\n"
     ]
    },
    {
     "name": "stderr",
     "output_type": "stream",
     "text": [
      "100%|██████████| 137/137 [00:23<00:00,  5.92it/s]\n"
     ]
    },
    {
     "name": "stdout",
     "output_type": "stream",
     "text": [
      "Epoch 40, Average Loss: 0.24885082219508103, Learning Rate: 4.0000000000000003e-07\n"
     ]
    },
    {
     "name": "stderr",
     "output_type": "stream",
     "text": [
      "100%|██████████| 35/35 [00:19<00:00,  1.78it/s]\n"
     ]
    },
    {
     "name": "stdout",
     "output_type": "stream",
     "text": [
      "Top 3 predicted triplets appended to ./log/pred_triplets_output.txt.\n",
      "Val Loss: 0.007305787157799517, binary_f1: 0.0000, v_f1: 0.0000, a_f1: 0.0000, F1-score: 0.0000\n",
      "验证损失未改善，耐心值计数：1\n"
     ]
    },
    {
     "name": "stderr",
     "output_type": "stream",
     "text": [
      "100%|██████████| 137/137 [00:22<00:00,  5.99it/s]\n"
     ]
    },
    {
     "name": "stdout",
     "output_type": "stream",
     "text": [
      "Epoch 41, Average Loss: 0.13655383840295057, Learning Rate: 4.1000000000000004e-07\n"
     ]
    },
    {
     "name": "stderr",
     "output_type": "stream",
     "text": [
      "100%|██████████| 35/35 [00:18<00:00,  1.86it/s]\n"
     ]
    },
    {
     "name": "stdout",
     "output_type": "stream",
     "text": [
      "Top 3 predicted triplets appended to ./log/pred_triplets_output.txt.\n",
      "Val Loss: 0.0049960290880075526, binary_f1: 0.0000, v_f1: 0.0000, a_f1: 0.0000, F1-score: 0.0000\n",
      "验证损失未改善，耐心值计数：2\n"
     ]
    },
    {
     "name": "stderr",
     "output_type": "stream",
     "text": [
      "100%|██████████| 137/137 [00:23<00:00,  5.80it/s]\n"
     ]
    },
    {
     "name": "stdout",
     "output_type": "stream",
     "text": [
      "Epoch 42, Average Loss: 0.20056292745896553, Learning Rate: 4.2000000000000006e-07\n"
     ]
    },
    {
     "name": "stderr",
     "output_type": "stream",
     "text": [
      "100%|██████████| 35/35 [00:20<00:00,  1.74it/s]\n"
     ]
    },
    {
     "name": "stdout",
     "output_type": "stream",
     "text": [
      "Top 3 predicted triplets appended to ./log/pred_triplets_output.txt.\n",
      "Val Loss: 0.005451226869731077, binary_f1: 0.0000, v_f1: 0.0000, a_f1: 0.0000, F1-score: 0.0000\n",
      "验证损失未改善，耐心值计数：3\n"
     ]
    },
    {
     "name": "stderr",
     "output_type": "stream",
     "text": [
      "100%|██████████| 137/137 [00:23<00:00,  5.90it/s]\n"
     ]
    },
    {
     "name": "stdout",
     "output_type": "stream",
     "text": [
      "Epoch 43, Average Loss: 0.2627555799966229, Learning Rate: 4.3e-07\n"
     ]
    },
    {
     "name": "stderr",
     "output_type": "stream",
     "text": [
      "100%|██████████| 35/35 [00:20<00:00,  1.75it/s]\n"
     ]
    },
    {
     "name": "stdout",
     "output_type": "stream",
     "text": [
      "Top 3 predicted triplets appended to ./log/pred_triplets_output.txt.\n",
      "Val Loss: 0.006633772461542061, binary_f1: 0.0000, v_f1: 0.0000, a_f1: 0.0000, F1-score: 0.0000\n",
      "验证损失未改善，耐心值计数：4\n"
     ]
    },
    {
     "name": "stderr",
     "output_type": "stream",
     "text": [
      "100%|██████████| 137/137 [00:23<00:00,  5.86it/s]\n"
     ]
    },
    {
     "name": "stdout",
     "output_type": "stream",
     "text": [
      "Epoch 44, Average Loss: 0.18447044153908526, Learning Rate: 4.4e-07\n"
     ]
    },
    {
     "name": "stderr",
     "output_type": "stream",
     "text": [
      "100%|██████████| 35/35 [00:20<00:00,  1.74it/s]\n"
     ]
    },
    {
     "name": "stdout",
     "output_type": "stream",
     "text": [
      "Top 3 predicted triplets appended to ./log/pred_triplets_output.txt.\n",
      "Val Loss: 0.004875072702166757, binary_f1: 0.0000, v_f1: 0.0000, a_f1: 0.0000, F1-score: 0.0000\n",
      "验证损失未改善，耐心值计数：5\n"
     ]
    },
    {
     "name": "stderr",
     "output_type": "stream",
     "text": [
      "100%|██████████| 137/137 [00:22<00:00,  6.01it/s]\n"
     ]
    },
    {
     "name": "stdout",
     "output_type": "stream",
     "text": [
      "Epoch 45, Average Loss: 0.16418242713701606, Learning Rate: 4.5000000000000003e-07\n"
     ]
    },
    {
     "name": "stderr",
     "output_type": "stream",
     "text": [
      "100%|██████████| 35/35 [00:20<00:00,  1.74it/s]\n"
     ]
    },
    {
     "name": "stdout",
     "output_type": "stream",
     "text": [
      "Top 3 predicted triplets appended to ./log/pred_triplets_output.txt.\n",
      "Val Loss: 0.004838758334517479, binary_f1: 0.0000, v_f1: 0.0000, a_f1: 0.0000, F1-score: 0.0000\n",
      "验证损失未改善，耐心值计数：6\n"
     ]
    },
    {
     "name": "stderr",
     "output_type": "stream",
     "text": [
      "100%|██████████| 137/137 [00:23<00:00,  5.82it/s]\n"
     ]
    },
    {
     "name": "stdout",
     "output_type": "stream",
     "text": [
      "Epoch 46, Average Loss: 0.24940612252349592, Learning Rate: 4.6000000000000004e-07\n"
     ]
    },
    {
     "name": "stderr",
     "output_type": "stream",
     "text": [
      "100%|██████████| 35/35 [00:20<00:00,  1.72it/s]\n"
     ]
    },
    {
     "name": "stdout",
     "output_type": "stream",
     "text": [
      "Top 3 predicted triplets appended to ./log/pred_triplets_output.txt.\n",
      "Val Loss: 0.005825911003297993, binary_f1: 0.0000, v_f1: 0.0000, a_f1: 0.0000, F1-score: 0.0000\n",
      "验证损失未改善，耐心值计数：7\n"
     ]
    },
    {
     "name": "stderr",
     "output_type": "stream",
     "text": [
      "100%|██████████| 137/137 [00:23<00:00,  5.84it/s]\n"
     ]
    },
    {
     "name": "stdout",
     "output_type": "stream",
     "text": [
      "Epoch 47, Average Loss: 0.21837839261411152, Learning Rate: 4.7000000000000005e-07\n"
     ]
    },
    {
     "name": "stderr",
     "output_type": "stream",
     "text": [
      "100%|██████████| 35/35 [00:19<00:00,  1.76it/s]\n"
     ]
    },
    {
     "name": "stdout",
     "output_type": "stream",
     "text": [
      "Top 3 predicted triplets appended to ./log/pred_triplets_output.txt.\n",
      "Val Loss: 0.004989050458451467, binary_f1: 0.0000, v_f1: 0.0000, a_f1: 0.0000, F1-score: 0.0000\n",
      "验证损失未改善，耐心值计数：8\n"
     ]
    },
    {
     "name": "stderr",
     "output_type": "stream",
     "text": [
      "100%|██████████| 137/137 [00:23<00:00,  5.77it/s]\n"
     ]
    },
    {
     "name": "stdout",
     "output_type": "stream",
     "text": [
      "Epoch 48, Average Loss: 0.21722997590410012, Learning Rate: 4.800000000000001e-07\n"
     ]
    },
    {
     "name": "stderr",
     "output_type": "stream",
     "text": [
      "100%|██████████| 35/35 [00:19<00:00,  1.81it/s]\n"
     ]
    },
    {
     "name": "stdout",
     "output_type": "stream",
     "text": [
      "Top 3 predicted triplets appended to ./log/pred_triplets_output.txt.\n",
      "Val Loss: 0.005410776460277183, binary_f1: 0.0000, v_f1: 0.0000, a_f1: 0.0000, F1-score: 0.0000\n",
      "验证损失未改善，耐心值计数：9\n"
     ]
    },
    {
     "name": "stderr",
     "output_type": "stream",
     "text": [
      "100%|██████████| 137/137 [00:24<00:00,  5.65it/s]\n"
     ]
    },
    {
     "name": "stdout",
     "output_type": "stream",
     "text": [
      "Epoch 49, Average Loss: 0.2267091993206813, Learning Rate: 4.900000000000001e-07\n"
     ]
    },
    {
     "name": "stderr",
     "output_type": "stream",
     "text": [
      "100%|██████████| 35/35 [00:19<00:00,  1.81it/s]\n"
     ]
    },
    {
     "name": "stdout",
     "output_type": "stream",
     "text": [
      "Top 3 predicted triplets appended to ./log/pred_triplets_output.txt.\n",
      "Val Loss: 0.004782696437489774, binary_f1: 0.0000, v_f1: 0.0000, a_f1: 0.0000, F1-score: 0.0000\n",
      "验证损失未改善，耐心值计数：10\n"
     ]
    },
    {
     "name": "stderr",
     "output_type": "stream",
     "text": [
      "100%|██████████| 137/137 [00:24<00:00,  5.69it/s]\n"
     ]
    },
    {
     "name": "stdout",
     "output_type": "stream",
     "text": [
      "Epoch 50, Average Loss: 0.1830290444059311, Learning Rate: 5.000000000000001e-07\n"
     ]
    },
    {
     "name": "stderr",
     "output_type": "stream",
     "text": [
      "100%|██████████| 35/35 [00:19<00:00,  1.80it/s]\n"
     ]
    },
    {
     "name": "stdout",
     "output_type": "stream",
     "text": [
      "Top 3 predicted triplets appended to ./log/pred_triplets_output.txt.\n",
      "Val Loss: 0.004156697015111734, binary_f1: 0.0000, v_f1: 0.0000, a_f1: 0.0000, F1-score: 0.0000\n"
     ]
    },
    {
     "name": "stderr",
     "output_type": "stream",
     "text": [
      "100%|██████████| 137/137 [00:23<00:00,  5.87it/s]\n"
     ]
    },
    {
     "name": "stdout",
     "output_type": "stream",
     "text": [
      "Epoch 51, Average Loss: 0.25137074993087155, Learning Rate: 5.1e-07\n"
     ]
    },
    {
     "name": "stderr",
     "output_type": "stream",
     "text": [
      "100%|██████████| 35/35 [00:19<00:00,  1.76it/s]\n"
     ]
    },
    {
     "name": "stdout",
     "output_type": "stream",
     "text": [
      "Top 3 predicted triplets appended to ./log/pred_triplets_output.txt.\n",
      "Val Loss: 0.0035412974156705398, binary_f1: 0.0000, v_f1: 0.0000, a_f1: 0.0000, F1-score: 0.0000\n",
      "验证损失未改善，耐心值计数：1\n"
     ]
    },
    {
     "name": "stderr",
     "output_type": "stream",
     "text": [
      "100%|██████████| 137/137 [00:23<00:00,  5.95it/s]\n"
     ]
    },
    {
     "name": "stdout",
     "output_type": "stream",
     "text": [
      "Epoch 52, Average Loss: 0.12734464384202443, Learning Rate: 5.2e-07\n"
     ]
    },
    {
     "name": "stderr",
     "output_type": "stream",
     "text": [
      "100%|██████████| 35/35 [00:19<00:00,  1.76it/s]\n"
     ]
    },
    {
     "name": "stdout",
     "output_type": "stream",
     "text": [
      "[('', '檬'), ('', '塔酸味足夠，生巧'), ('', '克')]\n",
      "[('菜色', '精緻'), ('檸檬塔酸味', '足夠'), ('生巧克力塔苦甜味', '足夠')]\n",
      "{('', '很好')}\n",
      "Top 3 predicted triplets appended to ./log/pred_triplets_output.txt.\n",
      "Val Loss: 0.005364613747224212, binary_f1: 0.0002, v_f1: 0.0000, a_f1: 0.0000, F1-score: 0.0000\n",
      "验证损失未改善，耐心值计数：2\n"
     ]
    },
    {
     "name": "stderr",
     "output_type": "stream",
     "text": [
      "100%|██████████| 137/137 [00:23<00:00,  5.90it/s]\n"
     ]
    },
    {
     "name": "stdout",
     "output_type": "stream",
     "text": [
      "Epoch 53, Average Loss: 0.22773070980405544, Learning Rate: 5.3e-07\n"
     ]
    },
    {
     "name": "stderr",
     "output_type": "stream",
     "text": [
      "100%|██████████| 35/35 [00:20<00:00,  1.74it/s]\n"
     ]
    },
    {
     "name": "stdout",
     "output_type": "stream",
     "text": [
      "[('', '檬'), ('', '塔酸味足夠，生巧'), ('', '克')]\n",
      "[('菜色', '精緻'), ('檸檬塔酸味', '足夠'), ('生巧克力塔苦甜味', '足夠')]\n",
      "{('', '很好')}\n",
      "Top 3 predicted triplets appended to ./log/pred_triplets_output.txt.\n",
      "Val Loss: 0.004925566758694393, binary_f1: 0.0002, v_f1: 0.0000, a_f1: 0.0000, F1-score: 0.0000\n",
      "验证损失未改善，耐心值计数：3\n"
     ]
    },
    {
     "name": "stderr",
     "output_type": "stream",
     "text": [
      "100%|██████████| 137/137 [00:23<00:00,  5.92it/s]\n"
     ]
    },
    {
     "name": "stdout",
     "output_type": "stream",
     "text": [
      "Epoch 54, Average Loss: 0.3390216734638458, Learning Rate: 5.4e-07\n"
     ]
    },
    {
     "name": "stderr",
     "output_type": "stream",
     "text": [
      "100%|██████████| 35/35 [00:19<00:00,  1.83it/s]\n"
     ]
    },
    {
     "name": "stdout",
     "output_type": "stream",
     "text": [
      "[('', '檬'), ('', '塔酸味足夠，'), ('', '生巧')]\n",
      "[('菜色', '精緻'), ('檸檬塔酸味', '足夠'), ('生巧克力塔苦甜味', '足夠')]\n",
      "{('', '很好')}\n",
      "Top 3 predicted triplets appended to ./log/pred_triplets_output.txt.\n",
      "Val Loss: 0.004934217323482569, binary_f1: 0.0002, v_f1: 0.0000, a_f1: 0.0000, F1-score: 0.0000\n",
      "验证损失未改善，耐心值计数：4\n"
     ]
    },
    {
     "name": "stderr",
     "output_type": "stream",
     "text": [
      "100%|██████████| 137/137 [00:23<00:00,  5.75it/s]\n"
     ]
    },
    {
     "name": "stdout",
     "output_type": "stream",
     "text": [
      "Epoch 55, Average Loss: 0.19856619231154748, Learning Rate: 5.5e-07\n"
     ]
    },
    {
     "name": "stderr",
     "output_type": "stream",
     "text": [
      "100%|██████████| 35/35 [00:20<00:00,  1.70it/s]\n"
     ]
    },
    {
     "name": "stdout",
     "output_type": "stream",
     "text": [
      "[('', '檬'), ('', '塔酸味足夠，生巧'), ('', '克')]\n",
      "[('菜色', '精緻'), ('檸檬塔酸味', '足夠'), ('生巧克力塔苦甜味', '足夠')]\n",
      "{('', '很好')}\n",
      "Top 3 predicted triplets appended to ./log/pred_triplets_output.txt.\n",
      "Val Loss: 0.005120168330280908, binary_f1: 0.0002, v_f1: 0.0000, a_f1: 0.0000, F1-score: 0.0000\n",
      "验证损失未改善，耐心值计数：5\n"
     ]
    },
    {
     "name": "stderr",
     "output_type": "stream",
     "text": [
      "100%|██████████| 137/137 [00:23<00:00,  5.89it/s]\n"
     ]
    },
    {
     "name": "stdout",
     "output_type": "stream",
     "text": [
      "Epoch 56, Average Loss: 0.12760727953787784, Learning Rate: 5.6e-07\n"
     ]
    },
    {
     "name": "stderr",
     "output_type": "stream",
     "text": [
      "100%|██████████| 35/35 [00:19<00:00,  1.76it/s]\n"
     ]
    },
    {
     "name": "stdout",
     "output_type": "stream",
     "text": [
      "[('', '檬'), ('', '塔酸味足夠，'), ('', '生巧')]\n",
      "[('菜色', '精緻'), ('檸檬塔酸味', '足夠'), ('生巧克力塔苦甜味', '足夠')]\n",
      "{('', '很好')}\n",
      "Top 3 predicted triplets appended to ./log/pred_triplets_output.txt.\n",
      "Val Loss: 0.003764680352261556, binary_f1: 0.0002, v_f1: 0.0000, a_f1: 0.0000, F1-score: 0.0000\n",
      "验证损失未改善，耐心值计数：6\n"
     ]
    },
    {
     "name": "stderr",
     "output_type": "stream",
     "text": [
      "100%|██████████| 137/137 [00:23<00:00,  5.73it/s]\n"
     ]
    },
    {
     "name": "stdout",
     "output_type": "stream",
     "text": [
      "Epoch 57, Average Loss: 0.15316230113053844, Learning Rate: 5.7e-07\n"
     ]
    },
    {
     "name": "stderr",
     "output_type": "stream",
     "text": [
      "100%|██████████| 35/35 [00:20<00:00,  1.74it/s]\n"
     ]
    },
    {
     "name": "stdout",
     "output_type": "stream",
     "text": [
      "[('', '檬'), ('', '塔酸味足夠，'), ('', '生巧')]\n",
      "[('菜色', '精緻'), ('檸檬塔酸味', '足夠'), ('生巧克力塔苦甜味', '足夠')]\n",
      "{('', '很好')}\n",
      "Top 3 predicted triplets appended to ./log/pred_triplets_output.txt.\n",
      "Val Loss: 0.003773617381895227, binary_f1: 0.0002, v_f1: 0.0000, a_f1: 0.0000, F1-score: 0.0000\n",
      "验证损失未改善，耐心值计数：7\n"
     ]
    },
    {
     "name": "stderr",
     "output_type": "stream",
     "text": [
      "100%|██████████| 137/137 [00:23<00:00,  5.79it/s]\n"
     ]
    },
    {
     "name": "stdout",
     "output_type": "stream",
     "text": [
      "Epoch 58, Average Loss: 0.2220049150267711, Learning Rate: 5.800000000000001e-07\n"
     ]
    },
    {
     "name": "stderr",
     "output_type": "stream",
     "text": [
      "100%|██████████| 35/35 [00:19<00:00,  1.76it/s]\n"
     ]
    },
    {
     "name": "stdout",
     "output_type": "stream",
     "text": [
      "[('', '塔酸味足夠，'), ('', '生巧'), ('', '克')]\n",
      "[('菜色', '精緻'), ('檸檬塔酸味', '足夠'), ('生巧克力塔苦甜味', '足夠')]\n",
      "{('', '很好')}\n",
      "Top 3 predicted triplets appended to ./log/pred_triplets_output.txt.\n",
      "Val Loss: 0.009038219853703464, binary_f1: 0.0002, v_f1: 0.0000, a_f1: 0.0000, F1-score: 0.0000\n",
      "验证损失未改善，耐心值计数：8\n"
     ]
    },
    {
     "name": "stderr",
     "output_type": "stream",
     "text": [
      "100%|██████████| 137/137 [00:23<00:00,  5.74it/s]\n"
     ]
    },
    {
     "name": "stdout",
     "output_type": "stream",
     "text": [
      "Epoch 59, Average Loss: 0.15573662659365778, Learning Rate: 5.900000000000001e-07\n"
     ]
    },
    {
     "name": "stderr",
     "output_type": "stream",
     "text": [
      "100%|██████████| 35/35 [00:20<00:00,  1.73it/s]\n"
     ]
    },
    {
     "name": "stdout",
     "output_type": "stream",
     "text": [
      "[('', '塔酸味足夠，'), ('', '生巧'), ('', '克')]\n",
      "[('菜色', '精緻'), ('檸檬塔酸味', '足夠'), ('生巧克力塔苦甜味', '足夠')]\n",
      "{('', '很好')}\n",
      "Top 3 predicted triplets appended to ./log/pred_triplets_output.txt.\n",
      "Val Loss: 0.005150721782618868, binary_f1: 0.0003, v_f1: 0.0000, a_f1: 0.0000, F1-score: 0.0000\n",
      "验证损失未改善，耐心值计数：9\n"
     ]
    },
    {
     "name": "stderr",
     "output_type": "stream",
     "text": [
      "100%|██████████| 137/137 [00:23<00:00,  5.79it/s]\n"
     ]
    },
    {
     "name": "stdout",
     "output_type": "stream",
     "text": [
      "Epoch 60, Average Loss: 0.14417647859338675, Learning Rate: 6.000000000000001e-07\n"
     ]
    },
    {
     "name": "stderr",
     "output_type": "stream",
     "text": [
      "100%|██████████| 35/35 [00:19<00:00,  1.78it/s]\n"
     ]
    },
    {
     "name": "stdout",
     "output_type": "stream",
     "text": [
      "[('', '塔酸味足夠，'), ('', '生巧'), ('', '克')]\n",
      "[('菜色', '精緻'), ('檸檬塔酸味', '足夠'), ('生巧克力塔苦甜味', '足夠')]\n",
      "{('', '很好')}\n",
      "Top 3 predicted triplets appended to ./log/pred_triplets_output.txt.\n",
      "Val Loss: 0.003738004728386711, binary_f1: 0.0003, v_f1: 0.0000, a_f1: 0.0000, F1-score: 0.0000\n",
      "验证损失未改善，耐心值计数：10\n"
     ]
    },
    {
     "name": "stderr",
     "output_type": "stream",
     "text": [
      "100%|██████████| 137/137 [00:23<00:00,  5.90it/s]\n"
     ]
    },
    {
     "name": "stdout",
     "output_type": "stream",
     "text": [
      "Epoch 61, Average Loss: 0.09853498219515802, Learning Rate: 6.100000000000001e-07\n"
     ]
    },
    {
     "name": "stderr",
     "output_type": "stream",
     "text": [
      "100%|██████████| 35/35 [00:20<00:00,  1.72it/s]\n"
     ]
    },
    {
     "name": "stdout",
     "output_type": "stream",
     "text": [
      "[('', '塔酸味足夠，'), ('', '生巧'), ('', '克')]\n",
      "[('菜色', '精緻'), ('檸檬塔酸味', '足夠'), ('生巧克力塔苦甜味', '足夠')]\n",
      "{('', '很好')}\n",
      "Top 3 predicted triplets appended to ./log/pred_triplets_output.txt.\n",
      "Val Loss: 0.002964417835132086, binary_f1: 0.0003, v_f1: 0.0000, a_f1: 0.0000, F1-score: 0.0000\n"
     ]
    },
    {
     "name": "stderr",
     "output_type": "stream",
     "text": [
      "100%|██████████| 137/137 [00:23<00:00,  5.89it/s]\n"
     ]
    },
    {
     "name": "stdout",
     "output_type": "stream",
     "text": [
      "Epoch 62, Average Loss: 0.062148784479316675, Learning Rate: 6.200000000000001e-07\n"
     ]
    },
    {
     "name": "stderr",
     "output_type": "stream",
     "text": [
      "100%|██████████| 35/35 [00:19<00:00,  1.77it/s]\n"
     ]
    },
    {
     "name": "stdout",
     "output_type": "stream",
     "text": [
      "[('', '塔酸味足夠，'), ('', '生巧'), ('', '克')]\n",
      "[('菜色', '精緻'), ('檸檬塔酸味', '足夠'), ('生巧克力塔苦甜味', '足夠')]\n",
      "{('', '很好')}\n",
      "Top 3 predicted triplets appended to ./log/pred_triplets_output.txt.\n",
      "Val Loss: 0.002653462137927168, binary_f1: 0.0003, v_f1: 0.0000, a_f1: 0.0000, F1-score: 0.0000\n",
      "验证损失未改善，耐心值计数：1\n"
     ]
    },
    {
     "name": "stderr",
     "output_type": "stream",
     "text": [
      "100%|██████████| 137/137 [00:24<00:00,  5.51it/s]\n"
     ]
    },
    {
     "name": "stdout",
     "output_type": "stream",
     "text": [
      "Epoch 63, Average Loss: 0.2585607634051737, Learning Rate: 6.3e-07\n"
     ]
    },
    {
     "name": "stderr",
     "output_type": "stream",
     "text": [
      "100%|██████████| 35/35 [00:20<00:00,  1.72it/s]\n"
     ]
    },
    {
     "name": "stdout",
     "output_type": "stream",
     "text": [
      "[('', '塔酸味足夠，'), ('', '生巧'), ('', '克')]\n",
      "[('菜色', '精緻'), ('檸檬塔酸味', '足夠'), ('生巧克力塔苦甜味', '足夠')]\n",
      "{('', '很好')}\n",
      "Top 3 predicted triplets appended to ./log/pred_triplets_output.txt.\n",
      "Val Loss: 0.004051961939382766, binary_f1: 0.0003, v_f1: 0.0000, a_f1: 0.0000, F1-score: 0.0000\n",
      "验证损失未改善，耐心值计数：2\n"
     ]
    },
    {
     "name": "stderr",
     "output_type": "stream",
     "text": [
      "100%|██████████| 137/137 [00:24<00:00,  5.64it/s]\n"
     ]
    },
    {
     "name": "stdout",
     "output_type": "stream",
     "text": [
      "Epoch 64, Average Loss: 0.21884876839734996, Learning Rate: 6.4e-07\n"
     ]
    },
    {
     "name": "stderr",
     "output_type": "stream",
     "text": [
      "100%|██████████| 35/35 [00:20<00:00,  1.72it/s]\n"
     ]
    },
    {
     "name": "stdout",
     "output_type": "stream",
     "text": [
      "[('', '塔酸味足夠，'), ('', '生巧'), ('', '克')]\n",
      "[('菜色', '精緻'), ('檸檬塔酸味', '足夠'), ('生巧克力塔苦甜味', '足夠')]\n",
      "{('', '很好')}\n",
      "Top 3 predicted triplets appended to ./log/pred_triplets_output.txt.\n",
      "Val Loss: 0.002549387766963004, binary_f1: 0.0003, v_f1: 0.0000, a_f1: 0.0000, F1-score: 0.0000\n",
      "验证损失未改善，耐心值计数：3\n"
     ]
    },
    {
     "name": "stderr",
     "output_type": "stream",
     "text": [
      "100%|██████████| 137/137 [00:24<00:00,  5.68it/s]\n"
     ]
    },
    {
     "name": "stdout",
     "output_type": "stream",
     "text": [
      "Epoch 65, Average Loss: 0.1774700164149539, Learning Rate: 6.5e-07\n"
     ]
    },
    {
     "name": "stderr",
     "output_type": "stream",
     "text": [
      "100%|██████████| 35/35 [00:20<00:00,  1.73it/s]\n"
     ]
    },
    {
     "name": "stdout",
     "output_type": "stream",
     "text": [
      "[('', '塔酸味足夠，'), ('', '生巧'), ('', '克')]\n",
      "[('菜色', '精緻'), ('檸檬塔酸味', '足夠'), ('生巧克力塔苦甜味', '足夠')]\n",
      "{('', '很好')}\n",
      "Top 3 predicted triplets appended to ./log/pred_triplets_output.txt.\n",
      "Val Loss: 0.0023639924924022384, binary_f1: 0.0003, v_f1: 0.0000, a_f1: 0.0000, F1-score: 0.0000\n",
      "验证损失未改善，耐心值计数：4\n"
     ]
    },
    {
     "name": "stderr",
     "output_type": "stream",
     "text": [
      "100%|██████████| 137/137 [00:24<00:00,  5.70it/s]\n"
     ]
    },
    {
     "name": "stdout",
     "output_type": "stream",
     "text": [
      "Epoch 66, Average Loss: 0.18546801650162487, Learning Rate: 6.6e-07\n"
     ]
    },
    {
     "name": "stderr",
     "output_type": "stream",
     "text": [
      "100%|██████████| 35/35 [00:19<00:00,  1.75it/s]\n"
     ]
    },
    {
     "name": "stdout",
     "output_type": "stream",
     "text": [
      "[('', '塔酸味足夠，'), ('', '生巧'), ('', '克')]\n",
      "[('菜色', '精緻'), ('檸檬塔酸味', '足夠'), ('生巧克力塔苦甜味', '足夠')]\n",
      "{('', '很好')}\n",
      "Top 3 predicted triplets appended to ./log/pred_triplets_output.txt.\n",
      "Val Loss: 0.003002375380934349, binary_f1: 0.0003, v_f1: 0.0000, a_f1: 0.0000, F1-score: 0.0000\n",
      "验证损失未改善，耐心值计数：5\n"
     ]
    },
    {
     "name": "stderr",
     "output_type": "stream",
     "text": [
      "100%|██████████| 137/137 [00:24<00:00,  5.59it/s]\n"
     ]
    },
    {
     "name": "stdout",
     "output_type": "stream",
     "text": [
      "Epoch 67, Average Loss: 0.25246800384913354, Learning Rate: 6.7e-07\n"
     ]
    },
    {
     "name": "stderr",
     "output_type": "stream",
     "text": [
      "100%|██████████| 35/35 [00:19<00:00,  1.76it/s]\n"
     ]
    },
    {
     "name": "stdout",
     "output_type": "stream",
     "text": [
      "[('', '克'), ('', '力'), ('', '塔苦甜味')]\n",
      "[('菜色', '精緻'), ('檸檬塔酸味', '足夠'), ('生巧克力塔苦甜味', '足夠')]\n",
      "{('', '很好')}\n",
      "Top 3 predicted triplets appended to ./log/pred_triplets_output.txt.\n",
      "Val Loss: 0.002389075456553006, binary_f1: 0.0003, v_f1: 0.0000, a_f1: 0.0000, F1-score: 0.0000\n",
      "验证损失未改善，耐心值计数：6\n"
     ]
    },
    {
     "name": "stderr",
     "output_type": "stream",
     "text": [
      "100%|██████████| 137/137 [00:23<00:00,  5.80it/s]\n"
     ]
    },
    {
     "name": "stdout",
     "output_type": "stream",
     "text": [
      "Epoch 68, Average Loss: 0.10519368705309139, Learning Rate: 6.800000000000001e-07\n"
     ]
    },
    {
     "name": "stderr",
     "output_type": "stream",
     "text": [
      "100%|██████████| 35/35 [00:20<00:00,  1.69it/s]\n"
     ]
    },
    {
     "name": "stdout",
     "output_type": "stream",
     "text": [
      "[('', '克'), ('', '力'), ('', '塔苦甜味')]\n",
      "[('菜色', '精緻'), ('檸檬塔酸味', '足夠'), ('生巧克力塔苦甜味', '足夠')]\n",
      "{('', '很好')}\n",
      "Top 3 predicted triplets appended to ./log/pred_triplets_output.txt.\n",
      "Val Loss: 0.002823513079991764, binary_f1: 0.0003, v_f1: 0.0000, a_f1: 0.0000, F1-score: 0.0000\n",
      "验证损失未改善，耐心值计数：7\n"
     ]
    },
    {
     "name": "stderr",
     "output_type": "stream",
     "text": [
      "100%|██████████| 137/137 [00:24<00:00,  5.60it/s]\n"
     ]
    },
    {
     "name": "stdout",
     "output_type": "stream",
     "text": [
      "Epoch 69, Average Loss: 0.14726100596310368, Learning Rate: 6.900000000000001e-07\n"
     ]
    },
    {
     "name": "stderr",
     "output_type": "stream",
     "text": [
      "100%|██████████| 35/35 [00:19<00:00,  1.77it/s]\n"
     ]
    },
    {
     "name": "stdout",
     "output_type": "stream",
     "text": [
      "[('', '生巧'), ('', '克'), ('', '力')]\n",
      "[('菜色', '精緻'), ('檸檬塔酸味', '足夠'), ('生巧克力塔苦甜味', '足夠')]\n",
      "{('', '很好')}\n",
      "Top 3 predicted triplets appended to ./log/pred_triplets_output.txt.\n",
      "Val Loss: 0.0025479514027080897, binary_f1: 0.0003, v_f1: 0.0000, a_f1: 0.0000, F1-score: 0.0000\n",
      "验证损失未改善，耐心值计数：8\n"
     ]
    },
    {
     "name": "stderr",
     "output_type": "stream",
     "text": [
      "100%|██████████| 137/137 [00:24<00:00,  5.56it/s]\n"
     ]
    },
    {
     "name": "stdout",
     "output_type": "stream",
     "text": [
      "Epoch 70, Average Loss: 0.15379160441095807, Learning Rate: 7.000000000000001e-07\n"
     ]
    },
    {
     "name": "stderr",
     "output_type": "stream",
     "text": [
      "100%|██████████| 35/35 [00:20<00:00,  1.75it/s]\n"
     ]
    },
    {
     "name": "stdout",
     "output_type": "stream",
     "text": [
      "[('', '生巧'), ('', '克'), ('', '力')]\n",
      "[('菜色', '精緻'), ('檸檬塔酸味', '足夠'), ('生巧克力塔苦甜味', '足夠')]\n",
      "{('', '很好')}\n",
      "Top 3 predicted triplets appended to ./log/pred_triplets_output.txt.\n",
      "Val Loss: 0.0030778113602926687, binary_f1: 0.0003, v_f1: 0.0000, a_f1: 0.0000, F1-score: 0.0000\n",
      "验证损失未改善，耐心值计数：9\n"
     ]
    },
    {
     "name": "stderr",
     "output_type": "stream",
     "text": [
      "100%|██████████| 137/137 [00:24<00:00,  5.70it/s]\n"
     ]
    },
    {
     "name": "stdout",
     "output_type": "stream",
     "text": [
      "Epoch 71, Average Loss: 0.10022377059837449, Learning Rate: 7.1e-07\n"
     ]
    },
    {
     "name": "stderr",
     "output_type": "stream",
     "text": [
      "100%|██████████| 35/35 [00:20<00:00,  1.75it/s]\n"
     ]
    },
    {
     "name": "stdout",
     "output_type": "stream",
     "text": [
      "[('', '生巧'), ('', '克'), ('', '力')]\n",
      "[('菜色', '精緻'), ('檸檬塔酸味', '足夠'), ('生巧克力塔苦甜味', '足夠')]\n",
      "{('', '很好')}\n",
      "Top 3 predicted triplets appended to ./log/pred_triplets_output.txt.\n",
      "Val Loss: 0.00334566558345354, binary_f1: 0.0003, v_f1: 0.0000, a_f1: 0.0000, F1-score: 0.0000\n",
      "验证损失未改善，耐心值计数：10\n"
     ]
    },
    {
     "name": "stderr",
     "output_type": "stream",
     "text": [
      "100%|██████████| 137/137 [00:24<00:00,  5.56it/s]\n"
     ]
    },
    {
     "name": "stdout",
     "output_type": "stream",
     "text": [
      "Epoch 72, Average Loss: 0.01325662194939847, Learning Rate: 7.2e-07\n"
     ]
    },
    {
     "name": "stderr",
     "output_type": "stream",
     "text": [
      "100%|██████████| 35/35 [00:19<00:00,  1.75it/s]\n"
     ]
    },
    {
     "name": "stdout",
     "output_type": "stream",
     "text": [
      "Top 3 predicted triplets appended to ./log/pred_triplets_output.txt.\n",
      "Val Loss: 0.002278859001983489, binary_f1: 0.0000, v_f1: 0.0000, a_f1: 0.0000, F1-score: 0.0000\n",
      "验证损失未改善，耐心值计数：11\n"
     ]
    },
    {
     "name": "stderr",
     "output_type": "stream",
     "text": [
      "100%|██████████| 137/137 [00:23<00:00,  5.75it/s]\n"
     ]
    },
    {
     "name": "stdout",
     "output_type": "stream",
     "text": [
      "Epoch 73, Average Loss: 0.18569010510585224, Learning Rate: 7.3e-07\n"
     ]
    },
    {
     "name": "stderr",
     "output_type": "stream",
     "text": [
      "100%|██████████| 35/35 [00:19<00:00,  1.77it/s]\n"
     ]
    },
    {
     "name": "stdout",
     "output_type": "stream",
     "text": [
      "Top 3 predicted triplets appended to ./log/pred_triplets_output.txt.\n",
      "Val Loss: 0.001934552676227343, binary_f1: 0.0000, v_f1: 0.0000, a_f1: 0.0000, F1-score: 0.0000\n"
     ]
    },
    {
     "name": "stderr",
     "output_type": "stream",
     "text": [
      "100%|██████████| 137/137 [00:24<00:00,  5.49it/s]\n"
     ]
    },
    {
     "name": "stdout",
     "output_type": "stream",
     "text": [
      "Epoch 74, Average Loss: 0.2080363427742595, Learning Rate: 7.4e-07\n"
     ]
    },
    {
     "name": "stderr",
     "output_type": "stream",
     "text": [
      "100%|██████████| 35/35 [00:17<00:00,  1.95it/s]\n"
     ]
    },
    {
     "name": "stdout",
     "output_type": "stream",
     "text": [
      "Top 3 predicted triplets appended to ./log/pred_triplets_output.txt.\n",
      "Val Loss: 0.0016741633222929003, binary_f1: 0.0000, v_f1: 0.0000, a_f1: 0.0000, F1-score: 0.0000\n",
      "验证损失未改善，耐心值计数：1\n"
     ]
    },
    {
     "name": "stderr",
     "output_type": "stream",
     "text": [
      "100%|██████████| 137/137 [00:23<00:00,  5.85it/s]\n"
     ]
    },
    {
     "name": "stdout",
     "output_type": "stream",
     "text": [
      "Epoch 75, Average Loss: 0.0386196016558118, Learning Rate: 7.5e-07\n"
     ]
    },
    {
     "name": "stderr",
     "output_type": "stream",
     "text": [
      "100%|██████████| 35/35 [00:20<00:00,  1.75it/s]\n"
     ]
    },
    {
     "name": "stdout",
     "output_type": "stream",
     "text": [
      "Top 3 predicted triplets appended to ./log/pred_triplets_output.txt.\n",
      "Val Loss: 0.0017034348416408258, binary_f1: 0.0000, v_f1: 0.0000, a_f1: 0.0000, F1-score: 0.0000\n",
      "验证损失未改善，耐心值计数：2\n"
     ]
    },
    {
     "name": "stderr",
     "output_type": "stream",
     "text": [
      "100%|██████████| 137/137 [00:23<00:00,  5.76it/s]\n"
     ]
    },
    {
     "name": "stdout",
     "output_type": "stream",
     "text": [
      "Epoch 76, Average Loss: 0.17483742100128863, Learning Rate: 7.6e-07\n"
     ]
    },
    {
     "name": "stderr",
     "output_type": "stream",
     "text": [
      "100%|██████████| 35/35 [00:19<00:00,  1.80it/s]\n"
     ]
    },
    {
     "name": "stdout",
     "output_type": "stream",
     "text": [
      "[('', '克'), ('', '力'), ('', '塔苦甜味')]\n",
      "[('菜色', '精緻'), ('檸檬塔酸味', '足夠'), ('生巧克力塔苦甜味', '足夠')]\n",
      "{('', '很好')}\n",
      "Top 3 predicted triplets appended to ./log/pred_triplets_output.txt.\n",
      "Val Loss: 0.0018547295873369357, binary_f1: 0.0003, v_f1: 0.0000, a_f1: 0.0000, F1-score: 0.0000\n",
      "验证损失未改善，耐心值计数：3\n"
     ]
    },
    {
     "name": "stderr",
     "output_type": "stream",
     "text": [
      "100%|██████████| 137/137 [00:24<00:00,  5.57it/s]\n"
     ]
    },
    {
     "name": "stdout",
     "output_type": "stream",
     "text": [
      "Epoch 77, Average Loss: 0.21771878817749216, Learning Rate: 7.7e-07\n"
     ]
    },
    {
     "name": "stderr",
     "output_type": "stream",
     "text": [
      "100%|██████████| 35/35 [00:19<00:00,  1.80it/s]\n"
     ]
    },
    {
     "name": "stdout",
     "output_type": "stream",
     "text": [
      "[('', '克'), ('', '力'), ('', '塔苦甜味')]\n",
      "[('菜色', '精緻'), ('檸檬塔酸味', '足夠'), ('生巧克力塔苦甜味', '足夠')]\n",
      "{('', '很好')}\n",
      "Top 3 predicted triplets appended to ./log/pred_triplets_output.txt.\n",
      "Val Loss: 0.002150304524859946, binary_f1: 0.0003, v_f1: 0.0000, a_f1: 0.0000, F1-score: 0.0000\n",
      "验证损失未改善，耐心值计数：4\n"
     ]
    },
    {
     "name": "stderr",
     "output_type": "stream",
     "text": [
      "100%|██████████| 137/137 [00:24<00:00,  5.64it/s]\n"
     ]
    },
    {
     "name": "stdout",
     "output_type": "stream",
     "text": [
      "Epoch 78, Average Loss: 0.1162000044185692, Learning Rate: 7.8e-07\n"
     ]
    },
    {
     "name": "stderr",
     "output_type": "stream",
     "text": [
      "100%|██████████| 35/35 [00:20<00:00,  1.74it/s]\n"
     ]
    },
    {
     "name": "stdout",
     "output_type": "stream",
     "text": [
      "[('', '克'), ('', '力'), ('', '塔苦甜味')]\n",
      "[('菜色', '精緻'), ('檸檬塔酸味', '足夠'), ('生巧克力塔苦甜味', '足夠')]\n",
      "{('', '很好')}\n",
      "Top 3 predicted triplets appended to ./log/pred_triplets_output.txt.\n",
      "Val Loss: 0.0023700362495479308, binary_f1: 0.0003, v_f1: 0.0000, a_f1: 0.0000, F1-score: 0.0000\n",
      "验证损失未改善，耐心值计数：5\n"
     ]
    },
    {
     "name": "stderr",
     "output_type": "stream",
     "text": [
      "100%|██████████| 137/137 [00:23<00:00,  5.89it/s]\n"
     ]
    },
    {
     "name": "stdout",
     "output_type": "stream",
     "text": [
      "Epoch 79, Average Loss: 0.11310036467372551, Learning Rate: 7.900000000000001e-07\n"
     ]
    },
    {
     "name": "stderr",
     "output_type": "stream",
     "text": [
      "100%|██████████| 35/35 [00:19<00:00,  1.83it/s]\n"
     ]
    },
    {
     "name": "stdout",
     "output_type": "stream",
     "text": [
      "[('', '克'), ('', '力'), ('', '塔苦甜味')]\n",
      "[('菜色', '精緻'), ('檸檬塔酸味', '足夠'), ('生巧克力塔苦甜味', '足夠')]\n",
      "{('', '很好')}\n",
      "Top 3 predicted triplets appended to ./log/pred_triplets_output.txt.\n",
      "Val Loss: 0.004358153164918934, binary_f1: 0.0003, v_f1: 0.0000, a_f1: 0.0000, F1-score: 0.0000\n",
      "验证损失未改善，耐心值计数：6\n"
     ]
    },
    {
     "name": "stderr",
     "output_type": "stream",
     "text": [
      "100%|██████████| 137/137 [00:24<00:00,  5.66it/s]\n"
     ]
    },
    {
     "name": "stdout",
     "output_type": "stream",
     "text": [
      "Epoch 80, Average Loss: 0.13146967062769954, Learning Rate: 8.000000000000001e-07\n"
     ]
    },
    {
     "name": "stderr",
     "output_type": "stream",
     "text": [
      "100%|██████████| 35/35 [00:19<00:00,  1.78it/s]\n"
     ]
    },
    {
     "name": "stdout",
     "output_type": "stream",
     "text": [
      "[('', '克'), ('', '力'), ('', '塔苦甜味')]\n",
      "[('菜色', '精緻'), ('檸檬塔酸味', '足夠'), ('生巧克力塔苦甜味', '足夠')]\n",
      "{('', '很好')}\n",
      "Top 3 predicted triplets appended to ./log/pred_triplets_output.txt.\n",
      "Val Loss: 0.002487127430504188, binary_f1: 0.0004, v_f1: 0.0000, a_f1: 0.0000, F1-score: 0.0000\n",
      "验证损失未改善，耐心值计数：7\n"
     ]
    },
    {
     "name": "stderr",
     "output_type": "stream",
     "text": [
      "100%|██████████| 137/137 [00:22<00:00,  5.97it/s]\n"
     ]
    },
    {
     "name": "stdout",
     "output_type": "stream",
     "text": [
      "Epoch 81, Average Loss: 0.16920778780400644, Learning Rate: 8.100000000000001e-07\n"
     ]
    },
    {
     "name": "stderr",
     "output_type": "stream",
     "text": [
      "100%|██████████| 35/35 [00:19<00:00,  1.81it/s]\n"
     ]
    },
    {
     "name": "stdout",
     "output_type": "stream",
     "text": [
      "[('', '克'), ('', '力塔苦甜味'), ('', '也足夠。[SEP][PAD][PAD][PAD][PAD][PAD][PAD]')]\n",
      "[('菜色', '精緻'), ('檸檬塔酸味', '足夠'), ('生巧克力塔苦甜味', '足夠')]\n",
      "{('', '很好')}\n",
      "Top 3 predicted triplets appended to ./log/pred_triplets_output.txt.\n",
      "Val Loss: 0.0018411866243695841, binary_f1: 0.0004, v_f1: 0.0000, a_f1: 0.0000, F1-score: 0.0000\n",
      "验证损失未改善，耐心值计数：8\n"
     ]
    },
    {
     "name": "stderr",
     "output_type": "stream",
     "text": [
      "100%|██████████| 137/137 [00:23<00:00,  5.84it/s]\n"
     ]
    },
    {
     "name": "stdout",
     "output_type": "stream",
     "text": [
      "Epoch 82, Average Loss: 0.11544986381186988, Learning Rate: 8.200000000000001e-07\n"
     ]
    },
    {
     "name": "stderr",
     "output_type": "stream",
     "text": [
      "100%|██████████| 35/35 [00:17<00:00,  1.96it/s]\n"
     ]
    },
    {
     "name": "stdout",
     "output_type": "stream",
     "text": [
      "[('', '克'), ('', '力塔苦甜味'), ('', '也足夠。[SEP][PAD][PAD][PAD][PAD][PAD][PAD]')]\n",
      "[('菜色', '精緻'), ('檸檬塔酸味', '足夠'), ('生巧克力塔苦甜味', '足夠')]\n",
      "{('', '很好')}\n",
      "Top 3 predicted triplets appended to ./log/pred_triplets_output.txt.\n",
      "Val Loss: 0.0028735643751653175, binary_f1: 0.0004, v_f1: 0.0000, a_f1: 0.0000, F1-score: 0.0000\n",
      "验证损失未改善，耐心值计数：9\n"
     ]
    },
    {
     "name": "stderr",
     "output_type": "stream",
     "text": [
      "100%|██████████| 137/137 [00:23<00:00,  5.89it/s]\n"
     ]
    },
    {
     "name": "stdout",
     "output_type": "stream",
     "text": [
      "Epoch 83, Average Loss: 0.23751988237741553, Learning Rate: 8.300000000000001e-07\n"
     ]
    },
    {
     "name": "stderr",
     "output_type": "stream",
     "text": [
      "100%|██████████| 35/35 [00:19<00:00,  1.84it/s]\n"
     ]
    },
    {
     "name": "stdout",
     "output_type": "stream",
     "text": [
      "[('', '克'), ('', '力塔苦甜味'), ('', '也足夠。[SEP][PAD][PAD][PAD][PAD][PAD][PAD]')]\n",
      "[('菜色', '精緻'), ('檸檬塔酸味', '足夠'), ('生巧克力塔苦甜味', '足夠')]\n",
      "{('', '很好')}\n",
      "Top 3 predicted triplets appended to ./log/pred_triplets_output.txt.\n",
      "Val Loss: 0.0026188919636687, binary_f1: 0.0004, v_f1: 0.0000, a_f1: 0.0000, F1-score: 0.0000\n",
      "验证损失未改善，耐心值计数：10\n"
     ]
    },
    {
     "name": "stderr",
     "output_type": "stream",
     "text": [
      "100%|██████████| 137/137 [00:23<00:00,  5.87it/s]\n"
     ]
    },
    {
     "name": "stdout",
     "output_type": "stream",
     "text": [
      "Epoch 84, Average Loss: 0.24111051290775276, Learning Rate: 8.400000000000001e-07\n"
     ]
    },
    {
     "name": "stderr",
     "output_type": "stream",
     "text": [
      "100%|██████████| 35/35 [00:19<00:00,  1.82it/s]\n"
     ]
    },
    {
     "name": "stdout",
     "output_type": "stream",
     "text": [
      "[('', '克'), ('', '力塔苦甜味'), ('', '也足夠。[SEP][PAD][PAD][PAD][PAD][PAD][PAD]')]\n",
      "[('菜色', '精緻'), ('檸檬塔酸味', '足夠'), ('生巧克力塔苦甜味', '足夠')]\n",
      "{('', '很好')}\n",
      "Top 3 predicted triplets appended to ./log/pred_triplets_output.txt.\n",
      "Val Loss: 0.0013832231035589108, binary_f1: 0.0004, v_f1: 0.0000, a_f1: 0.0000, F1-score: 0.0000\n",
      "验证损失未改善，耐心值计数：11\n"
     ]
    },
    {
     "name": "stderr",
     "output_type": "stream",
     "text": [
      "100%|██████████| 137/137 [00:23<00:00,  5.95it/s]\n"
     ]
    },
    {
     "name": "stdout",
     "output_type": "stream",
     "text": [
      "Epoch 85, Average Loss: 0.2102710249896219, Learning Rate: 8.500000000000001e-07\n"
     ]
    },
    {
     "name": "stderr",
     "output_type": "stream",
     "text": [
      "100%|██████████| 35/35 [00:16<00:00,  2.08it/s]\n"
     ]
    },
    {
     "name": "stdout",
     "output_type": "stream",
     "text": [
      "[('', '克'), ('', '力塔苦甜味'), ('', '也足夠。[SEP][PAD][PAD][PAD][PAD][PAD][PAD]')]\n",
      "[('菜色', '精緻'), ('檸檬塔酸味', '足夠'), ('生巧克力塔苦甜味', '足夠')]\n",
      "{('', '很好')}\n",
      "Top 3 predicted triplets appended to ./log/pred_triplets_output.txt.\n",
      "Val Loss: 0.0013351653099692028, binary_f1: 0.0005, v_f1: 0.0000, a_f1: 0.0000, F1-score: 0.0000\n",
      "验证损失未改善，耐心值计数：12\n"
     ]
    },
    {
     "name": "stderr",
     "output_type": "stream",
     "text": [
      "100%|██████████| 137/137 [00:22<00:00,  5.98it/s]\n"
     ]
    },
    {
     "name": "stdout",
     "output_type": "stream",
     "text": [
      "Epoch 86, Average Loss: 0.14148180950373535, Learning Rate: 8.6e-07\n"
     ]
    },
    {
     "name": "stderr",
     "output_type": "stream",
     "text": [
      "100%|██████████| 35/35 [00:17<00:00,  1.97it/s]\n"
     ]
    },
    {
     "name": "stdout",
     "output_type": "stream",
     "text": [
      "[('', '克'), ('', '力塔苦甜味'), ('', '也足夠。[SEP][PAD][PAD][PAD][PAD][PAD][PAD]')]\n",
      "[('菜色', '精緻'), ('檸檬塔酸味', '足夠'), ('生巧克力塔苦甜味', '足夠')]\n",
      "{('', '很好')}\n",
      "Top 3 predicted triplets appended to ./log/pred_triplets_output.txt.\n",
      "Val Loss: 0.002100614787611578, binary_f1: 0.0005, v_f1: 0.0000, a_f1: 0.0000, F1-score: 0.0000\n",
      "验证损失未改善，耐心值计数：13\n"
     ]
    },
    {
     "name": "stderr",
     "output_type": "stream",
     "text": [
      "100%|██████████| 137/137 [00:23<00:00,  5.78it/s]\n"
     ]
    },
    {
     "name": "stdout",
     "output_type": "stream",
     "text": [
      "Epoch 87, Average Loss: 0.09160414209056571, Learning Rate: 8.7e-07\n"
     ]
    },
    {
     "name": "stderr",
     "output_type": "stream",
     "text": [
      "100%|██████████| 35/35 [00:18<00:00,  1.85it/s]\n"
     ]
    },
    {
     "name": "stdout",
     "output_type": "stream",
     "text": [
      "[('', '克'), ('', '力塔苦甜味'), ('', '也足夠。[SEP][PAD][PAD][PAD][PAD][PAD][PAD]')]\n",
      "[('菜色', '精緻'), ('檸檬塔酸味', '足夠'), ('生巧克力塔苦甜味', '足夠')]\n",
      "{('', '很好')}\n",
      "Top 3 predicted triplets appended to ./log/pred_triplets_output.txt.\n",
      "Val Loss: 0.0008727625151680383, binary_f1: 0.0006, v_f1: 0.0000, a_f1: 0.0000, F1-score: 0.0000\n"
     ]
    },
    {
     "name": "stderr",
     "output_type": "stream",
     "text": [
      "100%|██████████| 137/137 [00:23<00:00,  5.92it/s]\n"
     ]
    },
    {
     "name": "stdout",
     "output_type": "stream",
     "text": [
      "Epoch 88, Average Loss: 0.24057212401263034, Learning Rate: 8.8e-07\n"
     ]
    },
    {
     "name": "stderr",
     "output_type": "stream",
     "text": [
      "100%|██████████| 35/35 [00:17<00:00,  2.00it/s]\n"
     ]
    },
    {
     "name": "stdout",
     "output_type": "stream",
     "text": [
      "[('', '克'), ('', '力塔苦甜味'), ('', '也足夠。[SEP][PAD][PAD][PAD][PAD][PAD][PAD]')]\n",
      "[('菜色', '精緻'), ('檸檬塔酸味', '足夠'), ('生巧克力塔苦甜味', '足夠')]\n",
      "{('', '很好')}\n",
      "Top 3 predicted triplets appended to ./log/pred_triplets_output.txt.\n",
      "Val Loss: 0.0019676982924076063, binary_f1: 0.0006, v_f1: 0.0000, a_f1: 0.0000, F1-score: 0.0000\n",
      "验证损失未改善，耐心值计数：1\n"
     ]
    },
    {
     "name": "stderr",
     "output_type": "stream",
     "text": [
      "100%|██████████| 137/137 [00:24<00:00,  5.63it/s]\n"
     ]
    },
    {
     "name": "stdout",
     "output_type": "stream",
     "text": [
      "Epoch 89, Average Loss: 0.21926829744008008, Learning Rate: 8.900000000000001e-07\n"
     ]
    },
    {
     "name": "stderr",
     "output_type": "stream",
     "text": [
      "100%|██████████| 35/35 [00:18<00:00,  1.87it/s]\n"
     ]
    },
    {
     "name": "stdout",
     "output_type": "stream",
     "text": [
      "[('', '克'), ('', '力塔苦甜味也足夠。[SEP][PAD][PAD][PAD][PAD][PAD][PAD]'), ('', '恐怖的用餐')]\n",
      "[('菜色', '精緻'), ('檸檬塔酸味', '足夠'), ('生巧克力塔苦甜味', '足夠')]\n",
      "{('', '很好')}\n",
      "Top 3 predicted triplets appended to ./log/pred_triplets_output.txt.\n",
      "Val Loss: 0.0019795310417456287, binary_f1: 0.0006, v_f1: 0.0000, a_f1: 0.0000, F1-score: 0.0000\n",
      "验证损失未改善，耐心值计数：2\n"
     ]
    },
    {
     "name": "stderr",
     "output_type": "stream",
     "text": [
      "100%|██████████| 137/137 [00:22<00:00,  6.05it/s]\n"
     ]
    },
    {
     "name": "stdout",
     "output_type": "stream",
     "text": [
      "Epoch 90, Average Loss: 0.16748223722758143, Learning Rate: 9.000000000000001e-07\n"
     ]
    },
    {
     "name": "stderr",
     "output_type": "stream",
     "text": [
      "100%|██████████| 35/35 [00:18<00:00,  1.87it/s]\n"
     ]
    },
    {
     "name": "stdout",
     "output_type": "stream",
     "text": [
      "[('', '恐怖的用餐'), ('', '那種。[SEP][PAD][PAD][PAD][PAD][PAD][PAD][PAD][PAD][PAD][PAD][PAD][PAD][PAD][PAD][PAD]'), ('', '服務')]\n",
      "[('菜色', '精緻'), ('檸檬塔酸味', '足夠'), ('生巧克力塔苦甜味', '足夠')]\n",
      "{('', '很好')}\n",
      "Top 3 predicted triplets appended to ./log/pred_triplets_output.txt.\n",
      "Val Loss: 0.0015264224901329726, binary_f1: 0.0007, v_f1: 0.0000, a_f1: 0.0000, F1-score: 0.0000\n",
      "验证损失未改善，耐心值计数：3\n"
     ]
    },
    {
     "name": "stderr",
     "output_type": "stream",
     "text": [
      "100%|██████████| 137/137 [00:23<00:00,  5.83it/s]\n"
     ]
    },
    {
     "name": "stdout",
     "output_type": "stream",
     "text": [
      "Epoch 91, Average Loss: 0.13630686959633723, Learning Rate: 9.100000000000001e-07\n"
     ]
    },
    {
     "name": "stderr",
     "output_type": "stream",
     "text": [
      "100%|██████████| 35/35 [00:18<00:00,  1.88it/s]\n"
     ]
    },
    {
     "name": "stdout",
     "output_type": "stream",
     "text": [
      "Top 3 predicted triplets appended to ./log/pred_triplets_output.txt.\n",
      "Val Loss: 0.001641688245581463, binary_f1: 0.0000, v_f1: 0.0000, a_f1: 0.0000, F1-score: 0.0000\n",
      "验证损失未改善，耐心值计数：4\n"
     ]
    },
    {
     "name": "stderr",
     "output_type": "stream",
     "text": [
      "100%|██████████| 137/137 [00:24<00:00,  5.63it/s]\n"
     ]
    },
    {
     "name": "stdout",
     "output_type": "stream",
     "text": [
      "Epoch 92, Average Loss: 0.16117003274954902, Learning Rate: 9.200000000000001e-07\n"
     ]
    },
    {
     "name": "stderr",
     "output_type": "stream",
     "text": [
      "100%|██████████| 35/35 [00:17<00:00,  1.98it/s]\n"
     ]
    },
    {
     "name": "stdout",
     "output_type": "stream",
     "text": [
      "Top 3 predicted triplets appended to ./log/pred_triplets_output.txt.\n",
      "Val Loss: 0.0009567870292812586, binary_f1: 0.0000, v_f1: 0.0000, a_f1: 0.0000, F1-score: 0.0000\n",
      "验证损失未改善，耐心值计数：5\n"
     ]
    },
    {
     "name": "stderr",
     "output_type": "stream",
     "text": [
      "100%|██████████| 137/137 [00:24<00:00,  5.70it/s]\n"
     ]
    },
    {
     "name": "stdout",
     "output_type": "stream",
     "text": [
      "Epoch 93, Average Loss: 0.17559621909931328, Learning Rate: 9.300000000000001e-07\n"
     ]
    },
    {
     "name": "stderr",
     "output_type": "stream",
     "text": [
      "100%|██████████| 35/35 [00:18<00:00,  1.92it/s]\n"
     ]
    },
    {
     "name": "stdout",
     "output_type": "stream",
     "text": [
      "Top 3 predicted triplets appended to ./log/pred_triplets_output.txt.\n",
      "Val Loss: 0.001049238399718888, binary_f1: 0.0000, v_f1: 0.0000, a_f1: 0.0000, F1-score: 0.0000\n",
      "验证损失未改善，耐心值计数：6\n"
     ]
    },
    {
     "name": "stderr",
     "output_type": "stream",
     "text": [
      "100%|██████████| 137/137 [00:22<00:00,  6.01it/s]\n"
     ]
    },
    {
     "name": "stdout",
     "output_type": "stream",
     "text": [
      "Epoch 94, Average Loss: 0.1983677970983592, Learning Rate: 9.400000000000001e-07\n"
     ]
    },
    {
     "name": "stderr",
     "output_type": "stream",
     "text": [
      "100%|██████████| 35/35 [00:18<00:00,  1.93it/s]\n"
     ]
    },
    {
     "name": "stdout",
     "output_type": "stream",
     "text": [
      "Top 3 predicted triplets appended to ./log/pred_triplets_output.txt.\n",
      "Val Loss: 0.0009466197811499504, binary_f1: 0.0000, v_f1: 0.0000, a_f1: 0.0000, F1-score: 0.0000\n",
      "验证损失未改善，耐心值计数：7\n"
     ]
    },
    {
     "name": "stderr",
     "output_type": "stream",
     "text": [
      "100%|██████████| 137/137 [00:23<00:00,  5.84it/s]\n"
     ]
    },
    {
     "name": "stdout",
     "output_type": "stream",
     "text": [
      "Epoch 95, Average Loss: 0.20930995550439999, Learning Rate: 9.500000000000001e-07\n"
     ]
    },
    {
     "name": "stderr",
     "output_type": "stream",
     "text": [
      "100%|██████████| 35/35 [00:18<00:00,  1.91it/s]\n"
     ]
    },
    {
     "name": "stdout",
     "output_type": "stream",
     "text": [
      "Top 3 predicted triplets appended to ./log/pred_triplets_output.txt.\n",
      "Val Loss: 0.0006713997992587143, binary_f1: 0.0000, v_f1: 0.0000, a_f1: 0.0000, F1-score: 0.0000\n",
      "验证损失未改善，耐心值计数：8\n"
     ]
    },
    {
     "name": "stderr",
     "output_type": "stream",
     "text": [
      "100%|██████████| 137/137 [00:23<00:00,  5.85it/s]\n"
     ]
    },
    {
     "name": "stdout",
     "output_type": "stream",
     "text": [
      "Epoch 96, Average Loss: 0.1331143402626201, Learning Rate: 9.600000000000001e-07\n"
     ]
    },
    {
     "name": "stderr",
     "output_type": "stream",
     "text": [
      "100%|██████████| 35/35 [00:18<00:00,  1.87it/s]\n"
     ]
    },
    {
     "name": "stdout",
     "output_type": "stream",
     "text": [
      "Top 3 predicted triplets appended to ./log/pred_triplets_output.txt.\n",
      "Val Loss: 0.0007825951565921839, binary_f1: 0.0000, v_f1: 0.0000, a_f1: 0.0000, F1-score: 0.0000\n",
      "验证损失未改善，耐心值计数：9\n"
     ]
    },
    {
     "name": "stderr",
     "output_type": "stream",
     "text": [
      "100%|██████████| 137/137 [00:22<00:00,  5.99it/s]\n"
     ]
    },
    {
     "name": "stdout",
     "output_type": "stream",
     "text": [
      "Epoch 97, Average Loss: 0.14394863715268294, Learning Rate: 9.7e-07\n"
     ]
    },
    {
     "name": "stderr",
     "output_type": "stream",
     "text": [
      "100%|██████████| 35/35 [00:17<00:00,  1.94it/s]\n"
     ]
    },
    {
     "name": "stdout",
     "output_type": "stream",
     "text": [
      "Top 3 predicted triplets appended to ./log/pred_triplets_output.txt.\n",
      "Val Loss: 0.000935099829387452, binary_f1: 0.0000, v_f1: 0.0000, a_f1: 0.0000, F1-score: 0.0000\n",
      "验证损失未改善，耐心值计数：10\n"
     ]
    },
    {
     "name": "stderr",
     "output_type": "stream",
     "text": [
      "100%|██████████| 137/137 [00:23<00:00,  5.82it/s]\n"
     ]
    },
    {
     "name": "stdout",
     "output_type": "stream",
     "text": [
      "Epoch 98, Average Loss: 0.17374675456855326, Learning Rate: 9.800000000000001e-07\n"
     ]
    },
    {
     "name": "stderr",
     "output_type": "stream",
     "text": [
      "100%|██████████| 35/35 [00:17<00:00,  2.04it/s]\n"
     ]
    },
    {
     "name": "stdout",
     "output_type": "stream",
     "text": [
      "Top 3 predicted triplets appended to ./log/pred_triplets_output.txt.\n",
      "Val Loss: 0.0005854071429764319, binary_f1: 0.0000, v_f1: 0.0000, a_f1: 0.0000, F1-score: 0.0000\n",
      "验证损失未改善，耐心值计数：11\n"
     ]
    },
    {
     "name": "stderr",
     "output_type": "stream",
     "text": [
      "100%|██████████| 137/137 [00:23<00:00,  5.81it/s]\n"
     ]
    },
    {
     "name": "stdout",
     "output_type": "stream",
     "text": [
      "Epoch 99, Average Loss: 0.17071547382081015, Learning Rate: 9.9e-07\n"
     ]
    },
    {
     "name": "stderr",
     "output_type": "stream",
     "text": [
      "100%|██████████| 35/35 [00:18<00:00,  1.89it/s]\n"
     ]
    },
    {
     "name": "stdout",
     "output_type": "stream",
     "text": [
      "Top 3 predicted triplets appended to ./log/pred_triplets_output.txt.\n",
      "Val Loss: 0.001800767897761294, binary_f1: 0.0000, v_f1: 0.0000, a_f1: 0.0000, F1-score: 0.0000\n",
      "验证损失未改善，耐心值计数：12\n"
     ]
    },
    {
     "name": "stderr",
     "output_type": "stream",
     "text": [
      "100%|██████████| 137/137 [00:24<00:00,  5.60it/s]\n"
     ]
    },
    {
     "name": "stdout",
     "output_type": "stream",
     "text": [
      "Epoch 100, Average Loss: 0.1526593401880228, Learning Rate: 1.0000000000000002e-06\n"
     ]
    },
    {
     "name": "stderr",
     "output_type": "stream",
     "text": [
      "100%|██████████| 35/35 [00:18<00:00,  1.91it/s]\n"
     ]
    },
    {
     "name": "stdout",
     "output_type": "stream",
     "text": [
      "Top 3 predicted triplets appended to ./log/pred_triplets_output.txt.\n",
      "Val Loss: 0.0005487979838757642, binary_f1: 0.0000, v_f1: 0.0000, a_f1: 0.0000, F1-score: 0.0000\n",
      "验证损失未改善，耐心值计数：13\n"
     ]
    },
    {
     "name": "stderr",
     "output_type": "stream",
     "text": [
      "100%|██████████| 137/137 [00:23<00:00,  5.91it/s]\n"
     ]
    },
    {
     "name": "stdout",
     "output_type": "stream",
     "text": [
      "Epoch 101, Average Loss: 0.17891667916160756, Learning Rate: 1.01e-06\n"
     ]
    },
    {
     "name": "stderr",
     "output_type": "stream",
     "text": [
      "100%|██████████| 35/35 [00:18<00:00,  1.90it/s]\n"
     ]
    },
    {
     "name": "stdout",
     "output_type": "stream",
     "text": [
      "Top 3 predicted triplets appended to ./log/pred_triplets_output.txt.\n",
      "Val Loss: 0.0007236378620811073, binary_f1: 0.0000, v_f1: 0.0000, a_f1: 0.0000, F1-score: 0.0000\n",
      "验证损失未改善，耐心值计数：14\n"
     ]
    },
    {
     "name": "stderr",
     "output_type": "stream",
     "text": [
      "100%|██████████| 137/137 [00:23<00:00,  5.77it/s]\n"
     ]
    },
    {
     "name": "stdout",
     "output_type": "stream",
     "text": [
      "Epoch 102, Average Loss: 0.29013904070438745, Learning Rate: 1.02e-06\n"
     ]
    },
    {
     "name": "stderr",
     "output_type": "stream",
     "text": [
      "100%|██████████| 35/35 [00:17<00:00,  2.01it/s]\n"
     ]
    },
    {
     "name": "stdout",
     "output_type": "stream",
     "text": [
      "Top 3 predicted triplets appended to ./log/pred_triplets_output.txt.\n",
      "Val Loss: 0.0017915384278499654, binary_f1: 0.0000, v_f1: 0.0000, a_f1: 0.0000, F1-score: 0.0000\n",
      "验证损失未改善，耐心值计数：15\n",
      "验证损失在连续多个 epoch 中未改善，停止训练。\n",
      "Fold 4 训练完成。\n",
      "Fold 5:\n",
      "Training Set Size: 4356\n",
      "Validation Set Size: 1089\n"
     ]
    },
    {
     "name": "stderr",
     "output_type": "stream",
     "text": [
      "Some weights of ASTEModel were not initialized from the model checkpoint at bert-base-chinese and are newly initialized: ['classifier.bias', 'classifier.weight', 'regressor.bias', 'regressor.weight']\n",
      "You should probably TRAIN this model on a down-stream task to be able to use it for predictions and inference.\n",
      "100%|██████████| 137/137 [00:23<00:00,  5.86it/s]\n"
     ]
    },
    {
     "name": "stdout",
     "output_type": "stream",
     "text": [
      "Epoch 1, Average Loss: 0.15693219509111703, Learning Rate: 1e-08\n"
     ]
    },
    {
     "name": "stderr",
     "output_type": "stream",
     "text": [
      "100%|██████████| 35/35 [00:21<00:00,  1.64it/s]\n"
     ]
    },
    {
     "name": "stdout",
     "output_type": "stream",
     "text": [
      "[('', '肉'), ('', '又軟'), ('', '。')]\n",
      "[('肉質', '軟嫩'), ('酸辣湯', '超級普通'), ('紅燒肉', '真的優秀')]\n",
      "{('', '鮮味十足'), ('麵', '還可以')}\n",
      "Top 3 predicted triplets appended to ./log/pred_triplets_output.txt.\n",
      "Val Loss: 0.10764456678714071, binary_f1: 0.0004, v_f1: 0.0000, a_f1: 0.0000, F1-score: 0.0000\n",
      "验证损失未改善，耐心值计数：1\n"
     ]
    },
    {
     "name": "stderr",
     "output_type": "stream",
     "text": [
      "100%|██████████| 137/137 [00:23<00:00,  5.79it/s]\n"
     ]
    },
    {
     "name": "stdout",
     "output_type": "stream",
     "text": [
      "Epoch 2, Average Loss: 0.33357571763577903, Learning Rate: 2e-08\n"
     ]
    },
    {
     "name": "stderr",
     "output_type": "stream",
     "text": [
      "100%|██████████| 35/35 [00:22<00:00,  1.57it/s]\n"
     ]
    },
    {
     "name": "stdout",
     "output_type": "stream",
     "text": [
      "[('', '肉'), ('', '又軟'), ('', '。')]\n",
      "[('肉質', '軟嫩'), ('酸辣湯', '超級普通'), ('紅燒肉', '真的優秀')]\n",
      "{('', '鮮味十足'), ('麵', '還可以')}\n",
      "Top 3 predicted triplets appended to ./log/pred_triplets_output.txt.\n",
      "Val Loss: 0.09234684040503842, binary_f1: 0.0004, v_f1: 0.0000, a_f1: 0.0000, F1-score: 0.0000\n",
      "验证损失未改善，耐心值计数：2\n"
     ]
    },
    {
     "name": "stderr",
     "output_type": "stream",
     "text": [
      "100%|██████████| 137/137 [00:23<00:00,  5.89it/s]\n"
     ]
    },
    {
     "name": "stdout",
     "output_type": "stream",
     "text": [
      "Epoch 3, Average Loss: 0.2547965410308246, Learning Rate: 3.0000000000000004e-08\n"
     ]
    },
    {
     "name": "stderr",
     "output_type": "stream",
     "text": [
      "100%|██████████| 35/35 [00:22<00:00,  1.56it/s]\n"
     ]
    },
    {
     "name": "stdout",
     "output_type": "stream",
     "text": [
      "[('', '肉'), ('', '又軟'), ('', '。')]\n",
      "[('肉質', '軟嫩'), ('酸辣湯', '超級普通'), ('紅燒肉', '真的優秀')]\n",
      "{('', '鮮味十足'), ('麵', '還可以')}\n",
      "Top 3 predicted triplets appended to ./log/pred_triplets_output.txt.\n",
      "Val Loss: 0.06882305560367448, binary_f1: 0.0004, v_f1: 0.0000, a_f1: 0.0000, F1-score: 0.0000\n",
      "验证损失未改善，耐心值计数：3\n"
     ]
    },
    {
     "name": "stderr",
     "output_type": "stream",
     "text": [
      "100%|██████████| 137/137 [00:24<00:00,  5.67it/s]\n"
     ]
    },
    {
     "name": "stdout",
     "output_type": "stream",
     "text": [
      "Epoch 4, Average Loss: 0.2465398421810165, Learning Rate: 4e-08\n"
     ]
    },
    {
     "name": "stderr",
     "output_type": "stream",
     "text": [
      "100%|██████████| 35/35 [00:22<00:00,  1.55it/s]\n"
     ]
    },
    {
     "name": "stdout",
     "output_type": "stream",
     "text": [
      "[('', '肉'), ('', '又軟'), ('', '。')]\n",
      "[('肉質', '軟嫩'), ('酸辣湯', '超級普通'), ('紅燒肉', '真的優秀')]\n",
      "{('', '鮮味十足'), ('麵', '還可以')}\n",
      "Top 3 predicted triplets appended to ./log/pred_triplets_output.txt.\n",
      "Val Loss: 0.04410255973759506, binary_f1: 0.0004, v_f1: 0.0000, a_f1: 0.0000, F1-score: 0.0000\n",
      "验证损失未改善，耐心值计数：4\n"
     ]
    },
    {
     "name": "stderr",
     "output_type": "stream",
     "text": [
      "100%|██████████| 137/137 [00:24<00:00,  5.70it/s]\n"
     ]
    },
    {
     "name": "stdout",
     "output_type": "stream",
     "text": [
      "Epoch 5, Average Loss: 0.28824065784570235, Learning Rate: 5.0000000000000004e-08\n"
     ]
    },
    {
     "name": "stderr",
     "output_type": "stream",
     "text": [
      "100%|██████████| 35/35 [00:22<00:00,  1.57it/s]\n"
     ]
    },
    {
     "name": "stdout",
     "output_type": "stream",
     "text": [
      "[('', '肉'), ('', '又軟'), ('', '。')]\n",
      "[('肉質', '軟嫩'), ('酸辣湯', '超級普通'), ('紅燒肉', '真的優秀')]\n",
      "{('', '鮮味十足'), ('麵', '還可以')}\n",
      "Top 3 predicted triplets appended to ./log/pred_triplets_output.txt.\n",
      "Val Loss: 0.03421725182394896, binary_f1: 0.0004, v_f1: 0.0000, a_f1: 0.0000, F1-score: 0.0000\n",
      "验证损失未改善，耐心值计数：5\n"
     ]
    },
    {
     "name": "stderr",
     "output_type": "stream",
     "text": [
      "100%|██████████| 137/137 [00:24<00:00,  5.71it/s]\n"
     ]
    },
    {
     "name": "stdout",
     "output_type": "stream",
     "text": [
      "Epoch 6, Average Loss: 0.12669303480970817, Learning Rate: 6.000000000000001e-08\n"
     ]
    },
    {
     "name": "stderr",
     "output_type": "stream",
     "text": [
      "100%|██████████| 35/35 [00:22<00:00,  1.58it/s]\n"
     ]
    },
    {
     "name": "stdout",
     "output_type": "stream",
     "text": [
      "[('', '肉'), ('', '又軟'), ('', '。')]\n",
      "[('肉質', '軟嫩'), ('酸辣湯', '超級普通'), ('紅燒肉', '真的優秀')]\n",
      "{('', '鮮味十足'), ('麵', '還可以')}\n",
      "Top 3 predicted triplets appended to ./log/pred_triplets_output.txt.\n",
      "Val Loss: 0.03319923152614917, binary_f1: 0.0004, v_f1: 0.0000, a_f1: 0.0000, F1-score: 0.0000\n",
      "验证损失未改善，耐心值计数：6\n"
     ]
    },
    {
     "name": "stderr",
     "output_type": "stream",
     "text": [
      "100%|██████████| 137/137 [00:25<00:00,  5.47it/s]\n"
     ]
    },
    {
     "name": "stdout",
     "output_type": "stream",
     "text": [
      "Epoch 7, Average Loss: 0.174882572399194, Learning Rate: 7e-08\n"
     ]
    },
    {
     "name": "stderr",
     "output_type": "stream",
     "text": [
      "100%|██████████| 35/35 [00:22<00:00,  1.54it/s]\n"
     ]
    },
    {
     "name": "stdout",
     "output_type": "stream",
     "text": [
      "[('', '肉'), ('', '又軟'), ('', '。')]\n",
      "[('肉質', '軟嫩'), ('酸辣湯', '超級普通'), ('紅燒肉', '真的優秀')]\n",
      "{('', '鮮味十足'), ('麵', '還可以')}\n",
      "Top 3 predicted triplets appended to ./log/pred_triplets_output.txt.\n",
      "Val Loss: 0.032332073258502146, binary_f1: 0.0004, v_f1: 0.0000, a_f1: 0.0000, F1-score: 0.0000\n",
      "验证损失未改善，耐心值计数：7\n"
     ]
    },
    {
     "name": "stderr",
     "output_type": "stream",
     "text": [
      "100%|██████████| 137/137 [00:23<00:00,  5.78it/s]\n"
     ]
    },
    {
     "name": "stdout",
     "output_type": "stream",
     "text": [
      "Epoch 8, Average Loss: 0.2773640290545096, Learning Rate: 8e-08\n"
     ]
    },
    {
     "name": "stderr",
     "output_type": "stream",
     "text": [
      "100%|██████████| 35/35 [00:23<00:00,  1.51it/s]\n"
     ]
    },
    {
     "name": "stdout",
     "output_type": "stream",
     "text": [
      "[('', '[CLS]'), ('', '肉'), ('', '又軟')]\n",
      "[('肉質', '軟嫩'), ('酸辣湯', '超級普通'), ('紅燒肉', '真的優秀')]\n",
      "{('', '鮮味十足'), ('麵', '還可以')}\n",
      "Top 3 predicted triplets appended to ./log/pred_triplets_output.txt.\n",
      "Val Loss: 0.031171636077176247, binary_f1: 0.0004, v_f1: 0.0000, a_f1: 0.0000, F1-score: 0.0000\n",
      "验证损失未改善，耐心值计数：8\n"
     ]
    },
    {
     "name": "stderr",
     "output_type": "stream",
     "text": [
      "100%|██████████| 137/137 [00:24<00:00,  5.62it/s]\n"
     ]
    },
    {
     "name": "stdout",
     "output_type": "stream",
     "text": [
      "Epoch 9, Average Loss: 0.17024137592283042, Learning Rate: 9e-08\n"
     ]
    },
    {
     "name": "stderr",
     "output_type": "stream",
     "text": [
      "100%|██████████| 35/35 [00:22<00:00,  1.53it/s]\n"
     ]
    },
    {
     "name": "stdout",
     "output_type": "stream",
     "text": [
      "[('', '[CLS]'), ('', '肉'), ('', '又軟')]\n",
      "[('肉質', '軟嫩'), ('酸辣湯', '超級普通'), ('紅燒肉', '真的優秀')]\n",
      "{('', '鮮味十足'), ('麵', '還可以')}\n",
      "Top 3 predicted triplets appended to ./log/pred_triplets_output.txt.\n",
      "Val Loss: 0.029497943299689463, binary_f1: 0.0004, v_f1: 0.0000, a_f1: 0.0000, F1-score: 0.0000\n",
      "验证损失未改善，耐心值计数：9\n"
     ]
    },
    {
     "name": "stderr",
     "output_type": "stream",
     "text": [
      "100%|██████████| 137/137 [00:24<00:00,  5.56it/s]\n"
     ]
    },
    {
     "name": "stdout",
     "output_type": "stream",
     "text": [
      "Epoch 10, Average Loss: 0.16010042169151734, Learning Rate: 1.0000000000000001e-07\n"
     ]
    },
    {
     "name": "stderr",
     "output_type": "stream",
     "text": [
      "100%|██████████| 35/35 [00:21<00:00,  1.63it/s]\n"
     ]
    },
    {
     "name": "stdout",
     "output_type": "stream",
     "text": [
      "[('', '[CLS]'), ('', '肉'), ('', '又軟')]\n",
      "[('肉質', '軟嫩'), ('酸辣湯', '超級普通'), ('紅燒肉', '真的優秀')]\n",
      "{('', '鮮味十足'), ('麵', '還可以')}\n",
      "Top 3 predicted triplets appended to ./log/pred_triplets_output.txt.\n",
      "Val Loss: 0.02882671475942646, binary_f1: 0.0004, v_f1: 0.0000, a_f1: 0.0000, F1-score: 0.0000\n",
      "验证损失未改善，耐心值计数：10\n"
     ]
    },
    {
     "name": "stderr",
     "output_type": "stream",
     "text": [
      "100%|██████████| 137/137 [00:23<00:00,  5.76it/s]\n"
     ]
    },
    {
     "name": "stdout",
     "output_type": "stream",
     "text": [
      "Epoch 11, Average Loss: 0.28750369245234036, Learning Rate: 1.1e-07\n"
     ]
    },
    {
     "name": "stderr",
     "output_type": "stream",
     "text": [
      "100%|██████████| 35/35 [00:23<00:00,  1.52it/s]\n"
     ]
    },
    {
     "name": "stdout",
     "output_type": "stream",
     "text": [
      "[('', '[CLS]'), ('', '肉'), ('', '又軟')]\n",
      "[('肉質', '軟嫩'), ('酸辣湯', '超級普通'), ('紅燒肉', '真的優秀')]\n",
      "{('', '鮮味十足'), ('麵', '還可以')}\n",
      "Top 3 predicted triplets appended to ./log/pred_triplets_output.txt.\n",
      "Val Loss: 0.02608496063788022, binary_f1: 0.0004, v_f1: 0.0000, a_f1: 0.0000, F1-score: 0.0000\n",
      "验证损失未改善，耐心值计数：11\n"
     ]
    },
    {
     "name": "stderr",
     "output_type": "stream",
     "text": [
      "100%|██████████| 137/137 [00:24<00:00,  5.68it/s]\n"
     ]
    },
    {
     "name": "stdout",
     "output_type": "stream",
     "text": [
      "Epoch 12, Average Loss: 0.25057602990044786, Learning Rate: 1.2000000000000002e-07\n"
     ]
    },
    {
     "name": "stderr",
     "output_type": "stream",
     "text": [
      "100%|██████████| 35/35 [00:22<00:00,  1.53it/s]\n"
     ]
    },
    {
     "name": "stdout",
     "output_type": "stream",
     "text": [
      "[('', '[CLS]'), ('', '肉'), ('', '又軟')]\n",
      "[('肉質', '軟嫩'), ('酸辣湯', '超級普通'), ('紅燒肉', '真的優秀')]\n",
      "{('', '鮮味十足'), ('麵', '還可以')}\n",
      "Top 3 predicted triplets appended to ./log/pred_triplets_output.txt.\n",
      "Val Loss: 0.024713535806430237, binary_f1: 0.0004, v_f1: 0.0000, a_f1: 0.0000, F1-score: 0.0000\n",
      "验证损失未改善，耐心值计数：12\n"
     ]
    },
    {
     "name": "stderr",
     "output_type": "stream",
     "text": [
      "100%|██████████| 137/137 [00:24<00:00,  5.59it/s]\n"
     ]
    },
    {
     "name": "stdout",
     "output_type": "stream",
     "text": [
      "Epoch 13, Average Loss: 0.13712494379337742, Learning Rate: 1.3e-07\n"
     ]
    },
    {
     "name": "stderr",
     "output_type": "stream",
     "text": [
      "100%|██████████| 35/35 [00:23<00:00,  1.50it/s]\n"
     ]
    },
    {
     "name": "stdout",
     "output_type": "stream",
     "text": [
      "[('', '[CLS]'), ('', '肉'), ('', '又軟')]\n",
      "[('肉質', '軟嫩'), ('酸辣湯', '超級普通'), ('紅燒肉', '真的優秀')]\n",
      "{('', '鮮味十足'), ('麵', '還可以')}\n",
      "Top 3 predicted triplets appended to ./log/pred_triplets_output.txt.\n",
      "Val Loss: 0.023716783516907265, binary_f1: 0.0004, v_f1: 0.0000, a_f1: 0.0000, F1-score: 0.0000\n",
      "验证损失未改善，耐心值计数：13\n"
     ]
    },
    {
     "name": "stderr",
     "output_type": "stream",
     "text": [
      "100%|██████████| 137/137 [00:23<00:00,  5.90it/s]\n"
     ]
    },
    {
     "name": "stdout",
     "output_type": "stream",
     "text": [
      "Epoch 14, Average Loss: 0.1887406288641063, Learning Rate: 1.4e-07\n"
     ]
    },
    {
     "name": "stderr",
     "output_type": "stream",
     "text": [
      "100%|██████████| 35/35 [00:23<00:00,  1.52it/s]\n"
     ]
    },
    {
     "name": "stdout",
     "output_type": "stream",
     "text": [
      "[('', '[CLS]'), ('', '肉'), ('', '又軟')]\n",
      "[('肉質', '軟嫩'), ('酸辣湯', '超級普通'), ('紅燒肉', '真的優秀')]\n",
      "{('', '鮮味十足'), ('麵', '還可以')}\n",
      "Top 3 predicted triplets appended to ./log/pred_triplets_output.txt.\n",
      "Val Loss: 0.02230956751321043, binary_f1: 0.0004, v_f1: 0.0000, a_f1: 0.0000, F1-score: 0.0000\n",
      "验证损失未改善，耐心值计数：14\n"
     ]
    },
    {
     "name": "stderr",
     "output_type": "stream",
     "text": [
      "100%|██████████| 137/137 [00:24<00:00,  5.66it/s]\n"
     ]
    },
    {
     "name": "stdout",
     "output_type": "stream",
     "text": [
      "Epoch 15, Average Loss: 0.2501831861097284, Learning Rate: 1.5000000000000002e-07\n"
     ]
    },
    {
     "name": "stderr",
     "output_type": "stream",
     "text": [
      "100%|██████████| 35/35 [00:22<00:00,  1.54it/s]"
     ]
    },
    {
     "name": "stdout",
     "output_type": "stream",
     "text": [
      "[('', '[CLS]'), ('', '肉'), ('', '又軟')]\n",
      "[('肉質', '軟嫩'), ('酸辣湯', '超級普通'), ('紅燒肉', '真的優秀')]\n",
      "{('', '鮮味十足'), ('麵', '還可以')}\n",
      "Top 3 predicted triplets appended to ./log/pred_triplets_output.txt.\n",
      "Val Loss: 0.021695455070585012, binary_f1: 0.0004, v_f1: 0.0000, a_f1: 0.0000, F1-score: 0.0000\n",
      "验证损失未改善，耐心值计数：15\n",
      "验证损失在连续多个 epoch 中未改善，停止训练。\n",
      "Fold 5 训练完成。\n",
      "全部训练完成\n"
     ]
    },
    {
     "name": "stderr",
     "output_type": "stream",
     "text": [
      "\n"
     ]
    }
   ],
   "source": [
    "from transformers import BertConfig\n",
    "from torch.amp import autocast, GradScaler\n",
    "from torch.optim import AdamW\n",
    "from torch.optim.lr_scheduler import LambdaLR\n",
    "from sklearn.model_selection import KFold\n",
    "import os\n",
    "import numpy as np\n",
    "from tqdm import tqdm\n",
    "import torch\n",
    "import pandas as pd\n",
    "import json\n",
    "from torch.utils.tensorboard import SummaryWriter\n",
    "from transformers import get_scheduler\n",
    "\n",
    "\n",
    "# 初始化\n",
    "scaler = GradScaler()\n",
    "device = torch.device(\"cuda\" if torch.cuda.is_available() else \"cpu\")\n",
    "\n",
    "# 超参数设置\n",
    "best_val_loss = float('inf')\n",
    "best_avg_loss = float('inf')\n",
    "patience = 15\n",
    "patience_counter = 0\n",
    "min_delta = 0.001\n",
    "max_epochs = 1000  # 设置一个最大 epoch 数，防止无限循环\n",
    "\n",
    "label_to_id = {'O': 0, 'B-Aspect': 1, 'I-Aspect': 2, 'B-Opinion': 3, 'I-Opinion': 4}\n",
    "id_to_label = {v: k for k, v in label_to_id.items()}\n",
    "num_labels = len(label_to_id)\n",
    "\n",
    "# 加载数据\n",
    "data_path = r'E:\\NYCU-Project\\Class\\NLP\\Dimensional ASTE\\NYCU_NLP_113A_Dataset\\NYCU_NLP_113A_TrainingSet.json'\n",
    "df = read_data(data_path)\n",
    "\n",
    "# 分割测试集\n",
    "train_val_df, test_df = train_test_split(df, test_size=0.1, random_state=42)\n",
    "\n",
    "test_dataset = data_generator(test_df)\n",
    "test_loader = DataLoader(test_dataset, sampler=SequentialSampler(test_dataset), batch_size=32)\n",
    "\n",
    "print(f\"Test Set Size: {len(test_df)}\")\n",
    "\n",
    "# 使用BERT快速標記器來自動對齊標記和標籤\n",
    "\n",
    "tokenizer = BertTokenizerFast.from_pretrained('bert-base-chinese') # 使用支持 offset_mapping 的 BertTokenizerFast\n",
    "# K折交叉验证\n",
    "kf = KFold(n_splits=5, shuffle=True, random_state=42)\n",
    "\n",
    "for fold, (train_idx, val_idx) in enumerate(kf.split(train_val_df)):\n",
    "    print(f\"Fold {fold + 1}:\")\n",
    "    writer = SummaryWriter(log_dir=f\"./tensorboard_logs/fold_{fold + 1}\")\n",
    "\n",
    "\n",
    "    train_fold_df = train_val_df.iloc[train_idx]\n",
    "    val_fold_df = train_val_df.iloc[val_idx]\n",
    "\n",
    "    # 显示每折的数据大小\n",
    "    print(f\"Training Set Size: {len(train_fold_df)}\")\n",
    "    print(f\"Validation Set Size: {len(val_fold_df)}\")\n",
    "\n",
    "    Train_dataset = data_generator(train_fold_df)\n",
    "    val_dataset = data_generator(val_fold_df)\n",
    "    \n",
    "    # 创建 DataLoader\n",
    "    train_loader = DataLoader(Train_dataset, sampler=RandomSampler(Train_dataset), batch_size=32)\n",
    "    val_loader = DataLoader(val_dataset, sampler=SequentialSampler(val_dataset), batch_size=32)\n",
    "\n",
    "    # 加载模型和配置\n",
    "    config = BertConfig.from_pretrained('bert-base-chinese', num_labels=num_labels)\n",
    "    model = ASTEModel.from_pretrained('bert-base-chinese', config=config)\n",
    "    model.to(device)\n",
    "\n",
    "    # 定义分层学习率\n",
    "    optimizer_grouped_parameters = [\n",
    "        {'params': model.bert.encoder.layer[:6].parameters(), 'lr': 1e-5},  # BERT 的底层 Transformer 层\n",
    "        {'params': model.bert.encoder.layer[6:].parameters(), 'lr': 2e-5},  # BERT 的高层 Transformer 层\n",
    "        {'params': model.classifier.parameters(), 'lr': 1e-4},  # 序列标注层（任务相关层）\n",
    "        {'params': model.regressor.parameters(), 'lr': 1e-4},  # 回归层（任务相关层）\n",
    "    ]\n",
    "    optimizer = AdamW(optimizer_grouped_parameters, weight_decay=0.01)\n",
    "\n",
    "    num_training_steps = max_epochs * len(train_loader)\n",
    "    num_warmup_steps = 1000    # 预热步数为总步数的10%\n",
    "\n",
    "    scheduler = get_scheduler(\n",
    "        \"linear\",  \n",
    "        optimizer=optimizer,\n",
    "        num_warmup_steps=num_warmup_steps,\n",
    "        num_training_steps=num_training_steps\n",
    "    )\n",
    "    output_dir = f'./saved_model_fold_{fold + 1}/'\n",
    "\n",
    "    epochs = 0  # 重置 epoch 计数器\n",
    "    patience_counter = 0  # 重置耐心计数器\n",
    "\n",
    "    # 将训练循环修改为 while 循环\n",
    "    while True:\n",
    "        epochs += 1  # 手动计数 epochs\n",
    "        if epochs > max_epochs:\n",
    "            print(\"达到最大 epoch 数，停止训练。\")\n",
    "            break\n",
    "\n",
    "        model.train()\n",
    "        total_loss = 0\n",
    "\n",
    "        for step, batch in enumerate(tqdm(train_loader)):\n",
    "            batch_input_ids = batch['input_ids'].to(device)\n",
    "            batch_attention_masks = batch['attention_mask'].to(device)\n",
    "            batch_labels = batch['labels'].to(device)\n",
    "            batch_intensity_labels = batch['intensity_labels'].to(device)\n",
    "\n",
    "            optimizer.zero_grad()\n",
    "\n",
    "            with autocast(\"cuda\"):\n",
    "                outputs = model(\n",
    "                    input_ids=batch_input_ids,\n",
    "                    attention_mask=batch_attention_masks,\n",
    "                    labels=batch_labels,\n",
    "                    intensity_labels=batch_intensity_labels\n",
    "                )\n",
    "            loss = outputs[0]\n",
    "\n",
    "            scaler.scale(loss).backward()\n",
    "            torch.nn.utils.clip_grad_norm_(model.parameters(), max_norm=1.0)\n",
    "            scaler.step(optimizer)\n",
    "            scaler.update()\n",
    "\n",
    "            total_loss += loss.item()\n",
    "\n",
    "        # 在每个 epoch 结束后更新学习率\n",
    "        scheduler.step()\n",
    "\n",
    "        avg_loss = total_loss / len(train_loader)\n",
    "        print(f\"Epoch {epochs}, Average Loss: {avg_loss}, Learning Rate: {scheduler.get_last_lr()[0]}\")\n",
    "\n",
    "        # 验证步骤\n",
    "        model.eval()\n",
    "        total_eval_loss = 0\n",
    "\n",
    "        all_pred_binary = []\n",
    "        all_gold_binary = []\n",
    "        all_pred_v_triplets = []\n",
    "        all_gold_v_triplets = []\n",
    "        all_pred_a_triplets = []\n",
    "        all_gold_a_triplets = []\n",
    "        all_pred_triplets = []\n",
    "        all_gold_triplets = []\n",
    "        \n",
    "        with torch.no_grad():\n",
    "            for batch in tqdm(val_loader):\n",
    "                batch_input_ids = batch['input_ids'].to(device)\n",
    "                batch_attention_masks = batch['attention_mask'].to(device)\n",
    "                batch_labels = batch['labels'].to(device)\n",
    "                batch_intensity_labels = batch['intensity_labels'].to(device)\n",
    "\n",
    "                # with autocast(\"cuda\"):\n",
    "                outputs = model(\n",
    "                    input_ids=batch_input_ids,\n",
    "                    attention_mask=batch_attention_masks,\n",
    "                    labels=batch_labels,\n",
    "                    intensity_labels=batch_intensity_labels\n",
    "                )\n",
    "                loss = outputs[0]\n",
    "                total_eval_loss += loss.item()\n",
    "\n",
    "                logits = outputs[1]\n",
    "                predictions = torch.argmax(logits, dim=2)\n",
    "\n",
    "                for i in range(batch_input_ids.size(0)):\n",
    "                    input_ids = batch_input_ids[i]\n",
    "                    pred_labels = predictions[i]\n",
    "                    gold_labels = batch_labels[i]\n",
    "                    attention_mask = batch_attention_masks[i]\n",
    "                    intensity_labels = batch_intensity_labels[i]\n",
    "\n",
    "                    tokens = tokenizer.convert_ids_to_tokens(input_ids.cpu().numpy())\n",
    "                    pred_tags = [id_to_label[label_id.item()] for label_id in pred_labels]\n",
    "                    gold_tags = [id_to_label[label_id.item()] for label_id in gold_labels]\n",
    "\n",
    "                    pred_binary, pred_v_triplets, pred_a_triplets, pred_triplets = extract_triplets(tokens, pred_tags, model, input_ids, attention_mask)\n",
    "                    gold_binary, gold_v_triplets, gold_a_triplets, gold_triplets = extract_gold_triplets(tokens, gold_tags, intensity_labels)\n",
    "                    # 可以打印或记录预测结果进行分析\n",
    "                    # if(i<5):\n",
    "                    #     print(\"pred_triplets:\", pred_triplets)\n",
    "                    #     print(\"gold_triplets:\", gold_triplets)\n",
    "                    \n",
    "                    all_pred_binary.extend(pred_binary)\n",
    "                    all_gold_binary.extend(gold_binary)\n",
    "                    \n",
    "                    all_pred_v_triplets.extend(pred_v_triplets)\n",
    "                    all_gold_v_triplets.extend(gold_v_triplets)\n",
    "                    \n",
    "                    all_pred_a_triplets.extend(pred_a_triplets)\n",
    "                    all_gold_a_triplets.extend(gold_a_triplets)                    \n",
    "\n",
    "                    all_pred_triplets.extend(pred_triplets)\n",
    "                    all_gold_triplets.extend(gold_triplets)\n",
    "\n",
    "        _, _, binary_f1 = compute_metrics(all_pred_binary, all_gold_binary)\n",
    "        _, _, v_f1 = compute_metrics(all_pred_v_triplets, all_gold_v_triplets)\n",
    "        _, _, a_f1 = compute_metrics(all_pred_a_triplets, all_gold_a_triplets)\n",
    "        precision, recall, f1 = compute_metrics(all_pred_triplets, all_gold_triplets)\n",
    "        # 将 all_pred_triplets 的前三项追加到 txt 文件\n",
    "        output_file_path = \"./log/pred_triplets_output.txt\"  # 替换为你的文件路径\n",
    "\n",
    "        try:\n",
    "            with open(output_file_path, 'a', encoding='utf-8') as f:\n",
    "                for i in range(3):\n",
    "                    f.write(f\"{all_pred_triplets[i]},{all_gold_triplets[i]}\\n\")\n",
    "                    f.write(f\"---------------------------------------------\\n\")\n",
    "\n",
    "        except Exception as e:\n",
    "            print(f\"Failed to write to file: {e}\")\n",
    "            \n",
    "        avg_val_loss = total_eval_loss / len(val_loader)\n",
    "        print(f\"Val Loss: {avg_val_loss}, binary_f1: {binary_f1:.4f}, v_f1: {v_f1:.4f}, a_f1: {a_f1:.4f}, F1-score: {f1:.4f}\")\n",
    "\n",
    "        # 记录验证 Loss 和 F1 Score 到 TensorBoard\n",
    "        writer.add_scalar(\"Loss/Validation\", avg_val_loss, global_step=epochs)\n",
    "        writer.add_scalar(\"Metrics/F1\", f1, global_step=epochs)\n",
    "        writer.add_scalar(\"Metrics/Precision\", precision, global_step=epochs)\n",
    "        writer.add_scalar(\"Metrics/Recall\", recall, global_step=epochs)\n",
    "        \n",
    "        # 检查验证损失是否改善\n",
    "        if avg_val_loss < best_val_loss - min_delta:\n",
    "            best_val_loss = avg_val_loss\n",
    "            patience_counter = 0\n",
    "\n",
    "            if not os.path.exists(output_dir):\n",
    "                os.makedirs(output_dir)\n",
    "\n",
    "            model.save_pretrained(output_dir)\n",
    "            tokenizer.save_pretrained(output_dir)\n",
    "        else:\n",
    "            patience_counter += 1\n",
    "            print(f\"验证损失未改善，耐心值计数：{patience_counter}\")\n",
    "            if patience_counter >= patience:\n",
    "                print(\"验证损失在连续多个 epoch 中未改善，停止训练。\")\n",
    "                break\n",
    "\n",
    "    writer.close()\n",
    "    print(f\"Fold {fold + 1} 训练完成。\")\n",
    "    # 重置计数器\n",
    "    epochs = 0\n",
    "    patience_counter = 0\n",
    "\n",
    "print(\"全部训练完成\")\n"
   ]
  },
  {
   "cell_type": "markdown",
   "metadata": {},
   "source": [
    "# Testing\n",
    "\n",
    " 1. 使用自定义的 ASTEModel 进行预测\n",
    " 2. 提取实体并格式化输出"
   ]
  },
  {
   "cell_type": "code",
   "execution_count": 55,
   "metadata": {
    "execution": {
     "iopub.execute_input": "2024-11-15T13:33:38.989099Z",
     "iopub.status.busy": "2024-11-15T13:33:38.988417Z",
     "iopub.status.idle": "2024-11-15T13:33:39.270020Z",
     "shell.execute_reply": "2024-11-15T13:33:39.269057Z",
     "shell.execute_reply.started": "2024-11-15T13:33:38.989060Z"
    },
    "trusted": true
   },
   "outputs": [
    {
     "name": "stdout",
     "output_type": "stream",
     "text": [
      "Tokens: ['[CLS]', '今', '天', '點', '了', '牛', '雜', '蘿', '蔔', '煲', '微', '辣', '超', '夠', '味', '很', '好', '吃', '，', '份', '量', '蠻', '多', '的', '。', '[SEP]']\n",
      "Predicted Labels: ['O', 'O', 'O', 'O', 'O', 'B-Aspect', 'I-Aspect', 'I-Aspect', 'I-Aspect', 'I-Aspect', 'B-Opinion', 'I-Opinion', 'B-Opinion', 'I-Opinion', 'I-Opinion', 'B-Opinion', 'I-Opinion', 'I-Opinion', 'O', 'B-Aspect', 'I-Aspect', 'B-Opinion', 'I-Opinion', 'I-Opinion', 'O', 'O']\n",
      "Aspects: [{'text': '牛雜蘿蔔煲', 'start': 4, 'end': 9, 'positions': [5, 6, 7, 8, 9]}, {'text': '份量', 'start': 18, 'end': 20, 'positions': [19, 20]}]\n",
      "Opinions: [{'text': '微辣', 'start': 9, 'end': 11, 'intensity': '1#1'}, {'text': '超夠味', 'start': 11, 'end': 14, 'intensity': '1#1'}, {'text': '很好吃', 'start': 14, 'end': 17, 'intensity': '1#1'}, {'text': '蠻多的', 'start': 20, 'end': 23, 'intensity': '1#1'}]\n",
      "ID\tTriplets\n",
      "R3530:S002\t(牛雜蘿蔔煲, 微辣, 1#1) (牛雜蘿蔔煲, 超夠味, 1#1) (牛雜蘿蔔煲, 很好吃, 1#1) (牛雜蘿蔔煲, 蠻多的, 1#1) (份量, 微辣, 1#1) (份量, 超夠味, 1#1) (份量, 很好吃, 1#1) (份量, 蠻多的, 1#1)\n"
     ]
    }
   ],
   "source": [
    "import torch\n",
    "from transformers import BertConfig, BertTokenizerFast\n",
    "\n",
    "# 定义标签映射\n",
    "label_to_id = {'O': 0, 'B-Aspect': 1, 'I-Aspect': 2, 'B-Opinion': 3, 'I-Opinion': 4}\n",
    "id_to_label = {v: k for k, v in label_to_id.items()}\n",
    "\n",
    "# 定义设备\n",
    "device = torch.device(\"cuda\" if torch.cuda.is_available() else \"cpu\")\n",
    "\n",
    "# 加载配置和自定义模型 ASTEModel\n",
    "config = BertConfig.from_pretrained('./saved_model/', num_labels=len(label_to_id))\n",
    "model = ASTEModel.from_pretrained('./saved_model/', config=config)\n",
    "model.to(device)\n",
    "model.eval()\n",
    "\n",
    "# 加载 tokenizer\n",
    "tokenizer = BertTokenizerFast.from_pretrained('./saved_model/')\n",
    "\n",
    "def predict(sentence):\n",
    "    encoding = tokenizer(\n",
    "        sentence,\n",
    "        return_offsets_mapping=True,\n",
    "        truncation=True,\n",
    "        padding='max_length',\n",
    "        max_length=128,\n",
    "        return_tensors='pt',\n",
    "        add_special_tokens=True\n",
    "    )\n",
    "    input_ids = encoding['input_ids'].to(device)\n",
    "    attention_mask = encoding['attention_mask'].to(device)\n",
    "    offset_mapping = encoding['offset_mapping'][0]  # batch_size=1\n",
    "\n",
    "    with torch.no_grad():\n",
    "        outputs = model(input_ids=input_ids, attention_mask=attention_mask)\n",
    "        logits = outputs[0]  # 获取预测的标签 logits\n",
    "    predictions = torch.argmax(logits, dim=2)  # [1, seq_len]\n",
    "    predictions = predictions[0].cpu().numpy()  # 转换为 numpy 数组\n",
    "\n",
    "    # 将 label id 转换为 label 名称\n",
    "    predicted_labels = [id_to_label[int(label_id)] for label_id in predictions]\n",
    "\n",
    "    # 将 tokens 转换回文字\n",
    "    tokens = tokenizer.convert_ids_to_tokens(input_ids[0])\n",
    "\n",
    "    # 去除填充部分\n",
    "    effective_length = (attention_mask[0] == 1).sum().item()\n",
    "    tokens = tokens[:effective_length]\n",
    "    predicted_labels = predicted_labels[:effective_length]\n",
    "    offset_mapping = offset_mapping[:effective_length]\n",
    "\n",
    "    # 获取模型的序列输出，用于情感强度预测\n",
    "    with torch.no_grad():\n",
    "        bert_outputs = model.bert(input_ids=input_ids, attention_mask=attention_mask)\n",
    "        sequence_output = bert_outputs.last_hidden_state[0, :effective_length, :]  # [seq_len, hidden_size]\n",
    "\n",
    "    return tokens, predicted_labels, offset_mapping, sequence_output\n",
    "\n",
    "def get_entities(tokens, labels, offsets, sequence_output):\n",
    "    aspects = []\n",
    "    opinions = []\n",
    "    idx = 0\n",
    "    while idx < len(labels):\n",
    "        label = str(labels[idx])  # 确保 label 是字符串\n",
    "        if label == 'B-Aspect':\n",
    "            aspect_tokens = [tokens[idx]]\n",
    "            aspect_start = offsets[idx][0].item()\n",
    "            aspect_end = offsets[idx][1].item()\n",
    "            aspect_positions = [idx]\n",
    "            idx += 1\n",
    "            while idx < len(labels) and str(labels[idx]) == 'I-Aspect':\n",
    "                aspect_tokens.append(tokens[idx])\n",
    "                aspect_end = offsets[idx][1].item()\n",
    "                aspect_positions.append(idx)\n",
    "                idx += 1\n",
    "            aspect_text = ''.join([token.lstrip('##') for token in aspect_tokens])\n",
    "            aspects.append({'text': aspect_text, 'start': aspect_start, 'end': aspect_end, 'positions': aspect_positions})\n",
    "        elif label == 'B-Opinion':\n",
    "            opinion_tokens = [tokens[idx]]\n",
    "            opinion_start = offsets[idx][0].item()\n",
    "            opinion_end = offsets[idx][1].item()\n",
    "            opinion_positions = [idx]\n",
    "            idx += 1\n",
    "            while idx < len(labels) and str(labels[idx]) == 'I-Opinion':\n",
    "                opinion_tokens.append(tokens[idx])\n",
    "                opinion_end = offsets[idx][1].item()\n",
    "                opinion_positions.append(idx)\n",
    "                idx += 1\n",
    "            opinion_text = ''.join([token.lstrip('##') for token in opinion_tokens])\n",
    "\n",
    "            # 获取观点词的隐藏状态\n",
    "            opinion_hidden_states = sequence_output[opinion_positions, :]  # [opinion_len, hidden_size]\n",
    "            # 计算平均表示\n",
    "            opinion_representation = opinion_hidden_states.mean(dim=0)  # [hidden_size]\n",
    "            # 预测情感强度\n",
    "            with torch.no_grad():\n",
    "                intensity_pred = model.regressor(opinion_representation.unsqueeze(0))  # [1, 2]\n",
    "                intensity_pred = intensity_pred.squeeze(0).detach().cpu().numpy()\n",
    "                # 四舍五入为整数\n",
    "                valence = int(round(intensity_pred[0]))\n",
    "                arousal = int(round(intensity_pred[1]))\n",
    "                intensity = f\"{valence}#{arousal}\"\n",
    "\n",
    "            opinions.append({\n",
    "                'text': opinion_text,\n",
    "                'start': opinion_start,\n",
    "                'end': opinion_end,\n",
    "                'intensity': intensity\n",
    "            })\n",
    "        else:\n",
    "            idx += 1\n",
    "    return aspects, opinions\n",
    "\n",
    "def format_output(sentence_id, aspects, opinions):\n",
    "    triplets = []\n",
    "    for aspect in aspects:\n",
    "        for opinion in opinions:\n",
    "            # 使用预测的情感强度\n",
    "            intensity = opinion['intensity']\n",
    "            triplet = f\"({aspect['text']}, {opinion['text']}, {intensity})\"\n",
    "            triplets.append(triplet)\n",
    "    triplets_str = ' '.join(triplets)\n",
    "    return f\"{sentence_id}\\t{triplets_str}\"\n",
    "\n",
    "# 示例句子\n",
    "sentence_id = 'R3530:S002'\n",
    "sentence = '今天點了牛雜蘿蔔煲微辣超夠味很好吃，份量蠻多的。'\n",
    "\n",
    "# 预测\n",
    "tokens, predict_labels, offsets, sequence_output = predict(sentence)\n",
    "\n",
    "# 提取实体并预测情感强度\n",
    "aspects, opinions = get_entities(tokens, predict_labels, offsets, sequence_output)\n",
    "print(\"Tokens:\", tokens)\n",
    "print(\"Predicted Labels:\", predict_labels)\n",
    "print(\"Aspects:\", aspects)\n",
    "print(\"Opinions:\", opinions)\n",
    "\n",
    "# 格式化输出\n",
    "output_line = format_output(sentence_id, aspects, opinions)\n",
    "print('ID\\tTriplets')\n",
    "print(output_line)\n"
   ]
  }
 ],
 "metadata": {
  "kaggle": {
   "accelerator": "gpu",
   "dataSources": [
    {
     "datasetId": 6076231,
     "sourceId": 9893197,
     "sourceType": "datasetVersion"
    }
   ],
   "dockerImageVersionId": 30787,
   "isGpuEnabled": true,
   "isInternetEnabled": true,
   "language": "python",
   "sourceType": "notebook"
  },
  "kernelspec": {
   "display_name": "Python 3",
   "language": "python",
   "name": "python3"
  },
  "language_info": {
   "codemirror_mode": {
    "name": "ipython",
    "version": 3
   },
   "file_extension": ".py",
   "mimetype": "text/x-python",
   "name": "python",
   "nbconvert_exporter": "python",
   "pygments_lexer": "ipython3",
   "version": "3.11.2"
  }
 },
 "nbformat": 4,
 "nbformat_minor": 4
}
